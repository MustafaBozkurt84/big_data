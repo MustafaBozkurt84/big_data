{
 "cells": [
  {
   "cell_type": "code",
   "execution_count": 1,
   "metadata": {},
   "outputs": [],
   "source": [
    "import findspark"
   ]
  },
  {
   "cell_type": "code",
   "execution_count": 2,
   "metadata": {},
   "outputs": [],
   "source": [
    "findspark.init(\"/opt/manual/spark2\")"
   ]
  },
  {
   "cell_type": "code",
   "execution_count": 3,
   "metadata": {},
   "outputs": [],
   "source": [
    "from pyspark.sql import SparkSession, functions as F\n",
    "import pandas as pd"
   ]
  },
  {
   "cell_type": "code",
   "execution_count": 4,
   "metadata": {},
   "outputs": [],
   "source": [
    "# https://github.com/Azure/mmlspark"
   ]
  },
  {
   "cell_type": "code",
   "execution_count": 5,
   "metadata": {},
   "outputs": [],
   "source": [
    "spark = (SparkSession.builder\n",
    "        .appName(\"HChurn Prediction with LightGBM on Spark\")\n",
    "        .master(\"yarn\")\n",
    "         .config(\"spark.memory.fraction\",\"0.7\")\n",
    "         .config(\"spark.memory.storageFraction\",\"0.3\")\n",
    "         .config(\"spark.executor.cores\",\"2\") # lightgbm requires at least 2 cores per task      \n",
    "         .config(\"spark.jars.packages\",\"com.microsoft.ml.spark:mmlspark_2.11:0.18.1\")\n",
    "        .enableHiveSupport()\n",
    "        .getOrCreate())"
   ]
  },
  {
   "cell_type": "code",
   "execution_count": 6,
   "metadata": {},
   "outputs": [
    {
     "data": {
      "text/plain": [
       "'2.4.7'"
      ]
     },
     "execution_count": 6,
     "metadata": {},
     "output_type": "execute_result"
    }
   ],
   "source": [
    "spark.version"
   ]
  },
  {
   "cell_type": "code",
   "execution_count": 6,
   "metadata": {},
   "outputs": [
    {
     "name": "stdout",
     "output_type": "stream",
     "text": [
      "Found 3 items\r\n",
      "-rw-r--r--   1 train supergroup    5213392 2020-11-19 21:02 /user/train/datasets/churn-telecom/cell2cellholdout.csv\r\n",
      "-rw-r--r--   1 train supergroup   13416201 2020-11-19 21:02 /user/train/datasets/churn-telecom/cell2celltrain.csv\r\n",
      "drwxr-xr-x   - train supergroup          0 2020-11-19 21:02 /user/train/datasets/churn-telecom/cell2celltrain_clean_parquet\r\n"
     ]
    }
   ],
   "source": [
    "! hdfs dfs -ls /user/train/datasets/churn-telecom"
   ]
  },
  {
   "cell_type": "markdown",
   "metadata": {},
   "source": [
    "## Read train data"
   ]
  },
  {
   "cell_type": "code",
   "execution_count": 7,
   "metadata": {},
   "outputs": [],
   "source": [
    "df1 = spark.read.format(\"parquet\") \\\n",
    ".load(\"hdfs://localhost:9000/user/train/datasets/churn-telecom/cell2celltrain_clean_parquet\")"
   ]
  },
  {
   "cell_type": "markdown",
   "metadata": {},
   "source": [
    "## Explore train data"
   ]
  },
  {
   "cell_type": "code",
   "execution_count": 8,
   "metadata": {
    "scrolled": true
   },
   "outputs": [
    {
     "data": {
      "text/html": [
       "<div>\n",
       "<style scoped>\n",
       "    .dataframe tbody tr th:only-of-type {\n",
       "        vertical-align: middle;\n",
       "    }\n",
       "\n",
       "    .dataframe tbody tr th {\n",
       "        vertical-align: top;\n",
       "    }\n",
       "\n",
       "    .dataframe thead th {\n",
       "        text-align: right;\n",
       "    }\n",
       "</style>\n",
       "<table border=\"1\" class=\"dataframe\">\n",
       "  <thead>\n",
       "    <tr style=\"text-align: right;\">\n",
       "      <th></th>\n",
       "      <th>OptOutMailings</th>\n",
       "      <th>NonUSTravel</th>\n",
       "      <th>OwnsComputer</th>\n",
       "      <th>HasCreditCard</th>\n",
       "      <th>RetentionCalls</th>\n",
       "      <th>RetentionOffersAccepted</th>\n",
       "      <th>NewCellphoneUser</th>\n",
       "      <th>NotNewCellphoneUser</th>\n",
       "      <th>ReferralsMadeBySubscriber</th>\n",
       "      <th>IncomeGroup</th>\n",
       "      <th>OwnsMotorcycle</th>\n",
       "      <th>AdjustmentsToCreditRating</th>\n",
       "      <th>HandsetPrice</th>\n",
       "      <th>MadeCallToRetentionTeam</th>\n",
       "      <th>CreditRating</th>\n",
       "      <th>PrizmCode</th>\n",
       "      <th>Occupation</th>\n",
       "      <th>MaritalStatus</th>\n",
       "    </tr>\n",
       "  </thead>\n",
       "  <tbody>\n",
       "    <tr>\n",
       "      <th>0</th>\n",
       "      <td>No</td>\n",
       "      <td>No</td>\n",
       "      <td>Yes</td>\n",
       "      <td>Yes</td>\n",
       "      <td>1.0</td>\n",
       "      <td>0.0</td>\n",
       "      <td>No</td>\n",
       "      <td>No</td>\n",
       "      <td>0.0</td>\n",
       "      <td>4.0</td>\n",
       "      <td>No</td>\n",
       "      <td>0.0</td>\n",
       "      <td>30.0</td>\n",
       "      <td>Yes</td>\n",
       "      <td>1-Highest</td>\n",
       "      <td>Suburban</td>\n",
       "      <td>Professional</td>\n",
       "      <td>No</td>\n",
       "    </tr>\n",
       "    <tr>\n",
       "      <th>1</th>\n",
       "      <td>No</td>\n",
       "      <td>No</td>\n",
       "      <td>Yes</td>\n",
       "      <td>Yes</td>\n",
       "      <td>0.0</td>\n",
       "      <td>0.0</td>\n",
       "      <td>Yes</td>\n",
       "      <td>No</td>\n",
       "      <td>0.0</td>\n",
       "      <td>5.0</td>\n",
       "      <td>No</td>\n",
       "      <td>0.0</td>\n",
       "      <td>30.0</td>\n",
       "      <td>No</td>\n",
       "      <td>4-Medium</td>\n",
       "      <td>Suburban</td>\n",
       "      <td>Professional</td>\n",
       "      <td>Yes</td>\n",
       "    </tr>\n",
       "    <tr>\n",
       "      <th>2</th>\n",
       "      <td>No</td>\n",
       "      <td>No</td>\n",
       "      <td>No</td>\n",
       "      <td>Yes</td>\n",
       "      <td>0.0</td>\n",
       "      <td>0.0</td>\n",
       "      <td>Yes</td>\n",
       "      <td>No</td>\n",
       "      <td>0.0</td>\n",
       "      <td>6.0</td>\n",
       "      <td>No</td>\n",
       "      <td>0.0</td>\n",
       "      <td>130.0</td>\n",
       "      <td>No</td>\n",
       "      <td>3-Good</td>\n",
       "      <td>Town</td>\n",
       "      <td>Crafts</td>\n",
       "      <td>Yes</td>\n",
       "    </tr>\n",
       "    <tr>\n",
       "      <th>3</th>\n",
       "      <td>No</td>\n",
       "      <td>No</td>\n",
       "      <td>No</td>\n",
       "      <td>Yes</td>\n",
       "      <td>0.0</td>\n",
       "      <td>0.0</td>\n",
       "      <td>Yes</td>\n",
       "      <td>No</td>\n",
       "      <td>0.0</td>\n",
       "      <td>6.0</td>\n",
       "      <td>No</td>\n",
       "      <td>0.0</td>\n",
       "      <td>10.0</td>\n",
       "      <td>No</td>\n",
       "      <td>4-Medium</td>\n",
       "      <td>Other</td>\n",
       "      <td>Other</td>\n",
       "      <td>No</td>\n",
       "    </tr>\n",
       "    <tr>\n",
       "      <th>4</th>\n",
       "      <td>No</td>\n",
       "      <td>No</td>\n",
       "      <td>Yes</td>\n",
       "      <td>Yes</td>\n",
       "      <td>0.0</td>\n",
       "      <td>0.0</td>\n",
       "      <td>No</td>\n",
       "      <td>Yes</td>\n",
       "      <td>0.0</td>\n",
       "      <td>9.0</td>\n",
       "      <td>No</td>\n",
       "      <td>1.0</td>\n",
       "      <td>10.0</td>\n",
       "      <td>No</td>\n",
       "      <td>1-Highest</td>\n",
       "      <td>Other</td>\n",
       "      <td>Professional</td>\n",
       "      <td>Yes</td>\n",
       "    </tr>\n",
       "    <tr>\n",
       "      <th>5</th>\n",
       "      <td>No</td>\n",
       "      <td>Yes</td>\n",
       "      <td>No</td>\n",
       "      <td>Yes</td>\n",
       "      <td>0.0</td>\n",
       "      <td>0.0</td>\n",
       "      <td>Yes</td>\n",
       "      <td>No</td>\n",
       "      <td>0.0</td>\n",
       "      <td>1.0</td>\n",
       "      <td>No</td>\n",
       "      <td>1.0</td>\n",
       "      <td>30.0</td>\n",
       "      <td>No</td>\n",
       "      <td>3-Good</td>\n",
       "      <td>Other</td>\n",
       "      <td>Other</td>\n",
       "      <td>Yes</td>\n",
       "    </tr>\n",
       "    <tr>\n",
       "      <th>6</th>\n",
       "      <td>No</td>\n",
       "      <td>Yes</td>\n",
       "      <td>No</td>\n",
       "      <td>Yes</td>\n",
       "      <td>0.0</td>\n",
       "      <td>0.0</td>\n",
       "      <td>No</td>\n",
       "      <td>Yes</td>\n",
       "      <td>0.0</td>\n",
       "      <td>9.0</td>\n",
       "      <td>No</td>\n",
       "      <td>1.0</td>\n",
       "      <td>30.0</td>\n",
       "      <td>No</td>\n",
       "      <td>1-Highest</td>\n",
       "      <td>Other</td>\n",
       "      <td>Self</td>\n",
       "      <td>Yes</td>\n",
       "    </tr>\n",
       "    <tr>\n",
       "      <th>7</th>\n",
       "      <td>No</td>\n",
       "      <td>No</td>\n",
       "      <td>No</td>\n",
       "      <td>Yes</td>\n",
       "      <td>0.0</td>\n",
       "      <td>0.0</td>\n",
       "      <td>Yes</td>\n",
       "      <td>No</td>\n",
       "      <td>0.0</td>\n",
       "      <td>6.0</td>\n",
       "      <td>No</td>\n",
       "      <td>0.0</td>\n",
       "      <td>30.0</td>\n",
       "      <td>No</td>\n",
       "      <td>1-Highest</td>\n",
       "      <td>Other</td>\n",
       "      <td>Professional</td>\n",
       "      <td>No</td>\n",
       "    </tr>\n",
       "    <tr>\n",
       "      <th>8</th>\n",
       "      <td>No</td>\n",
       "      <td>No</td>\n",
       "      <td>No</td>\n",
       "      <td>Yes</td>\n",
       "      <td>0.0</td>\n",
       "      <td>0.0</td>\n",
       "      <td>Yes</td>\n",
       "      <td>No</td>\n",
       "      <td>0.0</td>\n",
       "      <td>9.0</td>\n",
       "      <td>No</td>\n",
       "      <td>0.0</td>\n",
       "      <td>80.0</td>\n",
       "      <td>No</td>\n",
       "      <td>1-Highest</td>\n",
       "      <td>Other</td>\n",
       "      <td>Other</td>\n",
       "      <td>Yes</td>\n",
       "    </tr>\n",
       "    <tr>\n",
       "      <th>9</th>\n",
       "      <td>No</td>\n",
       "      <td>No</td>\n",
       "      <td>Yes</td>\n",
       "      <td>Yes</td>\n",
       "      <td>0.0</td>\n",
       "      <td>0.0</td>\n",
       "      <td>Yes</td>\n",
       "      <td>No</td>\n",
       "      <td>0.0</td>\n",
       "      <td>5.0</td>\n",
       "      <td>No</td>\n",
       "      <td>1.0</td>\n",
       "      <td>30.0</td>\n",
       "      <td>No</td>\n",
       "      <td>3-Good</td>\n",
       "      <td>Other</td>\n",
       "      <td>Professional</td>\n",
       "      <td>No</td>\n",
       "    </tr>\n",
       "    <tr>\n",
       "      <th>10</th>\n",
       "      <td>No</td>\n",
       "      <td>No</td>\n",
       "      <td>No</td>\n",
       "      <td>No</td>\n",
       "      <td>0.0</td>\n",
       "      <td>0.0</td>\n",
       "      <td>Yes</td>\n",
       "      <td>No</td>\n",
       "      <td>0.0</td>\n",
       "      <td>7.0</td>\n",
       "      <td>No</td>\n",
       "      <td>0.0</td>\n",
       "      <td>30.0</td>\n",
       "      <td>No</td>\n",
       "      <td>1-Highest</td>\n",
       "      <td>Other</td>\n",
       "      <td>Other</td>\n",
       "      <td>Unknown</td>\n",
       "    </tr>\n",
       "    <tr>\n",
       "      <th>11</th>\n",
       "      <td>No</td>\n",
       "      <td>No</td>\n",
       "      <td>Yes</td>\n",
       "      <td>Yes</td>\n",
       "      <td>0.0</td>\n",
       "      <td>0.0</td>\n",
       "      <td>Yes</td>\n",
       "      <td>No</td>\n",
       "      <td>0.0</td>\n",
       "      <td>3.0</td>\n",
       "      <td>No</td>\n",
       "      <td>1.0</td>\n",
       "      <td>80.0</td>\n",
       "      <td>No</td>\n",
       "      <td>4-Medium</td>\n",
       "      <td>Suburban</td>\n",
       "      <td>Other</td>\n",
       "      <td>No</td>\n",
       "    </tr>\n",
       "    <tr>\n",
       "      <th>12</th>\n",
       "      <td>No</td>\n",
       "      <td>No</td>\n",
       "      <td>No</td>\n",
       "      <td>Yes</td>\n",
       "      <td>0.0</td>\n",
       "      <td>0.0</td>\n",
       "      <td>No</td>\n",
       "      <td>Yes</td>\n",
       "      <td>0.0</td>\n",
       "      <td>1.0</td>\n",
       "      <td>No</td>\n",
       "      <td>1.0</td>\n",
       "      <td>30.0</td>\n",
       "      <td>No</td>\n",
       "      <td>3-Good</td>\n",
       "      <td>Suburban</td>\n",
       "      <td>Other</td>\n",
       "      <td>Unknown</td>\n",
       "    </tr>\n",
       "    <tr>\n",
       "      <th>13</th>\n",
       "      <td>No</td>\n",
       "      <td>No</td>\n",
       "      <td>No</td>\n",
       "      <td>Yes</td>\n",
       "      <td>0.0</td>\n",
       "      <td>0.0</td>\n",
       "      <td>No</td>\n",
       "      <td>Yes</td>\n",
       "      <td>0.0</td>\n",
       "      <td>3.0</td>\n",
       "      <td>No</td>\n",
       "      <td>0.0</td>\n",
       "      <td>30.0</td>\n",
       "      <td>No</td>\n",
       "      <td>3-Good</td>\n",
       "      <td>Town</td>\n",
       "      <td>Other</td>\n",
       "      <td>Unknown</td>\n",
       "    </tr>\n",
       "    <tr>\n",
       "      <th>14</th>\n",
       "      <td>No</td>\n",
       "      <td>No</td>\n",
       "      <td>Yes</td>\n",
       "      <td>No</td>\n",
       "      <td>0.0</td>\n",
       "      <td>0.0</td>\n",
       "      <td>Yes</td>\n",
       "      <td>No</td>\n",
       "      <td>0.0</td>\n",
       "      <td>1.0</td>\n",
       "      <td>No</td>\n",
       "      <td>0.0</td>\n",
       "      <td>10.0</td>\n",
       "      <td>No</td>\n",
       "      <td>3-Good</td>\n",
       "      <td>Other</td>\n",
       "      <td>Other</td>\n",
       "      <td>No</td>\n",
       "    </tr>\n",
       "    <tr>\n",
       "      <th>15</th>\n",
       "      <td>No</td>\n",
       "      <td>No</td>\n",
       "      <td>No</td>\n",
       "      <td>Yes</td>\n",
       "      <td>1.0</td>\n",
       "      <td>0.0</td>\n",
       "      <td>No</td>\n",
       "      <td>No</td>\n",
       "      <td>0.0</td>\n",
       "      <td>6.0</td>\n",
       "      <td>No</td>\n",
       "      <td>0.0</td>\n",
       "      <td>150.0</td>\n",
       "      <td>Yes</td>\n",
       "      <td>1-Highest</td>\n",
       "      <td>Other</td>\n",
       "      <td>Professional</td>\n",
       "      <td>Unknown</td>\n",
       "    </tr>\n",
       "    <tr>\n",
       "      <th>16</th>\n",
       "      <td>No</td>\n",
       "      <td>No</td>\n",
       "      <td>No</td>\n",
       "      <td>Yes</td>\n",
       "      <td>0.0</td>\n",
       "      <td>0.0</td>\n",
       "      <td>Yes</td>\n",
       "      <td>No</td>\n",
       "      <td>0.0</td>\n",
       "      <td>9.0</td>\n",
       "      <td>No</td>\n",
       "      <td>0.0</td>\n",
       "      <td>30.0</td>\n",
       "      <td>No</td>\n",
       "      <td>1-Highest</td>\n",
       "      <td>Other</td>\n",
       "      <td>Other</td>\n",
       "      <td>Unknown</td>\n",
       "    </tr>\n",
       "    <tr>\n",
       "      <th>17</th>\n",
       "      <td>No</td>\n",
       "      <td>No</td>\n",
       "      <td>No</td>\n",
       "      <td>No</td>\n",
       "      <td>0.0</td>\n",
       "      <td>0.0</td>\n",
       "      <td>Yes</td>\n",
       "      <td>No</td>\n",
       "      <td>0.0</td>\n",
       "      <td>0.0</td>\n",
       "      <td>No</td>\n",
       "      <td>0.0</td>\n",
       "      <td>30.0</td>\n",
       "      <td>No</td>\n",
       "      <td>3-Good</td>\n",
       "      <td>Other</td>\n",
       "      <td>Other</td>\n",
       "      <td>Unknown</td>\n",
       "    </tr>\n",
       "    <tr>\n",
       "      <th>18</th>\n",
       "      <td>No</td>\n",
       "      <td>No</td>\n",
       "      <td>No</td>\n",
       "      <td>No</td>\n",
       "      <td>0.0</td>\n",
       "      <td>0.0</td>\n",
       "      <td>No</td>\n",
       "      <td>Yes</td>\n",
       "      <td>0.0</td>\n",
       "      <td>9.0</td>\n",
       "      <td>No</td>\n",
       "      <td>0.0</td>\n",
       "      <td>30.0</td>\n",
       "      <td>No</td>\n",
       "      <td>1-Highest</td>\n",
       "      <td>Other</td>\n",
       "      <td>Other</td>\n",
       "      <td>No</td>\n",
       "    </tr>\n",
       "    <tr>\n",
       "      <th>19</th>\n",
       "      <td>No</td>\n",
       "      <td>No</td>\n",
       "      <td>Yes</td>\n",
       "      <td>Yes</td>\n",
       "      <td>0.0</td>\n",
       "      <td>0.0</td>\n",
       "      <td>Yes</td>\n",
       "      <td>No</td>\n",
       "      <td>0.0</td>\n",
       "      <td>3.0</td>\n",
       "      <td>No</td>\n",
       "      <td>0.0</td>\n",
       "      <td>30.0</td>\n",
       "      <td>No</td>\n",
       "      <td>4-Medium</td>\n",
       "      <td>Rural</td>\n",
       "      <td>Other</td>\n",
       "      <td>Unknown</td>\n",
       "    </tr>\n",
       "    <tr>\n",
       "      <th>20</th>\n",
       "      <td>No</td>\n",
       "      <td>No</td>\n",
       "      <td>No</td>\n",
       "      <td>Yes</td>\n",
       "      <td>0.0</td>\n",
       "      <td>0.0</td>\n",
       "      <td>No</td>\n",
       "      <td>Yes</td>\n",
       "      <td>0.0</td>\n",
       "      <td>5.0</td>\n",
       "      <td>No</td>\n",
       "      <td>0.0</td>\n",
       "      <td>30.0</td>\n",
       "      <td>No</td>\n",
       "      <td>1-Highest</td>\n",
       "      <td>Suburban</td>\n",
       "      <td>Professional</td>\n",
       "      <td>Yes</td>\n",
       "    </tr>\n",
       "    <tr>\n",
       "      <th>21</th>\n",
       "      <td>No</td>\n",
       "      <td>Yes</td>\n",
       "      <td>No</td>\n",
       "      <td>Yes</td>\n",
       "      <td>0.0</td>\n",
       "      <td>0.0</td>\n",
       "      <td>Yes</td>\n",
       "      <td>No</td>\n",
       "      <td>0.0</td>\n",
       "      <td>7.0</td>\n",
       "      <td>No</td>\n",
       "      <td>1.0</td>\n",
       "      <td>30.0</td>\n",
       "      <td>No</td>\n",
       "      <td>1-Highest</td>\n",
       "      <td>Town</td>\n",
       "      <td>Professional</td>\n",
       "      <td>Yes</td>\n",
       "    </tr>\n",
       "    <tr>\n",
       "      <th>22</th>\n",
       "      <td>No</td>\n",
       "      <td>No</td>\n",
       "      <td>No</td>\n",
       "      <td>Yes</td>\n",
       "      <td>0.0</td>\n",
       "      <td>0.0</td>\n",
       "      <td>No</td>\n",
       "      <td>Yes</td>\n",
       "      <td>0.0</td>\n",
       "      <td>9.0</td>\n",
       "      <td>Yes</td>\n",
       "      <td>0.0</td>\n",
       "      <td>30.0</td>\n",
       "      <td>No</td>\n",
       "      <td>1-Highest</td>\n",
       "      <td>Suburban</td>\n",
       "      <td>Other</td>\n",
       "      <td>Yes</td>\n",
       "    </tr>\n",
       "    <tr>\n",
       "      <th>23</th>\n",
       "      <td>No</td>\n",
       "      <td>No</td>\n",
       "      <td>No</td>\n",
       "      <td>Yes</td>\n",
       "      <td>0.0</td>\n",
       "      <td>0.0</td>\n",
       "      <td>No</td>\n",
       "      <td>Yes</td>\n",
       "      <td>0.0</td>\n",
       "      <td>7.0</td>\n",
       "      <td>No</td>\n",
       "      <td>3.0</td>\n",
       "      <td>10.0</td>\n",
       "      <td>No</td>\n",
       "      <td>1-Highest</td>\n",
       "      <td>Town</td>\n",
       "      <td>Other</td>\n",
       "      <td>Unknown</td>\n",
       "    </tr>\n",
       "    <tr>\n",
       "      <th>24</th>\n",
       "      <td>No</td>\n",
       "      <td>No</td>\n",
       "      <td>Yes</td>\n",
       "      <td>Yes</td>\n",
       "      <td>0.0</td>\n",
       "      <td>0.0</td>\n",
       "      <td>Yes</td>\n",
       "      <td>No</td>\n",
       "      <td>0.0</td>\n",
       "      <td>9.0</td>\n",
       "      <td>No</td>\n",
       "      <td>0.0</td>\n",
       "      <td>150.0</td>\n",
       "      <td>No</td>\n",
       "      <td>1-Highest</td>\n",
       "      <td>Town</td>\n",
       "      <td>Other</td>\n",
       "      <td>Yes</td>\n",
       "    </tr>\n",
       "    <tr>\n",
       "      <th>25</th>\n",
       "      <td>No</td>\n",
       "      <td>No</td>\n",
       "      <td>No</td>\n",
       "      <td>Yes</td>\n",
       "      <td>0.0</td>\n",
       "      <td>0.0</td>\n",
       "      <td>Yes</td>\n",
       "      <td>No</td>\n",
       "      <td>0.0</td>\n",
       "      <td>9.0</td>\n",
       "      <td>No</td>\n",
       "      <td>1.0</td>\n",
       "      <td>30.0</td>\n",
       "      <td>No</td>\n",
       "      <td>1-Highest</td>\n",
       "      <td>Suburban</td>\n",
       "      <td>Professional</td>\n",
       "      <td>Yes</td>\n",
       "    </tr>\n",
       "    <tr>\n",
       "      <th>26</th>\n",
       "      <td>No</td>\n",
       "      <td>No</td>\n",
       "      <td>No</td>\n",
       "      <td>Yes</td>\n",
       "      <td>0.0</td>\n",
       "      <td>0.0</td>\n",
       "      <td>No</td>\n",
       "      <td>No</td>\n",
       "      <td>0.0</td>\n",
       "      <td>8.0</td>\n",
       "      <td>No</td>\n",
       "      <td>0.0</td>\n",
       "      <td>30.0</td>\n",
       "      <td>No</td>\n",
       "      <td>1-Highest</td>\n",
       "      <td>Suburban</td>\n",
       "      <td>Other</td>\n",
       "      <td>Yes</td>\n",
       "    </tr>\n",
       "    <tr>\n",
       "      <th>27</th>\n",
       "      <td>No</td>\n",
       "      <td>No</td>\n",
       "      <td>Yes</td>\n",
       "      <td>Yes</td>\n",
       "      <td>0.0</td>\n",
       "      <td>0.0</td>\n",
       "      <td>No</td>\n",
       "      <td>Yes</td>\n",
       "      <td>0.0</td>\n",
       "      <td>9.0</td>\n",
       "      <td>No</td>\n",
       "      <td>1.0</td>\n",
       "      <td>80.0</td>\n",
       "      <td>No</td>\n",
       "      <td>1-Highest</td>\n",
       "      <td>Suburban</td>\n",
       "      <td>Other</td>\n",
       "      <td>Yes</td>\n",
       "    </tr>\n",
       "    <tr>\n",
       "      <th>28</th>\n",
       "      <td>No</td>\n",
       "      <td>Yes</td>\n",
       "      <td>Yes</td>\n",
       "      <td>Yes</td>\n",
       "      <td>0.0</td>\n",
       "      <td>0.0</td>\n",
       "      <td>Yes</td>\n",
       "      <td>No</td>\n",
       "      <td>0.0</td>\n",
       "      <td>6.0</td>\n",
       "      <td>No</td>\n",
       "      <td>0.0</td>\n",
       "      <td>130.0</td>\n",
       "      <td>No</td>\n",
       "      <td>1-Highest</td>\n",
       "      <td>Suburban</td>\n",
       "      <td>Professional</td>\n",
       "      <td>Yes</td>\n",
       "    </tr>\n",
       "    <tr>\n",
       "      <th>29</th>\n",
       "      <td>No</td>\n",
       "      <td>No</td>\n",
       "      <td>No</td>\n",
       "      <td>Yes</td>\n",
       "      <td>0.0</td>\n",
       "      <td>0.0</td>\n",
       "      <td>No</td>\n",
       "      <td>Yes</td>\n",
       "      <td>0.0</td>\n",
       "      <td>9.0</td>\n",
       "      <td>No</td>\n",
       "      <td>1.0</td>\n",
       "      <td>30.0</td>\n",
       "      <td>No</td>\n",
       "      <td>3-Good</td>\n",
       "      <td>Suburban</td>\n",
       "      <td>Professional</td>\n",
       "      <td>No</td>\n",
       "    </tr>\n",
       "    <tr>\n",
       "      <th>30</th>\n",
       "      <td>No</td>\n",
       "      <td>No</td>\n",
       "      <td>No</td>\n",
       "      <td>Yes</td>\n",
       "      <td>0.0</td>\n",
       "      <td>0.0</td>\n",
       "      <td>No</td>\n",
       "      <td>Yes</td>\n",
       "      <td>0.0</td>\n",
       "      <td>5.0</td>\n",
       "      <td>No</td>\n",
       "      <td>0.0</td>\n",
       "      <td>10.0</td>\n",
       "      <td>No</td>\n",
       "      <td>1-Highest</td>\n",
       "      <td>Town</td>\n",
       "      <td>Crafts</td>\n",
       "      <td>Yes</td>\n",
       "    </tr>\n",
       "    <tr>\n",
       "      <th>31</th>\n",
       "      <td>No</td>\n",
       "      <td>No</td>\n",
       "      <td>No</td>\n",
       "      <td>Yes</td>\n",
       "      <td>0.0</td>\n",
       "      <td>0.0</td>\n",
       "      <td>Yes</td>\n",
       "      <td>No</td>\n",
       "      <td>0.0</td>\n",
       "      <td>7.0</td>\n",
       "      <td>Yes</td>\n",
       "      <td>0.0</td>\n",
       "      <td>30.0</td>\n",
       "      <td>No</td>\n",
       "      <td>3-Good</td>\n",
       "      <td>Suburban</td>\n",
       "      <td>Other</td>\n",
       "      <td>Yes</td>\n",
       "    </tr>\n",
       "    <tr>\n",
       "      <th>32</th>\n",
       "      <td>No</td>\n",
       "      <td>Yes</td>\n",
       "      <td>Yes</td>\n",
       "      <td>Yes</td>\n",
       "      <td>0.0</td>\n",
       "      <td>0.0</td>\n",
       "      <td>No</td>\n",
       "      <td>Yes</td>\n",
       "      <td>0.0</td>\n",
       "      <td>3.0</td>\n",
       "      <td>No</td>\n",
       "      <td>1.0</td>\n",
       "      <td>30.0</td>\n",
       "      <td>No</td>\n",
       "      <td>1-Highest</td>\n",
       "      <td>Suburban</td>\n",
       "      <td>Retired</td>\n",
       "      <td>Yes</td>\n",
       "    </tr>\n",
       "    <tr>\n",
       "      <th>33</th>\n",
       "      <td>No</td>\n",
       "      <td>No</td>\n",
       "      <td>No</td>\n",
       "      <td>Yes</td>\n",
       "      <td>0.0</td>\n",
       "      <td>0.0</td>\n",
       "      <td>Yes</td>\n",
       "      <td>No</td>\n",
       "      <td>0.0</td>\n",
       "      <td>9.0</td>\n",
       "      <td>No</td>\n",
       "      <td>1.0</td>\n",
       "      <td>30.0</td>\n",
       "      <td>No</td>\n",
       "      <td>1-Highest</td>\n",
       "      <td>Suburban</td>\n",
       "      <td>Other</td>\n",
       "      <td>Yes</td>\n",
       "    </tr>\n",
       "    <tr>\n",
       "      <th>34</th>\n",
       "      <td>No</td>\n",
       "      <td>No</td>\n",
       "      <td>No</td>\n",
       "      <td>No</td>\n",
       "      <td>0.0</td>\n",
       "      <td>0.0</td>\n",
       "      <td>No</td>\n",
       "      <td>Yes</td>\n",
       "      <td>0.0</td>\n",
       "      <td>0.0</td>\n",
       "      <td>No</td>\n",
       "      <td>0.0</td>\n",
       "      <td>10.0</td>\n",
       "      <td>No</td>\n",
       "      <td>3-Good</td>\n",
       "      <td>Town</td>\n",
       "      <td>Other</td>\n",
       "      <td>Unknown</td>\n",
       "    </tr>\n",
       "    <tr>\n",
       "      <th>35</th>\n",
       "      <td>No</td>\n",
       "      <td>No</td>\n",
       "      <td>No</td>\n",
       "      <td>Yes</td>\n",
       "      <td>0.0</td>\n",
       "      <td>0.0</td>\n",
       "      <td>Yes</td>\n",
       "      <td>No</td>\n",
       "      <td>0.0</td>\n",
       "      <td>6.0</td>\n",
       "      <td>No</td>\n",
       "      <td>1.0</td>\n",
       "      <td>10.0</td>\n",
       "      <td>No</td>\n",
       "      <td>1-Highest</td>\n",
       "      <td>Rural</td>\n",
       "      <td>Self</td>\n",
       "      <td>No</td>\n",
       "    </tr>\n",
       "    <tr>\n",
       "      <th>36</th>\n",
       "      <td>No</td>\n",
       "      <td>No</td>\n",
       "      <td>No</td>\n",
       "      <td>No</td>\n",
       "      <td>0.0</td>\n",
       "      <td>0.0</td>\n",
       "      <td>Yes</td>\n",
       "      <td>No</td>\n",
       "      <td>0.0</td>\n",
       "      <td>7.0</td>\n",
       "      <td>No</td>\n",
       "      <td>0.0</td>\n",
       "      <td>130.0</td>\n",
       "      <td>No</td>\n",
       "      <td>1-Highest</td>\n",
       "      <td>Town</td>\n",
       "      <td>Other</td>\n",
       "      <td>No</td>\n",
       "    </tr>\n",
       "    <tr>\n",
       "      <th>37</th>\n",
       "      <td>No</td>\n",
       "      <td>No</td>\n",
       "      <td>Yes</td>\n",
       "      <td>Yes</td>\n",
       "      <td>0.0</td>\n",
       "      <td>0.0</td>\n",
       "      <td>No</td>\n",
       "      <td>Yes</td>\n",
       "      <td>0.0</td>\n",
       "      <td>7.0</td>\n",
       "      <td>No</td>\n",
       "      <td>0.0</td>\n",
       "      <td>30.0</td>\n",
       "      <td>No</td>\n",
       "      <td>1-Highest</td>\n",
       "      <td>Suburban</td>\n",
       "      <td>Professional</td>\n",
       "      <td>Yes</td>\n",
       "    </tr>\n",
       "    <tr>\n",
       "      <th>38</th>\n",
       "      <td>No</td>\n",
       "      <td>No</td>\n",
       "      <td>No</td>\n",
       "      <td>Yes</td>\n",
       "      <td>0.0</td>\n",
       "      <td>0.0</td>\n",
       "      <td>No</td>\n",
       "      <td>No</td>\n",
       "      <td>0.0</td>\n",
       "      <td>7.0</td>\n",
       "      <td>No</td>\n",
       "      <td>0.0</td>\n",
       "      <td>130.0</td>\n",
       "      <td>No</td>\n",
       "      <td>1-Highest</td>\n",
       "      <td>Other</td>\n",
       "      <td>Other</td>\n",
       "      <td>Yes</td>\n",
       "    </tr>\n",
       "    <tr>\n",
       "      <th>39</th>\n",
       "      <td>No</td>\n",
       "      <td>No</td>\n",
       "      <td>Yes</td>\n",
       "      <td>Yes</td>\n",
       "      <td>0.0</td>\n",
       "      <td>0.0</td>\n",
       "      <td>Yes</td>\n",
       "      <td>No</td>\n",
       "      <td>0.0</td>\n",
       "      <td>6.0</td>\n",
       "      <td>No</td>\n",
       "      <td>0.0</td>\n",
       "      <td>10.0</td>\n",
       "      <td>No</td>\n",
       "      <td>3-Good</td>\n",
       "      <td>Suburban</td>\n",
       "      <td>Other</td>\n",
       "      <td>No</td>\n",
       "    </tr>\n",
       "    <tr>\n",
       "      <th>40</th>\n",
       "      <td>No</td>\n",
       "      <td>No</td>\n",
       "      <td>No</td>\n",
       "      <td>Yes</td>\n",
       "      <td>0.0</td>\n",
       "      <td>0.0</td>\n",
       "      <td>Yes</td>\n",
       "      <td>No</td>\n",
       "      <td>0.0</td>\n",
       "      <td>6.0</td>\n",
       "      <td>No</td>\n",
       "      <td>2.0</td>\n",
       "      <td>30.0</td>\n",
       "      <td>No</td>\n",
       "      <td>3-Good</td>\n",
       "      <td>Suburban</td>\n",
       "      <td>Self</td>\n",
       "      <td>Yes</td>\n",
       "    </tr>\n",
       "    <tr>\n",
       "      <th>41</th>\n",
       "      <td>No</td>\n",
       "      <td>No</td>\n",
       "      <td>Yes</td>\n",
       "      <td>Yes</td>\n",
       "      <td>0.0</td>\n",
       "      <td>0.0</td>\n",
       "      <td>Yes</td>\n",
       "      <td>No</td>\n",
       "      <td>0.0</td>\n",
       "      <td>6.0</td>\n",
       "      <td>No</td>\n",
       "      <td>2.0</td>\n",
       "      <td>300.0</td>\n",
       "      <td>No</td>\n",
       "      <td>3-Good</td>\n",
       "      <td>Town</td>\n",
       "      <td>Other</td>\n",
       "      <td>No</td>\n",
       "    </tr>\n",
       "    <tr>\n",
       "      <th>42</th>\n",
       "      <td>No</td>\n",
       "      <td>No</td>\n",
       "      <td>No</td>\n",
       "      <td>Yes</td>\n",
       "      <td>0.0</td>\n",
       "      <td>0.0</td>\n",
       "      <td>No</td>\n",
       "      <td>Yes</td>\n",
       "      <td>0.0</td>\n",
       "      <td>3.0</td>\n",
       "      <td>No</td>\n",
       "      <td>1.0</td>\n",
       "      <td>80.0</td>\n",
       "      <td>No</td>\n",
       "      <td>4-Medium</td>\n",
       "      <td>Other</td>\n",
       "      <td>Other</td>\n",
       "      <td>No</td>\n",
       "    </tr>\n",
       "    <tr>\n",
       "      <th>43</th>\n",
       "      <td>No</td>\n",
       "      <td>No</td>\n",
       "      <td>No</td>\n",
       "      <td>Yes</td>\n",
       "      <td>0.0</td>\n",
       "      <td>0.0</td>\n",
       "      <td>No</td>\n",
       "      <td>No</td>\n",
       "      <td>0.0</td>\n",
       "      <td>4.0</td>\n",
       "      <td>No</td>\n",
       "      <td>0.0</td>\n",
       "      <td>130.0</td>\n",
       "      <td>No</td>\n",
       "      <td>4-Medium</td>\n",
       "      <td>Town</td>\n",
       "      <td>Other</td>\n",
       "      <td>No</td>\n",
       "    </tr>\n",
       "    <tr>\n",
       "      <th>44</th>\n",
       "      <td>No</td>\n",
       "      <td>No</td>\n",
       "      <td>No</td>\n",
       "      <td>No</td>\n",
       "      <td>0.0</td>\n",
       "      <td>0.0</td>\n",
       "      <td>No</td>\n",
       "      <td>Yes</td>\n",
       "      <td>0.0</td>\n",
       "      <td>0.0</td>\n",
       "      <td>No</td>\n",
       "      <td>2.0</td>\n",
       "      <td>10.0</td>\n",
       "      <td>No</td>\n",
       "      <td>4-Medium</td>\n",
       "      <td>Suburban</td>\n",
       "      <td>Other</td>\n",
       "      <td>Unknown</td>\n",
       "    </tr>\n",
       "    <tr>\n",
       "      <th>45</th>\n",
       "      <td>No</td>\n",
       "      <td>No</td>\n",
       "      <td>No</td>\n",
       "      <td>No</td>\n",
       "      <td>0.0</td>\n",
       "      <td>0.0</td>\n",
       "      <td>Yes</td>\n",
       "      <td>No</td>\n",
       "      <td>0.0</td>\n",
       "      <td>7.0</td>\n",
       "      <td>No</td>\n",
       "      <td>1.0</td>\n",
       "      <td>150.0</td>\n",
       "      <td>No</td>\n",
       "      <td>4-Medium</td>\n",
       "      <td>Town</td>\n",
       "      <td>Other</td>\n",
       "      <td>Unknown</td>\n",
       "    </tr>\n",
       "  </tbody>\n",
       "</table>\n",
       "</div>"
      ],
      "text/plain": [
       "   OptOutMailings NonUSTravel OwnsComputer HasCreditCard  RetentionCalls  \\\n",
       "0              No          No          Yes           Yes             1.0   \n",
       "1              No          No          Yes           Yes             0.0   \n",
       "2              No          No           No           Yes             0.0   \n",
       "3              No          No           No           Yes             0.0   \n",
       "4              No          No          Yes           Yes             0.0   \n",
       "5              No         Yes           No           Yes             0.0   \n",
       "6              No         Yes           No           Yes             0.0   \n",
       "7              No          No           No           Yes             0.0   \n",
       "8              No          No           No           Yes             0.0   \n",
       "9              No          No          Yes           Yes             0.0   \n",
       "10             No          No           No            No             0.0   \n",
       "11             No          No          Yes           Yes             0.0   \n",
       "12             No          No           No           Yes             0.0   \n",
       "13             No          No           No           Yes             0.0   \n",
       "14             No          No          Yes            No             0.0   \n",
       "15             No          No           No           Yes             1.0   \n",
       "16             No          No           No           Yes             0.0   \n",
       "17             No          No           No            No             0.0   \n",
       "18             No          No           No            No             0.0   \n",
       "19             No          No          Yes           Yes             0.0   \n",
       "20             No          No           No           Yes             0.0   \n",
       "21             No         Yes           No           Yes             0.0   \n",
       "22             No          No           No           Yes             0.0   \n",
       "23             No          No           No           Yes             0.0   \n",
       "24             No          No          Yes           Yes             0.0   \n",
       "25             No          No           No           Yes             0.0   \n",
       "26             No          No           No           Yes             0.0   \n",
       "27             No          No          Yes           Yes             0.0   \n",
       "28             No         Yes          Yes           Yes             0.0   \n",
       "29             No          No           No           Yes             0.0   \n",
       "30             No          No           No           Yes             0.0   \n",
       "31             No          No           No           Yes             0.0   \n",
       "32             No         Yes          Yes           Yes             0.0   \n",
       "33             No          No           No           Yes             0.0   \n",
       "34             No          No           No            No             0.0   \n",
       "35             No          No           No           Yes             0.0   \n",
       "36             No          No           No            No             0.0   \n",
       "37             No          No          Yes           Yes             0.0   \n",
       "38             No          No           No           Yes             0.0   \n",
       "39             No          No          Yes           Yes             0.0   \n",
       "40             No          No           No           Yes             0.0   \n",
       "41             No          No          Yes           Yes             0.0   \n",
       "42             No          No           No           Yes             0.0   \n",
       "43             No          No           No           Yes             0.0   \n",
       "44             No          No           No            No             0.0   \n",
       "45             No          No           No            No             0.0   \n",
       "\n",
       "    RetentionOffersAccepted NewCellphoneUser NotNewCellphoneUser  \\\n",
       "0                       0.0               No                  No   \n",
       "1                       0.0              Yes                  No   \n",
       "2                       0.0              Yes                  No   \n",
       "3                       0.0              Yes                  No   \n",
       "4                       0.0               No                 Yes   \n",
       "5                       0.0              Yes                  No   \n",
       "6                       0.0               No                 Yes   \n",
       "7                       0.0              Yes                  No   \n",
       "8                       0.0              Yes                  No   \n",
       "9                       0.0              Yes                  No   \n",
       "10                      0.0              Yes                  No   \n",
       "11                      0.0              Yes                  No   \n",
       "12                      0.0               No                 Yes   \n",
       "13                      0.0               No                 Yes   \n",
       "14                      0.0              Yes                  No   \n",
       "15                      0.0               No                  No   \n",
       "16                      0.0              Yes                  No   \n",
       "17                      0.0              Yes                  No   \n",
       "18                      0.0               No                 Yes   \n",
       "19                      0.0              Yes                  No   \n",
       "20                      0.0               No                 Yes   \n",
       "21                      0.0              Yes                  No   \n",
       "22                      0.0               No                 Yes   \n",
       "23                      0.0               No                 Yes   \n",
       "24                      0.0              Yes                  No   \n",
       "25                      0.0              Yes                  No   \n",
       "26                      0.0               No                  No   \n",
       "27                      0.0               No                 Yes   \n",
       "28                      0.0              Yes                  No   \n",
       "29                      0.0               No                 Yes   \n",
       "30                      0.0               No                 Yes   \n",
       "31                      0.0              Yes                  No   \n",
       "32                      0.0               No                 Yes   \n",
       "33                      0.0              Yes                  No   \n",
       "34                      0.0               No                 Yes   \n",
       "35                      0.0              Yes                  No   \n",
       "36                      0.0              Yes                  No   \n",
       "37                      0.0               No                 Yes   \n",
       "38                      0.0               No                  No   \n",
       "39                      0.0              Yes                  No   \n",
       "40                      0.0              Yes                  No   \n",
       "41                      0.0              Yes                  No   \n",
       "42                      0.0               No                 Yes   \n",
       "43                      0.0               No                  No   \n",
       "44                      0.0               No                 Yes   \n",
       "45                      0.0              Yes                  No   \n",
       "\n",
       "    ReferralsMadeBySubscriber  IncomeGroup OwnsMotorcycle  \\\n",
       "0                         0.0          4.0             No   \n",
       "1                         0.0          5.0             No   \n",
       "2                         0.0          6.0             No   \n",
       "3                         0.0          6.0             No   \n",
       "4                         0.0          9.0             No   \n",
       "5                         0.0          1.0             No   \n",
       "6                         0.0          9.0             No   \n",
       "7                         0.0          6.0             No   \n",
       "8                         0.0          9.0             No   \n",
       "9                         0.0          5.0             No   \n",
       "10                        0.0          7.0             No   \n",
       "11                        0.0          3.0             No   \n",
       "12                        0.0          1.0             No   \n",
       "13                        0.0          3.0             No   \n",
       "14                        0.0          1.0             No   \n",
       "15                        0.0          6.0             No   \n",
       "16                        0.0          9.0             No   \n",
       "17                        0.0          0.0             No   \n",
       "18                        0.0          9.0             No   \n",
       "19                        0.0          3.0             No   \n",
       "20                        0.0          5.0             No   \n",
       "21                        0.0          7.0             No   \n",
       "22                        0.0          9.0            Yes   \n",
       "23                        0.0          7.0             No   \n",
       "24                        0.0          9.0             No   \n",
       "25                        0.0          9.0             No   \n",
       "26                        0.0          8.0             No   \n",
       "27                        0.0          9.0             No   \n",
       "28                        0.0          6.0             No   \n",
       "29                        0.0          9.0             No   \n",
       "30                        0.0          5.0             No   \n",
       "31                        0.0          7.0            Yes   \n",
       "32                        0.0          3.0             No   \n",
       "33                        0.0          9.0             No   \n",
       "34                        0.0          0.0             No   \n",
       "35                        0.0          6.0             No   \n",
       "36                        0.0          7.0             No   \n",
       "37                        0.0          7.0             No   \n",
       "38                        0.0          7.0             No   \n",
       "39                        0.0          6.0             No   \n",
       "40                        0.0          6.0             No   \n",
       "41                        0.0          6.0             No   \n",
       "42                        0.0          3.0             No   \n",
       "43                        0.0          4.0             No   \n",
       "44                        0.0          0.0             No   \n",
       "45                        0.0          7.0             No   \n",
       "\n",
       "    AdjustmentsToCreditRating  HandsetPrice MadeCallToRetentionTeam  \\\n",
       "0                         0.0          30.0                     Yes   \n",
       "1                         0.0          30.0                      No   \n",
       "2                         0.0         130.0                      No   \n",
       "3                         0.0          10.0                      No   \n",
       "4                         1.0          10.0                      No   \n",
       "5                         1.0          30.0                      No   \n",
       "6                         1.0          30.0                      No   \n",
       "7                         0.0          30.0                      No   \n",
       "8                         0.0          80.0                      No   \n",
       "9                         1.0          30.0                      No   \n",
       "10                        0.0          30.0                      No   \n",
       "11                        1.0          80.0                      No   \n",
       "12                        1.0          30.0                      No   \n",
       "13                        0.0          30.0                      No   \n",
       "14                        0.0          10.0                      No   \n",
       "15                        0.0         150.0                     Yes   \n",
       "16                        0.0          30.0                      No   \n",
       "17                        0.0          30.0                      No   \n",
       "18                        0.0          30.0                      No   \n",
       "19                        0.0          30.0                      No   \n",
       "20                        0.0          30.0                      No   \n",
       "21                        1.0          30.0                      No   \n",
       "22                        0.0          30.0                      No   \n",
       "23                        3.0          10.0                      No   \n",
       "24                        0.0         150.0                      No   \n",
       "25                        1.0          30.0                      No   \n",
       "26                        0.0          30.0                      No   \n",
       "27                        1.0          80.0                      No   \n",
       "28                        0.0         130.0                      No   \n",
       "29                        1.0          30.0                      No   \n",
       "30                        0.0          10.0                      No   \n",
       "31                        0.0          30.0                      No   \n",
       "32                        1.0          30.0                      No   \n",
       "33                        1.0          30.0                      No   \n",
       "34                        0.0          10.0                      No   \n",
       "35                        1.0          10.0                      No   \n",
       "36                        0.0         130.0                      No   \n",
       "37                        0.0          30.0                      No   \n",
       "38                        0.0         130.0                      No   \n",
       "39                        0.0          10.0                      No   \n",
       "40                        2.0          30.0                      No   \n",
       "41                        2.0         300.0                      No   \n",
       "42                        1.0          80.0                      No   \n",
       "43                        0.0         130.0                      No   \n",
       "44                        2.0          10.0                      No   \n",
       "45                        1.0         150.0                      No   \n",
       "\n",
       "   CreditRating PrizmCode    Occupation MaritalStatus  \n",
       "0     1-Highest  Suburban  Professional            No  \n",
       "1      4-Medium  Suburban  Professional           Yes  \n",
       "2        3-Good      Town        Crafts           Yes  \n",
       "3      4-Medium     Other         Other            No  \n",
       "4     1-Highest     Other  Professional           Yes  \n",
       "5        3-Good     Other         Other           Yes  \n",
       "6     1-Highest     Other          Self           Yes  \n",
       "7     1-Highest     Other  Professional            No  \n",
       "8     1-Highest     Other         Other           Yes  \n",
       "9        3-Good     Other  Professional            No  \n",
       "10    1-Highest     Other         Other       Unknown  \n",
       "11     4-Medium  Suburban         Other            No  \n",
       "12       3-Good  Suburban         Other       Unknown  \n",
       "13       3-Good      Town         Other       Unknown  \n",
       "14       3-Good     Other         Other            No  \n",
       "15    1-Highest     Other  Professional       Unknown  \n",
       "16    1-Highest     Other         Other       Unknown  \n",
       "17       3-Good     Other         Other       Unknown  \n",
       "18    1-Highest     Other         Other            No  \n",
       "19     4-Medium     Rural         Other       Unknown  \n",
       "20    1-Highest  Suburban  Professional           Yes  \n",
       "21    1-Highest      Town  Professional           Yes  \n",
       "22    1-Highest  Suburban         Other           Yes  \n",
       "23    1-Highest      Town         Other       Unknown  \n",
       "24    1-Highest      Town         Other           Yes  \n",
       "25    1-Highest  Suburban  Professional           Yes  \n",
       "26    1-Highest  Suburban         Other           Yes  \n",
       "27    1-Highest  Suburban         Other           Yes  \n",
       "28    1-Highest  Suburban  Professional           Yes  \n",
       "29       3-Good  Suburban  Professional            No  \n",
       "30    1-Highest      Town        Crafts           Yes  \n",
       "31       3-Good  Suburban         Other           Yes  \n",
       "32    1-Highest  Suburban       Retired           Yes  \n",
       "33    1-Highest  Suburban         Other           Yes  \n",
       "34       3-Good      Town         Other       Unknown  \n",
       "35    1-Highest     Rural          Self            No  \n",
       "36    1-Highest      Town         Other            No  \n",
       "37    1-Highest  Suburban  Professional           Yes  \n",
       "38    1-Highest     Other         Other           Yes  \n",
       "39       3-Good  Suburban         Other            No  \n",
       "40       3-Good  Suburban          Self           Yes  \n",
       "41       3-Good      Town         Other            No  \n",
       "42     4-Medium     Other         Other            No  \n",
       "43     4-Medium      Town         Other            No  \n",
       "44     4-Medium  Suburban         Other       Unknown  \n",
       "45     4-Medium      Town         Other       Unknown  "
      ]
     },
     "execution_count": 8,
     "metadata": {},
     "output_type": "execute_result"
    }
   ],
   "source": [
    "# Since there are many columns we'd better explore part by part \n",
    "df1.select(df1.columns[40:]) \\\n",
    ".limit(46).toPandas()"
   ]
  },
  {
   "cell_type": "code",
   "execution_count": 9,
   "metadata": {},
   "outputs": [],
   "source": [
    "# Schema change analysis\n",
    "\n",
    "# MonthlyRevenue, MonthlyMinutes, TotalRecurringCharge, OverageMinutes, PercChangeMinutes, PercChangeRevenues\n",
    "# Handsets, HandsetModels, CurrentEquipmentDays, AgeHH1, AgeHH2  to integer\n",
    "\n",
    "# DirectorAssistedCalls, HandsetPrice to float"
   ]
  },
  {
   "cell_type": "code",
   "execution_count": 10,
   "metadata": {
    "scrolled": true
   },
   "outputs": [
    {
     "name": "stdout",
     "output_type": "stream",
     "text": [
      "root\n",
      " |-- CustomerID: integer (nullable = true)\n",
      " |-- Churn: string (nullable = true)\n",
      " |-- MonthlyRevenue: double (nullable = true)\n",
      " |-- MonthlyMinutes: double (nullable = true)\n",
      " |-- TotalRecurringCharge: double (nullable = true)\n",
      " |-- DirectorAssistedCalls: double (nullable = true)\n",
      " |-- OverageMinutes: double (nullable = true)\n",
      " |-- RoamingCalls: double (nullable = true)\n",
      " |-- PercChangeMinutes: double (nullable = true)\n",
      " |-- PercChangeRevenues: double (nullable = true)\n",
      " |-- DroppedCalls: double (nullable = true)\n",
      " |-- BlockedCalls: double (nullable = true)\n",
      " |-- UnansweredCalls: double (nullable = true)\n",
      " |-- CustomerCareCalls: double (nullable = true)\n",
      " |-- ThreewayCalls: double (nullable = true)\n",
      " |-- ReceivedCalls: double (nullable = true)\n",
      " |-- OutboundCalls: double (nullable = true)\n",
      " |-- InboundCalls: double (nullable = true)\n",
      " |-- PeakCallsInOut: double (nullable = true)\n",
      " |-- OffPeakCallsInOut: double (nullable = true)\n",
      " |-- DroppedBlockedCalls: double (nullable = true)\n",
      " |-- CallForwardingCalls: double (nullable = true)\n",
      " |-- CallWaitingCalls: double (nullable = true)\n",
      " |-- MonthsInService: float (nullable = true)\n",
      " |-- UniqueSubs: float (nullable = true)\n",
      " |-- ActiveSubs: float (nullable = true)\n",
      " |-- ServiceArea: string (nullable = true)\n",
      " |-- Handsets: float (nullable = true)\n",
      " |-- HandsetModels: float (nullable = true)\n",
      " |-- CurrentEquipmentDays: float (nullable = true)\n",
      " |-- AgeHH1: double (nullable = true)\n",
      " |-- AgeHH2: double (nullable = true)\n",
      " |-- ChildrenInHH: string (nullable = true)\n",
      " |-- HandsetRefurbished: string (nullable = true)\n",
      " |-- HandsetWebCapable: string (nullable = true)\n",
      " |-- TruckOwner: string (nullable = true)\n",
      " |-- RVOwner: string (nullable = true)\n",
      " |-- Homeownership: string (nullable = true)\n",
      " |-- BuysViaMailOrder: string (nullable = true)\n",
      " |-- RespondsToMailOffers: string (nullable = true)\n",
      " |-- OptOutMailings: string (nullable = true)\n",
      " |-- NonUSTravel: string (nullable = true)\n",
      " |-- OwnsComputer: string (nullable = true)\n",
      " |-- HasCreditCard: string (nullable = true)\n",
      " |-- RetentionCalls: float (nullable = true)\n",
      " |-- RetentionOffersAccepted: float (nullable = true)\n",
      " |-- NewCellphoneUser: string (nullable = true)\n",
      " |-- NotNewCellphoneUser: string (nullable = true)\n",
      " |-- ReferralsMadeBySubscriber: float (nullable = true)\n",
      " |-- IncomeGroup: float (nullable = true)\n",
      " |-- OwnsMotorcycle: string (nullable = true)\n",
      " |-- AdjustmentsToCreditRating: float (nullable = true)\n",
      " |-- HandsetPrice: double (nullable = true)\n",
      " |-- MadeCallToRetentionTeam: string (nullable = true)\n",
      " |-- CreditRating: string (nullable = true)\n",
      " |-- PrizmCode: string (nullable = true)\n",
      " |-- Occupation: string (nullable = true)\n",
      " |-- MaritalStatus: string (nullable = true)\n",
      "\n"
     ]
    }
   ],
   "source": [
    "df1.printSchema()"
   ]
  },
  {
   "cell_type": "code",
   "execution_count": 11,
   "metadata": {},
   "outputs": [],
   "source": [
    "# Null check\n",
    "\n",
    "for(col_name, col_type) in zip(df1.columns, df1.dtypes):\n",
    "    null_count = df1.filter( (F.col(col_name).isNull()) | (F.col(col_name) == \"\")).count()\n",
    "    if(  null_count > 0 ):\n",
    "        print(\"{} {} type has {} null values\".format(col_name, col_type[1], null_count))"
   ]
  },
  {
   "cell_type": "markdown",
   "metadata": {},
   "source": [
    "# Distribution of Output/Target variable"
   ]
  },
  {
   "cell_type": "code",
   "execution_count": 12,
   "metadata": {},
   "outputs": [
    {
     "name": "stdout",
     "output_type": "stream",
     "text": [
      "+-----+-----+\n",
      "|Churn|count|\n",
      "+-----+-----+\n",
      "|   No|36335|\n",
      "|  Yes|14711|\n",
      "+-----+-----+\n",
      "\n"
     ]
    }
   ],
   "source": [
    "df1.select(\"Churn\").groupBy(\"Churn\").count().show()"
   ]
  },
  {
   "cell_type": "code",
   "execution_count": 13,
   "metadata": {},
   "outputs": [
    {
     "data": {
      "text/plain": [
       "<AxesSubplot:>"
      ]
     },
     "execution_count": 13,
     "metadata": {},
     "output_type": "execute_result"
    },
    {
     "data": {
      "image/png": "[encoded data removed]",
      "text/plain": [
       "<Figure size 432x288 with 1 Axes>"
      ]
     },
     "metadata": {
      "needs_background": "light"
     },
     "output_type": "display_data"
    }
   ],
   "source": [
    "df1.select(\"Churn\").groupBy(\"Churn\").count().toPandas().plot(kind='bar')"
   ]
  },
  {
   "cell_type": "markdown",
   "metadata": {},
   "source": [
    "# Data Preperation for the Model"
   ]
  },
  {
   "cell_type": "code",
   "execution_count": 14,
   "metadata": {},
   "outputs": [],
   "source": [
    "categoric_cols = []\n",
    "numeric_cols = []\n",
    "discarted_cols = []\n",
    "label_col = []"
   ]
  },
  {
   "cell_type": "code",
   "execution_count": 15,
   "metadata": {},
   "outputs": [],
   "source": [
    "# column seperation\n",
    "for col_name in df1.dtypes:\n",
    "    if (col_name[0] not in []):\n",
    "        if (col_name[1] == 'string'):\n",
    "            categoric_cols.append(col_name[0])\n",
    "        else: numeric_cols.append(col_name[0])"
   ]
  },
  {
   "cell_type": "code",
   "execution_count": 16,
   "metadata": {},
   "outputs": [
    {
     "name": "stdout",
     "output_type": "stream",
     "text": [
      "+-----+----------+\n",
      "|Churn|TotalCount|\n",
      "+-----+----------+\n",
      "|   No|     36335|\n",
      "|  Yes|     14711|\n",
      "+-----+----------+\n",
      "\n",
      "+-----------+----------+\n",
      "|ServiceArea|TotalCount|\n",
      "+-----------+----------+\n",
      "|  NYCBRO917|      1684|\n",
      "|  HOUHOU281|      1510|\n",
      "|  DALDAL214|      1498|\n",
      "|  NYCMAN917|      1182|\n",
      "|  APCFCH703|       783|\n",
      "|  DALFTW817|       782|\n",
      "|  SANSAN210|       724|\n",
      "|  APCSIL301|       670|\n",
      "|  SANAUS512|       612|\n",
      "|  SFROAK510|       605|\n",
      "|  SFRSFR415|       565|\n",
      "|  NYCQUE917|       533|\n",
      "|  ATLANE678|       524|\n",
      "|  PHXPHX602|       512|\n",
      "|  SFRSCL408|       508|\n",
      "|  ATLATL678|       507|\n",
      "|  STLSTL314|       497|\n",
      "|  OHICOL614|       486|\n",
      "|  MINMIN612|       481|\n",
      "|  NEVLVS702|       479|\n",
      "+-----------+----------+\n",
      "only showing top 20 rows\n",
      "\n",
      "+------------+----------+\n",
      "|ChildrenInHH|TotalCount|\n",
      "+------------+----------+\n",
      "|          No|     38678|\n",
      "|         Yes|     12368|\n",
      "+------------+----------+\n",
      "\n",
      "+------------------+----------+\n",
      "|HandsetRefurbished|TotalCount|\n",
      "+------------------+----------+\n",
      "|                No|     43955|\n",
      "|               Yes|      7091|\n",
      "+------------------+----------+\n",
      "\n",
      "+-----------------+----------+\n",
      "|HandsetWebCapable|TotalCount|\n",
      "+-----------------+----------+\n",
      "|              Yes|     46046|\n",
      "|               No|      5000|\n",
      "+-----------------+----------+\n",
      "\n",
      "+----------+----------+\n",
      "|TruckOwner|TotalCount|\n",
      "+----------+----------+\n",
      "|        No|     41523|\n",
      "|       Yes|      9523|\n",
      "+----------+----------+\n",
      "\n",
      "+-------+----------+\n",
      "|RVOwner|TotalCount|\n",
      "+-------+----------+\n",
      "|     No|     46893|\n",
      "|    Yes|      4153|\n",
      "+-------+----------+\n",
      "\n",
      "+-------------+----------+\n",
      "|Homeownership|TotalCount|\n",
      "+-------------+----------+\n",
      "|        Known|     33987|\n",
      "|      Unknown|     17059|\n",
      "+-------------+----------+\n",
      "\n",
      "+----------------+----------+\n",
      "|BuysViaMailOrder|TotalCount|\n",
      "+----------------+----------+\n",
      "|              No|     32595|\n",
      "|             Yes|     18451|\n",
      "+----------------+----------+\n",
      "\n",
      "+--------------------+----------+\n",
      "|RespondsToMailOffers|TotalCount|\n",
      "+--------------------+----------+\n",
      "|                  No|     31820|\n",
      "|                 Yes|     19226|\n",
      "+--------------------+----------+\n",
      "\n",
      "+--------------+----------+\n",
      "|OptOutMailings|TotalCount|\n",
      "+--------------+----------+\n",
      "|            No|     50294|\n",
      "|           Yes|       752|\n",
      "+--------------+----------+\n",
      "\n",
      "+-----------+----------+\n",
      "|NonUSTravel|TotalCount|\n",
      "+-----------+----------+\n",
      "|         No|     48167|\n",
      "|        Yes|      2879|\n",
      "+-----------+----------+\n",
      "\n",
      "+------------+----------+\n",
      "|OwnsComputer|TotalCount|\n",
      "+------------+----------+\n",
      "|          No|     41582|\n",
      "|         Yes|      9464|\n",
      "+------------+----------+\n",
      "\n",
      "+-------------+----------+\n",
      "|HasCreditCard|TotalCount|\n",
      "+-------------+----------+\n",
      "|          Yes|     34503|\n",
      "|           No|     16543|\n",
      "+-------------+----------+\n",
      "\n",
      "+----------------+----------+\n",
      "|NewCellphoneUser|TotalCount|\n",
      "+----------------+----------+\n",
      "|              No|     41222|\n",
      "|             Yes|      9824|\n",
      "+----------------+----------+\n",
      "\n",
      "+-------------------+----------+\n",
      "|NotNewCellphoneUser|TotalCount|\n",
      "+-------------------+----------+\n",
      "|                 No|     44011|\n",
      "|                Yes|      7035|\n",
      "+-------------------+----------+\n",
      "\n",
      "+--------------+----------+\n",
      "|OwnsMotorcycle|TotalCount|\n",
      "+--------------+----------+\n",
      "|            No|     50367|\n",
      "|           Yes|       679|\n",
      "+--------------+----------+\n",
      "\n",
      "+-----------------------+----------+\n",
      "|MadeCallToRetentionTeam|TotalCount|\n",
      "+-----------------------+----------+\n",
      "|                     No|     49301|\n",
      "|                    Yes|      1745|\n",
      "+-----------------------+----------+\n",
      "\n",
      "+------------+----------+\n",
      "|CreditRating|TotalCount|\n",
      "+------------+----------+\n",
      "|      2-High|     18992|\n",
      "|   1-Highest|      8522|\n",
      "|      3-Good|      8410|\n",
      "|       5-Low|      6499|\n",
      "|    4-Medium|      5357|\n",
      "|    7-Lowest|      2114|\n",
      "|   6-VeryLow|      1152|\n",
      "+------------+----------+\n",
      "\n",
      "+---------+----------+\n",
      "|PrizmCode|TotalCount|\n",
      "+---------+----------+\n",
      "|    Other|     24654|\n",
      "| Suburban|     16378|\n",
      "|     Town|      7589|\n",
      "|    Rural|      2425|\n",
      "+---------+----------+\n",
      "\n",
      "+------------+----------+\n",
      "|  Occupation|TotalCount|\n",
      "+------------+----------+\n",
      "|       Other|     37636|\n",
      "|Professional|      8755|\n",
      "|      Crafts|      1519|\n",
      "|    Clerical|       986|\n",
      "|        Self|       879|\n",
      "|     Retired|       733|\n",
      "|     Student|       381|\n",
      "|   Homemaker|       157|\n",
      "+------------+----------+\n",
      "\n",
      "+-------------+----------+\n",
      "|MaritalStatus|TotalCount|\n",
      "+-------------+----------+\n",
      "|      Unknown|     19699|\n",
      "|          Yes|     18651|\n",
      "|           No|     12696|\n",
      "+-------------+----------+\n",
      "\n"
     ]
    }
   ],
   "source": [
    "for col_name in categoric_cols:\n",
    "    df1.groupBy(col_name).agg(F.count(\"*\").alias(\"TotalCount\")).orderBy(F.desc(\"TotalCount\")).show()"
   ]
  },
  {
   "cell_type": "code",
   "execution_count": 17,
   "metadata": {},
   "outputs": [],
   "source": [
    "# column seperation after analysis\n",
    "categoric_cols = []\n",
    "numeric_cols = []\n",
    "# Why we discard these? Because they have high cardinality. In other words they have too many distinct categories\n",
    "# Adding them to model will not do good if not too bad.\n",
    "discarted_cols = ['CustomerID', 'ServiceArea']\n",
    "label_col = ['Churn']"
   ]
  },
  {
   "cell_type": "code",
   "execution_count": 18,
   "metadata": {},
   "outputs": [],
   "source": [
    "for col_name in df1.dtypes:\n",
    "    if (col_name[0] not in discarted_cols+label_col):\n",
    "        if (col_name[1] == 'string'):\n",
    "            categoric_cols.append(col_name[0])\n",
    "        else: numeric_cols.append(col_name[0])"
   ]
  },
  {
   "cell_type": "code",
   "execution_count": 19,
   "metadata": {},
   "outputs": [
    {
     "name": "stdout",
     "output_type": "stream",
     "text": [
      "['ChildrenInHH', 'HandsetRefurbished', 'HandsetWebCapable', 'TruckOwner', 'RVOwner', 'Homeownership', 'BuysViaMailOrder', 'RespondsToMailOffers', 'OptOutMailings', 'NonUSTravel', 'OwnsComputer', 'HasCreditCard', 'NewCellphoneUser', 'NotNewCellphoneUser', 'OwnsMotorcycle', 'MadeCallToRetentionTeam', 'CreditRating', 'PrizmCode', 'Occupation', 'MaritalStatus']\n",
      "20\n"
     ]
    }
   ],
   "source": [
    "print(categoric_cols)\n",
    "print(len(categoric_cols))"
   ]
  },
  {
   "cell_type": "code",
   "execution_count": 20,
   "metadata": {},
   "outputs": [
    {
     "name": "stdout",
     "output_type": "stream",
     "text": [
      "['MonthlyRevenue', 'MonthlyMinutes', 'TotalRecurringCharge', 'DirectorAssistedCalls', 'OverageMinutes', 'RoamingCalls', 'PercChangeMinutes', 'PercChangeRevenues', 'DroppedCalls', 'BlockedCalls', 'UnansweredCalls', 'CustomerCareCalls', 'ThreewayCalls', 'ReceivedCalls', 'OutboundCalls', 'InboundCalls', 'PeakCallsInOut', 'OffPeakCallsInOut', 'DroppedBlockedCalls', 'CallForwardingCalls', 'CallWaitingCalls', 'MonthsInService', 'UniqueSubs', 'ActiveSubs', 'Handsets', 'HandsetModels', 'CurrentEquipmentDays', 'AgeHH1', 'AgeHH2', 'RetentionCalls', 'RetentionOffersAccepted', 'ReferralsMadeBySubscriber', 'IncomeGroup', 'AdjustmentsToCreditRating', 'HandsetPrice']\n",
      "35\n"
     ]
    }
   ],
   "source": [
    "print(numeric_cols)\n",
    "print(len(numeric_cols))"
   ]
  },
  {
   "cell_type": "code",
   "execution_count": 21,
   "metadata": {},
   "outputs": [
    {
     "name": "stdout",
     "output_type": "stream",
     "text": [
      "['CustomerID', 'ServiceArea', 'Churn']\n",
      "3\n"
     ]
    }
   ],
   "source": [
    "print(discarted_cols+label_col)\n",
    "print(len(discarted_cols+label_col))"
   ]
  },
  {
   "cell_type": "markdown",
   "metadata": {},
   "source": [
    "## verification of columns"
   ]
  },
  {
   "cell_type": "code",
   "execution_count": 22,
   "metadata": {},
   "outputs": [
    {
     "name": "stdout",
     "output_type": "stream",
     "text": [
      "Columns verified\n"
     ]
    }
   ],
   "source": [
    "if len(df1.columns) == (len(categoric_cols)+len(numeric_cols)+len(discarted_cols+label_col)):\n",
    "    print(\"Columns verified\")\n",
    "else: print(\"Columns are not verified\")"
   ]
  },
  {
   "cell_type": "markdown",
   "metadata": {},
   "source": [
    "## Select columns for onehotencoder"
   ]
  },
  {
   "cell_type": "code",
   "execution_count": 23,
   "metadata": {},
   "outputs": [
    {
     "name": "stdout",
     "output_type": "stream",
     "text": [
      "ChildrenInHH has 2 distinct category.\n",
      "HandsetRefurbished has 2 distinct category.\n",
      "HandsetWebCapable has 2 distinct category.\n",
      "TruckOwner has 2 distinct category.\n",
      "RVOwner has 2 distinct category.\n",
      "Homeownership has 2 distinct category.\n",
      "BuysViaMailOrder has 2 distinct category.\n",
      "RespondsToMailOffers has 2 distinct category.\n",
      "OptOutMailings has 2 distinct category.\n",
      "NonUSTravel has 2 distinct category.\n",
      "OwnsComputer has 2 distinct category.\n",
      "HasCreditCard has 2 distinct category.\n",
      "NewCellphoneUser has 2 distinct category.\n",
      "NotNewCellphoneUser has 2 distinct category.\n",
      "OwnsMotorcycle has 2 distinct category.\n",
      "MadeCallToRetentionTeam has 2 distinct category.\n",
      "CreditRating has 7 distinct category.\n",
      "PrizmCode has 4 distinct category.\n",
      "Occupation has 8 distinct category.\n",
      "MaritalStatus has 3 distinct category.\n"
     ]
    }
   ],
   "source": [
    "# Here we count the distinct categories in categoric columns. If there is more than two,\n",
    "# we will add those to to_be_onehotencoded_cols list If there is just 2 we don't need to use onehotencoder\n",
    "# So if distinct category gt 2 we have to add it to_be_onehotencoded_cols list\n",
    "to_be_onehotencoded_cols = []\n",
    "\n",
    "for col_name in categoric_cols:\n",
    "    count = df1.select(col_name).distinct().count()\n",
    "    if count > 2:\n",
    "        to_be_onehotencoded_cols.append(col_name)\n",
    "    print(\"{} has {} distinct category.\".format(col_name, count))\n",
    "    "
   ]
  },
  {
   "cell_type": "code",
   "execution_count": 24,
   "metadata": {},
   "outputs": [
    {
     "name": "stdout",
     "output_type": "stream",
     "text": [
      "['CreditRating', 'PrizmCode', 'Occupation', 'MaritalStatus']\n"
     ]
    }
   ],
   "source": [
    "print(to_be_onehotencoded_cols)"
   ]
  },
  {
   "cell_type": "markdown",
   "metadata": {},
   "source": [
    "# StringIndexer"
   ]
  },
  {
   "cell_type": "code",
   "execution_count": 25,
   "metadata": {},
   "outputs": [],
   "source": [
    "from pyspark.ml.feature import StringIndexer"
   ]
  },
  {
   "cell_type": "code",
   "execution_count": 26,
   "metadata": {},
   "outputs": [],
   "source": [
    "# Will hold stringIndexer objects and column names\n",
    "my_dict = {}\n",
    "\n",
    "# Will collect StringIndexer ojects\n",
    "string_indexer_objs = []\n",
    "\n",
    "# Will collect StringIndexer output colnames\n",
    "string_indexer_output_names = []\n",
    "\n",
    "# Will collect OneHotEncoder output colnames\n",
    "ohe_col_input_names = []\n",
    "ohe_col_output_names = []\n",
    "\n",
    "for col_name in categoric_cols:\n",
    "    my_dict[col_name+\"_indexobj\"] = StringIndexer() \\\n",
    "    .setHandleInvalid('skip') \\\n",
    "    .setInputCol(col_name) \\\n",
    "    .setOutputCol(col_name+\"_indexed\")\n",
    "    \n",
    "    string_indexer_objs.append(my_dict.get(col_name+\"_indexobj\"))\n",
    "    string_indexer_output_names.append(col_name+\"_indexed\")\n",
    "    if col_name in to_be_onehotencoded_cols:\n",
    "        ohe_col_input_names.append(col_name+\"_indexed\")\n",
    "        ohe_col_output_names.append(col_name+\"_ohe\")"
   ]
  },
  {
   "cell_type": "code",
   "execution_count": 27,
   "metadata": {},
   "outputs": [
    {
     "name": "stdout",
     "output_type": "stream",
     "text": [
      "[StringIndexer_ae4899dc030c, StringIndexer_821dc8bc55dc, StringIndexer_69e5c23854c4, StringIndexer_b23b81c39015, StringIndexer_3444b55815bf, StringIndexer_b1ae2ce18171, StringIndexer_87f9f2668751, StringIndexer_88cede68cf38, StringIndexer_998bb328f98e, StringIndexer_1ca7497bf55a, StringIndexer_2b69b5bef2a0, StringIndexer_96b6bb2e6e62, StringIndexer_70d958f11b02, StringIndexer_0e3b313e32bf, StringIndexer_7b2e6d29c2a6, StringIndexer_013729b2f102, StringIndexer_6b655a101463, StringIndexer_077460bf9e12, StringIndexer_f9cd2c3632dc, StringIndexer_eca13a55ada5]\n",
      "20\n"
     ]
    }
   ],
   "source": [
    "print(string_indexer_objs)\n",
    "print(len(string_indexer_objs))"
   ]
  },
  {
   "cell_type": "code",
   "execution_count": 28,
   "metadata": {},
   "outputs": [
    {
     "name": "stdout",
     "output_type": "stream",
     "text": [
      "['ChildrenInHH_indexed', 'HandsetRefurbished_indexed', 'HandsetWebCapable_indexed', 'TruckOwner_indexed', 'RVOwner_indexed', 'Homeownership_indexed', 'BuysViaMailOrder_indexed', 'RespondsToMailOffers_indexed', 'OptOutMailings_indexed', 'NonUSTravel_indexed', 'OwnsComputer_indexed', 'HasCreditCard_indexed', 'NewCellphoneUser_indexed', 'NotNewCellphoneUser_indexed', 'OwnsMotorcycle_indexed', 'MadeCallToRetentionTeam_indexed', 'CreditRating_indexed', 'PrizmCode_indexed', 'Occupation_indexed', 'MaritalStatus_indexed']\n",
      "20\n"
     ]
    }
   ],
   "source": [
    "print(string_indexer_output_names)\n",
    "print(len(string_indexer_output_names))"
   ]
  },
  {
   "cell_type": "code",
   "execution_count": 29,
   "metadata": {},
   "outputs": [
    {
     "name": "stdout",
     "output_type": "stream",
     "text": [
      "['CreditRating_indexed', 'PrizmCode_indexed', 'Occupation_indexed', 'MaritalStatus_indexed']\n",
      "4\n"
     ]
    }
   ],
   "source": [
    "print(ohe_col_input_names)\n",
    "print(len(ohe_col_input_names))"
   ]
  },
  {
   "cell_type": "code",
   "execution_count": 30,
   "metadata": {},
   "outputs": [
    {
     "name": "stdout",
     "output_type": "stream",
     "text": [
      "['CreditRating_ohe', 'PrizmCode_ohe', 'Occupation_ohe', 'MaritalStatus_ohe']\n",
      "4\n"
     ]
    }
   ],
   "source": [
    "print(ohe_col_output_names)\n",
    "print(len(ohe_col_output_names))"
   ]
  },
  {
   "cell_type": "markdown",
   "metadata": {},
   "source": [
    "# OnehotEncoder"
   ]
  },
  {
   "cell_type": "code",
   "execution_count": 31,
   "metadata": {},
   "outputs": [],
   "source": [
    "from pyspark.ml.feature import OneHotEncoderEstimator"
   ]
  },
  {
   "cell_type": "code",
   "execution_count": 32,
   "metadata": {},
   "outputs": [],
   "source": [
    "encoder = OneHotEncoderEstimator() \\\n",
    ".setInputCols(ohe_col_input_names) \\\n",
    ".setOutputCols(ohe_col_output_names)"
   ]
  },
  {
   "cell_type": "markdown",
   "metadata": {},
   "source": [
    "# VectorAssembler"
   ]
  },
  {
   "cell_type": "code",
   "execution_count": 33,
   "metadata": {},
   "outputs": [],
   "source": [
    "from pyspark.ml.feature import VectorAssembler"
   ]
  },
  {
   "cell_type": "code",
   "execution_count": 34,
   "metadata": {},
   "outputs": [
    {
     "data": {
      "text/plain": [
       "['NonUSTravel_indexed',\n",
       " 'NotNewCellphoneUser_indexed',\n",
       " 'ChildrenInHH_indexed',\n",
       " 'HasCreditCard_indexed',\n",
       " 'MadeCallToRetentionTeam_indexed',\n",
       " 'RespondsToMailOffers_indexed',\n",
       " 'Homeownership_indexed',\n",
       " 'RVOwner_indexed',\n",
       " 'HandsetWebCapable_indexed',\n",
       " 'OwnsComputer_indexed',\n",
       " 'HandsetRefurbished_indexed',\n",
       " 'TruckOwner_indexed',\n",
       " 'OwnsMotorcycle_indexed',\n",
       " 'BuysViaMailOrder_indexed',\n",
       " 'OptOutMailings_indexed',\n",
       " 'NewCellphoneUser_indexed']"
      ]
     },
     "execution_count": 34,
     "metadata": {},
     "output_type": "execute_result"
    }
   ],
   "source": [
    "# We have to exclude onehotencoded categoric cols from stringIndexer cols\n",
    "string_indexer_col_names_ohe_exluded = list(set(string_indexer_output_names).difference(set(ohe_col_input_names)))\n",
    "string_indexer_col_names_ohe_exluded"
   ]
  },
  {
   "cell_type": "markdown",
   "metadata": {},
   "source": [
    "## column verification"
   ]
  },
  {
   "cell_type": "code",
   "execution_count": 35,
   "metadata": {},
   "outputs": [
    {
     "name": "stdout",
     "output_type": "stream",
     "text": [
      "Columns verified\n"
     ]
    }
   ],
   "source": [
    "if len(categoric_cols) == (len(string_indexer_col_names_ohe_exluded)+len(ohe_col_output_names)):\n",
    "    print(\"Columns verified\")\n",
    "else: print(\"Columns are not verified\")"
   ]
  },
  {
   "cell_type": "code",
   "execution_count": 36,
   "metadata": {},
   "outputs": [],
   "source": [
    "assembler = VectorAssembler().setHandleInvalid(\"skip\") \\\n",
    ".setInputCols(numeric_cols+string_indexer_col_names_ohe_exluded+ohe_col_output_names) \\\n",
    ".setOutputCol('unscaled_features')"
   ]
  },
  {
   "cell_type": "markdown",
   "metadata": {},
   "source": [
    "# LabelIndexer"
   ]
  },
  {
   "cell_type": "code",
   "execution_count": 37,
   "metadata": {},
   "outputs": [],
   "source": [
    "label_indexer = StringIndexer().setHandleInvalid(\"skip\") \\\n",
    ".setInputCol(label_col[0]) \\\n",
    ".setOutputCol(\"label\")"
   ]
  },
  {
   "cell_type": "markdown",
   "metadata": {},
   "source": [
    "# Feature Scaling"
   ]
  },
  {
   "cell_type": "code",
   "execution_count": 38,
   "metadata": {},
   "outputs": [],
   "source": [
    "from pyspark.ml.feature import StandardScaler"
   ]
  },
  {
   "cell_type": "code",
   "execution_count": 39,
   "metadata": {},
   "outputs": [],
   "source": [
    "scaler = StandardScaler().setInputCol(\"unscaled_features\").setOutputCol(\"scaled_features\")"
   ]
  },
  {
   "cell_type": "markdown",
   "metadata": {},
   "source": [
    "# PCA"
   ]
  },
  {
   "cell_type": "code",
   "execution_count": 40,
   "metadata": {},
   "outputs": [],
   "source": [
    "from pyspark.ml.feature import PCA"
   ]
  },
  {
   "cell_type": "code",
   "execution_count": 41,
   "metadata": {},
   "outputs": [],
   "source": [
    "pca = PCA().setInputCol(\"scaled_features\").setK(10).setOutputCol(\"features\")"
   ]
  },
  {
   "cell_type": "markdown",
   "metadata": {},
   "source": [
    "# Estimator"
   ]
  },
  {
   "cell_type": "code",
   "execution_count": 43,
   "metadata": {},
   "outputs": [],
   "source": [
    "from mmlspark.lightgbm import LightGBMClassifier"
   ]
  },
  {
   "cell_type": "code",
   "execution_count": 44,
   "metadata": {},
   "outputs": [],
   "source": [
    "estimator = LightGBMClassifier(learningRate=0.3,\n",
    "                           numIterations=200,\n",
    "                           numLeaves=20,\n",
    "                           featuresCol='features',\n",
    "                           labelCol='label',\n",
    "                           isUnbalance=True)"
   ]
  },
  {
   "cell_type": "markdown",
   "metadata": {},
   "source": [
    "# Pipeline"
   ]
  },
  {
   "cell_type": "code",
   "execution_count": 45,
   "metadata": {},
   "outputs": [],
   "source": [
    "from pyspark.ml import Pipeline"
   ]
  },
  {
   "cell_type": "code",
   "execution_count": 46,
   "metadata": {},
   "outputs": [],
   "source": [
    "pipeline_obj = Pipeline().setStages(string_indexer_objs+[encoder, assembler, label_indexer, scaler, pca, estimator])"
   ]
  },
  {
   "cell_type": "code",
   "execution_count": null,
   "metadata": {},
   "outputs": [],
   "source": [
    "# Split data"
   ]
  },
  {
   "cell_type": "code",
   "execution_count": 50,
   "metadata": {},
   "outputs": [],
   "source": [
    "train_df, test_df = df1.randomSplit([0.8, 0.2], seed=142)"
   ]
  },
  {
   "cell_type": "code",
   "execution_count": 51,
   "metadata": {},
   "outputs": [
    {
     "name": "stdout",
     "output_type": "stream",
     "text": [
      "40805\n",
      "10241\n"
     ]
    }
   ],
   "source": [
    "print(train_df.count())\n",
    "print(test_df.count())"
   ]
  },
  {
   "cell_type": "markdown",
   "metadata": {},
   "source": [
    "# Train Model"
   ]
  },
  {
   "cell_type": "code",
   "execution_count": 52,
   "metadata": {},
   "outputs": [],
   "source": [
    "pipeline_model = pipeline_obj.fit(train_df)"
   ]
  },
  {
   "cell_type": "markdown",
   "metadata": {},
   "source": [
    "# Save the model"
   ]
  },
  {
   "cell_type": "code",
   "execution_count": 53,
   "metadata": {},
   "outputs": [],
   "source": [
    "pipeline_model.stages[-1].write().overwrite().save(\"saved_models/lightgbm_churn_pca10\")"
   ]
  },
  {
   "cell_type": "markdown",
   "metadata": {},
   "source": [
    "# Prediction"
   ]
  },
  {
   "cell_type": "code",
   "execution_count": 54,
   "metadata": {},
   "outputs": [],
   "source": [
    "transformed_df = pipeline_model.transform(test_df)"
   ]
  },
  {
   "cell_type": "code",
   "execution_count": 55,
   "metadata": {},
   "outputs": [
    {
     "name": "stdout",
     "output_type": "stream",
     "text": [
      "+-----+----------+-----------------------------------------+------------------------------------------+\n",
      "|label|prediction|probability                              |rawPrediction                             |\n",
      "+-----+----------+-----------------------------------------+------------------------------------------+\n",
      "|0.0  |1.0       |[0.4562176701118613,0.5437823298881387]  |[-0.5437823298881387,0.5437823298881387]  |\n",
      "|0.0  |0.0       |[2.102333003227442,-1.1023330032274423]  |[1.1023330032274423,-1.1023330032274423]  |\n",
      "|0.0  |1.0       |[0.7632705594919944,0.2367294405080056]  |[-0.2367294405080056,0.2367294405080056]  |\n",
      "|0.0  |0.0       |[1.8093703165253254,-0.8093703165253253] |[0.8093703165253253,-0.8093703165253253]  |\n",
      "|0.0  |1.0       |[0.6734445596582923,0.32655544034170764] |[-0.32655544034170764,0.32655544034170764]|\n",
      "|0.0  |0.0       |[1.7771846873326411,-0.7771846873326412] |[0.7771846873326412,-0.7771846873326412]  |\n",
      "|1.0  |0.0       |[3.4090835887151716,-2.4090835887151716] |[2.4090835887151716,-2.4090835887151716]  |\n",
      "|0.0  |0.0       |[3.586670241831012,-2.586670241831012]   |[2.586670241831012,-2.586670241831012]    |\n",
      "|1.0  |1.0       |[0.24713914491528488,0.7528608550847151] |[-0.7528608550847151,0.7528608550847151]  |\n",
      "|0.0  |1.0       |[0.7618951265152561,0.23810487348474382] |[-0.23810487348474382,0.23810487348474382]|\n",
      "|1.0  |1.0       |[0.5203617673022305,0.47963823269776956] |[-0.47963823269776956,0.47963823269776956]|\n",
      "|0.0  |1.0       |[0.8025987625990936,0.1974012374009064]  |[-0.1974012374009064,0.1974012374009064]  |\n",
      "|0.0  |0.0       |[3.666977164621044,-2.666977164621044]   |[2.666977164621044,-2.666977164621044]    |\n",
      "|0.0  |0.0       |[1.8178808236023443,-0.8178808236023443] |[0.8178808236023443,-0.8178808236023443]  |\n",
      "|0.0  |0.0       |[2.016703363178061,-1.016703363178061]   |[1.016703363178061,-1.016703363178061]    |\n",
      "|0.0  |0.0       |[1.0515267308199159,-0.05152673081991593]|[0.05152673081991593,-0.05152673081991593]|\n",
      "|0.0  |0.0       |[1.657668999702923,-0.657668999702923]   |[0.657668999702923,-0.657668999702923]    |\n",
      "|1.0  |1.0       |[0.06666519017669004,0.93333480982331]   |[-0.93333480982331,0.93333480982331]      |\n",
      "|0.0  |0.0       |[1.3882935144440172,-0.38829351444401716]|[0.38829351444401716,-0.38829351444401716]|\n",
      "|0.0  |0.0       |[2.9811306429627957,-1.9811306429627957] |[1.9811306429627957,-1.9811306429627957]  |\n",
      "+-----+----------+-----------------------------------------+------------------------------------------+\n",
      "only showing top 20 rows\n",
      "\n"
     ]
    }
   ],
   "source": [
    "transformed_df.select('label','prediction','probability','rawPrediction').show(truncate=False)"
   ]
  },
  {
   "cell_type": "markdown",
   "metadata": {},
   "source": [
    "# Evaluate the model"
   ]
  },
  {
   "cell_type": "code",
   "execution_count": 56,
   "metadata": {},
   "outputs": [],
   "source": [
    "from pyspark.ml.evaluation import BinaryClassificationEvaluator"
   ]
  },
  {
   "cell_type": "code",
   "execution_count": 57,
   "metadata": {},
   "outputs": [],
   "source": [
    "evaluator = BinaryClassificationEvaluator()"
   ]
  },
  {
   "cell_type": "code",
   "execution_count": 59,
   "metadata": {},
   "outputs": [
    {
     "data": {
      "text/plain": [
       "0.5710878139549131"
      ]
     },
     "execution_count": 59,
     "metadata": {},
     "output_type": "execute_result"
    }
   ],
   "source": [
    "evaluator.evaluate(transformed_df)"
   ]
  },
  {
   "cell_type": "code",
   "execution_count": 60,
   "metadata": {},
   "outputs": [
    {
     "data": {
      "text/plain": [
       "'areaUnderROC'"
      ]
     },
     "execution_count": 60,
     "metadata": {},
     "output_type": "execute_result"
    }
   ],
   "source": [
    "evaluator.getMetricName()"
   ]
  },
  {
   "cell_type": "code",
   "execution_count": 64,
   "metadata": {},
   "outputs": [
    {
     "name": "stdout",
     "output_type": "stream",
     "text": [
      "+-----+----------+----------------------------------------+------------------------------------------+\n",
      "|label|prediction|probability                             |rawPrediction                             |\n",
      "+-----+----------+----------------------------------------+------------------------------------------+\n",
      "|1.0  |1.0       |[0.16076090914580143,0.8392390908541986]|[-0.8392390908541986,0.8392390908541986]  |\n",
      "|1.0  |1.0       |[0.5002971910823228,0.49970280891767715]|[-0.49970280891767715,0.49970280891767715]|\n",
      "|0.0  |1.0       |[0.8191176294559761,0.18088237054402387]|[-0.18088237054402387,0.18088237054402387]|\n",
      "|1.0  |1.0       |[0.18698943850768945,0.8130105614923105]|[-0.8130105614923105,0.8130105614923105]  |\n",
      "|0.0  |1.0       |[0.05904156264476623,0.9409584373552338]|[-0.9409584373552338,0.9409584373552338]  |\n",
      "|1.0  |1.0       |[-0.6487842000492643,1.6487842000492643]|[-1.6487842000492643,1.6487842000492643]  |\n",
      "|0.0  |1.0       |[0.3952176887019184,0.6047823112980816] |[-0.6047823112980816,0.6047823112980816]  |\n",
      "|0.0  |1.0       |[0.7921460975721952,0.20785390242780472]|[-0.20785390242780472,0.20785390242780472]|\n",
      "|1.0  |1.0       |[-0.650873039459569,1.650873039459569]  |[-1.650873039459569,1.650873039459569]    |\n",
      "|1.0  |1.0       |[0.23012523494430925,0.7698747650556907]|[-0.7698747650556907,0.7698747650556907]  |\n",
      "|1.0  |1.0       |[0.858680904894715,0.14131909510528493] |[-0.14131909510528493,0.14131909510528493]|\n",
      "|1.0  |1.0       |[0.5784049305615748,0.4215950694384251] |[-0.4215950694384251,0.4215950694384251]  |\n",
      "|1.0  |1.0       |[0.16952681833955485,0.8304731816604451]|[-0.8304731816604451,0.8304731816604451]  |\n",
      "|1.0  |1.0       |[0.18237176226331764,0.8176282377366824]|[-0.8176282377366824,0.8176282377366824]  |\n",
      "|1.0  |1.0       |[0.06775069948544021,0.9322493005145598]|[-0.9322493005145598,0.9322493005145598]  |\n",
      "|1.0  |1.0       |[0.34493473885902337,0.6550652611409766]|[-0.6550652611409766,0.6550652611409766]  |\n",
      "|1.0  |1.0       |[0.17391116780641913,0.8260888321935809]|[-0.8260888321935809,0.8260888321935809]  |\n",
      "|1.0  |1.0       |[0.5613803273261742,0.43861967267382584]|[-0.43861967267382584,0.43861967267382584]|\n",
      "|1.0  |1.0       |[0.3894285147515577,0.6105714852484423] |[-0.6105714852484423,0.6105714852484423]  |\n",
      "|1.0  |1.0       |[0.2698892762085884,0.7301107237914116] |[-0.7301107237914116,0.7301107237914116]  |\n",
      "+-----+----------+----------------------------------------+------------------------------------------+\n",
      "only showing top 20 rows\n",
      "\n"
     ]
    }
   ],
   "source": [
    "transformed_df.select('label','prediction','probability','rawPrediction') \\\n",
    ".filter(\"prediction == 1.0\") \\\n",
    ".show(truncate=False)"
   ]
  },
  {
   "cell_type": "code",
   "execution_count": 65,
   "metadata": {},
   "outputs": [
    {
     "name": "stdout",
     "output_type": "stream",
     "text": [
      "+-----+----------+--------------------+--------------------+--------------------+\n",
      "|label|prediction|         probability|       rawPrediction|               score|\n",
      "+-----+----------+--------------------+--------------------+--------------------+\n",
      "|  1.0|       1.0|[0.16076090914580...|[-0.8392390908541...|[0.16076090914580...|\n",
      "|  1.0|       1.0|[0.50029719108232...|[-0.4997028089176...|[0.50029719108232...|\n",
      "|  0.0|       1.0|[0.81911762945597...|[-0.1808823705440...|[0.81911762945597...|\n",
      "|  0.0|       0.0|[1.44410920232326...|[0.44410920232326...|[1.44410920232326...|\n",
      "|  1.0|       1.0|[0.18698943850768...|[-0.8130105614923...|[0.18698943850768...|\n",
      "|  0.0|       0.0|[2.22036560841634...|[1.22036560841634...|[2.22036560841634...|\n",
      "|  0.0|       0.0|[1.54740170905303...|[0.54740170905303...|[1.54740170905303...|\n",
      "|  0.0|       0.0|[1.38594331792427...|[0.38594331792427...|[1.38594331792427...|\n",
      "|  0.0|       0.0|[1.03985462042266...|[0.03985462042266...|[1.03985462042266...|\n",
      "|  0.0|       0.0|[3.37424591486395...|[2.37424591486395...|[3.37424591486395...|\n",
      "|  0.0|       1.0|[0.05904156264476...|[-0.9409584373552...|[0.05904156264476...|\n",
      "|  0.0|       0.0|[1.27717627417929...|[0.27717627417929...|[1.27717627417929...|\n",
      "|  0.0|       0.0|[1.81687583872203...|[0.81687583872203...|[1.81687583872203...|\n",
      "|  0.0|       0.0|[1.29317280127825...|[0.29317280127825...|[1.29317280127825...|\n",
      "|  0.0|       0.0|[1.14439098059372...|[0.14439098059372...|[1.14439098059372...|\n",
      "|  1.0|       1.0|[-0.6487842000492...|[-1.6487842000492...|[-0.6487842000492...|\n",
      "|  0.0|       1.0|[0.39521768870191...|[-0.6047823112980...|[0.39521768870191...|\n",
      "|  0.0|       1.0|[0.79214609757219...|[-0.2078539024278...|[0.79214609757219...|\n",
      "|  1.0|       1.0|[-0.6508730394595...|[-1.6508730394595...|[-0.6508730394595...|\n",
      "|  0.0|       0.0|[1.30272238521043...|[0.30272238521043...|[1.30272238521043...|\n",
      "+-----+----------+--------------------+--------------------+--------------------+\n",
      "only showing top 20 rows\n",
      "\n"
     ]
    }
   ],
   "source": [
    "transformed_df.select('label','prediction','probability','rawPrediction') \\\n",
    ".withColumn(\"score\", F.col('probability').cast('string')).show()"
   ]
  },
  {
   "cell_type": "code",
   "execution_count": 66,
   "metadata": {},
   "outputs": [
    {
     "name": "stdout",
     "output_type": "stream",
     "text": [
      "root\n",
      " |-- label: double (nullable = false)\n",
      " |-- prediction: double (nullable = false)\n",
      " |-- probability: vector (nullable = true)\n",
      " |-- rawPrediction: vector (nullable = true)\n",
      "\n"
     ]
    }
   ],
   "source": [
    "transformed_df.select('label','prediction','probability','rawPrediction').printSchema()"
   ]
  },
  {
   "cell_type": "markdown",
   "metadata": {},
   "source": [
    "# Get churn score from probability"
   ]
  },
  {
   "cell_type": "code",
   "execution_count": 67,
   "metadata": {},
   "outputs": [],
   "source": [
    "import pyspark.sql.functions as F\n",
    "import pyspark.sql.types as T\n",
    "\n",
    "to_array = F.udf(lambda v: v.toArray().tolist(), T.ArrayType(T.FloatType()))\n",
    "score_df = transformed_df.select('CustomerID','label','prediction','probability','rawPrediction') \\\n",
    ".withColumn('score', to_array('probability')[1] * 1000)"
   ]
  },
  {
   "cell_type": "code",
   "execution_count": 68,
   "metadata": {},
   "outputs": [
    {
     "name": "stdout",
     "output_type": "stream",
     "text": [
      "+----------+-----+----------+--------------------+--------------------+---------+\n",
      "|CustomerID|label|prediction|         probability|       rawPrediction|    score|\n",
      "+----------+-----+----------+--------------------+--------------------+---------+\n",
      "|   3000002|  1.0|       1.0|[0.16076090914580...|[-0.8392390908541...|839.23914|\n",
      "|   3000010|  1.0|       1.0|[0.50029719108232...|[-0.4997028089176...|499.70282|\n",
      "|   3000014|  0.0|       1.0|[0.81911762945597...|[-0.1808823705440...|180.88237|\n",
      "|   3000026|  1.0|       1.0|[0.18698943850768...|[-0.8130105614923...|813.01056|\n",
      "|   3000054|  0.0|       1.0|[0.05904156264476...|[-0.9409584373552...|940.95844|\n",
      "|   3000082|  1.0|       1.0|[-0.6487842000492...|[-1.6487842000492...|1648.7842|\n",
      "|   3000102|  0.0|       1.0|[0.39521768870191...|[-0.6047823112980...| 604.7823|\n",
      "|   3000118|  0.0|       1.0|[0.79214609757219...|[-0.2078539024278...| 207.8539|\n",
      "|   3000122|  1.0|       1.0|[-0.6508730394595...|[-1.6508730394595...| 1650.873|\n",
      "|   3000158|  1.0|       1.0|[0.23012523494430...|[-0.7698747650556...|769.87476|\n",
      "|   3000182|  1.0|       1.0|[0.85868090489471...|[-0.1413190951052...|141.31909|\n",
      "|   3000190|  1.0|       1.0|[0.57840493056157...|[-0.4215950694384...|421.59506|\n",
      "|   3000194|  1.0|       1.0|[0.16952681833955...|[-0.8304731816604...| 830.4732|\n",
      "|   3000202|  1.0|       1.0|[0.18237176226331...|[-0.8176282377366...|817.62823|\n",
      "|   3000222|  1.0|       1.0|[0.06775069948544...|[-0.9322493005145...| 932.2493|\n",
      "|   3000226|  1.0|       1.0|[0.34493473885902...|[-0.6550652611409...|655.06525|\n",
      "|   3000234|  1.0|       1.0|[0.17391116780641...|[-0.8260888321935...|826.08887|\n",
      "|   3000270|  1.0|       1.0|[0.56138032732617...|[-0.4386196726738...|438.61966|\n",
      "|   3000318|  1.0|       1.0|[0.38942851475155...|[-0.6105714852484...|610.57153|\n",
      "|   3000414|  1.0|       1.0|[0.26988927620858...|[-0.7301107237914...| 730.1107|\n",
      "+----------+-----+----------+--------------------+--------------------+---------+\n",
      "only showing top 20 rows\n",
      "\n"
     ]
    }
   ],
   "source": [
    "score_df.filter(\"prediction == 1.0\").show()"
   ]
  },
  {
   "cell_type": "markdown",
   "metadata": {},
   "source": [
    "# Top 20 Costumers most likely to churn"
   ]
  },
  {
   "cell_type": "code",
   "execution_count": 69,
   "metadata": {},
   "outputs": [
    {
     "name": "stdout",
     "output_type": "stream",
     "text": [
      "+----------+-----+----------+--------------------+--------------------+---------+\n",
      "|CustomerID|label|prediction|         probability|       rawPrediction|    score|\n",
      "+----------+-----+----------+--------------------+--------------------+---------+\n",
      "|   3161590|  1.0|       1.0|[0.32266325221542...|[-0.6773367477845...|1226.0823|\n",
      "|   3252322|  0.0|       1.0|[0.47689756811488...|[-0.5231024318851...|1135.0568|\n",
      "|   3221118|  0.0|       1.0|[0.61392526382615...|[-0.3860747361738...|1030.9592|\n",
      "|   3363994|  0.0|       1.0|[0.40595818216235...|[-0.5940418178376...|1015.1546|\n",
      "|   3183090|  1.0|       1.0|[0.03619284076005...|[-0.9638071592399...| 963.8072|\n",
      "|   3363198|  1.0|       1.0|[0.03765840728405...|[-0.9623415927159...| 962.3416|\n",
      "|   3298874|  1.0|       1.0|[0.04168703552198...|[-0.9583129644780...|  958.313|\n",
      "|   3153374|  1.0|       1.0|[0.04330661618327...|[-0.9566933838167...| 956.6934|\n",
      "|   3212006|  1.0|       1.0|[0.04354326766148...|[-0.9564567323385...| 956.4567|\n",
      "|   3014814|  1.0|       1.0|[0.04507647342345...|[-0.9549235265765...| 954.9235|\n",
      "|   3362722|  1.0|       1.0|[0.05284392191017...|[-0.9471560780898...|947.15607|\n",
      "|   3261498|  1.0|       1.0|[0.05376758547726...|[-0.9462324145227...| 946.2324|\n",
      "|   3170406|  1.0|       1.0|[0.05382091262285...|[-0.9461790873771...| 946.1791|\n",
      "|   3383938|  1.0|       1.0|[0.05657262219076...|[-0.9434273778092...|943.42737|\n",
      "|   3059462|  1.0|       1.0|[0.58594270334000...|[-0.9429845968726...|942.98456|\n",
      "|   3175486|  1.0|       1.0|[0.05812256196147...|[-0.9418774380385...|941.87744|\n",
      "|   3267306|  1.0|       1.0|[0.05864049132213...|[-0.9413595086778...| 941.3595|\n",
      "|   3341682|  1.0|       1.0|[0.05883154715952...|[-0.9411684528404...|941.16846|\n",
      "|   3395378|  1.0|       1.0|[0.05927620075157...|[-0.9407237992484...|940.72375|\n",
      "|   3303350|  1.0|       1.0|[0.06325582166562...|[-0.9367441783343...|936.74414|\n",
      "+----------+-----+----------+--------------------+--------------------+---------+\n",
      "only showing top 20 rows\n",
      "\n"
     ]
    }
   ],
   "source": [
    "score_df.orderBy(F.desc(\"score\")).show()"
   ]
  },
  {
   "cell_type": "code",
   "execution_count": 70,
   "metadata": {},
   "outputs": [
    {
     "name": "stdout",
     "output_type": "stream",
     "text": [
      "root\n",
      " |-- CustomerID: integer (nullable = true)\n",
      " |-- label: double (nullable = false)\n",
      " |-- prediction: double (nullable = false)\n",
      " |-- probability: vector (nullable = true)\n",
      " |-- rawPrediction: vector (nullable = true)\n",
      " |-- score: float (nullable = true)\n",
      "\n"
     ]
    }
   ],
   "source": [
    "score_df.printSchema()"
   ]
  },
  {
   "cell_type": "markdown",
   "metadata": {},
   "source": [
    "# Hyperparameter Tuning"
   ]
  },
  {
   "cell_type": "code",
   "execution_count": 72,
   "metadata": {},
   "outputs": [],
   "source": [
    "from pyspark.ml.tuning import CrossValidatorModel, ParamGridBuilder, CrossValidator"
   ]
  },
  {
   "cell_type": "code",
   "execution_count": 74,
   "metadata": {},
   "outputs": [],
   "source": [
    "paramGrid = ParamGridBuilder() \\\n",
    ".addGrid(pca.k, [5, 10]) \\\n",
    ".addGrid(estimator.numLeaves, [5, 20]) \\\n",
    ".build()"
   ]
  },
  {
   "cell_type": "code",
   "execution_count": 75,
   "metadata": {},
   "outputs": [],
   "source": [
    "crossval = CrossValidator(estimator=pipeline_obj,\n",
    "                          estimatorParamMaps=paramGrid,\n",
    "                          evaluator=BinaryClassificationEvaluator(),\n",
    "                          numFolds=5) "
   ]
  },
  {
   "cell_type": "code",
   "execution_count": 76,
   "metadata": {},
   "outputs": [],
   "source": [
    "cvModel = crossval.fit(df1)"
   ]
  },
  {
   "cell_type": "code",
   "execution_count": 77,
   "metadata": {},
   "outputs": [
    {
     "data": {
      "text/plain": [
       "pyspark.ml.tuning.CrossValidatorModel"
      ]
     },
     "execution_count": 77,
     "metadata": {},
     "output_type": "execute_result"
    }
   ],
   "source": [
    "type(cvModel)"
   ]
  },
  {
   "cell_type": "code",
   "execution_count": 78,
   "metadata": {},
   "outputs": [
    {
     "data": {
      "text/plain": [
       "[Param(parent='CrossValidatorModel_fb925bf2b501', name='estimator', doc='estimator to be cross-validated'),\n",
       " Param(parent='CrossValidatorModel_fb925bf2b501', name='estimatorParamMaps', doc='estimator param maps'),\n",
       " Param(parent='CrossValidatorModel_fb925bf2b501', name='evaluator', doc='evaluator used to select hyper-parameters that maximize the validator metric'),\n",
       " Param(parent='CrossValidatorModel_fb925bf2b501', name='seed', doc='random seed.')]"
      ]
     },
     "execution_count": 78,
     "metadata": {},
     "output_type": "execute_result"
    }
   ],
   "source": [
    "cvModel.params"
   ]
  },
  {
   "cell_type": "code",
   "execution_count": 79,
   "metadata": {},
   "outputs": [],
   "source": [
    "bestModel = cvModel.bestModel"
   ]
  },
  {
   "cell_type": "code",
   "execution_count": 80,
   "metadata": {},
   "outputs": [
    {
     "data": {
      "text/plain": [
       "0.6692156342748101"
      ]
     },
     "execution_count": 80,
     "metadata": {},
     "output_type": "execute_result"
    }
   ],
   "source": [
    "evaluator.evaluate(bestModel.transform(df1))"
   ]
  },
  {
   "cell_type": "code",
   "execution_count": 81,
   "metadata": {},
   "outputs": [
    {
     "data": {
      "text/plain": [
       "0.6692156342748186"
      ]
     },
     "execution_count": 81,
     "metadata": {},
     "output_type": "execute_result"
    }
   ],
   "source": [
    "evaluator.evaluate(cvModel.transform(df1))"
   ]
  },
  {
   "cell_type": "code",
   "execution_count": 61,
   "metadata": {},
   "outputs": [],
   "source": [
    "spark.stop()"
   ]
  },
  {
   "cell_type": "code",
   "execution_count": null,
   "metadata": {},
   "outputs": [],
   "source": []
  }
 ],
 "metadata": {
  "kernelspec": {
   "display_name": "venvspark",
   "language": "python",
   "name": "venvspark"
  },
  "language_info": {
   "codemirror_mode": {
    "name": "ipython",
    "version": 3
   },
   "file_extension": ".py",
   "mimetype": "text/x-python",
   "name": "python",
   "nbconvert_exporter": "python",
   "pygments_lexer": "ipython3",
   "version": "3.6.8"
  }
 },
 "nbformat": 4,
 "nbformat_minor": 2
}
