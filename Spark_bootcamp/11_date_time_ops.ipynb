{
 "cells": [
  {
   "cell_type": "code",
   "execution_count": 2,
   "metadata": {},
   "outputs": [],
   "source": [
    "import findspark"
   ]
  },
  {
   "cell_type": "code",
   "execution_count": 3,
   "metadata": {},
   "outputs": [],
   "source": [
    "# /opt/manual/spark: this is SPARK_HOME path\n",
    "findspark.init(\"/opt/manual/spark\")"
   ]
  },
  {
   "cell_type": "code",
   "execution_count": 4,
   "metadata": {},
   "outputs": [],
   "source": [
    "from pyspark.sql import SparkSession, functions as F"
   ]
  },
  {
   "cell_type": "code",
   "execution_count": 5,
   "metadata": {},
   "outputs": [],
   "source": [
    "spark = SparkSession.builder \\\n",
    ".appName(\"Rename, Add, Drop\") \\\n",
    ".master(\"local[2]\") \\\n",
    ".getOrCreate()"
   ]
  },
  {
   "cell_type": "code",
   "execution_count": 6,
   "metadata": {},
   "outputs": [],
   "source": [
    "# Data source: https://data.sfgov.org/Public-Safety/Fire-Incidents/wr8u-xric/data"
   ]
  },
  {
   "cell_type": "code",
   "execution_count": 7,
   "metadata": {},
   "outputs": [],
   "source": [
    "# ! wget -P ~/datasets \\\n",
    "# https://github.com/erkansirin78/datasets/raw/master/Fire_Incidents.csv.gz"
   ]
  },
  {
   "cell_type": "code",
   "execution_count": 8,
   "metadata": {},
   "outputs": [
    {
     "name": "stdout",
     "output_type": "stream",
     "text": [
      "-rw-rw-r--. 1 train train  41002480 Oct  6 12:18 Fire_Incidents.csv.gz\r\n"
     ]
    }
   ],
   "source": [
    "! ls -l ~/datasets | grep Fire"
   ]
  },
  {
   "cell_type": "code",
   "execution_count": 9,
   "metadata": {},
   "outputs": [],
   "source": [
    "df = spark.read.option(\"header\", True) \\\n",
    ".option(\"inferSchema\", True) \\\n",
    ".option(\"header\", True) \\\n",
    ".option(\"compression\",\"gzip\") \\\n",
    ".csv(\"file:///home/train/datasets/Fire_Incidents.csv.gz\")"
   ]
  },
  {
   "cell_type": "code",
   "execution_count": 10,
   "metadata": {},
   "outputs": [
    {
     "data": {
      "text/plain": [
       "533598"
      ]
     },
     "execution_count": 10,
     "metadata": {},
     "output_type": "execute_result"
    }
   ],
   "source": [
    "df.count()"
   ]
  },
  {
   "cell_type": "code",
   "execution_count": 11,
   "metadata": {},
   "outputs": [
    {
     "data": {
      "text/plain": [
       "80"
      ]
     },
     "execution_count": 11,
     "metadata": {},
     "output_type": "execute_result"
    }
   ],
   "source": [
    "len(df.columns)"
   ]
  },
  {
   "cell_type": "code",
   "execution_count": 12,
   "metadata": {},
   "outputs": [
    {
     "data": {
      "text/html": [
       "<div>\n",
       "<style scoped>\n",
       "    .dataframe tbody tr th:only-of-type {\n",
       "        vertical-align: middle;\n",
       "    }\n",
       "\n",
       "    .dataframe tbody tr th {\n",
       "        vertical-align: top;\n",
       "    }\n",
       "\n",
       "    .dataframe thead th {\n",
       "        text-align: right;\n",
       "    }\n",
       "</style>\n",
       "<table border=\"1\" class=\"dataframe\">\n",
       "  <thead>\n",
       "    <tr style=\"text-align: right;\">\n",
       "      <th></th>\n",
       "      <th>Action Taken Primary</th>\n",
       "      <th>Action Taken Secondary</th>\n",
       "      <th>Action Taken Other</th>\n",
       "      <th>Detector Alerted Occupants</th>\n",
       "      <th>Property Use</th>\n",
       "      <th>Area of Fire Origin</th>\n",
       "      <th>Ignition Cause</th>\n",
       "      <th>Ignition Factor Primary</th>\n",
       "      <th>Ignition Factor Secondary</th>\n",
       "      <th>Heat Source</th>\n",
       "      <th>...</th>\n",
       "      <th>2017 Fix It Zones</th>\n",
       "      <th>HSOC Zones</th>\n",
       "      <th>Central Market/Tenderloin Boundary</th>\n",
       "      <th>Central Market/Tenderloin Boundary Polygon - Updated</th>\n",
       "      <th>HSOC Zones as of 2018-06-05</th>\n",
       "      <th>Neighborhoods</th>\n",
       "      <th>SF Find Neighborhoods</th>\n",
       "      <th>Current Police Districts</th>\n",
       "      <th>Current Supervisor Districts</th>\n",
       "      <th>Analysis Neighborhoods</th>\n",
       "    </tr>\n",
       "  </thead>\n",
       "  <tbody>\n",
       "    <tr>\n",
       "      <th>0</th>\n",
       "      <td>86 investigate</td>\n",
       "      <td>None</td>\n",
       "      <td>None</td>\n",
       "      <td>None</td>\n",
       "      <td>000 property use, other</td>\n",
       "      <td>None</td>\n",
       "      <td>None</td>\n",
       "      <td>None</td>\n",
       "      <td>None</td>\n",
       "      <td>None</td>\n",
       "      <td>...</td>\n",
       "      <td>NaN</td>\n",
       "      <td>NaN</td>\n",
       "      <td>NaN</td>\n",
       "      <td>NaN</td>\n",
       "      <td>NaN</td>\n",
       "      <td>NaN</td>\n",
       "      <td>NaN</td>\n",
       "      <td>NaN</td>\n",
       "      <td>NaN</td>\n",
       "      <td>NaN</td>\n",
       "    </tr>\n",
       "    <tr>\n",
       "      <th>1</th>\n",
       "      <td>00 action taken, other</td>\n",
       "      <td>None</td>\n",
       "      <td>None</td>\n",
       "      <td>None</td>\n",
       "      <td>nnn none</td>\n",
       "      <td>None</td>\n",
       "      <td>None</td>\n",
       "      <td>None</td>\n",
       "      <td>None</td>\n",
       "      <td>None</td>\n",
       "      <td>...</td>\n",
       "      <td>NaN</td>\n",
       "      <td>NaN</td>\n",
       "      <td>NaN</td>\n",
       "      <td>NaN</td>\n",
       "      <td>NaN</td>\n",
       "      <td>NaN</td>\n",
       "      <td>NaN</td>\n",
       "      <td>NaN</td>\n",
       "      <td>NaN</td>\n",
       "      <td>NaN</td>\n",
       "    </tr>\n",
       "    <tr>\n",
       "      <th>2</th>\n",
       "      <td>86 investigate</td>\n",
       "      <td>None</td>\n",
       "      <td>None</td>\n",
       "      <td>None</td>\n",
       "      <td>960 street, other</td>\n",
       "      <td>None</td>\n",
       "      <td>None</td>\n",
       "      <td>None</td>\n",
       "      <td>None</td>\n",
       "      <td>None</td>\n",
       "      <td>...</td>\n",
       "      <td>NaN</td>\n",
       "      <td>NaN</td>\n",
       "      <td>NaN</td>\n",
       "      <td>NaN</td>\n",
       "      <td>NaN</td>\n",
       "      <td>NaN</td>\n",
       "      <td>NaN</td>\n",
       "      <td>NaN</td>\n",
       "      <td>NaN</td>\n",
       "      <td>NaN</td>\n",
       "    </tr>\n",
       "    <tr>\n",
       "      <th>3</th>\n",
       "      <td>92 - standby</td>\n",
       "      <td>-</td>\n",
       "      <td>-</td>\n",
       "      <td>-</td>\n",
       "      <td>963 - street or road in commercial area</td>\n",
       "      <td>None</td>\n",
       "      <td>None</td>\n",
       "      <td>None</td>\n",
       "      <td>None</td>\n",
       "      <td>None</td>\n",
       "      <td>...</td>\n",
       "      <td>NaN</td>\n",
       "      <td>NaN</td>\n",
       "      <td>NaN</td>\n",
       "      <td>NaN</td>\n",
       "      <td>NaN</td>\n",
       "      <td>NaN</td>\n",
       "      <td>NaN</td>\n",
       "      <td>NaN</td>\n",
       "      <td>NaN</td>\n",
       "      <td>NaN</td>\n",
       "    </tr>\n",
       "    <tr>\n",
       "      <th>4</th>\n",
       "      <td>86 investigate</td>\n",
       "      <td>None</td>\n",
       "      <td>None</td>\n",
       "      <td>None</td>\n",
       "      <td>000 property use, other</td>\n",
       "      <td>None</td>\n",
       "      <td>None</td>\n",
       "      <td>None</td>\n",
       "      <td>None</td>\n",
       "      <td>None</td>\n",
       "      <td>...</td>\n",
       "      <td>NaN</td>\n",
       "      <td>NaN</td>\n",
       "      <td>NaN</td>\n",
       "      <td>NaN</td>\n",
       "      <td>NaN</td>\n",
       "      <td>NaN</td>\n",
       "      <td>NaN</td>\n",
       "      <td>NaN</td>\n",
       "      <td>NaN</td>\n",
       "      <td>NaN</td>\n",
       "    </tr>\n",
       "  </tbody>\n",
       "</table>\n",
       "<p>5 rows × 50 columns</p>\n",
       "</div>"
      ],
      "text/plain": [
       "     Action Taken Primary Action Taken Secondary Action Taken Other  \\\n",
       "0          86 investigate                   None               None   \n",
       "1  00 action taken, other                   None               None   \n",
       "2          86 investigate                   None               None   \n",
       "3            92 - standby                      -                  -   \n",
       "4          86 investigate                   None               None   \n",
       "\n",
       "  Detector Alerted Occupants                             Property Use  \\\n",
       "0                       None                  000 property use, other   \n",
       "1                       None                                 nnn none   \n",
       "2                       None                        960 street, other   \n",
       "3                          -  963 - street or road in commercial area   \n",
       "4                       None                  000 property use, other   \n",
       "\n",
       "  Area of Fire Origin Ignition Cause Ignition Factor Primary  \\\n",
       "0                None           None                    None   \n",
       "1                None           None                    None   \n",
       "2                None           None                    None   \n",
       "3                None           None                    None   \n",
       "4                None           None                    None   \n",
       "\n",
       "  Ignition Factor Secondary Heat Source  ... 2017 Fix It Zones HSOC Zones  \\\n",
       "0                      None        None  ...               NaN        NaN   \n",
       "1                      None        None  ...               NaN        NaN   \n",
       "2                      None        None  ...               NaN        NaN   \n",
       "3                      None        None  ...               NaN        NaN   \n",
       "4                      None        None  ...               NaN        NaN   \n",
       "\n",
       "  Central Market/Tenderloin Boundary  \\\n",
       "0                                NaN   \n",
       "1                                NaN   \n",
       "2                                NaN   \n",
       "3                                NaN   \n",
       "4                                NaN   \n",
       "\n",
       "  Central Market/Tenderloin Boundary Polygon - Updated  \\\n",
       "0                                                NaN     \n",
       "1                                                NaN     \n",
       "2                                                NaN     \n",
       "3                                                NaN     \n",
       "4                                                NaN     \n",
       "\n",
       "   HSOC Zones as of 2018-06-05 Neighborhoods SF Find Neighborhoods  \\\n",
       "0                          NaN           NaN                   NaN   \n",
       "1                          NaN           NaN                   NaN   \n",
       "2                          NaN           NaN                   NaN   \n",
       "3                          NaN           NaN                   NaN   \n",
       "4                          NaN           NaN                   NaN   \n",
       "\n",
       "   Current Police Districts  Current Supervisor Districts  \\\n",
       "0                       NaN                           NaN   \n",
       "1                       NaN                           NaN   \n",
       "2                       NaN                           NaN   \n",
       "3                       NaN                           NaN   \n",
       "4                       NaN                           NaN   \n",
       "\n",
       "   Analysis Neighborhoods  \n",
       "0                     NaN  \n",
       "1                     NaN  \n",
       "2                     NaN  \n",
       "3                     NaN  \n",
       "4                     NaN  \n",
       "\n",
       "[5 rows x 50 columns]"
      ]
     },
     "execution_count": 12,
     "metadata": {},
     "output_type": "execute_result"
    }
   ],
   "source": [
    "# Since there are many columns just pick a few of them\n",
    "\n",
    "df.select(df.columns[30:]).limit(5).toPandas()"
   ]
  },
  {
   "cell_type": "code",
   "execution_count": 13,
   "metadata": {},
   "outputs": [],
   "source": [
    "# time related columns\n",
    "\n",
    "ts_cols = ['Incident Date','Alarm DtTm','Arrival DtTm','Close DtTm']"
   ]
  },
  {
   "cell_type": "code",
   "execution_count": 14,
   "metadata": {},
   "outputs": [
    {
     "name": "stdout",
     "output_type": "stream",
     "text": [
      "root\n",
      " |-- Incident Number: integer (nullable = true)\n",
      " |-- Exposure Number: integer (nullable = true)\n",
      " |-- ID: integer (nullable = true)\n",
      " |-- Address: string (nullable = true)\n",
      " |-- Incident Date: string (nullable = true)\n",
      " |-- Call Number: integer (nullable = true)\n",
      " |-- Alarm DtTm: string (nullable = true)\n",
      " |-- Arrival DtTm: string (nullable = true)\n",
      " |-- Close DtTm: string (nullable = true)\n",
      " |-- City: string (nullable = true)\n",
      " |-- ZIP Code: string (nullable = true)\n",
      " |-- Battalion: string (nullable = true)\n",
      " |-- Station Area: string (nullable = true)\n",
      " |-- Box: string (nullable = true)\n",
      " |-- Suppression Units: integer (nullable = true)\n",
      " |-- Suppression Personnel: integer (nullable = true)\n",
      " |-- EMS Units: integer (nullable = true)\n",
      " |-- EMS Personnel: integer (nullable = true)\n",
      " |-- Other Units: integer (nullable = true)\n",
      " |-- Other Personnel: integer (nullable = true)\n",
      " |-- First Unit On Scene: string (nullable = true)\n",
      " |-- Estimated Property Loss: integer (nullable = true)\n",
      " |-- Estimated Contents Loss: double (nullable = true)\n",
      " |-- Fire Fatalities: integer (nullable = true)\n",
      " |-- Fire Injuries: integer (nullable = true)\n",
      " |-- Civilian Fatalities: integer (nullable = true)\n",
      " |-- Civilian Injuries: integer (nullable = true)\n",
      " |-- Number of Alarms: integer (nullable = true)\n",
      " |-- Primary Situation: string (nullable = true)\n",
      " |-- Mutual Aid: string (nullable = true)\n",
      " |-- Action Taken Primary: string (nullable = true)\n",
      " |-- Action Taken Secondary: string (nullable = true)\n",
      " |-- Action Taken Other: string (nullable = true)\n",
      " |-- Detector Alerted Occupants: string (nullable = true)\n",
      " |-- Property Use: string (nullable = true)\n",
      " |-- Area of Fire Origin: string (nullable = true)\n",
      " |-- Ignition Cause: string (nullable = true)\n",
      " |-- Ignition Factor Primary: string (nullable = true)\n",
      " |-- Ignition Factor Secondary: string (nullable = true)\n",
      " |-- Heat Source: string (nullable = true)\n",
      " |-- Item First Ignited: string (nullable = true)\n",
      " |-- Human Factors Associated with Ignition: string (nullable = true)\n",
      " |-- Structure Type: string (nullable = true)\n",
      " |-- Structure Status: string (nullable = true)\n",
      " |-- Floor of Fire Origin: integer (nullable = true)\n",
      " |-- Fire Spread: string (nullable = true)\n",
      " |-- No Flame Spead: string (nullable = true)\n",
      " |-- Number of floors with minimum damage: integer (nullable = true)\n",
      " |-- Number of floors with significant damage: integer (nullable = true)\n",
      " |-- Number of floors with heavy damage: integer (nullable = true)\n",
      " |-- Number of floors with extreme damage: integer (nullable = true)\n",
      " |-- Detectors Present: string (nullable = true)\n",
      " |-- Detector Type: string (nullable = true)\n",
      " |-- Detector Operation: string (nullable = true)\n",
      " |-- Detector Effectiveness: string (nullable = true)\n",
      " |-- Detector Failure Reason: string (nullable = true)\n",
      " |-- Automatic Extinguishing System Present: string (nullable = true)\n",
      " |-- Automatic Extinguishing Sytem Type: string (nullable = true)\n",
      " |-- Automatic Extinguishing Sytem Perfomance: string (nullable = true)\n",
      " |-- Automatic Extinguishing Sytem Failure Reason: string (nullable = true)\n",
      " |-- Number of Sprinkler Heads Operating: integer (nullable = true)\n",
      " |-- Supervisor District: integer (nullable = true)\n",
      " |-- Analysis Neighborhood: string (nullable = true)\n",
      " |-- point: string (nullable = true)\n",
      " |-- Neighborhoods (old): integer (nullable = true)\n",
      " |-- Zip Codes: integer (nullable = true)\n",
      " |-- Fire Prevention Districts: integer (nullable = true)\n",
      " |-- Police Districts: integer (nullable = true)\n",
      " |-- Supervisor Districts: integer (nullable = true)\n",
      " |-- Civic Center Harm Reduction Project Boundary: integer (nullable = true)\n",
      " |-- 2017 Fix It Zones: integer (nullable = true)\n",
      " |-- HSOC Zones: integer (nullable = true)\n",
      " |-- Central Market/Tenderloin Boundary: integer (nullable = true)\n",
      " |-- Central Market/Tenderloin Boundary Polygon - Updated: integer (nullable = true)\n",
      " |-- HSOC Zones as of 2018-06-05: integer (nullable = true)\n",
      " |-- Neighborhoods: integer (nullable = true)\n",
      " |-- SF Find Neighborhoods: integer (nullable = true)\n",
      " |-- Current Police Districts: integer (nullable = true)\n",
      " |-- Current Supervisor Districts: integer (nullable = true)\n",
      " |-- Analysis Neighborhoods: integer (nullable = true)\n",
      "\n"
     ]
    }
   ],
   "source": [
    "df.printSchema()"
   ]
  },
  {
   "cell_type": "code",
   "execution_count": 15,
   "metadata": {},
   "outputs": [],
   "source": [
    "# Create new dataframe which includes only date time columns\n",
    "\n",
    "df2 = df.select(ts_cols)"
   ]
  },
  {
   "cell_type": "code",
   "execution_count": 16,
   "metadata": {},
   "outputs": [
    {
     "data": {
      "text/plain": [
       "[('Incident Date', 'string'),\n",
       " ('Alarm DtTm', 'string'),\n",
       " ('Arrival DtTm', 'string'),\n",
       " ('Close DtTm', 'string')]"
      ]
     },
     "execution_count": 16,
     "metadata": {},
     "output_type": "execute_result"
    }
   ],
   "source": [
    "df2.dtypes"
   ]
  },
  {
   "cell_type": "markdown",
   "metadata": {},
   "source": [
    "<h1 style=\"color:blue;\">From String to Date Time Conversion</h1>"
   ]
  },
  {
   "cell_type": "markdown",
   "metadata": {},
   "source": [
    "# Date and Time Operations - to_timestamp"
   ]
  },
  {
   "cell_type": "code",
   "execution_count": 19,
   "metadata": {},
   "outputs": [],
   "source": [
    "# When spark reads text or csv schema it accepts every column as string type.\n",
    "# When we tell spark to inferSchema it takes sample and infers datatype.\n",
    "# Most of time it infers as we expected but in case date and time things get complicated due to datetime formats\n",
    "# If datetime format is out of standard spark considers it as string\n",
    "# Therefore most of the strugle is just convert string into datetime types\n",
    "# To convert properly you have to define existing format according to this:\n",
    "# https://spark.apache.org/docs/latest/sql-ref-datetime-pattern.html\n",
    "# Otherwise your conversion results in None or null\n",
    "\n",
    "\n",
    "# In our practice dataset;\n",
    "# ('Incident Date', 'string'),\n",
    "# ('Alarm DtTm', 'string'),\n",
    "# ('Arrival DtTm', 'string'),\n",
    "# ('Close DtTm', 'string'),\n",
    "# These columns ts but spark inferred them as string due out of standard ts format\n",
    "# We have to handle manually and modify schema by casting/converting them into ts type"
   ]
  },
  {
   "cell_type": "code",
   "execution_count": 17,
   "metadata": {},
   "outputs": [
    {
     "data": {
      "text/html": [
       "<div>\n",
       "<style scoped>\n",
       "    .dataframe tbody tr th:only-of-type {\n",
       "        vertical-align: middle;\n",
       "    }\n",
       "\n",
       "    .dataframe tbody tr th {\n",
       "        vertical-align: top;\n",
       "    }\n",
       "\n",
       "    .dataframe thead th {\n",
       "        text-align: right;\n",
       "    }\n",
       "</style>\n",
       "<table border=\"1\" class=\"dataframe\">\n",
       "  <thead>\n",
       "    <tr style=\"text-align: right;\">\n",
       "      <th></th>\n",
       "      <th>Incident Date</th>\n",
       "      <th>Alarm DtTm</th>\n",
       "      <th>Arrival DtTm</th>\n",
       "      <th>Close DtTm</th>\n",
       "    </tr>\n",
       "  </thead>\n",
       "  <tbody>\n",
       "    <tr>\n",
       "      <th>0</th>\n",
       "      <td>06/05/2018</td>\n",
       "      <td>06/05/2018 06:38:01 PM</td>\n",
       "      <td>06/05/2018 06:41:59 PM</td>\n",
       "      <td>06/05/2018 06:42:12 PM</td>\n",
       "    </tr>\n",
       "    <tr>\n",
       "      <th>1</th>\n",
       "      <td>08/29/2019</td>\n",
       "      <td>08/29/2019 08:09:25 PM</td>\n",
       "      <td>08/29/2019 08:11:54 PM</td>\n",
       "      <td>08/29/2019 08:12:24 PM</td>\n",
       "    </tr>\n",
       "    <tr>\n",
       "      <th>2</th>\n",
       "      <td>06/14/2018</td>\n",
       "      <td>06/14/2018 08:37:56 PM</td>\n",
       "      <td>06/14/2018 08:40:37 PM</td>\n",
       "      <td>06/14/2018 08:40:52 PM</td>\n",
       "    </tr>\n",
       "    <tr>\n",
       "      <th>3</th>\n",
       "      <td>12/30/2005</td>\n",
       "      <td>12/30/2005 10:40:27 PM</td>\n",
       "      <td>12/30/2005 10:46:33 PM</td>\n",
       "      <td>12/30/2005 11:37:23 PM</td>\n",
       "    </tr>\n",
       "    <tr>\n",
       "      <th>4</th>\n",
       "      <td>09/13/2018</td>\n",
       "      <td>09/13/2018 08:30:38 PM</td>\n",
       "      <td>09/13/2018 08:34:11 PM</td>\n",
       "      <td>09/13/2018 08:34:29 PM</td>\n",
       "    </tr>\n",
       "  </tbody>\n",
       "</table>\n",
       "</div>"
      ],
      "text/plain": [
       "  Incident Date              Alarm DtTm            Arrival DtTm  \\\n",
       "0    06/05/2018  06/05/2018 06:38:01 PM  06/05/2018 06:41:59 PM   \n",
       "1    08/29/2019  08/29/2019 08:09:25 PM  08/29/2019 08:11:54 PM   \n",
       "2    06/14/2018  06/14/2018 08:37:56 PM  06/14/2018 08:40:37 PM   \n",
       "3    12/30/2005  12/30/2005 10:40:27 PM  12/30/2005 10:46:33 PM   \n",
       "4    09/13/2018  09/13/2018 08:30:38 PM  09/13/2018 08:34:11 PM   \n",
       "\n",
       "               Close DtTm  \n",
       "0  06/05/2018 06:42:12 PM  \n",
       "1  08/29/2019 08:12:24 PM  \n",
       "2  06/14/2018 08:40:52 PM  \n",
       "3  12/30/2005 11:37:23 PM  \n",
       "4  09/13/2018 08:34:29 PM  "
      ]
     },
     "execution_count": 17,
     "metadata": {},
     "output_type": "execute_result"
    }
   ],
   "source": [
    "df2.limit(5).toPandas()"
   ]
  },
  {
   "cell_type": "markdown",
   "metadata": {},
   "source": [
    "## Wrong definition of format"
   ]
  },
  {
   "cell_type": "code",
   "execution_count": 18,
   "metadata": {},
   "outputs": [
    {
     "data": {
      "text/html": [
       "<div>\n",
       "<style scoped>\n",
       "    .dataframe tbody tr th:only-of-type {\n",
       "        vertical-align: middle;\n",
       "    }\n",
       "\n",
       "    .dataframe tbody tr th {\n",
       "        vertical-align: top;\n",
       "    }\n",
       "\n",
       "    .dataframe thead th {\n",
       "        text-align: right;\n",
       "    }\n",
       "</style>\n",
       "<table border=\"1\" class=\"dataframe\">\n",
       "  <thead>\n",
       "    <tr style=\"text-align: right;\">\n",
       "      <th></th>\n",
       "      <th>Incident Date</th>\n",
       "      <th>Alarm DtTm</th>\n",
       "      <th>Arrival DtTm</th>\n",
       "      <th>Close DtTm</th>\n",
       "      <th>Alarm_DtTm</th>\n",
       "    </tr>\n",
       "  </thead>\n",
       "  <tbody>\n",
       "    <tr>\n",
       "      <th>0</th>\n",
       "      <td>06/05/2018</td>\n",
       "      <td>06/05/2018 06:38:01 PM</td>\n",
       "      <td>06/05/2018 06:41:59 PM</td>\n",
       "      <td>06/05/2018 06:42:12 PM</td>\n",
       "      <td>NaT</td>\n",
       "    </tr>\n",
       "    <tr>\n",
       "      <th>1</th>\n",
       "      <td>08/29/2019</td>\n",
       "      <td>08/29/2019 08:09:25 PM</td>\n",
       "      <td>08/29/2019 08:11:54 PM</td>\n",
       "      <td>08/29/2019 08:12:24 PM</td>\n",
       "      <td>NaT</td>\n",
       "    </tr>\n",
       "  </tbody>\n",
       "</table>\n",
       "</div>"
      ],
      "text/plain": [
       "  Incident Date              Alarm DtTm            Arrival DtTm  \\\n",
       "0    06/05/2018  06/05/2018 06:38:01 PM  06/05/2018 06:41:59 PM   \n",
       "1    08/29/2019  08/29/2019 08:09:25 PM  08/29/2019 08:11:54 PM   \n",
       "\n",
       "               Close DtTm Alarm_DtTm  \n",
       "0  06/05/2018 06:42:12 PM        NaT  \n",
       "1  08/29/2019 08:12:24 PM        NaT  "
      ]
     },
     "execution_count": 18,
     "metadata": {},
     "output_type": "execute_result"
    }
   ],
   "source": [
    "df3 = df2.withColumn(\"Alarm_DtTm\", \n",
    "                     F.to_timestamp(F.col(\"Alarm DtTm\"), 'MM/dd/yyyy HH:mm:ss a'))\n",
    "df3.limit(2).toPandas()"
   ]
  },
  {
   "cell_type": "code",
   "execution_count": 21,
   "metadata": {},
   "outputs": [],
   "source": [
    "# Time is AM-PM not 24 hour so the hour should be hh not HH\n",
    "# As you see even slight mistake results in None"
   ]
  },
  {
   "cell_type": "markdown",
   "metadata": {},
   "source": [
    "## Correct definition of format"
   ]
  },
  {
   "cell_type": "code",
   "execution_count": 19,
   "metadata": {},
   "outputs": [],
   "source": [
    "\n",
    "df3 = df2.withColumn(\"Alarm_DtTm\", \n",
    "                     F.to_timestamp(F.col(\"Alarm DtTm\"), 'MM/dd/yyyy hh:mm:ss a'))"
   ]
  },
  {
   "cell_type": "code",
   "execution_count": 20,
   "metadata": {},
   "outputs": [
    {
     "data": {
      "text/html": [
       "<div>\n",
       "<style scoped>\n",
       "    .dataframe tbody tr th:only-of-type {\n",
       "        vertical-align: middle;\n",
       "    }\n",
       "\n",
       "    .dataframe tbody tr th {\n",
       "        vertical-align: top;\n",
       "    }\n",
       "\n",
       "    .dataframe thead th {\n",
       "        text-align: right;\n",
       "    }\n",
       "</style>\n",
       "<table border=\"1\" class=\"dataframe\">\n",
       "  <thead>\n",
       "    <tr style=\"text-align: right;\">\n",
       "      <th></th>\n",
       "      <th>Incident Date</th>\n",
       "      <th>Alarm DtTm</th>\n",
       "      <th>Arrival DtTm</th>\n",
       "      <th>Close DtTm</th>\n",
       "      <th>Alarm_DtTm</th>\n",
       "    </tr>\n",
       "  </thead>\n",
       "  <tbody>\n",
       "    <tr>\n",
       "      <th>0</th>\n",
       "      <td>06/05/2018</td>\n",
       "      <td>06/05/2018 06:38:01 PM</td>\n",
       "      <td>06/05/2018 06:41:59 PM</td>\n",
       "      <td>06/05/2018 06:42:12 PM</td>\n",
       "      <td>2018-06-05 18:38:01</td>\n",
       "    </tr>\n",
       "    <tr>\n",
       "      <th>1</th>\n",
       "      <td>08/29/2019</td>\n",
       "      <td>08/29/2019 08:09:25 PM</td>\n",
       "      <td>08/29/2019 08:11:54 PM</td>\n",
       "      <td>08/29/2019 08:12:24 PM</td>\n",
       "      <td>2019-08-29 20:09:25</td>\n",
       "    </tr>\n",
       "  </tbody>\n",
       "</table>\n",
       "</div>"
      ],
      "text/plain": [
       "  Incident Date              Alarm DtTm            Arrival DtTm  \\\n",
       "0    06/05/2018  06/05/2018 06:38:01 PM  06/05/2018 06:41:59 PM   \n",
       "1    08/29/2019  08/29/2019 08:09:25 PM  08/29/2019 08:11:54 PM   \n",
       "\n",
       "               Close DtTm          Alarm_DtTm  \n",
       "0  06/05/2018 06:42:12 PM 2018-06-05 18:38:01  \n",
       "1  08/29/2019 08:12:24 PM 2019-08-29 20:09:25  "
      ]
     },
     "execution_count": 20,
     "metadata": {},
     "output_type": "execute_result"
    }
   ],
   "source": [
    "df3.limit(2).toPandas()"
   ]
  },
  {
   "cell_type": "code",
   "execution_count": 21,
   "metadata": {},
   "outputs": [
    {
     "name": "stdout",
     "output_type": "stream",
     "text": [
      "root\n",
      " |-- Incident Date: string (nullable = true)\n",
      " |-- Alarm DtTm: string (nullable = true)\n",
      " |-- Arrival DtTm: string (nullable = true)\n",
      " |-- Close DtTm: string (nullable = true)\n",
      " |-- Alarm_DtTm: timestamp (nullable = true)\n",
      "\n"
     ]
    }
   ],
   "source": [
    "df3.printSchema()"
   ]
  },
  {
   "cell_type": "markdown",
   "metadata": {},
   "source": [
    "# Date and Time Operations - unix_timestamp and from_unixtime "
   ]
  },
  {
   "cell_type": "code",
   "execution_count": 23,
   "metadata": {},
   "outputs": [
    {
     "data": {
      "text/html": [
       "<div>\n",
       "<style scoped>\n",
       "    .dataframe tbody tr th:only-of-type {\n",
       "        vertical-align: middle;\n",
       "    }\n",
       "\n",
       "    .dataframe tbody tr th {\n",
       "        vertical-align: top;\n",
       "    }\n",
       "\n",
       "    .dataframe thead th {\n",
       "        text-align: right;\n",
       "    }\n",
       "</style>\n",
       "<table border=\"1\" class=\"dataframe\">\n",
       "  <thead>\n",
       "    <tr style=\"text-align: right;\">\n",
       "      <th></th>\n",
       "      <th>Incident Date</th>\n",
       "      <th>Alarm DtTm</th>\n",
       "      <th>Arrival DtTm</th>\n",
       "      <th>Close DtTm</th>\n",
       "      <th>Alarm_DtTm</th>\n",
       "    </tr>\n",
       "  </thead>\n",
       "  <tbody>\n",
       "    <tr>\n",
       "      <th>0</th>\n",
       "      <td>06/05/2018</td>\n",
       "      <td>06/05/2018 06:38:01 PM</td>\n",
       "      <td>06/05/2018 06:41:59 PM</td>\n",
       "      <td>06/05/2018 06:42:12 PM</td>\n",
       "      <td>1528213081</td>\n",
       "    </tr>\n",
       "    <tr>\n",
       "      <th>1</th>\n",
       "      <td>08/29/2019</td>\n",
       "      <td>08/29/2019 08:09:25 PM</td>\n",
       "      <td>08/29/2019 08:11:54 PM</td>\n",
       "      <td>08/29/2019 08:12:24 PM</td>\n",
       "      <td>1567098565</td>\n",
       "    </tr>\n",
       "    <tr>\n",
       "      <th>2</th>\n",
       "      <td>06/14/2018</td>\n",
       "      <td>06/14/2018 08:37:56 PM</td>\n",
       "      <td>06/14/2018 08:40:37 PM</td>\n",
       "      <td>06/14/2018 08:40:52 PM</td>\n",
       "      <td>1528997876</td>\n",
       "    </tr>\n",
       "  </tbody>\n",
       "</table>\n",
       "</div>"
      ],
      "text/plain": [
       "  Incident Date              Alarm DtTm            Arrival DtTm  \\\n",
       "0    06/05/2018  06/05/2018 06:38:01 PM  06/05/2018 06:41:59 PM   \n",
       "1    08/29/2019  08/29/2019 08:09:25 PM  08/29/2019 08:11:54 PM   \n",
       "2    06/14/2018  06/14/2018 08:37:56 PM  06/14/2018 08:40:37 PM   \n",
       "\n",
       "               Close DtTm  Alarm_DtTm  \n",
       "0  06/05/2018 06:42:12 PM  1528213081  \n",
       "1  08/29/2019 08:12:24 PM  1567098565  \n",
       "2  06/14/2018 08:40:52 PM  1528997876  "
      ]
     },
     "execution_count": 23,
     "metadata": {},
     "output_type": "execute_result"
    }
   ],
   "source": [
    "df3 = df2.withColumn(\"Alarm_DtTm\", \n",
    "                     F.unix_timestamp(F.col(\"Alarm DtTm\"), 'MM/dd/yyyy hh:mm:ss a'))\n",
    "df3.limit(3).toPandas()"
   ]
  },
  {
   "cell_type": "code",
   "execution_count": 24,
   "metadata": {},
   "outputs": [
    {
     "name": "stdout",
     "output_type": "stream",
     "text": [
      "root\n",
      " |-- Incident Date: string (nullable = true)\n",
      " |-- Alarm DtTm: string (nullable = true)\n",
      " |-- Arrival DtTm: string (nullable = true)\n",
      " |-- Close DtTm: string (nullable = true)\n",
      " |-- Alarm_DtTm: long (nullable = true)\n",
      "\n"
     ]
    }
   ],
   "source": [
    "df3.printSchema()"
   ]
  },
  {
   "cell_type": "code",
   "execution_count": 27,
   "metadata": {},
   "outputs": [
    {
     "data": {
      "text/html": [
       "<div>\n",
       "<style scoped>\n",
       "    .dataframe tbody tr th:only-of-type {\n",
       "        vertical-align: middle;\n",
       "    }\n",
       "\n",
       "    .dataframe tbody tr th {\n",
       "        vertical-align: top;\n",
       "    }\n",
       "\n",
       "    .dataframe thead th {\n",
       "        text-align: right;\n",
       "    }\n",
       "</style>\n",
       "<table border=\"1\" class=\"dataframe\">\n",
       "  <thead>\n",
       "    <tr style=\"text-align: right;\">\n",
       "      <th></th>\n",
       "      <th>Incident Date</th>\n",
       "      <th>Alarm DtTm</th>\n",
       "      <th>Arrival DtTm</th>\n",
       "      <th>Close DtTm</th>\n",
       "      <th>Alarm_DtTm</th>\n",
       "    </tr>\n",
       "  </thead>\n",
       "  <tbody>\n",
       "    <tr>\n",
       "      <th>0</th>\n",
       "      <td>06/05/2018</td>\n",
       "      <td>06/05/2018 06:38:01 PM</td>\n",
       "      <td>06/05/2018 06:41:59 PM</td>\n",
       "      <td>06/05/2018 06:42:12 PM</td>\n",
       "      <td>2018-06-05 18:38:01</td>\n",
       "    </tr>\n",
       "    <tr>\n",
       "      <th>1</th>\n",
       "      <td>08/29/2019</td>\n",
       "      <td>08/29/2019 08:09:25 PM</td>\n",
       "      <td>08/29/2019 08:11:54 PM</td>\n",
       "      <td>08/29/2019 08:12:24 PM</td>\n",
       "      <td>2019-08-29 20:09:25</td>\n",
       "    </tr>\n",
       "    <tr>\n",
       "      <th>2</th>\n",
       "      <td>06/14/2018</td>\n",
       "      <td>06/14/2018 08:37:56 PM</td>\n",
       "      <td>06/14/2018 08:40:37 PM</td>\n",
       "      <td>06/14/2018 08:40:52 PM</td>\n",
       "      <td>2018-06-14 20:37:56</td>\n",
       "    </tr>\n",
       "  </tbody>\n",
       "</table>\n",
       "</div>"
      ],
      "text/plain": [
       "  Incident Date              Alarm DtTm            Arrival DtTm  \\\n",
       "0    06/05/2018  06/05/2018 06:38:01 PM  06/05/2018 06:41:59 PM   \n",
       "1    08/29/2019  08/29/2019 08:09:25 PM  08/29/2019 08:11:54 PM   \n",
       "2    06/14/2018  06/14/2018 08:37:56 PM  06/14/2018 08:40:37 PM   \n",
       "\n",
       "               Close DtTm          Alarm_DtTm  \n",
       "0  06/05/2018 06:42:12 PM 2018-06-05 18:38:01  \n",
       "1  08/29/2019 08:12:24 PM 2019-08-29 20:09:25  \n",
       "2  06/14/2018 08:40:52 PM 2018-06-14 20:37:56  "
      ]
     },
     "execution_count": 27,
     "metadata": {},
     "output_type": "execute_result"
    }
   ],
   "source": [
    "df3 = df2.withColumn(\"Alarm_DtTm\", \n",
    "                     F.to_timestamp(\n",
    "                     F.from_unixtime(\n",
    "                     F.unix_timestamp(F.col(\"Alarm DtTm\"), 'MM/dd/yyyy hh:mm:ss a')\n",
    "                     )))\n",
    "df3.limit(3).toPandas()"
   ]
  },
  {
   "cell_type": "code",
   "execution_count": 28,
   "metadata": {},
   "outputs": [
    {
     "name": "stdout",
     "output_type": "stream",
     "text": [
      "root\n",
      " |-- Incident Date: string (nullable = true)\n",
      " |-- Alarm DtTm: string (nullable = true)\n",
      " |-- Arrival DtTm: string (nullable = true)\n",
      " |-- Close DtTm: string (nullable = true)\n",
      " |-- Alarm_DtTm: timestamp (nullable = true)\n",
      "\n"
     ]
    }
   ],
   "source": [
    "df3.printSchema()"
   ]
  },
  {
   "cell_type": "markdown",
   "metadata": {},
   "source": [
    "# Date and Time Operations - to_date"
   ]
  },
  {
   "cell_type": "code",
   "execution_count": 29,
   "metadata": {},
   "outputs": [
    {
     "data": {
      "text/html": [
       "<div>\n",
       "<style scoped>\n",
       "    .dataframe tbody tr th:only-of-type {\n",
       "        vertical-align: middle;\n",
       "    }\n",
       "\n",
       "    .dataframe tbody tr th {\n",
       "        vertical-align: top;\n",
       "    }\n",
       "\n",
       "    .dataframe thead th {\n",
       "        text-align: right;\n",
       "    }\n",
       "</style>\n",
       "<table border=\"1\" class=\"dataframe\">\n",
       "  <thead>\n",
       "    <tr style=\"text-align: right;\">\n",
       "      <th></th>\n",
       "      <th>Incident Date</th>\n",
       "      <th>Alarm DtTm</th>\n",
       "      <th>Arrival DtTm</th>\n",
       "      <th>Close DtTm</th>\n",
       "      <th>Incident_Date</th>\n",
       "    </tr>\n",
       "  </thead>\n",
       "  <tbody>\n",
       "    <tr>\n",
       "      <th>0</th>\n",
       "      <td>06/05/2018</td>\n",
       "      <td>06/05/2018 06:38:01 PM</td>\n",
       "      <td>06/05/2018 06:41:59 PM</td>\n",
       "      <td>06/05/2018 06:42:12 PM</td>\n",
       "      <td>2018-06-05</td>\n",
       "    </tr>\n",
       "    <tr>\n",
       "      <th>1</th>\n",
       "      <td>08/29/2019</td>\n",
       "      <td>08/29/2019 08:09:25 PM</td>\n",
       "      <td>08/29/2019 08:11:54 PM</td>\n",
       "      <td>08/29/2019 08:12:24 PM</td>\n",
       "      <td>2019-08-29</td>\n",
       "    </tr>\n",
       "    <tr>\n",
       "      <th>2</th>\n",
       "      <td>06/14/2018</td>\n",
       "      <td>06/14/2018 08:37:56 PM</td>\n",
       "      <td>06/14/2018 08:40:37 PM</td>\n",
       "      <td>06/14/2018 08:40:52 PM</td>\n",
       "      <td>2018-06-14</td>\n",
       "    </tr>\n",
       "  </tbody>\n",
       "</table>\n",
       "</div>"
      ],
      "text/plain": [
       "  Incident Date              Alarm DtTm            Arrival DtTm  \\\n",
       "0    06/05/2018  06/05/2018 06:38:01 PM  06/05/2018 06:41:59 PM   \n",
       "1    08/29/2019  08/29/2019 08:09:25 PM  08/29/2019 08:11:54 PM   \n",
       "2    06/14/2018  06/14/2018 08:37:56 PM  06/14/2018 08:40:37 PM   \n",
       "\n",
       "               Close DtTm Incident_Date  \n",
       "0  06/05/2018 06:42:12 PM    2018-06-05  \n",
       "1  08/29/2019 08:12:24 PM    2019-08-29  \n",
       "2  06/14/2018 08:40:52 PM    2018-06-14  "
      ]
     },
     "execution_count": 29,
     "metadata": {},
     "output_type": "execute_result"
    }
   ],
   "source": [
    "df3 = df2.withColumn(\"Incident_Date\", \n",
    "                     F.to_date(F.col(\"Incident Date\"), 'MM/dd/yyyy'))\n",
    "df3.limit(3).toPandas()"
   ]
  },
  {
   "cell_type": "code",
   "execution_count": 30,
   "metadata": {},
   "outputs": [
    {
     "name": "stdout",
     "output_type": "stream",
     "text": [
      "root\n",
      " |-- Incident Date: string (nullable = true)\n",
      " |-- Alarm DtTm: string (nullable = true)\n",
      " |-- Arrival DtTm: string (nullable = true)\n",
      " |-- Close DtTm: string (nullable = true)\n",
      " |-- Incident_Date: date (nullable = true)\n",
      "\n"
     ]
    }
   ],
   "source": [
    "df3.printSchema()"
   ]
  },
  {
   "cell_type": "markdown",
   "metadata": {},
   "source": [
    "<h1 style=\"color:blue;\">From Date Time to String  Conversion</h1>"
   ]
  },
  {
   "cell_type": "code",
   "execution_count": 28,
   "metadata": {},
   "outputs": [],
   "source": [
    "# First we need date and timestamp columns"
   ]
  },
  {
   "cell_type": "code",
   "execution_count": 31,
   "metadata": {},
   "outputs": [
    {
     "data": {
      "text/html": [
       "<div>\n",
       "<style scoped>\n",
       "    .dataframe tbody tr th:only-of-type {\n",
       "        vertical-align: middle;\n",
       "    }\n",
       "\n",
       "    .dataframe tbody tr th {\n",
       "        vertical-align: top;\n",
       "    }\n",
       "\n",
       "    .dataframe thead th {\n",
       "        text-align: right;\n",
       "    }\n",
       "</style>\n",
       "<table border=\"1\" class=\"dataframe\">\n",
       "  <thead>\n",
       "    <tr style=\"text-align: right;\">\n",
       "      <th></th>\n",
       "      <th>Incident Date</th>\n",
       "      <th>Alarm DtTm</th>\n",
       "      <th>Arrival DtTm</th>\n",
       "      <th>Close DtTm</th>\n",
       "      <th>Incident_Date</th>\n",
       "      <th>Alarm_DtTm</th>\n",
       "    </tr>\n",
       "  </thead>\n",
       "  <tbody>\n",
       "    <tr>\n",
       "      <th>0</th>\n",
       "      <td>06/05/2018</td>\n",
       "      <td>06/05/2018 06:38:01 PM</td>\n",
       "      <td>06/05/2018 06:41:59 PM</td>\n",
       "      <td>06/05/2018 06:42:12 PM</td>\n",
       "      <td>2018-06-05</td>\n",
       "      <td>2018-06-05 18:38:01</td>\n",
       "    </tr>\n",
       "    <tr>\n",
       "      <th>1</th>\n",
       "      <td>08/29/2019</td>\n",
       "      <td>08/29/2019 08:09:25 PM</td>\n",
       "      <td>08/29/2019 08:11:54 PM</td>\n",
       "      <td>08/29/2019 08:12:24 PM</td>\n",
       "      <td>2019-08-29</td>\n",
       "      <td>2019-08-29 20:09:25</td>\n",
       "    </tr>\n",
       "    <tr>\n",
       "      <th>2</th>\n",
       "      <td>06/14/2018</td>\n",
       "      <td>06/14/2018 08:37:56 PM</td>\n",
       "      <td>06/14/2018 08:40:37 PM</td>\n",
       "      <td>06/14/2018 08:40:52 PM</td>\n",
       "      <td>2018-06-14</td>\n",
       "      <td>2018-06-14 20:37:56</td>\n",
       "    </tr>\n",
       "  </tbody>\n",
       "</table>\n",
       "</div>"
      ],
      "text/plain": [
       "  Incident Date              Alarm DtTm            Arrival DtTm  \\\n",
       "0    06/05/2018  06/05/2018 06:38:01 PM  06/05/2018 06:41:59 PM   \n",
       "1    08/29/2019  08/29/2019 08:09:25 PM  08/29/2019 08:11:54 PM   \n",
       "2    06/14/2018  06/14/2018 08:37:56 PM  06/14/2018 08:40:37 PM   \n",
       "\n",
       "               Close DtTm Incident_Date          Alarm_DtTm  \n",
       "0  06/05/2018 06:42:12 PM    2018-06-05 2018-06-05 18:38:01  \n",
       "1  08/29/2019 08:12:24 PM    2019-08-29 2019-08-29 20:09:25  \n",
       "2  06/14/2018 08:40:52 PM    2018-06-14 2018-06-14 20:37:56  "
      ]
     },
     "execution_count": 31,
     "metadata": {},
     "output_type": "execute_result"
    }
   ],
   "source": [
    "df3 = df2.withColumn(\"Incident_Date\", \n",
    "                     F.to_date(F.col(\"Incident Date\"), 'MM/dd/yyyy')) \\\n",
    ".withColumn(\"Alarm_DtTm\", \n",
    "                     F.to_timestamp(F.col(\"Alarm DtTm\"), 'MM/dd/yyyy hh:mm:ss a'))\n",
    "df3.limit(3).toPandas()"
   ]
  },
  {
   "cell_type": "code",
   "execution_count": 32,
   "metadata": {},
   "outputs": [
    {
     "name": "stdout",
     "output_type": "stream",
     "text": [
      "root\n",
      " |-- Incident Date: string (nullable = true)\n",
      " |-- Alarm DtTm: string (nullable = true)\n",
      " |-- Arrival DtTm: string (nullable = true)\n",
      " |-- Close DtTm: string (nullable = true)\n",
      " |-- Incident_Date: date (nullable = true)\n",
      " |-- Alarm_DtTm: timestamp (nullable = true)\n",
      "\n"
     ]
    }
   ],
   "source": [
    "df3.printSchema()"
   ]
  },
  {
   "cell_type": "markdown",
   "metadata": {},
   "source": [
    "## Convert date and timestamp columns to string in a desired format"
   ]
  },
  {
   "cell_type": "code",
   "execution_count": 33,
   "metadata": {},
   "outputs": [
    {
     "data": {
      "text/html": [
       "<div>\n",
       "<style scoped>\n",
       "    .dataframe tbody tr th:only-of-type {\n",
       "        vertical-align: middle;\n",
       "    }\n",
       "\n",
       "    .dataframe tbody tr th {\n",
       "        vertical-align: top;\n",
       "    }\n",
       "\n",
       "    .dataframe thead th {\n",
       "        text-align: right;\n",
       "    }\n",
       "</style>\n",
       "<table border=\"1\" class=\"dataframe\">\n",
       "  <thead>\n",
       "    <tr style=\"text-align: right;\">\n",
       "      <th></th>\n",
       "      <th>Incident Date</th>\n",
       "      <th>Alarm DtTm</th>\n",
       "      <th>Arrival DtTm</th>\n",
       "      <th>Close DtTm</th>\n",
       "      <th>Incident_Date</th>\n",
       "      <th>Alarm_DtTm</th>\n",
       "      <th>Incident_Date_Str</th>\n",
       "    </tr>\n",
       "  </thead>\n",
       "  <tbody>\n",
       "    <tr>\n",
       "      <th>0</th>\n",
       "      <td>06/05/2018</td>\n",
       "      <td>06/05/2018 06:38:01 PM</td>\n",
       "      <td>06/05/2018 06:41:59 PM</td>\n",
       "      <td>06/05/2018 06:42:12 PM</td>\n",
       "      <td>2018-06-05</td>\n",
       "      <td>2018-06-05 18:38:01</td>\n",
       "      <td>06*05*2018</td>\n",
       "    </tr>\n",
       "    <tr>\n",
       "      <th>1</th>\n",
       "      <td>08/29/2019</td>\n",
       "      <td>08/29/2019 08:09:25 PM</td>\n",
       "      <td>08/29/2019 08:11:54 PM</td>\n",
       "      <td>08/29/2019 08:12:24 PM</td>\n",
       "      <td>2019-08-29</td>\n",
       "      <td>2019-08-29 20:09:25</td>\n",
       "      <td>08*29*2019</td>\n",
       "    </tr>\n",
       "    <tr>\n",
       "      <th>2</th>\n",
       "      <td>06/14/2018</td>\n",
       "      <td>06/14/2018 08:37:56 PM</td>\n",
       "      <td>06/14/2018 08:40:37 PM</td>\n",
       "      <td>06/14/2018 08:40:52 PM</td>\n",
       "      <td>2018-06-14</td>\n",
       "      <td>2018-06-14 20:37:56</td>\n",
       "      <td>06*14*2018</td>\n",
       "    </tr>\n",
       "  </tbody>\n",
       "</table>\n",
       "</div>"
      ],
      "text/plain": [
       "  Incident Date              Alarm DtTm            Arrival DtTm  \\\n",
       "0    06/05/2018  06/05/2018 06:38:01 PM  06/05/2018 06:41:59 PM   \n",
       "1    08/29/2019  08/29/2019 08:09:25 PM  08/29/2019 08:11:54 PM   \n",
       "2    06/14/2018  06/14/2018 08:37:56 PM  06/14/2018 08:40:37 PM   \n",
       "\n",
       "               Close DtTm Incident_Date          Alarm_DtTm Incident_Date_Str  \n",
       "0  06/05/2018 06:42:12 PM    2018-06-05 2018-06-05 18:38:01        06*05*2018  \n",
       "1  08/29/2019 08:12:24 PM    2019-08-29 2019-08-29 20:09:25        08*29*2019  \n",
       "2  06/14/2018 08:40:52 PM    2018-06-14 2018-06-14 20:37:56        06*14*2018  "
      ]
     },
     "execution_count": 33,
     "metadata": {},
     "output_type": "execute_result"
    }
   ],
   "source": [
    "df4 = df3.withColumn(\"Incident_Date_Str\", \n",
    "                     F.date_format(F.col(\"Incident_Date\"), 'MM*dd*yyyy'))\n",
    "df4.limit(3).toPandas()"
   ]
  },
  {
   "cell_type": "code",
   "execution_count": 34,
   "metadata": {},
   "outputs": [
    {
     "data": {
      "text/html": [
       "<div>\n",
       "<style scoped>\n",
       "    .dataframe tbody tr th:only-of-type {\n",
       "        vertical-align: middle;\n",
       "    }\n",
       "\n",
       "    .dataframe tbody tr th {\n",
       "        vertical-align: top;\n",
       "    }\n",
       "\n",
       "    .dataframe thead th {\n",
       "        text-align: right;\n",
       "    }\n",
       "</style>\n",
       "<table border=\"1\" class=\"dataframe\">\n",
       "  <thead>\n",
       "    <tr style=\"text-align: right;\">\n",
       "      <th></th>\n",
       "      <th>Incident Date</th>\n",
       "      <th>Alarm DtTm</th>\n",
       "      <th>Arrival DtTm</th>\n",
       "      <th>Close DtTm</th>\n",
       "      <th>Incident_Date</th>\n",
       "      <th>Alarm_DtTm</th>\n",
       "      <th>Incident_Date_Str</th>\n",
       "    </tr>\n",
       "  </thead>\n",
       "  <tbody>\n",
       "    <tr>\n",
       "      <th>0</th>\n",
       "      <td>06/05/2018</td>\n",
       "      <td>06/05/2018 06:38:01 PM</td>\n",
       "      <td>06/05/2018 06:41:59 PM</td>\n",
       "      <td>06/05/2018 06:42:12 PM</td>\n",
       "      <td>2018-06-05</td>\n",
       "      <td>2018-06-05 18:38:01</td>\n",
       "      <td>2018:06:05</td>\n",
       "    </tr>\n",
       "    <tr>\n",
       "      <th>1</th>\n",
       "      <td>08/29/2019</td>\n",
       "      <td>08/29/2019 08:09:25 PM</td>\n",
       "      <td>08/29/2019 08:11:54 PM</td>\n",
       "      <td>08/29/2019 08:12:24 PM</td>\n",
       "      <td>2019-08-29</td>\n",
       "      <td>2019-08-29 20:09:25</td>\n",
       "      <td>2019:08:29</td>\n",
       "    </tr>\n",
       "    <tr>\n",
       "      <th>2</th>\n",
       "      <td>06/14/2018</td>\n",
       "      <td>06/14/2018 08:37:56 PM</td>\n",
       "      <td>06/14/2018 08:40:37 PM</td>\n",
       "      <td>06/14/2018 08:40:52 PM</td>\n",
       "      <td>2018-06-14</td>\n",
       "      <td>2018-06-14 20:37:56</td>\n",
       "      <td>2018:06:14</td>\n",
       "    </tr>\n",
       "  </tbody>\n",
       "</table>\n",
       "</div>"
      ],
      "text/plain": [
       "  Incident Date              Alarm DtTm            Arrival DtTm  \\\n",
       "0    06/05/2018  06/05/2018 06:38:01 PM  06/05/2018 06:41:59 PM   \n",
       "1    08/29/2019  08/29/2019 08:09:25 PM  08/29/2019 08:11:54 PM   \n",
       "2    06/14/2018  06/14/2018 08:37:56 PM  06/14/2018 08:40:37 PM   \n",
       "\n",
       "               Close DtTm Incident_Date          Alarm_DtTm Incident_Date_Str  \n",
       "0  06/05/2018 06:42:12 PM    2018-06-05 2018-06-05 18:38:01        2018:06:05  \n",
       "1  08/29/2019 08:12:24 PM    2019-08-29 2019-08-29 20:09:25        2019:08:29  \n",
       "2  06/14/2018 08:40:52 PM    2018-06-14 2018-06-14 20:37:56        2018:06:14  "
      ]
     },
     "execution_count": 34,
     "metadata": {},
     "output_type": "execute_result"
    }
   ],
   "source": [
    "df4 = df3.withColumn(\"Incident_Date_Str\", \n",
    "                     F.date_format(F.col(\"Incident_Date\"), 'yyyy:MM:dd'))\n",
    "df4.limit(3).toPandas()"
   ]
  },
  {
   "cell_type": "code",
   "execution_count": 35,
   "metadata": {},
   "outputs": [
    {
     "data": {
      "text/html": [
       "<div>\n",
       "<style scoped>\n",
       "    .dataframe tbody tr th:only-of-type {\n",
       "        vertical-align: middle;\n",
       "    }\n",
       "\n",
       "    .dataframe tbody tr th {\n",
       "        vertical-align: top;\n",
       "    }\n",
       "\n",
       "    .dataframe thead th {\n",
       "        text-align: right;\n",
       "    }\n",
       "</style>\n",
       "<table border=\"1\" class=\"dataframe\">\n",
       "  <thead>\n",
       "    <tr style=\"text-align: right;\">\n",
       "      <th></th>\n",
       "      <th>Incident Date</th>\n",
       "      <th>Alarm DtTm</th>\n",
       "      <th>Arrival DtTm</th>\n",
       "      <th>Close DtTm</th>\n",
       "      <th>Incident_Date</th>\n",
       "      <th>Alarm_DtTm</th>\n",
       "      <th>Alarm_DtTm_Str</th>\n",
       "    </tr>\n",
       "  </thead>\n",
       "  <tbody>\n",
       "    <tr>\n",
       "      <th>0</th>\n",
       "      <td>06/05/2018</td>\n",
       "      <td>06/05/2018 06:38:01 PM</td>\n",
       "      <td>06/05/2018 06:41:59 PM</td>\n",
       "      <td>06/05/2018 06:42:12 PM</td>\n",
       "      <td>2018-06-05</td>\n",
       "      <td>2018-06-05 18:38:01</td>\n",
       "      <td>2018-06-05 18:01</td>\n",
       "    </tr>\n",
       "    <tr>\n",
       "      <th>1</th>\n",
       "      <td>08/29/2019</td>\n",
       "      <td>08/29/2019 08:09:25 PM</td>\n",
       "      <td>08/29/2019 08:11:54 PM</td>\n",
       "      <td>08/29/2019 08:12:24 PM</td>\n",
       "      <td>2019-08-29</td>\n",
       "      <td>2019-08-29 20:09:25</td>\n",
       "      <td>2019-08-29 20:25</td>\n",
       "    </tr>\n",
       "    <tr>\n",
       "      <th>2</th>\n",
       "      <td>06/14/2018</td>\n",
       "      <td>06/14/2018 08:37:56 PM</td>\n",
       "      <td>06/14/2018 08:40:37 PM</td>\n",
       "      <td>06/14/2018 08:40:52 PM</td>\n",
       "      <td>2018-06-14</td>\n",
       "      <td>2018-06-14 20:37:56</td>\n",
       "      <td>2018-06-14 20:56</td>\n",
       "    </tr>\n",
       "  </tbody>\n",
       "</table>\n",
       "</div>"
      ],
      "text/plain": [
       "  Incident Date              Alarm DtTm            Arrival DtTm  \\\n",
       "0    06/05/2018  06/05/2018 06:38:01 PM  06/05/2018 06:41:59 PM   \n",
       "1    08/29/2019  08/29/2019 08:09:25 PM  08/29/2019 08:11:54 PM   \n",
       "2    06/14/2018  06/14/2018 08:37:56 PM  06/14/2018 08:40:37 PM   \n",
       "\n",
       "               Close DtTm Incident_Date          Alarm_DtTm    Alarm_DtTm_Str  \n",
       "0  06/05/2018 06:42:12 PM    2018-06-05 2018-06-05 18:38:01  2018-06-05 18:01  \n",
       "1  08/29/2019 08:12:24 PM    2019-08-29 2019-08-29 20:09:25  2019-08-29 20:25  \n",
       "2  06/14/2018 08:40:52 PM    2018-06-14 2018-06-14 20:37:56  2018-06-14 20:56  "
      ]
     },
     "execution_count": 35,
     "metadata": {},
     "output_type": "execute_result"
    }
   ],
   "source": [
    "df4 = df3.withColumn(\"Alarm_DtTm_Str\", \n",
    "                     F.date_format(F.col(\"Alarm_DtTm\"), 'yyyy-MM-dd HH:ss'))\n",
    "df4.limit(3).toPandas()"
   ]
  },
  {
   "cell_type": "code",
   "execution_count": 37,
   "metadata": {},
   "outputs": [
    {
     "data": {
      "text/html": [
       "<div>\n",
       "<style scoped>\n",
       "    .dataframe tbody tr th:only-of-type {\n",
       "        vertical-align: middle;\n",
       "    }\n",
       "\n",
       "    .dataframe tbody tr th {\n",
       "        vertical-align: top;\n",
       "    }\n",
       "\n",
       "    .dataframe thead th {\n",
       "        text-align: right;\n",
       "    }\n",
       "</style>\n",
       "<table border=\"1\" class=\"dataframe\">\n",
       "  <thead>\n",
       "    <tr style=\"text-align: right;\">\n",
       "      <th></th>\n",
       "      <th>Incident Date</th>\n",
       "      <th>Alarm DtTm</th>\n",
       "      <th>Arrival DtTm</th>\n",
       "      <th>Close DtTm</th>\n",
       "      <th>Incident_Date</th>\n",
       "      <th>Alarm_DtTm</th>\n",
       "      <th>Alarm_DtTm_Str</th>\n",
       "    </tr>\n",
       "  </thead>\n",
       "  <tbody>\n",
       "    <tr>\n",
       "      <th>0</th>\n",
       "      <td>06/05/2018</td>\n",
       "      <td>06/05/2018 06:38:01 PM</td>\n",
       "      <td>06/05/2018 06:41:59 PM</td>\n",
       "      <td>06/05/2018 06:42:12 PM</td>\n",
       "      <td>2018-06-05</td>\n",
       "      <td>2018-06-05 18:38:01</td>\n",
       "      <td>2018 June 05 Tue</td>\n",
       "    </tr>\n",
       "    <tr>\n",
       "      <th>1</th>\n",
       "      <td>08/29/2019</td>\n",
       "      <td>08/29/2019 08:09:25 PM</td>\n",
       "      <td>08/29/2019 08:11:54 PM</td>\n",
       "      <td>08/29/2019 08:12:24 PM</td>\n",
       "      <td>2019-08-29</td>\n",
       "      <td>2019-08-29 20:09:25</td>\n",
       "      <td>2019 August 29 Thu</td>\n",
       "    </tr>\n",
       "    <tr>\n",
       "      <th>2</th>\n",
       "      <td>06/14/2018</td>\n",
       "      <td>06/14/2018 08:37:56 PM</td>\n",
       "      <td>06/14/2018 08:40:37 PM</td>\n",
       "      <td>06/14/2018 08:40:52 PM</td>\n",
       "      <td>2018-06-14</td>\n",
       "      <td>2018-06-14 20:37:56</td>\n",
       "      <td>2018 June 14 Thu</td>\n",
       "    </tr>\n",
       "  </tbody>\n",
       "</table>\n",
       "</div>"
      ],
      "text/plain": [
       "  Incident Date              Alarm DtTm            Arrival DtTm  \\\n",
       "0    06/05/2018  06/05/2018 06:38:01 PM  06/05/2018 06:41:59 PM   \n",
       "1    08/29/2019  08/29/2019 08:09:25 PM  08/29/2019 08:11:54 PM   \n",
       "2    06/14/2018  06/14/2018 08:37:56 PM  06/14/2018 08:40:37 PM   \n",
       "\n",
       "               Close DtTm Incident_Date          Alarm_DtTm  \\\n",
       "0  06/05/2018 06:42:12 PM    2018-06-05 2018-06-05 18:38:01   \n",
       "1  08/29/2019 08:12:24 PM    2019-08-29 2019-08-29 20:09:25   \n",
       "2  06/14/2018 08:40:52 PM    2018-06-14 2018-06-14 20:37:56   \n",
       "\n",
       "       Alarm_DtTm_Str  \n",
       "0    2018 June 05 Tue  \n",
       "1  2019 August 29 Thu  \n",
       "2    2018 June 14 Thu  "
      ]
     },
     "execution_count": 37,
     "metadata": {},
     "output_type": "execute_result"
    }
   ],
   "source": [
    "df4 = df3.withColumn(\"Alarm_DtTm_Str\", \n",
    "                     F.date_format(F.col(\"Alarm_DtTm\"), 'yyyy MMMM dd E'))\n",
    "df4.limit(3).toPandas()"
   ]
  },
  {
   "cell_type": "code",
   "execution_count": 38,
   "metadata": {},
   "outputs": [
    {
     "data": {
      "text/html": [
       "<div>\n",
       "<style scoped>\n",
       "    .dataframe tbody tr th:only-of-type {\n",
       "        vertical-align: middle;\n",
       "    }\n",
       "\n",
       "    .dataframe tbody tr th {\n",
       "        vertical-align: top;\n",
       "    }\n",
       "\n",
       "    .dataframe thead th {\n",
       "        text-align: right;\n",
       "    }\n",
       "</style>\n",
       "<table border=\"1\" class=\"dataframe\">\n",
       "  <thead>\n",
       "    <tr style=\"text-align: right;\">\n",
       "      <th></th>\n",
       "      <th>Incident Date</th>\n",
       "      <th>Alarm DtTm</th>\n",
       "      <th>Arrival DtTm</th>\n",
       "      <th>Close DtTm</th>\n",
       "      <th>Incident_Date</th>\n",
       "      <th>Alarm_DtTm</th>\n",
       "      <th>Alarm_DtTm_Str</th>\n",
       "    </tr>\n",
       "  </thead>\n",
       "  <tbody>\n",
       "    <tr>\n",
       "      <th>0</th>\n",
       "      <td>06/05/2018</td>\n",
       "      <td>06/05/2018 06:38:01 PM</td>\n",
       "      <td>06/05/2018 06:41:59 PM</td>\n",
       "      <td>06/05/2018 06:42:12 PM</td>\n",
       "      <td>2018-06-05</td>\n",
       "      <td>2018-06-05 18:38:01</td>\n",
       "      <td>2018 June 05 Europe/Istanbul</td>\n",
       "    </tr>\n",
       "    <tr>\n",
       "      <th>1</th>\n",
       "      <td>08/29/2019</td>\n",
       "      <td>08/29/2019 08:09:25 PM</td>\n",
       "      <td>08/29/2019 08:11:54 PM</td>\n",
       "      <td>08/29/2019 08:12:24 PM</td>\n",
       "      <td>2019-08-29</td>\n",
       "      <td>2019-08-29 20:09:25</td>\n",
       "      <td>2019 August 29 Europe/Istanbul</td>\n",
       "    </tr>\n",
       "    <tr>\n",
       "      <th>2</th>\n",
       "      <td>06/14/2018</td>\n",
       "      <td>06/14/2018 08:37:56 PM</td>\n",
       "      <td>06/14/2018 08:40:37 PM</td>\n",
       "      <td>06/14/2018 08:40:52 PM</td>\n",
       "      <td>2018-06-14</td>\n",
       "      <td>2018-06-14 20:37:56</td>\n",
       "      <td>2018 June 14 Europe/Istanbul</td>\n",
       "    </tr>\n",
       "  </tbody>\n",
       "</table>\n",
       "</div>"
      ],
      "text/plain": [
       "  Incident Date              Alarm DtTm            Arrival DtTm  \\\n",
       "0    06/05/2018  06/05/2018 06:38:01 PM  06/05/2018 06:41:59 PM   \n",
       "1    08/29/2019  08/29/2019 08:09:25 PM  08/29/2019 08:11:54 PM   \n",
       "2    06/14/2018  06/14/2018 08:37:56 PM  06/14/2018 08:40:37 PM   \n",
       "\n",
       "               Close DtTm Incident_Date          Alarm_DtTm  \\\n",
       "0  06/05/2018 06:42:12 PM    2018-06-05 2018-06-05 18:38:01   \n",
       "1  08/29/2019 08:12:24 PM    2019-08-29 2019-08-29 20:09:25   \n",
       "2  06/14/2018 08:40:52 PM    2018-06-14 2018-06-14 20:37:56   \n",
       "\n",
       "                   Alarm_DtTm_Str  \n",
       "0    2018 June 05 Europe/Istanbul  \n",
       "1  2019 August 29 Europe/Istanbul  \n",
       "2    2018 June 14 Europe/Istanbul  "
      ]
     },
     "execution_count": 38,
     "metadata": {},
     "output_type": "execute_result"
    }
   ],
   "source": [
    "df4 = df3.withColumn(\"Alarm_DtTm_Str\", \n",
    "                     F.date_format(F.col(\"Alarm_DtTm\"), 'yyyy MMMM dd VV'))\n",
    "df4.limit(3).toPandas()"
   ]
  },
  {
   "cell_type": "code",
   "execution_count": 39,
   "metadata": {},
   "outputs": [
    {
     "data": {
      "text/html": [
       "<div>\n",
       "<style scoped>\n",
       "    .dataframe tbody tr th:only-of-type {\n",
       "        vertical-align: middle;\n",
       "    }\n",
       "\n",
       "    .dataframe tbody tr th {\n",
       "        vertical-align: top;\n",
       "    }\n",
       "\n",
       "    .dataframe thead th {\n",
       "        text-align: right;\n",
       "    }\n",
       "</style>\n",
       "<table border=\"1\" class=\"dataframe\">\n",
       "  <thead>\n",
       "    <tr style=\"text-align: right;\">\n",
       "      <th></th>\n",
       "      <th>Incident Date</th>\n",
       "      <th>Alarm DtTm</th>\n",
       "      <th>Arrival DtTm</th>\n",
       "      <th>Close DtTm</th>\n",
       "      <th>Incident_Date</th>\n",
       "      <th>Alarm_DtTm</th>\n",
       "      <th>Alarm_DtTm_Str</th>\n",
       "    </tr>\n",
       "  </thead>\n",
       "  <tbody>\n",
       "    <tr>\n",
       "      <th>0</th>\n",
       "      <td>06/05/2018</td>\n",
       "      <td>06/05/2018 06:38:01 PM</td>\n",
       "      <td>06/05/2018 06:41:59 PM</td>\n",
       "      <td>06/05/2018 06:42:12 PM</td>\n",
       "      <td>2018-06-05</td>\n",
       "      <td>2018-06-05 18:38:01</td>\n",
       "      <td>2018 June 05 GMT+03:00</td>\n",
       "    </tr>\n",
       "    <tr>\n",
       "      <th>1</th>\n",
       "      <td>08/29/2019</td>\n",
       "      <td>08/29/2019 08:09:25 PM</td>\n",
       "      <td>08/29/2019 08:11:54 PM</td>\n",
       "      <td>08/29/2019 08:12:24 PM</td>\n",
       "      <td>2019-08-29</td>\n",
       "      <td>2019-08-29 20:09:25</td>\n",
       "      <td>2019 August 29 GMT+03:00</td>\n",
       "    </tr>\n",
       "    <tr>\n",
       "      <th>2</th>\n",
       "      <td>06/14/2018</td>\n",
       "      <td>06/14/2018 08:37:56 PM</td>\n",
       "      <td>06/14/2018 08:40:37 PM</td>\n",
       "      <td>06/14/2018 08:40:52 PM</td>\n",
       "      <td>2018-06-14</td>\n",
       "      <td>2018-06-14 20:37:56</td>\n",
       "      <td>2018 June 14 GMT+03:00</td>\n",
       "    </tr>\n",
       "  </tbody>\n",
       "</table>\n",
       "</div>"
      ],
      "text/plain": [
       "  Incident Date              Alarm DtTm            Arrival DtTm  \\\n",
       "0    06/05/2018  06/05/2018 06:38:01 PM  06/05/2018 06:41:59 PM   \n",
       "1    08/29/2019  08/29/2019 08:09:25 PM  08/29/2019 08:11:54 PM   \n",
       "2    06/14/2018  06/14/2018 08:37:56 PM  06/14/2018 08:40:37 PM   \n",
       "\n",
       "               Close DtTm Incident_Date          Alarm_DtTm  \\\n",
       "0  06/05/2018 06:42:12 PM    2018-06-05 2018-06-05 18:38:01   \n",
       "1  08/29/2019 08:12:24 PM    2019-08-29 2019-08-29 20:09:25   \n",
       "2  06/14/2018 08:40:52 PM    2018-06-14 2018-06-14 20:37:56   \n",
       "\n",
       "             Alarm_DtTm_Str  \n",
       "0    2018 June 05 GMT+03:00  \n",
       "1  2019 August 29 GMT+03:00  \n",
       "2    2018 June 14 GMT+03:00  "
      ]
     },
     "execution_count": 39,
     "metadata": {},
     "output_type": "execute_result"
    }
   ],
   "source": [
    "df4 = df3.withColumn(\"Alarm_DtTm_Str\", \n",
    "                     F.date_format(F.col(\"Alarm_DtTm\"), 'yyyy MMMM dd OOOO'))\n",
    "df4.limit(3).toPandas()"
   ]
  },
  {
   "cell_type": "code",
   "execution_count": null,
   "metadata": {},
   "outputs": [],
   "source": []
  }
 ],
 "metadata": {
  "kernelspec": {
   "display_name": "venvspark",
   "language": "python",
   "name": "venvspark"
  },
  "language_info": {
   "codemirror_mode": {
    "name": "ipython",
    "version": 3
   },
   "file_extension": ".py",
   "mimetype": "text/x-python",
   "name": "python",
   "nbconvert_exporter": "python",
   "pygments_lexer": "ipython3",
   "version": "3.6.8"
  }
 },
 "nbformat": 4,
 "nbformat_minor": 4
}
