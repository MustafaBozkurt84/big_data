{
 "cells": [
  {
   "cell_type": "code",
   "execution_count": 1,
   "metadata": {},
   "outputs": [],
   "source": [
    "import findspark"
   ]
  },
  {
   "cell_type": "code",
   "execution_count": 2,
   "metadata": {},
   "outputs": [],
   "source": [
    "# /opt/manual/spark: this is SPARK_HOME path\n",
    "findspark.init(\"/opt/manual/spark\")"
   ]
  },
  {
   "cell_type": "code",
   "execution_count": 3,
   "metadata": {},
   "outputs": [],
   "source": [
    "from pyspark.sql import SparkSession, functions as F"
   ]
  },
  {
   "cell_type": "code",
   "execution_count": 4,
   "metadata": {},
   "outputs": [],
   "source": [
    "spark = SparkSession.builder \\\n",
    ".appName(\"Aggregations\") \\\n",
    ".master(\"local[2]\") \\\n",
    ".getOrCreate()"
   ]
  },
  {
   "cell_type": "code",
   "execution_count": 5,
   "metadata": {},
   "outputs": [],
   "source": [
    "# Data source: https://www.kaggle.com/jiashenliu/515k-hotel-reviews-data-in-europe"
   ]
  },
  {
   "cell_type": "code",
   "execution_count": 6,
   "metadata": {},
   "outputs": [],
   "source": [
    "#! wget -P ~/datasets \\\n",
    "#https://github.com/erkansirin78/datasets/raw/master/Hotel_Reviews.csv.gz"
   ]
  },
  {
   "cell_type": "code",
   "execution_count": 7,
   "metadata": {},
   "outputs": [
    {
     "name": "stdout",
     "output_type": "stream",
     "text": [
      "-rw-rw-r--. 1 train train  46401315 Oct  6 12:18 Hotel_Reviews.csv.gz\r\n"
     ]
    }
   ],
   "source": [
    "! ls -l ~/datasets | grep Hotel"
   ]
  },
  {
   "cell_type": "code",
   "execution_count": 8,
   "metadata": {},
   "outputs": [],
   "source": [
    "from pyspark.sql.types import *\n",
    "\n",
    "programmatical_schema = StructType([\n",
    "        StructField(\"Hotel_Address\",StringType(),True),\n",
    "        StructField(\"Additional_Number_of_Scoring\",IntegerType(),True),\n",
    "        StructField(\"Review_Date\",StringType(),True),\n",
    "        StructField(\"Average_Score\",FloatType(),True),\n",
    "        StructField(\"Hotel_Name\",StringType(),True),\n",
    "        StructField(\"Reviewer_Nationality\",StringType(),True),\n",
    "        StructField(\"Negative_Review\",StringType(),True),\n",
    "        StructField(\"Review_Total_Negative_Word_Counts\",IntegerType(),True),\n",
    "        StructField(\"Total_Number_of_Reviews\",IntegerType(),True),\n",
    "        StructField(\"Positive_Review\",StringType(),True),\n",
    "        StructField(\"Review_Total_Positive_Word_Counts\",IntegerType(),True),\n",
    "        StructField(\"Total_Number_of_Reviews_Reviewer_Has_Given\",IntegerType(),True),\n",
    "        StructField(\"Reviewer_Score\",FloatType(),True),\n",
    "        StructField(\"Tags\",StringType(),True),\n",
    "        StructField(\"days_since_review\",StringType(),True),\n",
    "        StructField(\"lat\",FloatType(),True),\n",
    "        StructField(\"lng\",FloatType(),True)\n",
    "    ])\n",
    "\n",
    "# StructField(\"Tags\",ArrayType(StringType()),True)\n",
    "# Actually Tags should be array but csv cannot store array type.\n",
    "# So you have to define it as StringType \n",
    "\n",
    "# Review_Date is still StringType() and should be DateType() \n",
    "# But for the moment we intentioally leave it StringType()\n",
    "# As soon as we put schema on data we will modify it."
   ]
  },
  {
   "cell_type": "code",
   "execution_count": 9,
   "metadata": {},
   "outputs": [],
   "source": [
    "df = spark.read.option(\"header\", True) \\\n",
    ".schema(programmatical_schema) \\\n",
    ".option(\"compression\",\"gzip\") \\\n",
    ".csv(\"file:///home/train/datasets/Hotel_Reviews.csv.gz\")"
   ]
  },
  {
   "cell_type": "code",
   "execution_count": 10,
   "metadata": {},
   "outputs": [],
   "source": [
    "# Now we can correct Tags datatype\n",
    "# But we have to do additional preperation before cast with split.\n",
    "# And cast Review_Date to date\n",
    "df2 = df.withColumn(\"Tags\", \n",
    "                     F.split(F.col(\"Tags\"), \",\")\n",
    "                     .cast(ArrayType(StringType()))) \\\n",
    ".withColumn(\"Review_Date\", F.to_date(F.col(\"Review_Date\"),\"M/d/yyyy\"))"
   ]
  },
  {
   "cell_type": "code",
   "execution_count": 11,
   "metadata": {},
   "outputs": [
    {
     "data": {
      "text/html": [
       "<div>\n",
       "<style scoped>\n",
       "    .dataframe tbody tr th:only-of-type {\n",
       "        vertical-align: middle;\n",
       "    }\n",
       "\n",
       "    .dataframe tbody tr th {\n",
       "        vertical-align: top;\n",
       "    }\n",
       "\n",
       "    .dataframe thead th {\n",
       "        text-align: right;\n",
       "    }\n",
       "</style>\n",
       "<table border=\"1\" class=\"dataframe\">\n",
       "  <thead>\n",
       "    <tr style=\"text-align: right;\">\n",
       "      <th></th>\n",
       "      <th>Hotel_Address</th>\n",
       "      <th>Additional_Number_of_Scoring</th>\n",
       "      <th>Review_Date</th>\n",
       "      <th>Average_Score</th>\n",
       "      <th>Hotel_Name</th>\n",
       "      <th>Reviewer_Nationality</th>\n",
       "      <th>Negative_Review</th>\n",
       "      <th>Review_Total_Negative_Word_Counts</th>\n",
       "      <th>Total_Number_of_Reviews</th>\n",
       "      <th>Positive_Review</th>\n",
       "      <th>Review_Total_Positive_Word_Counts</th>\n",
       "      <th>Total_Number_of_Reviews_Reviewer_Has_Given</th>\n",
       "      <th>Reviewer_Score</th>\n",
       "      <th>Tags</th>\n",
       "      <th>days_since_review</th>\n",
       "      <th>lat</th>\n",
       "      <th>lng</th>\n",
       "    </tr>\n",
       "  </thead>\n",
       "  <tbody>\n",
       "    <tr>\n",
       "      <th>0</th>\n",
       "      <td>s Gravesandestraat 55 Oost 1092 AA Amsterdam ...</td>\n",
       "      <td>194</td>\n",
       "      <td>2017-08-03</td>\n",
       "      <td>7.7</td>\n",
       "      <td>Hotel Arena</td>\n",
       "      <td>Russia</td>\n",
       "      <td>I am so angry that i made this post available...</td>\n",
       "      <td>397</td>\n",
       "      <td>1403</td>\n",
       "      <td>Only the park outside of the hotel was beauti...</td>\n",
       "      <td>11</td>\n",
       "      <td>7</td>\n",
       "      <td>2.9</td>\n",
       "      <td>[[' Leisure trip ',  ' Couple ',  ' Duplex Dou...</td>\n",
       "      <td>0 days</td>\n",
       "      <td>52.360577</td>\n",
       "      <td>4.915968</td>\n",
       "    </tr>\n",
       "    <tr>\n",
       "      <th>1</th>\n",
       "      <td>s Gravesandestraat 55 Oost 1092 AA Amsterdam ...</td>\n",
       "      <td>194</td>\n",
       "      <td>2017-08-03</td>\n",
       "      <td>7.7</td>\n",
       "      <td>Hotel Arena</td>\n",
       "      <td>Ireland</td>\n",
       "      <td>No Negative</td>\n",
       "      <td>0</td>\n",
       "      <td>1403</td>\n",
       "      <td>No real complaints the hotel was great great ...</td>\n",
       "      <td>105</td>\n",
       "      <td>7</td>\n",
       "      <td>7.5</td>\n",
       "      <td>[[' Leisure trip ',  ' Couple ',  ' Duplex Dou...</td>\n",
       "      <td>0 days</td>\n",
       "      <td>52.360577</td>\n",
       "      <td>4.915968</td>\n",
       "    </tr>\n",
       "  </tbody>\n",
       "</table>\n",
       "</div>"
      ],
      "text/plain": [
       "                                       Hotel_Address  \\\n",
       "0   s Gravesandestraat 55 Oost 1092 AA Amsterdam ...   \n",
       "1   s Gravesandestraat 55 Oost 1092 AA Amsterdam ...   \n",
       "\n",
       "   Additional_Number_of_Scoring Review_Date  Average_Score   Hotel_Name  \\\n",
       "0                           194  2017-08-03            7.7  Hotel Arena   \n",
       "1                           194  2017-08-03            7.7  Hotel Arena   \n",
       "\n",
       "  Reviewer_Nationality                                    Negative_Review  \\\n",
       "0              Russia    I am so angry that i made this post available...   \n",
       "1             Ireland                                         No Negative   \n",
       "\n",
       "   Review_Total_Negative_Word_Counts  Total_Number_of_Reviews  \\\n",
       "0                                397                     1403   \n",
       "1                                  0                     1403   \n",
       "\n",
       "                                     Positive_Review  \\\n",
       "0   Only the park outside of the hotel was beauti...   \n",
       "1   No real complaints the hotel was great great ...   \n",
       "\n",
       "   Review_Total_Positive_Word_Counts  \\\n",
       "0                                 11   \n",
       "1                                105   \n",
       "\n",
       "   Total_Number_of_Reviews_Reviewer_Has_Given  Reviewer_Score  \\\n",
       "0                                           7             2.9   \n",
       "1                                           7             7.5   \n",
       "\n",
       "                                                Tags days_since_review  \\\n",
       "0  [[' Leisure trip ',  ' Couple ',  ' Duplex Dou...            0 days   \n",
       "1  [[' Leisure trip ',  ' Couple ',  ' Duplex Dou...            0 days   \n",
       "\n",
       "         lat       lng  \n",
       "0  52.360577  4.915968  \n",
       "1  52.360577  4.915968  "
      ]
     },
     "execution_count": 11,
     "metadata": {},
     "output_type": "execute_result"
    }
   ],
   "source": [
    "df2.limit(2).toPandas()"
   ]
  },
  {
   "cell_type": "code",
   "execution_count": 12,
   "metadata": {},
   "outputs": [
    {
     "name": "stdout",
     "output_type": "stream",
     "text": [
      "root\n",
      " |-- Hotel_Address: string (nullable = true)\n",
      " |-- Additional_Number_of_Scoring: integer (nullable = true)\n",
      " |-- Review_Date: date (nullable = true)\n",
      " |-- Average_Score: float (nullable = true)\n",
      " |-- Hotel_Name: string (nullable = true)\n",
      " |-- Reviewer_Nationality: string (nullable = true)\n",
      " |-- Negative_Review: string (nullable = true)\n",
      " |-- Review_Total_Negative_Word_Counts: integer (nullable = true)\n",
      " |-- Total_Number_of_Reviews: integer (nullable = true)\n",
      " |-- Positive_Review: string (nullable = true)\n",
      " |-- Review_Total_Positive_Word_Counts: integer (nullable = true)\n",
      " |-- Total_Number_of_Reviews_Reviewer_Has_Given: integer (nullable = true)\n",
      " |-- Reviewer_Score: float (nullable = true)\n",
      " |-- Tags: array (nullable = true)\n",
      " |    |-- element: string (containsNull = true)\n",
      " |-- days_since_review: string (nullable = true)\n",
      " |-- lat: float (nullable = true)\n",
      " |-- lng: float (nullable = true)\n",
      "\n"
     ]
    }
   ],
   "source": [
    "df2.printSchema()"
   ]
  },
  {
   "cell_type": "markdown",
   "metadata": {},
   "source": [
    "# COUNT, AVG, MIN, MAX"
   ]
  },
  {
   "cell_type": "code",
   "execution_count": 13,
   "metadata": {},
   "outputs": [
    {
     "name": "stdout",
     "output_type": "stream",
     "text": [
      "+----------------+----------------+\n",
      "|min(Review_date)|max(Review_Date)|\n",
      "+----------------+----------------+\n",
      "|      2015-08-04|      2017-08-03|\n",
      "+----------------+----------------+\n",
      "\n"
     ]
    }
   ],
   "source": [
    "# Find latest and earliest Review_Date\n",
    "\n",
    "df2.select(F.min(\"Review_date\"), F.max(\"Review_Date\")).show(3)"
   ]
  },
  {
   "cell_type": "code",
   "execution_count": 14,
   "metadata": {},
   "outputs": [
    {
     "name": "stdout",
     "output_type": "stream",
     "text": [
      "+-----------+----------+\n",
      "|Earliest_RD| Latest_RD|\n",
      "+-----------+----------+\n",
      "| 2015-08-04|2017-08-03|\n",
      "+-----------+----------+\n",
      "\n"
     ]
    }
   ],
   "source": [
    "df2.selectExpr(\"MIN(Review_Date) AS Earliest_RD\", \"MAX(Review_Date) AS Latest_RD\").show(3)"
   ]
  },
  {
   "cell_type": "code",
   "execution_count": 15,
   "metadata": {},
   "outputs": [
    {
     "name": "stdout",
     "output_type": "stream",
     "text": [
      "+------------------+-----------------+\n",
      "|           AvgTNWC|          AvgTPWC|\n",
      "+------------------+-----------------+\n",
      "|18.539450263505888|17.77645820164502|\n",
      "+------------------+-----------------+\n",
      "\n"
     ]
    }
   ],
   "source": [
    "# Find average Negative and positive review word counts\n",
    "\n",
    "df2.select(F.avg(\"Review_Total_Negative_Word_Counts\").alias(\"AvgTNWC\"), \n",
    "           F.avg(\"Review_Total_Positive_Word_Counts\").alias(\"AvgTPWC\")).show(3)"
   ]
  },
  {
   "cell_type": "markdown",
   "metadata": {},
   "source": [
    "# GROUP BY"
   ]
  },
  {
   "cell_type": "code",
   "execution_count": 17,
   "metadata": {},
   "outputs": [
    {
     "name": "stdout",
     "output_type": "stream",
     "text": [
      "+----+-------------------+\n",
      "|Year|Total_Average_Score|\n",
      "+----+-------------------+\n",
      "|2015|  791701.2014770508|\n",
      "|2016| 2221477.5038752556|\n",
      "|2017| 1317724.4031033516|\n",
      "+----+-------------------+\n",
      "\n"
     ]
    }
   ],
   "source": [
    "# Review counts across years\n",
    "\n",
    "df2.select('Review_Date','Average_Score').withColumn(\"Year\", F.year(\"Review_Date\")) \\\n",
    ".groupBy('Year') \\\n",
    ".agg(F.sum('Average_Score').alias(\"Total_Average_Score\")) \\\n",
    ".show()"
   ]
  },
  {
   "cell_type": "code",
   "execution_count": null,
   "metadata": {},
   "outputs": [],
   "source": [
    "df2.select('Review_Date').withColumn(\"Year\", F.year(\"Review_Date\")) \\\n",
    ".groupBy('Year') \\\n",
    ".agg(F.count('*').alias(\"Total_Reviews\")) \\\n",
    ".show()"
   ]
  },
  {
   "cell_type": "markdown",
   "metadata": {},
   "source": [
    "# ORDER BY"
   ]
  },
  {
   "cell_type": "code",
   "execution_count": 18,
   "metadata": {},
   "outputs": [
    {
     "name": "stdout",
     "output_type": "stream",
     "text": [
      "+----+-------------+\n",
      "|Year|Total_Reviews|\n",
      "+----+-------------+\n",
      "|2015|        94527|\n",
      "|2017|       156808|\n",
      "|2016|       264403|\n",
      "+----+-------------+\n",
      "\n"
     ]
    }
   ],
   "source": [
    "# Total_Review yıllara\n",
    "df2.select('Review_Date').withColumn(\"Year\", F.year(\"Review_Date\")) \\\n",
    ".groupBy('Year') \\\n",
    ".agg(F.count('*').alias(\"Total_Reviews\")) \\\n",
    ".orderBy('Total_Reviews') \\\n",
    ".show()"
   ]
  },
  {
   "cell_type": "code",
   "execution_count": 19,
   "metadata": {},
   "outputs": [
    {
     "name": "stdout",
     "output_type": "stream",
     "text": [
      "+----+-------------+\n",
      "|Year|Total_Reviews|\n",
      "+----+-------------+\n",
      "|2016|       264403|\n",
      "|2017|       156808|\n",
      "|2015|        94527|\n",
      "+----+-------------+\n",
      "\n"
     ]
    }
   ],
   "source": [
    "# descending order\n",
    "\n",
    "df2.select('Review_Date').withColumn(\"Year\", F.year(\"Review_Date\")) \\\n",
    ".groupBy('Year') \\\n",
    ".agg(F.count('*').alias(\"Total_Reviews\")) \\\n",
    ".orderBy(F.desc('Total_Reviews')) \\\n",
    ".show()"
   ]
  },
  {
   "cell_type": "markdown",
   "metadata": {},
   "source": [
    "## multiple aggregation functions\n"
   ]
  },
  {
   "cell_type": "code",
   "execution_count": 20,
   "metadata": {},
   "outputs": [
    {
     "name": "stdout",
     "output_type": "stream",
     "text": [
      "+----+-------------+------------------+\n",
      "|Year|Total_Reviews|AVG_Reviewer_Score|\n",
      "+----+-------------+------------------+\n",
      "|2016|       264403| 8.424700240521899|\n",
      "|2017|       156808|  8.39047886745722|\n",
      "|2015|        94527| 8.319843073781177|\n",
      "+----+-------------+------------------+\n",
      "\n"
     ]
    }
   ],
   "source": [
    "# Find total and average Reviewer_Scores across years\n",
    "\n",
    "df2.select('Review_Date','Reviewer_Score').withColumn(\"Year\", F.year(\"Review_Date\")) \\\n",
    ".groupBy('Year') \\\n",
    ".agg(F.count('*').alias(\"Total_Reviews\"), F.avg('Reviewer_Score').alias(\"AVG_Reviewer_Score\")) \\\n",
    ".orderBy(F.desc('Total_Reviews')) \\\n",
    ".show()"
   ]
  },
  {
   "cell_type": "code",
   "execution_count": 21,
   "metadata": {},
   "outputs": [
    {
     "name": "stdout",
     "output_type": "stream",
     "text": [
      "+---+-------------+------------------+\n",
      "|Day|Total_Reviews|AVG_Reviewer_Score|\n",
      "+---+-------------+------------------+\n",
      "|  3|       120948| 8.444183518088053|\n",
      "|  4|        58591| 8.405661343067354|\n",
      "|  2|        81145| 8.392337241050269|\n",
      "|  1|        83981| 8.390862285826119|\n",
      "|  6|        44732| 8.373535788875781|\n",
      "|  7|        51833| 8.371462261789713|\n",
      "|  5|        74508| 8.344132239579093|\n",
      "+---+-------------+------------------+\n",
      "\n"
     ]
    }
   ],
   "source": [
    "# Find average Reviewer_Scores across day of week, desc order by AVG score\n",
    "df2.select('Review_Date','Reviewer_Score').withColumn(\"Day\", F.dayofweek(\"Review_Date\")) \\\n",
    ".groupBy('Day') \\\n",
    ".agg(F.count('*').alias(\"Total_Reviews\"), F.avg('Reviewer_Score').alias(\"AVG_Reviewer_Score\")) \\\n",
    ".orderBy(F.desc('AVG_Reviewer_Score')) \\\n",
    ".show()"
   ]
  },
  {
   "cell_type": "code",
   "execution_count": 22,
   "metadata": {},
   "outputs": [
    {
     "name": "stdout",
     "output_type": "stream",
     "text": [
      "+-------------+-------------+------------------+\n",
      "|Day_of_Review|Total_Reviews|AVG_Reviewer_Score|\n",
      "+-------------+-------------+------------------+\n",
      "|          Tue|       120948| 8.444183518088053|\n",
      "|          Wed|        58591| 8.405661343067354|\n",
      "|          Mon|        81145| 8.392337241050269|\n",
      "|          Sun|        83981| 8.390862285826119|\n",
      "|          Fri|        44732| 8.373535788875781|\n",
      "|          Sat|        51833| 8.371462261789713|\n",
      "|          Thu|        74508| 8.344132239579093|\n",
      "+-------------+-------------+------------------+\n",
      "\n"
     ]
    }
   ],
   "source": [
    "# What if we want to day names instead of day number\n",
    "df2.select('Review_Date', F.date_format('Review_Date', 'E').alias('Day_of_Review'), \n",
    "           'Reviewer_Score') \\\n",
    ".groupBy('Day_of_Review') \\\n",
    ".agg(F.count('*').alias(\"Total_Reviews\"), F.avg('Reviewer_Score').alias(\"AVG_Reviewer_Score\")) \\\n",
    ".orderBy(F.desc('AVG_Reviewer_Score')) \\\n",
    ".show()"
   ]
  },
  {
   "cell_type": "code",
   "execution_count": 24,
   "metadata": {},
   "outputs": [],
   "source": [
    "spark.stop()"
   ]
  },
  {
   "cell_type": "code",
   "execution_count": null,
   "metadata": {},
   "outputs": [],
   "source": []
  }
 ],
 "metadata": {
  "kernelspec": {
   "display_name": "venvspark",
   "language": "python",
   "name": "venvspark"
  },
  "language_info": {
   "codemirror_mode": {
    "name": "ipython",
    "version": 3
   },
   "file_extension": ".py",
   "mimetype": "text/x-python",
   "name": "python",
   "nbconvert_exporter": "python",
   "pygments_lexer": "ipython3",
   "version": "3.6.8"
  }
 },
 "nbformat": 4,
 "nbformat_minor": 4
}
