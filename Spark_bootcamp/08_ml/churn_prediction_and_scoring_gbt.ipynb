{
 "cells": [
  {
   "cell_type": "code",
   "execution_count": 1,
   "metadata": {},
   "outputs": [],
   "source": [
    "import findspark"
   ]
  },
  {
   "cell_type": "code",
   "execution_count": 2,
   "metadata": {},
   "outputs": [],
   "source": [
    "findspark.init(\"/opt/manual/spark\")"
   ]
  },
  {
   "cell_type": "code",
   "execution_count": 3,
   "metadata": {},
   "outputs": [],
   "source": [
    "from pyspark.sql import SparkSession, functions as F\n",
    "import pandas as pd"
   ]
  },
  {
   "cell_type": "code",
   "execution_count": 4,
   "metadata": {},
   "outputs": [],
   "source": [
    "spark = SparkSession.builder \\\n",
    ".appName(\"Churn Scoring with GBT\") \\\n",
    ".master(\"yarn\") \\\n",
    ".getOrCreate()"
   ]
  },
  {
   "cell_type": "code",
   "execution_count": 5,
   "metadata": {},
   "outputs": [
    {
     "data": {
      "text/plain": [
       "'3.0.0'"
      ]
     },
     "execution_count": 5,
     "metadata": {},
     "output_type": "execute_result"
    }
   ],
   "source": [
    "spark.version"
   ]
  },
  {
   "cell_type": "code",
   "execution_count": 6,
   "metadata": {},
   "outputs": [
    {
     "name": "stdout",
     "output_type": "stream",
     "text": [
      "Found 3 items\r\n",
      "-rw-r--r--   1 train supergroup    5213392 2020-11-19 21:02 /user/train/datasets/churn-telecom/cell2cellholdout.csv\r\n",
      "-rw-r--r--   1 train supergroup   13416201 2020-11-19 21:02 /user/train/datasets/churn-telecom/cell2celltrain.csv\r\n",
      "drwxr-xr-x   - train supergroup          0 2020-11-19 21:02 /user/train/datasets/churn-telecom/cell2celltrain_clean_parquet\r\n"
     ]
    }
   ],
   "source": [
    "! hdfs dfs -ls /user/train/datasets/churn-telecom"
   ]
  },
  {
   "cell_type": "markdown",
   "metadata": {},
   "source": [
    "## Read train data"
   ]
  },
  {
   "cell_type": "code",
   "execution_count": 7,
   "metadata": {},
   "outputs": [],
   "source": [
    "df1 = spark.read.format(\"parquet\") \\\n",
    ".load(\"hdfs://localhost:9000/user/train/datasets/churn-telecom/cell2celltrain_clean_parquet\")"
   ]
  },
  {
   "cell_type": "markdown",
   "metadata": {},
   "source": [
    "## Explore train data"
   ]
  },
  {
   "cell_type": "code",
   "execution_count": 8,
   "metadata": {
    "scrolled": true
   },
   "outputs": [
    {
     "data": {
      "text/html": [
       "<div>\n",
       "<style scoped>\n",
       "    .dataframe tbody tr th:only-of-type {\n",
       "        vertical-align: middle;\n",
       "    }\n",
       "\n",
       "    .dataframe tbody tr th {\n",
       "        vertical-align: top;\n",
       "    }\n",
       "\n",
       "    .dataframe thead th {\n",
       "        text-align: right;\n",
       "    }\n",
       "</style>\n",
       "<table border=\"1\" class=\"dataframe\">\n",
       "  <thead>\n",
       "    <tr style=\"text-align: right;\">\n",
       "      <th></th>\n",
       "      <th>OptOutMailings</th>\n",
       "      <th>NonUSTravel</th>\n",
       "      <th>OwnsComputer</th>\n",
       "      <th>HasCreditCard</th>\n",
       "      <th>RetentionCalls</th>\n",
       "      <th>RetentionOffersAccepted</th>\n",
       "      <th>NewCellphoneUser</th>\n",
       "      <th>NotNewCellphoneUser</th>\n",
       "      <th>ReferralsMadeBySubscriber</th>\n",
       "      <th>IncomeGroup</th>\n",
       "      <th>OwnsMotorcycle</th>\n",
       "      <th>AdjustmentsToCreditRating</th>\n",
       "      <th>HandsetPrice</th>\n",
       "      <th>MadeCallToRetentionTeam</th>\n",
       "      <th>CreditRating</th>\n",
       "      <th>PrizmCode</th>\n",
       "      <th>Occupation</th>\n",
       "      <th>MaritalStatus</th>\n",
       "    </tr>\n",
       "  </thead>\n",
       "  <tbody>\n",
       "    <tr>\n",
       "      <th>0</th>\n",
       "      <td>No</td>\n",
       "      <td>No</td>\n",
       "      <td>Yes</td>\n",
       "      <td>Yes</td>\n",
       "      <td>1.0</td>\n",
       "      <td>0.0</td>\n",
       "      <td>No</td>\n",
       "      <td>No</td>\n",
       "      <td>0.0</td>\n",
       "      <td>4.0</td>\n",
       "      <td>No</td>\n",
       "      <td>0.0</td>\n",
       "      <td>30.0</td>\n",
       "      <td>Yes</td>\n",
       "      <td>1-Highest</td>\n",
       "      <td>Suburban</td>\n",
       "      <td>Professional</td>\n",
       "      <td>No</td>\n",
       "    </tr>\n",
       "    <tr>\n",
       "      <th>1</th>\n",
       "      <td>No</td>\n",
       "      <td>No</td>\n",
       "      <td>Yes</td>\n",
       "      <td>Yes</td>\n",
       "      <td>0.0</td>\n",
       "      <td>0.0</td>\n",
       "      <td>Yes</td>\n",
       "      <td>No</td>\n",
       "      <td>0.0</td>\n",
       "      <td>5.0</td>\n",
       "      <td>No</td>\n",
       "      <td>0.0</td>\n",
       "      <td>30.0</td>\n",
       "      <td>No</td>\n",
       "      <td>4-Medium</td>\n",
       "      <td>Suburban</td>\n",
       "      <td>Professional</td>\n",
       "      <td>Yes</td>\n",
       "    </tr>\n",
       "    <tr>\n",
       "      <th>2</th>\n",
       "      <td>No</td>\n",
       "      <td>No</td>\n",
       "      <td>No</td>\n",
       "      <td>Yes</td>\n",
       "      <td>0.0</td>\n",
       "      <td>0.0</td>\n",
       "      <td>Yes</td>\n",
       "      <td>No</td>\n",
       "      <td>0.0</td>\n",
       "      <td>6.0</td>\n",
       "      <td>No</td>\n",
       "      <td>0.0</td>\n",
       "      <td>130.0</td>\n",
       "      <td>No</td>\n",
       "      <td>3-Good</td>\n",
       "      <td>Town</td>\n",
       "      <td>Crafts</td>\n",
       "      <td>Yes</td>\n",
       "    </tr>\n",
       "    <tr>\n",
       "      <th>3</th>\n",
       "      <td>No</td>\n",
       "      <td>No</td>\n",
       "      <td>No</td>\n",
       "      <td>Yes</td>\n",
       "      <td>0.0</td>\n",
       "      <td>0.0</td>\n",
       "      <td>Yes</td>\n",
       "      <td>No</td>\n",
       "      <td>0.0</td>\n",
       "      <td>6.0</td>\n",
       "      <td>No</td>\n",
       "      <td>0.0</td>\n",
       "      <td>10.0</td>\n",
       "      <td>No</td>\n",
       "      <td>4-Medium</td>\n",
       "      <td>Other</td>\n",
       "      <td>Other</td>\n",
       "      <td>No</td>\n",
       "    </tr>\n",
       "    <tr>\n",
       "      <th>4</th>\n",
       "      <td>No</td>\n",
       "      <td>No</td>\n",
       "      <td>Yes</td>\n",
       "      <td>Yes</td>\n",
       "      <td>0.0</td>\n",
       "      <td>0.0</td>\n",
       "      <td>No</td>\n",
       "      <td>Yes</td>\n",
       "      <td>0.0</td>\n",
       "      <td>9.0</td>\n",
       "      <td>No</td>\n",
       "      <td>1.0</td>\n",
       "      <td>10.0</td>\n",
       "      <td>No</td>\n",
       "      <td>1-Highest</td>\n",
       "      <td>Other</td>\n",
       "      <td>Professional</td>\n",
       "      <td>Yes</td>\n",
       "    </tr>\n",
       "    <tr>\n",
       "      <th>5</th>\n",
       "      <td>No</td>\n",
       "      <td>Yes</td>\n",
       "      <td>No</td>\n",
       "      <td>Yes</td>\n",
       "      <td>0.0</td>\n",
       "      <td>0.0</td>\n",
       "      <td>Yes</td>\n",
       "      <td>No</td>\n",
       "      <td>0.0</td>\n",
       "      <td>1.0</td>\n",
       "      <td>No</td>\n",
       "      <td>1.0</td>\n",
       "      <td>30.0</td>\n",
       "      <td>No</td>\n",
       "      <td>3-Good</td>\n",
       "      <td>Other</td>\n",
       "      <td>Other</td>\n",
       "      <td>Yes</td>\n",
       "    </tr>\n",
       "    <tr>\n",
       "      <th>6</th>\n",
       "      <td>No</td>\n",
       "      <td>Yes</td>\n",
       "      <td>No</td>\n",
       "      <td>Yes</td>\n",
       "      <td>0.0</td>\n",
       "      <td>0.0</td>\n",
       "      <td>No</td>\n",
       "      <td>Yes</td>\n",
       "      <td>0.0</td>\n",
       "      <td>9.0</td>\n",
       "      <td>No</td>\n",
       "      <td>1.0</td>\n",
       "      <td>30.0</td>\n",
       "      <td>No</td>\n",
       "      <td>1-Highest</td>\n",
       "      <td>Other</td>\n",
       "      <td>Self</td>\n",
       "      <td>Yes</td>\n",
       "    </tr>\n",
       "    <tr>\n",
       "      <th>7</th>\n",
       "      <td>No</td>\n",
       "      <td>No</td>\n",
       "      <td>No</td>\n",
       "      <td>Yes</td>\n",
       "      <td>0.0</td>\n",
       "      <td>0.0</td>\n",
       "      <td>Yes</td>\n",
       "      <td>No</td>\n",
       "      <td>0.0</td>\n",
       "      <td>6.0</td>\n",
       "      <td>No</td>\n",
       "      <td>0.0</td>\n",
       "      <td>30.0</td>\n",
       "      <td>No</td>\n",
       "      <td>1-Highest</td>\n",
       "      <td>Other</td>\n",
       "      <td>Professional</td>\n",
       "      <td>No</td>\n",
       "    </tr>\n",
       "    <tr>\n",
       "      <th>8</th>\n",
       "      <td>No</td>\n",
       "      <td>No</td>\n",
       "      <td>No</td>\n",
       "      <td>Yes</td>\n",
       "      <td>0.0</td>\n",
       "      <td>0.0</td>\n",
       "      <td>Yes</td>\n",
       "      <td>No</td>\n",
       "      <td>0.0</td>\n",
       "      <td>9.0</td>\n",
       "      <td>No</td>\n",
       "      <td>0.0</td>\n",
       "      <td>80.0</td>\n",
       "      <td>No</td>\n",
       "      <td>1-Highest</td>\n",
       "      <td>Other</td>\n",
       "      <td>Other</td>\n",
       "      <td>Yes</td>\n",
       "    </tr>\n",
       "    <tr>\n",
       "      <th>9</th>\n",
       "      <td>No</td>\n",
       "      <td>No</td>\n",
       "      <td>Yes</td>\n",
       "      <td>Yes</td>\n",
       "      <td>0.0</td>\n",
       "      <td>0.0</td>\n",
       "      <td>Yes</td>\n",
       "      <td>No</td>\n",
       "      <td>0.0</td>\n",
       "      <td>5.0</td>\n",
       "      <td>No</td>\n",
       "      <td>1.0</td>\n",
       "      <td>30.0</td>\n",
       "      <td>No</td>\n",
       "      <td>3-Good</td>\n",
       "      <td>Other</td>\n",
       "      <td>Professional</td>\n",
       "      <td>No</td>\n",
       "    </tr>\n",
       "    <tr>\n",
       "      <th>10</th>\n",
       "      <td>No</td>\n",
       "      <td>No</td>\n",
       "      <td>No</td>\n",
       "      <td>No</td>\n",
       "      <td>0.0</td>\n",
       "      <td>0.0</td>\n",
       "      <td>Yes</td>\n",
       "      <td>No</td>\n",
       "      <td>0.0</td>\n",
       "      <td>7.0</td>\n",
       "      <td>No</td>\n",
       "      <td>0.0</td>\n",
       "      <td>30.0</td>\n",
       "      <td>No</td>\n",
       "      <td>1-Highest</td>\n",
       "      <td>Other</td>\n",
       "      <td>Other</td>\n",
       "      <td>Unknown</td>\n",
       "    </tr>\n",
       "    <tr>\n",
       "      <th>11</th>\n",
       "      <td>No</td>\n",
       "      <td>No</td>\n",
       "      <td>Yes</td>\n",
       "      <td>Yes</td>\n",
       "      <td>0.0</td>\n",
       "      <td>0.0</td>\n",
       "      <td>Yes</td>\n",
       "      <td>No</td>\n",
       "      <td>0.0</td>\n",
       "      <td>3.0</td>\n",
       "      <td>No</td>\n",
       "      <td>1.0</td>\n",
       "      <td>80.0</td>\n",
       "      <td>No</td>\n",
       "      <td>4-Medium</td>\n",
       "      <td>Suburban</td>\n",
       "      <td>Other</td>\n",
       "      <td>No</td>\n",
       "    </tr>\n",
       "    <tr>\n",
       "      <th>12</th>\n",
       "      <td>No</td>\n",
       "      <td>No</td>\n",
       "      <td>No</td>\n",
       "      <td>Yes</td>\n",
       "      <td>0.0</td>\n",
       "      <td>0.0</td>\n",
       "      <td>No</td>\n",
       "      <td>Yes</td>\n",
       "      <td>0.0</td>\n",
       "      <td>1.0</td>\n",
       "      <td>No</td>\n",
       "      <td>1.0</td>\n",
       "      <td>30.0</td>\n",
       "      <td>No</td>\n",
       "      <td>3-Good</td>\n",
       "      <td>Suburban</td>\n",
       "      <td>Other</td>\n",
       "      <td>Unknown</td>\n",
       "    </tr>\n",
       "    <tr>\n",
       "      <th>13</th>\n",
       "      <td>No</td>\n",
       "      <td>No</td>\n",
       "      <td>No</td>\n",
       "      <td>Yes</td>\n",
       "      <td>0.0</td>\n",
       "      <td>0.0</td>\n",
       "      <td>No</td>\n",
       "      <td>Yes</td>\n",
       "      <td>0.0</td>\n",
       "      <td>3.0</td>\n",
       "      <td>No</td>\n",
       "      <td>0.0</td>\n",
       "      <td>30.0</td>\n",
       "      <td>No</td>\n",
       "      <td>3-Good</td>\n",
       "      <td>Town</td>\n",
       "      <td>Other</td>\n",
       "      <td>Unknown</td>\n",
       "    </tr>\n",
       "    <tr>\n",
       "      <th>14</th>\n",
       "      <td>No</td>\n",
       "      <td>No</td>\n",
       "      <td>Yes</td>\n",
       "      <td>No</td>\n",
       "      <td>0.0</td>\n",
       "      <td>0.0</td>\n",
       "      <td>Yes</td>\n",
       "      <td>No</td>\n",
       "      <td>0.0</td>\n",
       "      <td>1.0</td>\n",
       "      <td>No</td>\n",
       "      <td>0.0</td>\n",
       "      <td>10.0</td>\n",
       "      <td>No</td>\n",
       "      <td>3-Good</td>\n",
       "      <td>Other</td>\n",
       "      <td>Other</td>\n",
       "      <td>No</td>\n",
       "    </tr>\n",
       "    <tr>\n",
       "      <th>15</th>\n",
       "      <td>No</td>\n",
       "      <td>No</td>\n",
       "      <td>No</td>\n",
       "      <td>Yes</td>\n",
       "      <td>1.0</td>\n",
       "      <td>0.0</td>\n",
       "      <td>No</td>\n",
       "      <td>No</td>\n",
       "      <td>0.0</td>\n",
       "      <td>6.0</td>\n",
       "      <td>No</td>\n",
       "      <td>0.0</td>\n",
       "      <td>150.0</td>\n",
       "      <td>Yes</td>\n",
       "      <td>1-Highest</td>\n",
       "      <td>Other</td>\n",
       "      <td>Professional</td>\n",
       "      <td>Unknown</td>\n",
       "    </tr>\n",
       "    <tr>\n",
       "      <th>16</th>\n",
       "      <td>No</td>\n",
       "      <td>No</td>\n",
       "      <td>No</td>\n",
       "      <td>Yes</td>\n",
       "      <td>0.0</td>\n",
       "      <td>0.0</td>\n",
       "      <td>Yes</td>\n",
       "      <td>No</td>\n",
       "      <td>0.0</td>\n",
       "      <td>9.0</td>\n",
       "      <td>No</td>\n",
       "      <td>0.0</td>\n",
       "      <td>30.0</td>\n",
       "      <td>No</td>\n",
       "      <td>1-Highest</td>\n",
       "      <td>Other</td>\n",
       "      <td>Other</td>\n",
       "      <td>Unknown</td>\n",
       "    </tr>\n",
       "    <tr>\n",
       "      <th>17</th>\n",
       "      <td>No</td>\n",
       "      <td>No</td>\n",
       "      <td>No</td>\n",
       "      <td>No</td>\n",
       "      <td>0.0</td>\n",
       "      <td>0.0</td>\n",
       "      <td>Yes</td>\n",
       "      <td>No</td>\n",
       "      <td>0.0</td>\n",
       "      <td>0.0</td>\n",
       "      <td>No</td>\n",
       "      <td>0.0</td>\n",
       "      <td>30.0</td>\n",
       "      <td>No</td>\n",
       "      <td>3-Good</td>\n",
       "      <td>Other</td>\n",
       "      <td>Other</td>\n",
       "      <td>Unknown</td>\n",
       "    </tr>\n",
       "    <tr>\n",
       "      <th>18</th>\n",
       "      <td>No</td>\n",
       "      <td>No</td>\n",
       "      <td>No</td>\n",
       "      <td>No</td>\n",
       "      <td>0.0</td>\n",
       "      <td>0.0</td>\n",
       "      <td>No</td>\n",
       "      <td>Yes</td>\n",
       "      <td>0.0</td>\n",
       "      <td>9.0</td>\n",
       "      <td>No</td>\n",
       "      <td>0.0</td>\n",
       "      <td>30.0</td>\n",
       "      <td>No</td>\n",
       "      <td>1-Highest</td>\n",
       "      <td>Other</td>\n",
       "      <td>Other</td>\n",
       "      <td>No</td>\n",
       "    </tr>\n",
       "    <tr>\n",
       "      <th>19</th>\n",
       "      <td>No</td>\n",
       "      <td>No</td>\n",
       "      <td>Yes</td>\n",
       "      <td>Yes</td>\n",
       "      <td>0.0</td>\n",
       "      <td>0.0</td>\n",
       "      <td>Yes</td>\n",
       "      <td>No</td>\n",
       "      <td>0.0</td>\n",
       "      <td>3.0</td>\n",
       "      <td>No</td>\n",
       "      <td>0.0</td>\n",
       "      <td>30.0</td>\n",
       "      <td>No</td>\n",
       "      <td>4-Medium</td>\n",
       "      <td>Rural</td>\n",
       "      <td>Other</td>\n",
       "      <td>Unknown</td>\n",
       "    </tr>\n",
       "    <tr>\n",
       "      <th>20</th>\n",
       "      <td>No</td>\n",
       "      <td>No</td>\n",
       "      <td>No</td>\n",
       "      <td>Yes</td>\n",
       "      <td>0.0</td>\n",
       "      <td>0.0</td>\n",
       "      <td>No</td>\n",
       "      <td>Yes</td>\n",
       "      <td>0.0</td>\n",
       "      <td>5.0</td>\n",
       "      <td>No</td>\n",
       "      <td>0.0</td>\n",
       "      <td>30.0</td>\n",
       "      <td>No</td>\n",
       "      <td>1-Highest</td>\n",
       "      <td>Suburban</td>\n",
       "      <td>Professional</td>\n",
       "      <td>Yes</td>\n",
       "    </tr>\n",
       "    <tr>\n",
       "      <th>21</th>\n",
       "      <td>No</td>\n",
       "      <td>Yes</td>\n",
       "      <td>No</td>\n",
       "      <td>Yes</td>\n",
       "      <td>0.0</td>\n",
       "      <td>0.0</td>\n",
       "      <td>Yes</td>\n",
       "      <td>No</td>\n",
       "      <td>0.0</td>\n",
       "      <td>7.0</td>\n",
       "      <td>No</td>\n",
       "      <td>1.0</td>\n",
       "      <td>30.0</td>\n",
       "      <td>No</td>\n",
       "      <td>1-Highest</td>\n",
       "      <td>Town</td>\n",
       "      <td>Professional</td>\n",
       "      <td>Yes</td>\n",
       "    </tr>\n",
       "    <tr>\n",
       "      <th>22</th>\n",
       "      <td>No</td>\n",
       "      <td>No</td>\n",
       "      <td>No</td>\n",
       "      <td>Yes</td>\n",
       "      <td>0.0</td>\n",
       "      <td>0.0</td>\n",
       "      <td>No</td>\n",
       "      <td>Yes</td>\n",
       "      <td>0.0</td>\n",
       "      <td>9.0</td>\n",
       "      <td>Yes</td>\n",
       "      <td>0.0</td>\n",
       "      <td>30.0</td>\n",
       "      <td>No</td>\n",
       "      <td>1-Highest</td>\n",
       "      <td>Suburban</td>\n",
       "      <td>Other</td>\n",
       "      <td>Yes</td>\n",
       "    </tr>\n",
       "    <tr>\n",
       "      <th>23</th>\n",
       "      <td>No</td>\n",
       "      <td>No</td>\n",
       "      <td>No</td>\n",
       "      <td>Yes</td>\n",
       "      <td>0.0</td>\n",
       "      <td>0.0</td>\n",
       "      <td>No</td>\n",
       "      <td>Yes</td>\n",
       "      <td>0.0</td>\n",
       "      <td>7.0</td>\n",
       "      <td>No</td>\n",
       "      <td>3.0</td>\n",
       "      <td>10.0</td>\n",
       "      <td>No</td>\n",
       "      <td>1-Highest</td>\n",
       "      <td>Town</td>\n",
       "      <td>Other</td>\n",
       "      <td>Unknown</td>\n",
       "    </tr>\n",
       "    <tr>\n",
       "      <th>24</th>\n",
       "      <td>No</td>\n",
       "      <td>No</td>\n",
       "      <td>Yes</td>\n",
       "      <td>Yes</td>\n",
       "      <td>0.0</td>\n",
       "      <td>0.0</td>\n",
       "      <td>Yes</td>\n",
       "      <td>No</td>\n",
       "      <td>0.0</td>\n",
       "      <td>9.0</td>\n",
       "      <td>No</td>\n",
       "      <td>0.0</td>\n",
       "      <td>150.0</td>\n",
       "      <td>No</td>\n",
       "      <td>1-Highest</td>\n",
       "      <td>Town</td>\n",
       "      <td>Other</td>\n",
       "      <td>Yes</td>\n",
       "    </tr>\n",
       "    <tr>\n",
       "      <th>25</th>\n",
       "      <td>No</td>\n",
       "      <td>No</td>\n",
       "      <td>No</td>\n",
       "      <td>Yes</td>\n",
       "      <td>0.0</td>\n",
       "      <td>0.0</td>\n",
       "      <td>Yes</td>\n",
       "      <td>No</td>\n",
       "      <td>0.0</td>\n",
       "      <td>9.0</td>\n",
       "      <td>No</td>\n",
       "      <td>1.0</td>\n",
       "      <td>30.0</td>\n",
       "      <td>No</td>\n",
       "      <td>1-Highest</td>\n",
       "      <td>Suburban</td>\n",
       "      <td>Professional</td>\n",
       "      <td>Yes</td>\n",
       "    </tr>\n",
       "    <tr>\n",
       "      <th>26</th>\n",
       "      <td>No</td>\n",
       "      <td>No</td>\n",
       "      <td>No</td>\n",
       "      <td>Yes</td>\n",
       "      <td>0.0</td>\n",
       "      <td>0.0</td>\n",
       "      <td>No</td>\n",
       "      <td>No</td>\n",
       "      <td>0.0</td>\n",
       "      <td>8.0</td>\n",
       "      <td>No</td>\n",
       "      <td>0.0</td>\n",
       "      <td>30.0</td>\n",
       "      <td>No</td>\n",
       "      <td>1-Highest</td>\n",
       "      <td>Suburban</td>\n",
       "      <td>Other</td>\n",
       "      <td>Yes</td>\n",
       "    </tr>\n",
       "    <tr>\n",
       "      <th>27</th>\n",
       "      <td>No</td>\n",
       "      <td>No</td>\n",
       "      <td>Yes</td>\n",
       "      <td>Yes</td>\n",
       "      <td>0.0</td>\n",
       "      <td>0.0</td>\n",
       "      <td>No</td>\n",
       "      <td>Yes</td>\n",
       "      <td>0.0</td>\n",
       "      <td>9.0</td>\n",
       "      <td>No</td>\n",
       "      <td>1.0</td>\n",
       "      <td>80.0</td>\n",
       "      <td>No</td>\n",
       "      <td>1-Highest</td>\n",
       "      <td>Suburban</td>\n",
       "      <td>Other</td>\n",
       "      <td>Yes</td>\n",
       "    </tr>\n",
       "    <tr>\n",
       "      <th>28</th>\n",
       "      <td>No</td>\n",
       "      <td>Yes</td>\n",
       "      <td>Yes</td>\n",
       "      <td>Yes</td>\n",
       "      <td>0.0</td>\n",
       "      <td>0.0</td>\n",
       "      <td>Yes</td>\n",
       "      <td>No</td>\n",
       "      <td>0.0</td>\n",
       "      <td>6.0</td>\n",
       "      <td>No</td>\n",
       "      <td>0.0</td>\n",
       "      <td>130.0</td>\n",
       "      <td>No</td>\n",
       "      <td>1-Highest</td>\n",
       "      <td>Suburban</td>\n",
       "      <td>Professional</td>\n",
       "      <td>Yes</td>\n",
       "    </tr>\n",
       "    <tr>\n",
       "      <th>29</th>\n",
       "      <td>No</td>\n",
       "      <td>No</td>\n",
       "      <td>No</td>\n",
       "      <td>Yes</td>\n",
       "      <td>0.0</td>\n",
       "      <td>0.0</td>\n",
       "      <td>No</td>\n",
       "      <td>Yes</td>\n",
       "      <td>0.0</td>\n",
       "      <td>9.0</td>\n",
       "      <td>No</td>\n",
       "      <td>1.0</td>\n",
       "      <td>30.0</td>\n",
       "      <td>No</td>\n",
       "      <td>3-Good</td>\n",
       "      <td>Suburban</td>\n",
       "      <td>Professional</td>\n",
       "      <td>No</td>\n",
       "    </tr>\n",
       "    <tr>\n",
       "      <th>30</th>\n",
       "      <td>No</td>\n",
       "      <td>No</td>\n",
       "      <td>No</td>\n",
       "      <td>Yes</td>\n",
       "      <td>0.0</td>\n",
       "      <td>0.0</td>\n",
       "      <td>No</td>\n",
       "      <td>Yes</td>\n",
       "      <td>0.0</td>\n",
       "      <td>5.0</td>\n",
       "      <td>No</td>\n",
       "      <td>0.0</td>\n",
       "      <td>10.0</td>\n",
       "      <td>No</td>\n",
       "      <td>1-Highest</td>\n",
       "      <td>Town</td>\n",
       "      <td>Crafts</td>\n",
       "      <td>Yes</td>\n",
       "    </tr>\n",
       "    <tr>\n",
       "      <th>31</th>\n",
       "      <td>No</td>\n",
       "      <td>No</td>\n",
       "      <td>No</td>\n",
       "      <td>Yes</td>\n",
       "      <td>0.0</td>\n",
       "      <td>0.0</td>\n",
       "      <td>Yes</td>\n",
       "      <td>No</td>\n",
       "      <td>0.0</td>\n",
       "      <td>7.0</td>\n",
       "      <td>Yes</td>\n",
       "      <td>0.0</td>\n",
       "      <td>30.0</td>\n",
       "      <td>No</td>\n",
       "      <td>3-Good</td>\n",
       "      <td>Suburban</td>\n",
       "      <td>Other</td>\n",
       "      <td>Yes</td>\n",
       "    </tr>\n",
       "    <tr>\n",
       "      <th>32</th>\n",
       "      <td>No</td>\n",
       "      <td>Yes</td>\n",
       "      <td>Yes</td>\n",
       "      <td>Yes</td>\n",
       "      <td>0.0</td>\n",
       "      <td>0.0</td>\n",
       "      <td>No</td>\n",
       "      <td>Yes</td>\n",
       "      <td>0.0</td>\n",
       "      <td>3.0</td>\n",
       "      <td>No</td>\n",
       "      <td>1.0</td>\n",
       "      <td>30.0</td>\n",
       "      <td>No</td>\n",
       "      <td>1-Highest</td>\n",
       "      <td>Suburban</td>\n",
       "      <td>Retired</td>\n",
       "      <td>Yes</td>\n",
       "    </tr>\n",
       "    <tr>\n",
       "      <th>33</th>\n",
       "      <td>No</td>\n",
       "      <td>No</td>\n",
       "      <td>No</td>\n",
       "      <td>Yes</td>\n",
       "      <td>0.0</td>\n",
       "      <td>0.0</td>\n",
       "      <td>Yes</td>\n",
       "      <td>No</td>\n",
       "      <td>0.0</td>\n",
       "      <td>9.0</td>\n",
       "      <td>No</td>\n",
       "      <td>1.0</td>\n",
       "      <td>30.0</td>\n",
       "      <td>No</td>\n",
       "      <td>1-Highest</td>\n",
       "      <td>Suburban</td>\n",
       "      <td>Other</td>\n",
       "      <td>Yes</td>\n",
       "    </tr>\n",
       "    <tr>\n",
       "      <th>34</th>\n",
       "      <td>No</td>\n",
       "      <td>No</td>\n",
       "      <td>No</td>\n",
       "      <td>No</td>\n",
       "      <td>0.0</td>\n",
       "      <td>0.0</td>\n",
       "      <td>No</td>\n",
       "      <td>Yes</td>\n",
       "      <td>0.0</td>\n",
       "      <td>0.0</td>\n",
       "      <td>No</td>\n",
       "      <td>0.0</td>\n",
       "      <td>10.0</td>\n",
       "      <td>No</td>\n",
       "      <td>3-Good</td>\n",
       "      <td>Town</td>\n",
       "      <td>Other</td>\n",
       "      <td>Unknown</td>\n",
       "    </tr>\n",
       "    <tr>\n",
       "      <th>35</th>\n",
       "      <td>No</td>\n",
       "      <td>No</td>\n",
       "      <td>No</td>\n",
       "      <td>Yes</td>\n",
       "      <td>0.0</td>\n",
       "      <td>0.0</td>\n",
       "      <td>Yes</td>\n",
       "      <td>No</td>\n",
       "      <td>0.0</td>\n",
       "      <td>6.0</td>\n",
       "      <td>No</td>\n",
       "      <td>1.0</td>\n",
       "      <td>10.0</td>\n",
       "      <td>No</td>\n",
       "      <td>1-Highest</td>\n",
       "      <td>Rural</td>\n",
       "      <td>Self</td>\n",
       "      <td>No</td>\n",
       "    </tr>\n",
       "    <tr>\n",
       "      <th>36</th>\n",
       "      <td>No</td>\n",
       "      <td>No</td>\n",
       "      <td>No</td>\n",
       "      <td>No</td>\n",
       "      <td>0.0</td>\n",
       "      <td>0.0</td>\n",
       "      <td>Yes</td>\n",
       "      <td>No</td>\n",
       "      <td>0.0</td>\n",
       "      <td>7.0</td>\n",
       "      <td>No</td>\n",
       "      <td>0.0</td>\n",
       "      <td>130.0</td>\n",
       "      <td>No</td>\n",
       "      <td>1-Highest</td>\n",
       "      <td>Town</td>\n",
       "      <td>Other</td>\n",
       "      <td>No</td>\n",
       "    </tr>\n",
       "    <tr>\n",
       "      <th>37</th>\n",
       "      <td>No</td>\n",
       "      <td>No</td>\n",
       "      <td>Yes</td>\n",
       "      <td>Yes</td>\n",
       "      <td>0.0</td>\n",
       "      <td>0.0</td>\n",
       "      <td>No</td>\n",
       "      <td>Yes</td>\n",
       "      <td>0.0</td>\n",
       "      <td>7.0</td>\n",
       "      <td>No</td>\n",
       "      <td>0.0</td>\n",
       "      <td>30.0</td>\n",
       "      <td>No</td>\n",
       "      <td>1-Highest</td>\n",
       "      <td>Suburban</td>\n",
       "      <td>Professional</td>\n",
       "      <td>Yes</td>\n",
       "    </tr>\n",
       "    <tr>\n",
       "      <th>38</th>\n",
       "      <td>No</td>\n",
       "      <td>No</td>\n",
       "      <td>No</td>\n",
       "      <td>Yes</td>\n",
       "      <td>0.0</td>\n",
       "      <td>0.0</td>\n",
       "      <td>No</td>\n",
       "      <td>No</td>\n",
       "      <td>0.0</td>\n",
       "      <td>7.0</td>\n",
       "      <td>No</td>\n",
       "      <td>0.0</td>\n",
       "      <td>130.0</td>\n",
       "      <td>No</td>\n",
       "      <td>1-Highest</td>\n",
       "      <td>Other</td>\n",
       "      <td>Other</td>\n",
       "      <td>Yes</td>\n",
       "    </tr>\n",
       "    <tr>\n",
       "      <th>39</th>\n",
       "      <td>No</td>\n",
       "      <td>No</td>\n",
       "      <td>Yes</td>\n",
       "      <td>Yes</td>\n",
       "      <td>0.0</td>\n",
       "      <td>0.0</td>\n",
       "      <td>Yes</td>\n",
       "      <td>No</td>\n",
       "      <td>0.0</td>\n",
       "      <td>6.0</td>\n",
       "      <td>No</td>\n",
       "      <td>0.0</td>\n",
       "      <td>10.0</td>\n",
       "      <td>No</td>\n",
       "      <td>3-Good</td>\n",
       "      <td>Suburban</td>\n",
       "      <td>Other</td>\n",
       "      <td>No</td>\n",
       "    </tr>\n",
       "    <tr>\n",
       "      <th>40</th>\n",
       "      <td>No</td>\n",
       "      <td>No</td>\n",
       "      <td>No</td>\n",
       "      <td>Yes</td>\n",
       "      <td>0.0</td>\n",
       "      <td>0.0</td>\n",
       "      <td>Yes</td>\n",
       "      <td>No</td>\n",
       "      <td>0.0</td>\n",
       "      <td>6.0</td>\n",
       "      <td>No</td>\n",
       "      <td>2.0</td>\n",
       "      <td>30.0</td>\n",
       "      <td>No</td>\n",
       "      <td>3-Good</td>\n",
       "      <td>Suburban</td>\n",
       "      <td>Self</td>\n",
       "      <td>Yes</td>\n",
       "    </tr>\n",
       "    <tr>\n",
       "      <th>41</th>\n",
       "      <td>No</td>\n",
       "      <td>No</td>\n",
       "      <td>Yes</td>\n",
       "      <td>Yes</td>\n",
       "      <td>0.0</td>\n",
       "      <td>0.0</td>\n",
       "      <td>Yes</td>\n",
       "      <td>No</td>\n",
       "      <td>0.0</td>\n",
       "      <td>6.0</td>\n",
       "      <td>No</td>\n",
       "      <td>2.0</td>\n",
       "      <td>300.0</td>\n",
       "      <td>No</td>\n",
       "      <td>3-Good</td>\n",
       "      <td>Town</td>\n",
       "      <td>Other</td>\n",
       "      <td>No</td>\n",
       "    </tr>\n",
       "    <tr>\n",
       "      <th>42</th>\n",
       "      <td>No</td>\n",
       "      <td>No</td>\n",
       "      <td>No</td>\n",
       "      <td>Yes</td>\n",
       "      <td>0.0</td>\n",
       "      <td>0.0</td>\n",
       "      <td>No</td>\n",
       "      <td>Yes</td>\n",
       "      <td>0.0</td>\n",
       "      <td>3.0</td>\n",
       "      <td>No</td>\n",
       "      <td>1.0</td>\n",
       "      <td>80.0</td>\n",
       "      <td>No</td>\n",
       "      <td>4-Medium</td>\n",
       "      <td>Other</td>\n",
       "      <td>Other</td>\n",
       "      <td>No</td>\n",
       "    </tr>\n",
       "    <tr>\n",
       "      <th>43</th>\n",
       "      <td>No</td>\n",
       "      <td>No</td>\n",
       "      <td>No</td>\n",
       "      <td>Yes</td>\n",
       "      <td>0.0</td>\n",
       "      <td>0.0</td>\n",
       "      <td>No</td>\n",
       "      <td>No</td>\n",
       "      <td>0.0</td>\n",
       "      <td>4.0</td>\n",
       "      <td>No</td>\n",
       "      <td>0.0</td>\n",
       "      <td>130.0</td>\n",
       "      <td>No</td>\n",
       "      <td>4-Medium</td>\n",
       "      <td>Town</td>\n",
       "      <td>Other</td>\n",
       "      <td>No</td>\n",
       "    </tr>\n",
       "    <tr>\n",
       "      <th>44</th>\n",
       "      <td>No</td>\n",
       "      <td>No</td>\n",
       "      <td>No</td>\n",
       "      <td>No</td>\n",
       "      <td>0.0</td>\n",
       "      <td>0.0</td>\n",
       "      <td>No</td>\n",
       "      <td>Yes</td>\n",
       "      <td>0.0</td>\n",
       "      <td>0.0</td>\n",
       "      <td>No</td>\n",
       "      <td>2.0</td>\n",
       "      <td>10.0</td>\n",
       "      <td>No</td>\n",
       "      <td>4-Medium</td>\n",
       "      <td>Suburban</td>\n",
       "      <td>Other</td>\n",
       "      <td>Unknown</td>\n",
       "    </tr>\n",
       "    <tr>\n",
       "      <th>45</th>\n",
       "      <td>No</td>\n",
       "      <td>No</td>\n",
       "      <td>No</td>\n",
       "      <td>No</td>\n",
       "      <td>0.0</td>\n",
       "      <td>0.0</td>\n",
       "      <td>Yes</td>\n",
       "      <td>No</td>\n",
       "      <td>0.0</td>\n",
       "      <td>7.0</td>\n",
       "      <td>No</td>\n",
       "      <td>1.0</td>\n",
       "      <td>150.0</td>\n",
       "      <td>No</td>\n",
       "      <td>4-Medium</td>\n",
       "      <td>Town</td>\n",
       "      <td>Other</td>\n",
       "      <td>Unknown</td>\n",
       "    </tr>\n",
       "  </tbody>\n",
       "</table>\n",
       "</div>"
      ],
      "text/plain": [
       "   OptOutMailings NonUSTravel OwnsComputer HasCreditCard  RetentionCalls  \\\n",
       "0              No          No          Yes           Yes             1.0   \n",
       "1              No          No          Yes           Yes             0.0   \n",
       "2              No          No           No           Yes             0.0   \n",
       "3              No          No           No           Yes             0.0   \n",
       "4              No          No          Yes           Yes             0.0   \n",
       "5              No         Yes           No           Yes             0.0   \n",
       "6              No         Yes           No           Yes             0.0   \n",
       "7              No          No           No           Yes             0.0   \n",
       "8              No          No           No           Yes             0.0   \n",
       "9              No          No          Yes           Yes             0.0   \n",
       "10             No          No           No            No             0.0   \n",
       "11             No          No          Yes           Yes             0.0   \n",
       "12             No          No           No           Yes             0.0   \n",
       "13             No          No           No           Yes             0.0   \n",
       "14             No          No          Yes            No             0.0   \n",
       "15             No          No           No           Yes             1.0   \n",
       "16             No          No           No           Yes             0.0   \n",
       "17             No          No           No            No             0.0   \n",
       "18             No          No           No            No             0.0   \n",
       "19             No          No          Yes           Yes             0.0   \n",
       "20             No          No           No           Yes             0.0   \n",
       "21             No         Yes           No           Yes             0.0   \n",
       "22             No          No           No           Yes             0.0   \n",
       "23             No          No           No           Yes             0.0   \n",
       "24             No          No          Yes           Yes             0.0   \n",
       "25             No          No           No           Yes             0.0   \n",
       "26             No          No           No           Yes             0.0   \n",
       "27             No          No          Yes           Yes             0.0   \n",
       "28             No         Yes          Yes           Yes             0.0   \n",
       "29             No          No           No           Yes             0.0   \n",
       "30             No          No           No           Yes             0.0   \n",
       "31             No          No           No           Yes             0.0   \n",
       "32             No         Yes          Yes           Yes             0.0   \n",
       "33             No          No           No           Yes             0.0   \n",
       "34             No          No           No            No             0.0   \n",
       "35             No          No           No           Yes             0.0   \n",
       "36             No          No           No            No             0.0   \n",
       "37             No          No          Yes           Yes             0.0   \n",
       "38             No          No           No           Yes             0.0   \n",
       "39             No          No          Yes           Yes             0.0   \n",
       "40             No          No           No           Yes             0.0   \n",
       "41             No          No          Yes           Yes             0.0   \n",
       "42             No          No           No           Yes             0.0   \n",
       "43             No          No           No           Yes             0.0   \n",
       "44             No          No           No            No             0.0   \n",
       "45             No          No           No            No             0.0   \n",
       "\n",
       "    RetentionOffersAccepted NewCellphoneUser NotNewCellphoneUser  \\\n",
       "0                       0.0               No                  No   \n",
       "1                       0.0              Yes                  No   \n",
       "2                       0.0              Yes                  No   \n",
       "3                       0.0              Yes                  No   \n",
       "4                       0.0               No                 Yes   \n",
       "5                       0.0              Yes                  No   \n",
       "6                       0.0               No                 Yes   \n",
       "7                       0.0              Yes                  No   \n",
       "8                       0.0              Yes                  No   \n",
       "9                       0.0              Yes                  No   \n",
       "10                      0.0              Yes                  No   \n",
       "11                      0.0              Yes                  No   \n",
       "12                      0.0               No                 Yes   \n",
       "13                      0.0               No                 Yes   \n",
       "14                      0.0              Yes                  No   \n",
       "15                      0.0               No                  No   \n",
       "16                      0.0              Yes                  No   \n",
       "17                      0.0              Yes                  No   \n",
       "18                      0.0               No                 Yes   \n",
       "19                      0.0              Yes                  No   \n",
       "20                      0.0               No                 Yes   \n",
       "21                      0.0              Yes                  No   \n",
       "22                      0.0               No                 Yes   \n",
       "23                      0.0               No                 Yes   \n",
       "24                      0.0              Yes                  No   \n",
       "25                      0.0              Yes                  No   \n",
       "26                      0.0               No                  No   \n",
       "27                      0.0               No                 Yes   \n",
       "28                      0.0              Yes                  No   \n",
       "29                      0.0               No                 Yes   \n",
       "30                      0.0               No                 Yes   \n",
       "31                      0.0              Yes                  No   \n",
       "32                      0.0               No                 Yes   \n",
       "33                      0.0              Yes                  No   \n",
       "34                      0.0               No                 Yes   \n",
       "35                      0.0              Yes                  No   \n",
       "36                      0.0              Yes                  No   \n",
       "37                      0.0               No                 Yes   \n",
       "38                      0.0               No                  No   \n",
       "39                      0.0              Yes                  No   \n",
       "40                      0.0              Yes                  No   \n",
       "41                      0.0              Yes                  No   \n",
       "42                      0.0               No                 Yes   \n",
       "43                      0.0               No                  No   \n",
       "44                      0.0               No                 Yes   \n",
       "45                      0.0              Yes                  No   \n",
       "\n",
       "    ReferralsMadeBySubscriber  IncomeGroup OwnsMotorcycle  \\\n",
       "0                         0.0          4.0             No   \n",
       "1                         0.0          5.0             No   \n",
       "2                         0.0          6.0             No   \n",
       "3                         0.0          6.0             No   \n",
       "4                         0.0          9.0             No   \n",
       "5                         0.0          1.0             No   \n",
       "6                         0.0          9.0             No   \n",
       "7                         0.0          6.0             No   \n",
       "8                         0.0          9.0             No   \n",
       "9                         0.0          5.0             No   \n",
       "10                        0.0          7.0             No   \n",
       "11                        0.0          3.0             No   \n",
       "12                        0.0          1.0             No   \n",
       "13                        0.0          3.0             No   \n",
       "14                        0.0          1.0             No   \n",
       "15                        0.0          6.0             No   \n",
       "16                        0.0          9.0             No   \n",
       "17                        0.0          0.0             No   \n",
       "18                        0.0          9.0             No   \n",
       "19                        0.0          3.0             No   \n",
       "20                        0.0          5.0             No   \n",
       "21                        0.0          7.0             No   \n",
       "22                        0.0          9.0            Yes   \n",
       "23                        0.0          7.0             No   \n",
       "24                        0.0          9.0             No   \n",
       "25                        0.0          9.0             No   \n",
       "26                        0.0          8.0             No   \n",
       "27                        0.0          9.0             No   \n",
       "28                        0.0          6.0             No   \n",
       "29                        0.0          9.0             No   \n",
       "30                        0.0          5.0             No   \n",
       "31                        0.0          7.0            Yes   \n",
       "32                        0.0          3.0             No   \n",
       "33                        0.0          9.0             No   \n",
       "34                        0.0          0.0             No   \n",
       "35                        0.0          6.0             No   \n",
       "36                        0.0          7.0             No   \n",
       "37                        0.0          7.0             No   \n",
       "38                        0.0          7.0             No   \n",
       "39                        0.0          6.0             No   \n",
       "40                        0.0          6.0             No   \n",
       "41                        0.0          6.0             No   \n",
       "42                        0.0          3.0             No   \n",
       "43                        0.0          4.0             No   \n",
       "44                        0.0          0.0             No   \n",
       "45                        0.0          7.0             No   \n",
       "\n",
       "    AdjustmentsToCreditRating  HandsetPrice MadeCallToRetentionTeam  \\\n",
       "0                         0.0          30.0                     Yes   \n",
       "1                         0.0          30.0                      No   \n",
       "2                         0.0         130.0                      No   \n",
       "3                         0.0          10.0                      No   \n",
       "4                         1.0          10.0                      No   \n",
       "5                         1.0          30.0                      No   \n",
       "6                         1.0          30.0                      No   \n",
       "7                         0.0          30.0                      No   \n",
       "8                         0.0          80.0                      No   \n",
       "9                         1.0          30.0                      No   \n",
       "10                        0.0          30.0                      No   \n",
       "11                        1.0          80.0                      No   \n",
       "12                        1.0          30.0                      No   \n",
       "13                        0.0          30.0                      No   \n",
       "14                        0.0          10.0                      No   \n",
       "15                        0.0         150.0                     Yes   \n",
       "16                        0.0          30.0                      No   \n",
       "17                        0.0          30.0                      No   \n",
       "18                        0.0          30.0                      No   \n",
       "19                        0.0          30.0                      No   \n",
       "20                        0.0          30.0                      No   \n",
       "21                        1.0          30.0                      No   \n",
       "22                        0.0          30.0                      No   \n",
       "23                        3.0          10.0                      No   \n",
       "24                        0.0         150.0                      No   \n",
       "25                        1.0          30.0                      No   \n",
       "26                        0.0          30.0                      No   \n",
       "27                        1.0          80.0                      No   \n",
       "28                        0.0         130.0                      No   \n",
       "29                        1.0          30.0                      No   \n",
       "30                        0.0          10.0                      No   \n",
       "31                        0.0          30.0                      No   \n",
       "32                        1.0          30.0                      No   \n",
       "33                        1.0          30.0                      No   \n",
       "34                        0.0          10.0                      No   \n",
       "35                        1.0          10.0                      No   \n",
       "36                        0.0         130.0                      No   \n",
       "37                        0.0          30.0                      No   \n",
       "38                        0.0         130.0                      No   \n",
       "39                        0.0          10.0                      No   \n",
       "40                        2.0          30.0                      No   \n",
       "41                        2.0         300.0                      No   \n",
       "42                        1.0          80.0                      No   \n",
       "43                        0.0         130.0                      No   \n",
       "44                        2.0          10.0                      No   \n",
       "45                        1.0         150.0                      No   \n",
       "\n",
       "   CreditRating PrizmCode    Occupation MaritalStatus  \n",
       "0     1-Highest  Suburban  Professional            No  \n",
       "1      4-Medium  Suburban  Professional           Yes  \n",
       "2        3-Good      Town        Crafts           Yes  \n",
       "3      4-Medium     Other         Other            No  \n",
       "4     1-Highest     Other  Professional           Yes  \n",
       "5        3-Good     Other         Other           Yes  \n",
       "6     1-Highest     Other          Self           Yes  \n",
       "7     1-Highest     Other  Professional            No  \n",
       "8     1-Highest     Other         Other           Yes  \n",
       "9        3-Good     Other  Professional            No  \n",
       "10    1-Highest     Other         Other       Unknown  \n",
       "11     4-Medium  Suburban         Other            No  \n",
       "12       3-Good  Suburban         Other       Unknown  \n",
       "13       3-Good      Town         Other       Unknown  \n",
       "14       3-Good     Other         Other            No  \n",
       "15    1-Highest     Other  Professional       Unknown  \n",
       "16    1-Highest     Other         Other       Unknown  \n",
       "17       3-Good     Other         Other       Unknown  \n",
       "18    1-Highest     Other         Other            No  \n",
       "19     4-Medium     Rural         Other       Unknown  \n",
       "20    1-Highest  Suburban  Professional           Yes  \n",
       "21    1-Highest      Town  Professional           Yes  \n",
       "22    1-Highest  Suburban         Other           Yes  \n",
       "23    1-Highest      Town         Other       Unknown  \n",
       "24    1-Highest      Town         Other           Yes  \n",
       "25    1-Highest  Suburban  Professional           Yes  \n",
       "26    1-Highest  Suburban         Other           Yes  \n",
       "27    1-Highest  Suburban         Other           Yes  \n",
       "28    1-Highest  Suburban  Professional           Yes  \n",
       "29       3-Good  Suburban  Professional            No  \n",
       "30    1-Highest      Town        Crafts           Yes  \n",
       "31       3-Good  Suburban         Other           Yes  \n",
       "32    1-Highest  Suburban       Retired           Yes  \n",
       "33    1-Highest  Suburban         Other           Yes  \n",
       "34       3-Good      Town         Other       Unknown  \n",
       "35    1-Highest     Rural          Self            No  \n",
       "36    1-Highest      Town         Other            No  \n",
       "37    1-Highest  Suburban  Professional           Yes  \n",
       "38    1-Highest     Other         Other           Yes  \n",
       "39       3-Good  Suburban         Other            No  \n",
       "40       3-Good  Suburban          Self           Yes  \n",
       "41       3-Good      Town         Other            No  \n",
       "42     4-Medium     Other         Other            No  \n",
       "43     4-Medium      Town         Other            No  \n",
       "44     4-Medium  Suburban         Other       Unknown  \n",
       "45     4-Medium      Town         Other       Unknown  "
      ]
     },
     "execution_count": 8,
     "metadata": {},
     "output_type": "execute_result"
    }
   ],
   "source": [
    "# Since there are many columns we'd better explore part by part \n",
    "df1.select(df1.columns[40:]) \\\n",
    ".limit(46).toPandas()"
   ]
  },
  {
   "cell_type": "code",
   "execution_count": 10,
   "metadata": {},
   "outputs": [],
   "source": [
    "# Schema change analysis\n",
    "\n",
    "# MonthlyRevenue, MonthlyMinutes, TotalRecurringCharge, OverageMinutes, PercChangeMinutes, PercChangeRevenues\n",
    "# Handsets, HandsetModels, CurrentEquipmentDays, AgeHH1, AgeHH2  to integer\n",
    "\n",
    "# DirectorAssistedCalls, HandsetPrice to float"
   ]
  },
  {
   "cell_type": "code",
   "execution_count": 9,
   "metadata": {},
   "outputs": [
    {
     "data": {
      "text/plain": [
       "58"
      ]
     },
     "execution_count": 9,
     "metadata": {},
     "output_type": "execute_result"
    }
   ],
   "source": [
    "len(df1.columns)"
   ]
  },
  {
   "cell_type": "code",
   "execution_count": 11,
   "metadata": {
    "scrolled": true
   },
   "outputs": [
    {
     "name": "stdout",
     "output_type": "stream",
     "text": [
      "root\n",
      " |-- CustomerID: integer (nullable = true)\n",
      " |-- Churn: string (nullable = true)\n",
      " |-- MonthlyRevenue: double (nullable = true)\n",
      " |-- MonthlyMinutes: double (nullable = true)\n",
      " |-- TotalRecurringCharge: double (nullable = true)\n",
      " |-- DirectorAssistedCalls: double (nullable = true)\n",
      " |-- OverageMinutes: double (nullable = true)\n",
      " |-- RoamingCalls: double (nullable = true)\n",
      " |-- PercChangeMinutes: double (nullable = true)\n",
      " |-- PercChangeRevenues: double (nullable = true)\n",
      " |-- DroppedCalls: double (nullable = true)\n",
      " |-- BlockedCalls: double (nullable = true)\n",
      " |-- UnansweredCalls: double (nullable = true)\n",
      " |-- CustomerCareCalls: double (nullable = true)\n",
      " |-- ThreewayCalls: double (nullable = true)\n",
      " |-- ReceivedCalls: double (nullable = true)\n",
      " |-- OutboundCalls: double (nullable = true)\n",
      " |-- InboundCalls: double (nullable = true)\n",
      " |-- PeakCallsInOut: double (nullable = true)\n",
      " |-- OffPeakCallsInOut: double (nullable = true)\n",
      " |-- DroppedBlockedCalls: double (nullable = true)\n",
      " |-- CallForwardingCalls: double (nullable = true)\n",
      " |-- CallWaitingCalls: double (nullable = true)\n",
      " |-- MonthsInService: float (nullable = true)\n",
      " |-- UniqueSubs: float (nullable = true)\n",
      " |-- ActiveSubs: float (nullable = true)\n",
      " |-- ServiceArea: string (nullable = true)\n",
      " |-- Handsets: float (nullable = true)\n",
      " |-- HandsetModels: float (nullable = true)\n",
      " |-- CurrentEquipmentDays: float (nullable = true)\n",
      " |-- AgeHH1: double (nullable = true)\n",
      " |-- AgeHH2: double (nullable = true)\n",
      " |-- ChildrenInHH: string (nullable = true)\n",
      " |-- HandsetRefurbished: string (nullable = true)\n",
      " |-- HandsetWebCapable: string (nullable = true)\n",
      " |-- TruckOwner: string (nullable = true)\n",
      " |-- RVOwner: string (nullable = true)\n",
      " |-- Homeownership: string (nullable = true)\n",
      " |-- BuysViaMailOrder: string (nullable = true)\n",
      " |-- RespondsToMailOffers: string (nullable = true)\n",
      " |-- OptOutMailings: string (nullable = true)\n",
      " |-- NonUSTravel: string (nullable = true)\n",
      " |-- OwnsComputer: string (nullable = true)\n",
      " |-- HasCreditCard: string (nullable = true)\n",
      " |-- RetentionCalls: float (nullable = true)\n",
      " |-- RetentionOffersAccepted: float (nullable = true)\n",
      " |-- NewCellphoneUser: string (nullable = true)\n",
      " |-- NotNewCellphoneUser: string (nullable = true)\n",
      " |-- ReferralsMadeBySubscriber: float (nullable = true)\n",
      " |-- IncomeGroup: float (nullable = true)\n",
      " |-- OwnsMotorcycle: string (nullable = true)\n",
      " |-- AdjustmentsToCreditRating: float (nullable = true)\n",
      " |-- HandsetPrice: double (nullable = true)\n",
      " |-- MadeCallToRetentionTeam: string (nullable = true)\n",
      " |-- CreditRating: string (nullable = true)\n",
      " |-- PrizmCode: string (nullable = true)\n",
      " |-- Occupation: string (nullable = true)\n",
      " |-- MaritalStatus: string (nullable = true)\n",
      "\n"
     ]
    }
   ],
   "source": [
    "df1.printSchema()"
   ]
  },
  {
   "cell_type": "code",
   "execution_count": 10,
   "metadata": {},
   "outputs": [],
   "source": [
    "# Null check\n",
    "for(col_name, col_type) in zip(df1.columns, df1.dtypes):\n",
    "    null_count = df1.filter( (F.col(col_name).isNull()) | (F.col(col_name) == \"\")).count()\n",
    "    if(  null_count > 0 ):\n",
    "        print(\"{} {} type has {} null values\".format(col_name, col_type[1], null_count))"
   ]
  },
  {
   "cell_type": "markdown",
   "metadata": {},
   "source": [
    "# Distribution of Output/Target variable"
   ]
  },
  {
   "cell_type": "code",
   "execution_count": 11,
   "metadata": {},
   "outputs": [
    {
     "name": "stdout",
     "output_type": "stream",
     "text": [
      "+-----+-----+\n",
      "|Churn|count|\n",
      "+-----+-----+\n",
      "|   No|36335|\n",
      "|  Yes|14711|\n",
      "+-----+-----+\n",
      "\n"
     ]
    }
   ],
   "source": [
    "df1.select(\"Churn\").groupBy(\"Churn\").count().show()"
   ]
  },
  {
   "cell_type": "code",
   "execution_count": 12,
   "metadata": {},
   "outputs": [
    {
     "data": {
      "text/plain": [
       "<AxesSubplot:>"
      ]
     },
     "execution_count": 12,
     "metadata": {},
     "output_type": "execute_result"
    },
    {
     "data": {
      "image/png": "[encoded data removed]",
      "text/plain": [
       "<Figure size 432x288 with 1 Axes>"
      ]
     },
     "metadata": {
      "needs_background": "light"
     },
     "output_type": "display_data"
    }
   ],
   "source": [
    "df1.select(\"Churn\").groupBy(\"Churn\").count().toPandas().plot(kind='bar')"
   ]
  },
  {
   "cell_type": "markdown",
   "metadata": {},
   "source": [
    "# Data Preperation for the Model"
   ]
  },
  {
   "cell_type": "code",
   "execution_count": 14,
   "metadata": {},
   "outputs": [],
   "source": [
    "categoric_cols = []\n",
    "numeric_cols = []\n",
    "discarted_cols = []\n",
    "label_col = []"
   ]
  },
  {
   "cell_type": "code",
   "execution_count": 15,
   "metadata": {},
   "outputs": [],
   "source": [
    "# column seperation\n",
    "for col_name in df1.dtypes:\n",
    "    if (col_name[0] not in []):\n",
    "        if (col_name[1] == 'string'):\n",
    "            categoric_cols.append(col_name[0])\n",
    "        else: numeric_cols.append(col_name[0])"
   ]
  },
  {
   "cell_type": "code",
   "execution_count": 16,
   "metadata": {
    "scrolled": false
   },
   "outputs": [
    {
     "name": "stdout",
     "output_type": "stream",
     "text": [
      "+-----+----------+\n",
      "|Churn|TotalCount|\n",
      "+-----+----------+\n",
      "|   No|     36335|\n",
      "|  Yes|     14711|\n",
      "+-----+----------+\n",
      "\n",
      "+-----------+----------+\n",
      "|ServiceArea|TotalCount|\n",
      "+-----------+----------+\n",
      "|  NYCBRO917|      1684|\n",
      "|  HOUHOU281|      1510|\n",
      "|  DALDAL214|      1498|\n",
      "|  NYCMAN917|      1182|\n",
      "|  APCFCH703|       783|\n",
      "|  DALFTW817|       782|\n",
      "|  SANSAN210|       724|\n",
      "|  APCSIL301|       670|\n",
      "|  SANAUS512|       612|\n",
      "|  SFROAK510|       605|\n",
      "|  SFRSFR415|       565|\n",
      "|  NYCQUE917|       533|\n",
      "|  ATLANE678|       524|\n",
      "|  PHXPHX602|       512|\n",
      "|  SFRSCL408|       508|\n",
      "|  ATLATL678|       507|\n",
      "|  STLSTL314|       497|\n",
      "|  OHICOL614|       486|\n",
      "|  MINMIN612|       481|\n",
      "|  NEVLVS702|       479|\n",
      "+-----------+----------+\n",
      "only showing top 20 rows\n",
      "\n",
      "+------------+----------+\n",
      "|ChildrenInHH|TotalCount|\n",
      "+------------+----------+\n",
      "|          No|     38678|\n",
      "|         Yes|     12368|\n",
      "+------------+----------+\n",
      "\n",
      "+------------------+----------+\n",
      "|HandsetRefurbished|TotalCount|\n",
      "+------------------+----------+\n",
      "|                No|     43955|\n",
      "|               Yes|      7091|\n",
      "+------------------+----------+\n",
      "\n",
      "+-----------------+----------+\n",
      "|HandsetWebCapable|TotalCount|\n",
      "+-----------------+----------+\n",
      "|              Yes|     46046|\n",
      "|               No|      5000|\n",
      "+-----------------+----------+\n",
      "\n",
      "+----------+----------+\n",
      "|TruckOwner|TotalCount|\n",
      "+----------+----------+\n",
      "|        No|     41523|\n",
      "|       Yes|      9523|\n",
      "+----------+----------+\n",
      "\n",
      "+-------+----------+\n",
      "|RVOwner|TotalCount|\n",
      "+-------+----------+\n",
      "|     No|     46893|\n",
      "|    Yes|      4153|\n",
      "+-------+----------+\n",
      "\n",
      "+-------------+----------+\n",
      "|Homeownership|TotalCount|\n",
      "+-------------+----------+\n",
      "|        Known|     33987|\n",
      "|      Unknown|     17059|\n",
      "+-------------+----------+\n",
      "\n",
      "+----------------+----------+\n",
      "|BuysViaMailOrder|TotalCount|\n",
      "+----------------+----------+\n",
      "|              No|     32595|\n",
      "|             Yes|     18451|\n",
      "+----------------+----------+\n",
      "\n",
      "+--------------------+----------+\n",
      "|RespondsToMailOffers|TotalCount|\n",
      "+--------------------+----------+\n",
      "|                  No|     31820|\n",
      "|                 Yes|     19226|\n",
      "+--------------------+----------+\n",
      "\n",
      "+--------------+----------+\n",
      "|OptOutMailings|TotalCount|\n",
      "+--------------+----------+\n",
      "|            No|     50294|\n",
      "|           Yes|       752|\n",
      "+--------------+----------+\n",
      "\n",
      "+-----------+----------+\n",
      "|NonUSTravel|TotalCount|\n",
      "+-----------+----------+\n",
      "|         No|     48167|\n",
      "|        Yes|      2879|\n",
      "+-----------+----------+\n",
      "\n",
      "+------------+----------+\n",
      "|OwnsComputer|TotalCount|\n",
      "+------------+----------+\n",
      "|          No|     41582|\n",
      "|         Yes|      9464|\n",
      "+------------+----------+\n",
      "\n",
      "+-------------+----------+\n",
      "|HasCreditCard|TotalCount|\n",
      "+-------------+----------+\n",
      "|          Yes|     34503|\n",
      "|           No|     16543|\n",
      "+-------------+----------+\n",
      "\n",
      "+----------------+----------+\n",
      "|NewCellphoneUser|TotalCount|\n",
      "+----------------+----------+\n",
      "|              No|     41222|\n",
      "|             Yes|      9824|\n",
      "+----------------+----------+\n",
      "\n",
      "+-------------------+----------+\n",
      "|NotNewCellphoneUser|TotalCount|\n",
      "+-------------------+----------+\n",
      "|                 No|     44011|\n",
      "|                Yes|      7035|\n",
      "+-------------------+----------+\n",
      "\n",
      "+--------------+----------+\n",
      "|OwnsMotorcycle|TotalCount|\n",
      "+--------------+----------+\n",
      "|            No|     50367|\n",
      "|           Yes|       679|\n",
      "+--------------+----------+\n",
      "\n",
      "+-----------------------+----------+\n",
      "|MadeCallToRetentionTeam|TotalCount|\n",
      "+-----------------------+----------+\n",
      "|                     No|     49301|\n",
      "|                    Yes|      1745|\n",
      "+-----------------------+----------+\n",
      "\n",
      "+------------+----------+\n",
      "|CreditRating|TotalCount|\n",
      "+------------+----------+\n",
      "|      2-High|     18992|\n",
      "|   1-Highest|      8522|\n",
      "|      3-Good|      8410|\n",
      "|       5-Low|      6499|\n",
      "|    4-Medium|      5357|\n",
      "|    7-Lowest|      2114|\n",
      "|   6-VeryLow|      1152|\n",
      "+------------+----------+\n",
      "\n",
      "+---------+----------+\n",
      "|PrizmCode|TotalCount|\n",
      "+---------+----------+\n",
      "|    Other|     24654|\n",
      "| Suburban|     16378|\n",
      "|     Town|      7589|\n",
      "|    Rural|      2425|\n",
      "+---------+----------+\n",
      "\n",
      "+------------+----------+\n",
      "|  Occupation|TotalCount|\n",
      "+------------+----------+\n",
      "|       Other|     37636|\n",
      "|Professional|      8755|\n",
      "|      Crafts|      1519|\n",
      "|    Clerical|       986|\n",
      "|        Self|       879|\n",
      "|     Retired|       733|\n",
      "|     Student|       381|\n",
      "|   Homemaker|       157|\n",
      "+------------+----------+\n",
      "\n",
      "+-------------+----------+\n",
      "|MaritalStatus|TotalCount|\n",
      "+-------------+----------+\n",
      "|      Unknown|     19699|\n",
      "|          Yes|     18651|\n",
      "|           No|     12696|\n",
      "+-------------+----------+\n",
      "\n"
     ]
    }
   ],
   "source": [
    "for col_name in categoric_cols:\n",
    "    df1.groupBy(col_name).agg(F.count(\"*\").alias(\"TotalCount\")).orderBy(F.desc(\"TotalCount\")).show()"
   ]
  },
  {
   "cell_type": "code",
   "execution_count": 17,
   "metadata": {},
   "outputs": [],
   "source": [
    "# column seperation after analysis\n",
    "categoric_cols = []\n",
    "numeric_cols = []\n",
    "# Why we discard these? Because they have high cardinality. In other words they have too many distinct categories\n",
    "# Adding them to model will not do good if not too bad.\n",
    "discarted_cols = ['CustomerID', 'ServiceArea']\n",
    "label_col = ['Churn']"
   ]
  },
  {
   "cell_type": "code",
   "execution_count": 18,
   "metadata": {},
   "outputs": [],
   "source": [
    "for col_name in df1.dtypes:\n",
    "    if (col_name[0] not in discarted_cols+label_col):\n",
    "        if (col_name[1] == 'string'):\n",
    "            categoric_cols.append(col_name[0])\n",
    "        else: numeric_cols.append(col_name[0])"
   ]
  },
  {
   "cell_type": "code",
   "execution_count": 19,
   "metadata": {},
   "outputs": [
    {
     "name": "stdout",
     "output_type": "stream",
     "text": [
      "['ChildrenInHH', 'HandsetRefurbished', 'HandsetWebCapable', 'TruckOwner', 'RVOwner', 'Homeownership', 'BuysViaMailOrder', 'RespondsToMailOffers', 'OptOutMailings', 'NonUSTravel', 'OwnsComputer', 'HasCreditCard', 'NewCellphoneUser', 'NotNewCellphoneUser', 'OwnsMotorcycle', 'MadeCallToRetentionTeam', 'CreditRating', 'PrizmCode', 'Occupation', 'MaritalStatus']\n",
      "20\n"
     ]
    }
   ],
   "source": [
    "print(categoric_cols)\n",
    "print(len(categoric_cols))"
   ]
  },
  {
   "cell_type": "code",
   "execution_count": 20,
   "metadata": {},
   "outputs": [
    {
     "name": "stdout",
     "output_type": "stream",
     "text": [
      "['MonthlyRevenue', 'MonthlyMinutes', 'TotalRecurringCharge', 'DirectorAssistedCalls', 'OverageMinutes', 'RoamingCalls', 'PercChangeMinutes', 'PercChangeRevenues', 'DroppedCalls', 'BlockedCalls', 'UnansweredCalls', 'CustomerCareCalls', 'ThreewayCalls', 'ReceivedCalls', 'OutboundCalls', 'InboundCalls', 'PeakCallsInOut', 'OffPeakCallsInOut', 'DroppedBlockedCalls', 'CallForwardingCalls', 'CallWaitingCalls', 'MonthsInService', 'UniqueSubs', 'ActiveSubs', 'Handsets', 'HandsetModels', 'CurrentEquipmentDays', 'AgeHH1', 'AgeHH2', 'RetentionCalls', 'RetentionOffersAccepted', 'ReferralsMadeBySubscriber', 'IncomeGroup', 'AdjustmentsToCreditRating', 'HandsetPrice']\n",
      "35\n"
     ]
    }
   ],
   "source": [
    "print(numeric_cols)\n",
    "print(len(numeric_cols))"
   ]
  },
  {
   "cell_type": "code",
   "execution_count": 21,
   "metadata": {},
   "outputs": [
    {
     "name": "stdout",
     "output_type": "stream",
     "text": [
      "['CustomerID', 'ServiceArea', 'Churn']\n",
      "3\n"
     ]
    }
   ],
   "source": [
    "print(discarted_cols+label_col)\n",
    "print(len(discarted_cols+label_col))"
   ]
  },
  {
   "cell_type": "markdown",
   "metadata": {},
   "source": [
    "## verification of columns"
   ]
  },
  {
   "cell_type": "code",
   "execution_count": 22,
   "metadata": {},
   "outputs": [
    {
     "name": "stdout",
     "output_type": "stream",
     "text": [
      "Columns verified\n"
     ]
    }
   ],
   "source": [
    "if len(df1.columns) == (len(categoric_cols)+len(numeric_cols)+len(discarted_cols+label_col)):\n",
    "    print(\"Columns verified\")\n",
    "else: print(\"Columns are not verified\")"
   ]
  },
  {
   "cell_type": "markdown",
   "metadata": {},
   "source": [
    "## Select columns for onehotencoder"
   ]
  },
  {
   "cell_type": "code",
   "execution_count": 23,
   "metadata": {},
   "outputs": [
    {
     "name": "stdout",
     "output_type": "stream",
     "text": [
      "ChildrenInHH has 2 distinct category.\n",
      "HandsetRefurbished has 2 distinct category.\n",
      "HandsetWebCapable has 2 distinct category.\n",
      "TruckOwner has 2 distinct category.\n",
      "RVOwner has 2 distinct category.\n",
      "Homeownership has 2 distinct category.\n",
      "BuysViaMailOrder has 2 distinct category.\n",
      "RespondsToMailOffers has 2 distinct category.\n",
      "OptOutMailings has 2 distinct category.\n",
      "NonUSTravel has 2 distinct category.\n",
      "OwnsComputer has 2 distinct category.\n",
      "HasCreditCard has 2 distinct category.\n",
      "NewCellphoneUser has 2 distinct category.\n",
      "NotNewCellphoneUser has 2 distinct category.\n",
      "OwnsMotorcycle has 2 distinct category.\n",
      "MadeCallToRetentionTeam has 2 distinct category.\n",
      "CreditRating has 7 distinct category.\n",
      "PrizmCode has 4 distinct category.\n",
      "Occupation has 8 distinct category.\n",
      "MaritalStatus has 3 distinct category.\n"
     ]
    }
   ],
   "source": [
    "# Here we count the distinct categories in categoric columns. If there is more than two,\n",
    "# we will add those to to_be_onehotencoded_cols list If there is just 2 we don't need to use onehotencoder\n",
    "# So if distinct category gt 2 we have to add it to_be_onehotencoded_cols list\n",
    "to_be_onehotencoded_cols = []\n",
    "\n",
    "for col_name in categoric_cols:\n",
    "    count = df1.select(col_name).distinct().count()\n",
    "    if count > 2:\n",
    "        to_be_onehotencoded_cols.append(col_name)\n",
    "    print(\"{} has {} distinct category.\".format(col_name, count))\n",
    "    "
   ]
  },
  {
   "cell_type": "code",
   "execution_count": 29,
   "metadata": {},
   "outputs": [
    {
     "name": "stdout",
     "output_type": "stream",
     "text": [
      "['CreditRating', 'PrizmCode', 'Occupation', 'MaritalStatus']\n"
     ]
    }
   ],
   "source": [
    "print(to_be_onehotencoded_cols)"
   ]
  },
  {
   "cell_type": "markdown",
   "metadata": {},
   "source": [
    "# StringIndexer"
   ]
  },
  {
   "cell_type": "code",
   "execution_count": 25,
   "metadata": {},
   "outputs": [],
   "source": [
    "from pyspark.ml.feature import StringIndexer"
   ]
  },
  {
   "cell_type": "code",
   "execution_count": 26,
   "metadata": {},
   "outputs": [],
   "source": [
    "# Will hold stringIndexer objects and column names\n",
    "my_dict = {}\n",
    "\n",
    "# Will collect StringIndexer ojects\n",
    "string_indexer_objs = []\n",
    "\n",
    "# Will collect StringIndexer output colnames\n",
    "string_indexer_output_names = []\n",
    "\n",
    "# Will collect OneHotEncoder output colnames\n",
    "ohe_col_input_names = []\n",
    "ohe_col_output_names = []\n",
    "\n",
    "for col_name in categoric_cols:\n",
    "    my_dict[col_name+\"_indexobj\"] = StringIndexer() \\\n",
    "    .setHandleInvalid('skip') \\\n",
    "    .setInputCol(col_name) \\\n",
    "    .setOutputCol(col_name+\"_indexed\")\n",
    "    \n",
    "    string_indexer_objs.append(my_dict.get(col_name+\"_indexobj\"))\n",
    "    string_indexer_output_names.append(col_name+\"_indexed\")\n",
    "    if col_name in to_be_onehotencoded_cols:\n",
    "        ohe_col_input_names.append(col_name+\"_indexed\")\n",
    "        ohe_col_output_names.append(col_name+\"_ohe\")"
   ]
  },
  {
   "cell_type": "code",
   "execution_count": 27,
   "metadata": {},
   "outputs": [
    {
     "name": "stdout",
     "output_type": "stream",
     "text": [
      "[StringIndexer_1809c14c5d98, StringIndexer_0b415dc54b8e, StringIndexer_37faf319ddab, StringIndexer_90ad61d19d85, StringIndexer_905b7e55ae58, StringIndexer_ba1e8e2ac022, StringIndexer_dbe45be44709, StringIndexer_3bc378c9cb87, StringIndexer_bd43f60c2928, StringIndexer_4d08b22e6c3a, StringIndexer_706663ba1b3d, StringIndexer_048491c7beaf, StringIndexer_b0c691644e28, StringIndexer_7def6f78b174, StringIndexer_24f29637c24a, StringIndexer_2206ec646105, StringIndexer_7c2e20a2738c, StringIndexer_6345e30a163c, StringIndexer_126b8ee9911d, StringIndexer_92924f7d56f1]\n",
      "20\n"
     ]
    }
   ],
   "source": [
    "print(string_indexer_objs)\n",
    "print(len(string_indexer_objs))"
   ]
  },
  {
   "cell_type": "code",
   "execution_count": 28,
   "metadata": {},
   "outputs": [
    {
     "name": "stdout",
     "output_type": "stream",
     "text": [
      "['ChildrenInHH_indexed', 'HandsetRefurbished_indexed', 'HandsetWebCapable_indexed', 'TruckOwner_indexed', 'RVOwner_indexed', 'Homeownership_indexed', 'BuysViaMailOrder_indexed', 'RespondsToMailOffers_indexed', 'OptOutMailings_indexed', 'NonUSTravel_indexed', 'OwnsComputer_indexed', 'HasCreditCard_indexed', 'NewCellphoneUser_indexed', 'NotNewCellphoneUser_indexed', 'OwnsMotorcycle_indexed', 'MadeCallToRetentionTeam_indexed', 'CreditRating_indexed', 'PrizmCode_indexed', 'Occupation_indexed', 'MaritalStatus_indexed']\n",
      "20\n"
     ]
    }
   ],
   "source": [
    "print(string_indexer_output_names)\n",
    "print(len(string_indexer_output_names))"
   ]
  },
  {
   "cell_type": "code",
   "execution_count": 29,
   "metadata": {},
   "outputs": [
    {
     "name": "stdout",
     "output_type": "stream",
     "text": [
      "['CreditRating_indexed', 'PrizmCode_indexed', 'Occupation_indexed', 'MaritalStatus_indexed']\n",
      "4\n"
     ]
    }
   ],
   "source": [
    "print(ohe_col_input_names)\n",
    "print(len(ohe_col_input_names))"
   ]
  },
  {
   "cell_type": "code",
   "execution_count": 37,
   "metadata": {},
   "outputs": [
    {
     "name": "stdout",
     "output_type": "stream",
     "text": [
      "['CreditRating_ohe', 'PrizmCode_ohe', 'Occupation_ohe', 'MaritalStatus_ohe']\n",
      "4\n"
     ]
    }
   ],
   "source": [
    "print(ohe_col_output_names)\n",
    "print(len(ohe_col_output_names))"
   ]
  },
  {
   "cell_type": "markdown",
   "metadata": {},
   "source": [
    "# OnehotEncoder"
   ]
  },
  {
   "cell_type": "code",
   "execution_count": 30,
   "metadata": {},
   "outputs": [],
   "source": [
    "from pyspark.ml.feature import OneHotEncoder"
   ]
  },
  {
   "cell_type": "code",
   "execution_count": 32,
   "metadata": {},
   "outputs": [],
   "source": [
    "encoder = OneHotEncoder() \\\n",
    ".setInputCols(ohe_col_input_names) \\\n",
    ".setOutputCols(ohe_col_output_names)"
   ]
  },
  {
   "cell_type": "markdown",
   "metadata": {},
   "source": [
    "# VectorAssembler"
   ]
  },
  {
   "cell_type": "code",
   "execution_count": 36,
   "metadata": {},
   "outputs": [],
   "source": [
    "from pyspark.ml.feature import VectorAssembler"
   ]
  },
  {
   "cell_type": "code",
   "execution_count": 33,
   "metadata": {},
   "outputs": [
    {
     "data": {
      "text/plain": [
       "['HasCreditCard_indexed',\n",
       " 'NewCellphoneUser_indexed',\n",
       " 'NotNewCellphoneUser_indexed',\n",
       " 'MadeCallToRetentionTeam_indexed',\n",
       " 'HandsetRefurbished_indexed',\n",
       " 'Homeownership_indexed',\n",
       " 'HandsetWebCapable_indexed',\n",
       " 'OwnsMotorcycle_indexed',\n",
       " 'BuysViaMailOrder_indexed',\n",
       " 'ChildrenInHH_indexed',\n",
       " 'OptOutMailings_indexed',\n",
       " 'NonUSTravel_indexed',\n",
       " 'RVOwner_indexed',\n",
       " 'RespondsToMailOffers_indexed',\n",
       " 'OwnsComputer_indexed',\n",
       " 'TruckOwner_indexed']"
      ]
     },
     "execution_count": 33,
     "metadata": {},
     "output_type": "execute_result"
    }
   ],
   "source": [
    "# We have to exclude onehotencoded categoric cols from stringIndexer cols\n",
    "string_indexer_col_names_ohe_exluded = list(set(string_indexer_output_names).difference(set(ohe_col_input_names)))\n",
    "string_indexer_col_names_ohe_exluded"
   ]
  },
  {
   "cell_type": "markdown",
   "metadata": {},
   "source": [
    "## column verification"
   ]
  },
  {
   "cell_type": "code",
   "execution_count": 34,
   "metadata": {},
   "outputs": [
    {
     "name": "stdout",
     "output_type": "stream",
     "text": [
      "Columns verified\n"
     ]
    }
   ],
   "source": [
    "if len(categoric_cols) == (len(string_indexer_col_names_ohe_exluded)+len(ohe_col_output_names)):\n",
    "    print(\"Columns verified\")\n",
    "else: print(\"Columns are not verified\")"
   ]
  },
  {
   "cell_type": "code",
   "execution_count": 37,
   "metadata": {},
   "outputs": [],
   "source": [
    "assembler = VectorAssembler().setHandleInvalid(\"skip\") \\\n",
    ".setInputCols(numeric_cols+string_indexer_col_names_ohe_exluded+ohe_col_output_names) \\\n",
    ".setOutputCol('unscaled_features')"
   ]
  },
  {
   "cell_type": "markdown",
   "metadata": {},
   "source": [
    "# LabelIndexer"
   ]
  },
  {
   "cell_type": "code",
   "execution_count": 38,
   "metadata": {},
   "outputs": [],
   "source": [
    "label_indexer = StringIndexer().setHandleInvalid(\"skip\") \\\n",
    ".setInputCol(label_col[0]) \\\n",
    ".setOutputCol(\"label\")"
   ]
  },
  {
   "cell_type": "markdown",
   "metadata": {},
   "source": [
    "# Feature Scaling"
   ]
  },
  {
   "cell_type": "code",
   "execution_count": 39,
   "metadata": {},
   "outputs": [],
   "source": [
    "from pyspark.ml.feature import StandardScaler"
   ]
  },
  {
   "cell_type": "code",
   "execution_count": 40,
   "metadata": {},
   "outputs": [],
   "source": [
    "scaler = StandardScaler().setInputCol(\"unscaled_features\").setOutputCol(\"scaled_features\")"
   ]
  },
  {
   "cell_type": "markdown",
   "metadata": {},
   "source": [
    "# PCA"
   ]
  },
  {
   "cell_type": "code",
   "execution_count": 41,
   "metadata": {},
   "outputs": [],
   "source": [
    "from pyspark.ml.feature import PCA"
   ]
  },
  {
   "cell_type": "code",
   "execution_count": 42,
   "metadata": {},
   "outputs": [],
   "source": [
    "pca = PCA().setInputCol(\"scaled_features\").setK(10).setOutputCol(\"features\")"
   ]
  },
  {
   "cell_type": "markdown",
   "metadata": {},
   "source": [
    "# Estimator: GBTClassifier"
   ]
  },
  {
   "cell_type": "code",
   "execution_count": 43,
   "metadata": {},
   "outputs": [],
   "source": [
    "from pyspark.ml.classification import GBTClassifier"
   ]
  },
  {
   "cell_type": "code",
   "execution_count": 44,
   "metadata": {},
   "outputs": [],
   "source": [
    "estimator = GBTClassifier() \\\n",
    ".setFeaturesCol(\"features\") \\\n",
    ".setLabelCol(\"label\")"
   ]
  },
  {
   "cell_type": "markdown",
   "metadata": {},
   "source": [
    "# Pipeline"
   ]
  },
  {
   "cell_type": "code",
   "execution_count": 45,
   "metadata": {},
   "outputs": [],
   "source": [
    "from pyspark.ml import Pipeline"
   ]
  },
  {
   "cell_type": "code",
   "execution_count": 46,
   "metadata": {},
   "outputs": [],
   "source": [
    "pipeline_obj = Pipeline().setStages(string_indexer_objs+[encoder, assembler, label_indexer, scaler, pca, estimator])"
   ]
  },
  {
   "cell_type": "markdown",
   "metadata": {},
   "source": [
    "# Split data"
   ]
  },
  {
   "cell_type": "code",
   "execution_count": 48,
   "metadata": {},
   "outputs": [],
   "source": [
    "train_df, test_df = df1.randomSplit([0.2,0.8], seed=142)"
   ]
  },
  {
   "cell_type": "markdown",
   "metadata": {},
   "source": [
    "# Train Model"
   ]
  },
  {
   "cell_type": "code",
   "execution_count": 49,
   "metadata": {},
   "outputs": [],
   "source": [
    "pipeline_model = pipeline_obj.fit(train_df)"
   ]
  },
  {
   "cell_type": "markdown",
   "metadata": {},
   "source": [
    "# Save the model"
   ]
  },
  {
   "cell_type": "code",
   "execution_count": 50,
   "metadata": {},
   "outputs": [],
   "source": [
    "pipeline_model.stages[-1].write().overwrite().save(\"saved_models/gbt_churn_pca10\")"
   ]
  },
  {
   "cell_type": "markdown",
   "metadata": {},
   "source": [
    "# Prediction"
   ]
  },
  {
   "cell_type": "code",
   "execution_count": 51,
   "metadata": {},
   "outputs": [],
   "source": [
    "transformed_df = pipeline_model.transform(test_df)"
   ]
  },
  {
   "cell_type": "code",
   "execution_count": 52,
   "metadata": {},
   "outputs": [
    {
     "name": "stdout",
     "output_type": "stream",
     "text": [
      "+-----+----------+----------------------------------------+--------------------------------------------+\n",
      "|label|prediction|probability                             |rawPrediction                               |\n",
      "+-----+----------+----------------------------------------+--------------------------------------------+\n",
      "|1.0  |0.0       |[0.7311178360110204,0.2688821639889796] |[0.5001507067943938,-0.5001507067943938]    |\n",
      "|0.0  |1.0       |[0.48516248370677084,0.5148375162932292]|[-0.029683747877775862,0.029683747877775862]|\n",
      "|0.0  |0.0       |[0.8861307768069366,0.11386922319306336]|[1.0259069592041643,-1.0259069592041643]    |\n",
      "|1.0  |0.0       |[0.6657319402556028,0.3342680597443972] |[0.34447192611931904,-0.34447192611931904]  |\n",
      "|0.0  |0.0       |[0.8282357450079202,0.1717642549920798] |[0.7865874519489406,-0.7865874519489406]    |\n",
      "|0.0  |0.0       |[0.8356540368039458,0.1643459631960542] |[0.81312047914439,-0.81312047914439]        |\n",
      "|0.0  |0.0       |[0.8595631933056346,0.14043680669436542]|[0.905833366138324,-0.905833366138324]      |\n",
      "|0.0  |0.0       |[0.6491515263929244,0.3508484736070756] |[0.30765586752167207,-0.30765586752167207]  |\n",
      "|0.0  |0.0       |[0.8521876262606408,0.14781237373935918]|[0.8759314983546267,-0.8759314983546267]    |\n",
      "|0.0  |0.0       |[0.6483794161624715,0.3516205838375285] |[0.3059616681685903,-0.3059616681685903]    |\n",
      "|0.0  |0.0       |[0.7670805763479815,0.23291942365201845]|[0.5959496386192085,-0.5959496386192085]    |\n",
      "|0.0  |0.0       |[0.7868271226392337,0.2131728773607663] |[0.6529525453461409,-0.6529525453461409]    |\n",
      "|0.0  |0.0       |[0.9046198983404722,0.09538010165952782]|[1.1248224374671316,-1.1248224374671316]    |\n",
      "|1.0  |1.0       |[0.4575867520055853,0.5424132479944147] |[-0.08503083624330807,0.08503083624330807]  |\n",
      "|0.0  |0.0       |[0.6523465038824877,0.3476534961175123] |[0.3146847927537515,-0.3146847927537515]    |\n",
      "|1.0  |0.0       |[0.7625504816490651,0.23744951835093486]|[0.5833568325807533,-0.5833568325807533]    |\n",
      "|0.0  |0.0       |[0.5932852460620713,0.40671475393792866]|[0.1887816079569743,-0.1887816079569743]    |\n",
      "|0.0  |0.0       |[0.8307262237894473,0.16927377621055273]|[0.795391452448951,-0.795391452448951]      |\n",
      "|0.0  |0.0       |[0.8500607643574621,0.14993923564253786]|[0.8675388590511077,-0.8675388590511077]    |\n",
      "|0.0  |0.0       |[0.7846378868955984,0.21536211310440156]|[0.646450731202433,-0.646450731202433]      |\n",
      "+-----+----------+----------------------------------------+--------------------------------------------+\n",
      "only showing top 20 rows\n",
      "\n"
     ]
    }
   ],
   "source": [
    "transformed_df.select('label','prediction','probability','rawPrediction').show(truncate=False)"
   ]
  },
  {
   "cell_type": "markdown",
   "metadata": {},
   "source": [
    "# Evaluate the model"
   ]
  },
  {
   "cell_type": "code",
   "execution_count": 53,
   "metadata": {},
   "outputs": [],
   "source": [
    "from pyspark.ml.evaluation import BinaryClassificationEvaluator"
   ]
  },
  {
   "cell_type": "code",
   "execution_count": 54,
   "metadata": {},
   "outputs": [],
   "source": [
    "evaluator = BinaryClassificationEvaluator()"
   ]
  },
  {
   "cell_type": "code",
   "execution_count": 55,
   "metadata": {},
   "outputs": [
    {
     "data": {
      "text/plain": [
       "0.5739017383946139"
      ]
     },
     "execution_count": 55,
     "metadata": {},
     "output_type": "execute_result"
    }
   ],
   "source": [
    "evaluator.evaluate(transformed_df)"
   ]
  },
  {
   "cell_type": "code",
   "execution_count": 56,
   "metadata": {},
   "outputs": [
    {
     "data": {
      "text/plain": [
       "'areaUnderROC'"
      ]
     },
     "execution_count": 56,
     "metadata": {},
     "output_type": "execute_result"
    }
   ],
   "source": [
    "evaluator.getMetricName()"
   ]
  },
  {
   "cell_type": "code",
   "execution_count": 64,
   "metadata": {},
   "outputs": [
    {
     "name": "stdout",
     "output_type": "stream",
     "text": [
      "+-----+----------+----------------------------------------+--------------------------------------------+\n",
      "|label|prediction|probability                             |rawPrediction                               |\n",
      "+-----+----------+----------------------------------------+--------------------------------------------+\n",
      "|1.0  |1.0       |[0.35550708405061077,0.6444929159493893]|[-0.2974593273616809,0.2974593273616809]    |\n",
      "|1.0  |1.0       |[0.404549412654195,0.595450587345805]   |[-0.19327226110012172,0.19327226110012172]  |\n",
      "|0.0  |1.0       |[0.48017056007382863,0.5198294399261714]|[-0.03967969167829795,0.03967969167829795]  |\n",
      "|1.0  |1.0       |[0.14993971546524296,0.850060284534757] |[-0.8675369767679206,0.8675369767679206]    |\n",
      "|0.0  |1.0       |[0.43585237303854046,0.5641476269614596]|[-0.1290061875571645,0.1290061875571645]    |\n",
      "|1.0  |1.0       |[0.47955962256565526,0.5204403774343447]|[-0.040903551530253025,0.040903551530253025]|\n",
      "|1.0  |1.0       |[0.40112540154419624,0.5988745984558037]|[-0.20038906211549012,0.20038906211549012]  |\n",
      "|1.0  |1.0       |[0.4914282334179641,0.508571766582036]  |[-0.017145212959264293,0.017145212959264293]|\n",
      "|0.0  |1.0       |[0.49146475990106536,0.5085352400989347]|[-0.017072138607843998,0.017072138607843998]|\n",
      "|1.0  |1.0       |[0.35810346691592904,0.6418965330840709]|[-0.29180258445268453,0.29180258445268453]  |\n",
      "|1.0  |1.0       |[0.39410693427940097,0.605893065720599] |[-0.2150406160086719,0.2150406160086719]    |\n",
      "|0.0  |1.0       |[0.47333022768642763,0.5266697723135724]|[-0.053390216726812254,0.053390216726812254]|\n",
      "|1.0  |1.0       |[0.47955962256565526,0.5204403774343447]|[-0.040903551530253025,0.040903551530253025]|\n",
      "|1.0  |1.0       |[0.4383170212505992,0.5616829787494009] |[-0.12399757730304571,0.12399757730304571]  |\n",
      "|1.0  |1.0       |[0.32117015732623017,0.6788298426737698]|[-0.3741997142244871,0.3741997142244871]    |\n",
      "|1.0  |1.0       |[0.3467619039477932,0.6532380960522068] |[-0.31665164645895627,0.31665164645895627]  |\n",
      "|1.0  |1.0       |[0.3786853928407653,0.6213146071592347] |[-0.24756590255812044,0.24756590255812044]  |\n",
      "|0.0  |1.0       |[0.49725065235311505,0.502749347646885] |[-0.005498750713650754,0.005498750713650754]|\n",
      "|1.0  |1.0       |[0.4037335280688702,0.5962664719311298] |[-0.19496629567463836,0.19496629567463836]  |\n",
      "|1.0  |1.0       |[0.4281352154724899,0.5718647845275101] |[-0.14473175152974124,0.14473175152974124]  |\n",
      "+-----+----------+----------------------------------------+--------------------------------------------+\n",
      "only showing top 20 rows\n",
      "\n"
     ]
    }
   ],
   "source": [
    "transformed_df.select('label','prediction','probability','rawPrediction') \\\n",
    ".filter(\"prediction == 1.0\") \\\n",
    ".show(truncate=False)"
   ]
  },
  {
   "cell_type": "code",
   "execution_count": 65,
   "metadata": {},
   "outputs": [
    {
     "name": "stdout",
     "output_type": "stream",
     "text": [
      "+-----+----------+--------------------+--------------------+--------------------+\n",
      "|label|prediction|         probability|       rawPrediction|               score|\n",
      "+-----+----------+--------------------+--------------------+--------------------+\n",
      "|  1.0|       0.0|[0.60457702400406...|[0.21228653118119...|[0.60457702400406...|\n",
      "|  1.0|       0.0|[0.69522376458879...|[0.41232795211049...|[0.69522376458879...|\n",
      "|  0.0|       0.0|[0.60087015970981...|[0.20454604628178...|[0.60087015970981...|\n",
      "|  0.0|       0.0|[0.78897634171148...|[0.65938304172952...|[0.78897634171148...|\n",
      "|  1.0|       0.0|[0.66307068564074...|[0.33850422033481...|[0.66307068564074...|\n",
      "|  0.0|       0.0|[0.80390103964953...|[0.70542837251578...|[0.80390103964953...|\n",
      "|  0.0|       0.0|[0.73437002959187...|[0.50845438873300...|[0.73437002959187...|\n",
      "|  0.0|       0.0|[0.72550022535541...|[0.48595547148135...|[0.72550022535541...|\n",
      "|  0.0|       0.0|[0.72021210050438...|[0.47275696917209...|[0.72021210050438...|\n",
      "|  0.0|       0.0|[0.85687433510205...|[0.89478412724330...|[0.85687433510205...|\n",
      "|  0.0|       0.0|[0.64017756450260...|[0.28806745368399...|[0.64017756450260...|\n",
      "|  0.0|       0.0|[0.79858226028222...|[0.68872846122064...|[0.79858226028222...|\n",
      "|  0.0|       0.0|[0.77515941096741...|[0.61883852092828...|[0.77515941096741...|\n",
      "|  0.0|       0.0|[0.73696131523026...|[0.51511714478014...|[0.73696131523026...|\n",
      "|  0.0|       0.0|[0.79818106819739...|[0.68748227800711...|[0.79818106819739...|\n",
      "|  1.0|       0.0|[0.57807909458534...|[0.15744641630584...|[0.57807909458534...|\n",
      "|  0.0|       0.0|[0.71547426976052...|[0.46106097373133...|[0.71547426976052...|\n",
      "|  0.0|       0.0|[0.76023611680306...|[0.57698722298635...|[0.76023611680306...|\n",
      "|  1.0|       0.0|[0.61668174396287...|[0.23774373946814...|[0.61668174396287...|\n",
      "|  0.0|       0.0|[0.61135445536365...|[0.22650459119535...|[0.61135445536365...|\n",
      "+-----+----------+--------------------+--------------------+--------------------+\n",
      "only showing top 20 rows\n",
      "\n"
     ]
    }
   ],
   "source": [
    "transformed_df.select('label','prediction','probability','rawPrediction') \\\n",
    ".withColumn(\"score\", F.col('probability').cast('string')).show()"
   ]
  },
  {
   "cell_type": "code",
   "execution_count": 66,
   "metadata": {},
   "outputs": [
    {
     "name": "stdout",
     "output_type": "stream",
     "text": [
      "root\n",
      " |-- label: double (nullable = false)\n",
      " |-- prediction: double (nullable = false)\n",
      " |-- probability: vector (nullable = true)\n",
      " |-- rawPrediction: vector (nullable = true)\n",
      "\n"
     ]
    }
   ],
   "source": [
    "transformed_df.select('label','prediction','probability','rawPrediction').printSchema()"
   ]
  },
  {
   "cell_type": "markdown",
   "metadata": {},
   "source": [
    "# Get churn score from probability"
   ]
  },
  {
   "cell_type": "code",
   "execution_count": 67,
   "metadata": {},
   "outputs": [],
   "source": [
    "import pyspark.sql.functions as F\n",
    "import pyspark.sql.types as T\n",
    "\n",
    "to_array = F.udf(lambda v: v.toArray().tolist(), T.ArrayType(T.FloatType()))\n",
    "score_df = transformed_df.select('CustomerID','label','prediction','probability','rawPrediction') \\\n",
    ".withColumn('score', to_array('probability')[1] * 1000)"
   ]
  },
  {
   "cell_type": "code",
   "execution_count": 68,
   "metadata": {},
   "outputs": [
    {
     "name": "stdout",
     "output_type": "stream",
     "text": [
      "+----------+-----+----------+--------------------+--------------------+---------+\n",
      "|CustomerID|label|prediction|         probability|       rawPrediction|    score|\n",
      "+----------+-----+----------+--------------------+--------------------+---------+\n",
      "|   3000730|  1.0|       1.0|[0.35550708405061...|[-0.2974593273616...| 644.4929|\n",
      "|   3002806|  1.0|       1.0|[0.40454941265419...|[-0.1932722611001...|595.45056|\n",
      "|   3003242|  0.0|       1.0|[0.48017056007382...|[-0.0396796916782...|519.82947|\n",
      "|   3003974|  1.0|       1.0|[0.14993971546524...|[-0.8675369767679...| 850.0603|\n",
      "|   3004914|  0.0|       1.0|[0.43585237303854...|[-0.1290061875571...|564.14764|\n",
      "|   3005950|  1.0|       1.0|[0.47955962256565...|[-0.0409035515302...| 520.4404|\n",
      "|   3006194|  1.0|       1.0|[0.40112540154419...|[-0.2003890621154...| 598.8746|\n",
      "|   3006386|  1.0|       1.0|[0.49142823341796...|[-0.0171452129592...|508.57175|\n",
      "|   3006862|  0.0|       1.0|[0.49146475990106...|[-0.0170721386078...|508.53528|\n",
      "|   3007870|  1.0|       1.0|[0.35810346691592...|[-0.2918025844526...|641.89655|\n",
      "|   3008446|  1.0|       1.0|[0.39410693427940...|[-0.2150406160086...|605.89307|\n",
      "|   3009966|  0.0|       1.0|[0.47333022768642...|[-0.0533902167268...| 526.6698|\n",
      "|   3010394|  1.0|       1.0|[0.47955962256565...|[-0.0409035515302...| 520.4404|\n",
      "|   3010646|  1.0|       1.0|[0.43831702125059...|[-0.1239975773030...|  561.683|\n",
      "|   3011962|  1.0|       1.0|[0.32117015732623...|[-0.3741997142244...|678.82983|\n",
      "|   3011990|  1.0|       1.0|[0.34676190394779...|[-0.3166516464589...| 653.2381|\n",
      "|   3012050|  1.0|       1.0|[0.37868539284076...|[-0.2475659025581...| 621.3146|\n",
      "|   3013090|  0.0|       1.0|[0.49725065235311...|[-0.0054987507136...|502.74933|\n",
      "|   3013282|  1.0|       1.0|[0.40373352806887...|[-0.1949662956746...| 596.2664|\n",
      "|   3013794|  1.0|       1.0|[0.42813521547248...|[-0.1447317515297...| 571.8648|\n",
      "+----------+-----+----------+--------------------+--------------------+---------+\n",
      "only showing top 20 rows\n",
      "\n"
     ]
    }
   ],
   "source": [
    "score_df.filter(\"prediction == 1.0\").show()"
   ]
  },
  {
   "cell_type": "markdown",
   "metadata": {},
   "source": [
    "# Top 20 Costumers most likely to churn"
   ]
  },
  {
   "cell_type": "code",
   "execution_count": 69,
   "metadata": {},
   "outputs": [
    {
     "name": "stdout",
     "output_type": "stream",
     "text": [
      "+----------+-----+----------+--------------------+--------------------+---------+\n",
      "|CustomerID|label|prediction|         probability|       rawPrediction|    score|\n",
      "+----------+-----+----------+--------------------+--------------------+---------+\n",
      "|   3003974|  1.0|       1.0|[0.14993971546524...|[-0.8675369767679...| 850.0603|\n",
      "|   3318982|  1.0|       1.0|[0.17367579950999...|[-0.7798984255016...| 826.3242|\n",
      "|   3258914|  1.0|       1.0|[0.17568740696420...|[-0.7729217496684...|824.31256|\n",
      "|   3112798|  1.0|       1.0|[0.17578304690313...|[-0.7725916206222...|  824.217|\n",
      "|   3097994|  1.0|       1.0|[0.18012191562652...|[-0.7577608604775...| 819.8781|\n",
      "|   3176866|  1.0|       1.0|[0.20135222677570...|[-0.6889321337961...|798.64777|\n",
      "|   3151010|  0.0|       1.0|[0.20467692963283...|[-0.6786578134589...|795.32306|\n",
      "|   3198990|  0.0|       1.0|[0.22313823876570...|[-0.6237354684461...| 776.8618|\n",
      "|   3173406|  1.0|       1.0|[0.22990318777336...|[-0.6044289697614...|770.09686|\n",
      "|   3071386|  1.0|       1.0|[0.24810615493842...|[-0.5543692259083...| 751.8938|\n",
      "|   3095330|  1.0|       1.0|[0.25027245561580...|[-0.5485798597379...|749.72754|\n",
      "|   3099606|  1.0|       1.0|[0.27051043544460...|[-0.4960171935185...|729.48956|\n",
      "|   3185630|  1.0|       1.0|[0.27309239151891...|[-0.4894946075295...| 726.9076|\n",
      "|   3217154|  1.0|       1.0|[0.27339241209476...|[-0.4887391963585...|726.60754|\n",
      "|   3073410|  1.0|       1.0|[0.27376662846048...|[-0.4877976945261...|726.23334|\n",
      "|   3253850|  1.0|       1.0|[0.27505860536158...|[-0.4845533156191...|724.94135|\n",
      "|   3150034|  0.0|       1.0|[0.27786035113827...|[-0.4775499431110...|722.13965|\n",
      "|   3284122|  1.0|       1.0|[0.28213419321978...|[-0.4669499163563...|717.86584|\n",
      "|   3280834|  0.0|       1.0|[0.28519097635312...|[-0.4594281794489...|  714.809|\n",
      "|   3085130|  1.0|       1.0|[0.29367244717043...|[-0.4388070323895...| 706.3276|\n",
      "+----------+-----+----------+--------------------+--------------------+---------+\n",
      "only showing top 20 rows\n",
      "\n"
     ]
    }
   ],
   "source": [
    "score_df.orderBy(F.desc(\"score\")).show()"
   ]
  },
  {
   "cell_type": "code",
   "execution_count": 70,
   "metadata": {},
   "outputs": [
    {
     "name": "stdout",
     "output_type": "stream",
     "text": [
      "root\n",
      " |-- CustomerID: integer (nullable = true)\n",
      " |-- label: double (nullable = false)\n",
      " |-- prediction: double (nullable = false)\n",
      " |-- probability: vector (nullable = true)\n",
      " |-- rawPrediction: vector (nullable = true)\n",
      " |-- score: float (nullable = true)\n",
      "\n"
     ]
    }
   ],
   "source": [
    "score_df.printSchema()"
   ]
  },
  {
   "cell_type": "markdown",
   "metadata": {},
   "source": [
    "# Hyperparameter Tuning"
   ]
  },
  {
   "cell_type": "code",
   "execution_count": 76,
   "metadata": {},
   "outputs": [],
   "source": [
    "from pyspark.ml.tuning import CrossValidatorModel, ParamGridBuilder, CrossValidator"
   ]
  },
  {
   "cell_type": "code",
   "execution_count": 77,
   "metadata": {},
   "outputs": [],
   "source": [
    "paramGrid = ParamGridBuilder() \\\n",
    ".addGrid(estimator.maxDepth, [5, 10]) \\\n",
    ".addGrid(estimator.maxBins, [32, 50]) \\\n",
    ".build()"
   ]
  },
  {
   "cell_type": "code",
   "execution_count": 78,
   "metadata": {},
   "outputs": [],
   "source": [
    "crossval = CrossValidator(estimator=pipeline_obj,\n",
    "                          estimatorParamMaps=paramGrid,\n",
    "                          evaluator=BinaryClassificationEvaluator(),\n",
    "                          numFolds=5) "
   ]
  },
  {
   "cell_type": "code",
   "execution_count": 79,
   "metadata": {},
   "outputs": [],
   "source": [
    "cvModel = crossval.fit(df1)"
   ]
  },
  {
   "cell_type": "code",
   "execution_count": 81,
   "metadata": {},
   "outputs": [
    {
     "data": {
      "text/plain": [
       "pyspark.ml.tuning.CrossValidatorModel"
      ]
     },
     "execution_count": 81,
     "metadata": {},
     "output_type": "execute_result"
    }
   ],
   "source": [
    "type(cvModel)"
   ]
  },
  {
   "cell_type": "code",
   "execution_count": 82,
   "metadata": {},
   "outputs": [
    {
     "data": {
      "text/plain": [
       "[Param(parent='CrossValidatorModel_2cecf983a765', name='estimator', doc='estimator to be cross-validated'),\n",
       " Param(parent='CrossValidatorModel_2cecf983a765', name='estimatorParamMaps', doc='estimator param maps'),\n",
       " Param(parent='CrossValidatorModel_2cecf983a765', name='evaluator', doc='evaluator used to select hyper-parameters that maximize the validator metric'),\n",
       " Param(parent='CrossValidatorModel_2cecf983a765', name='numFolds', doc='number of folds for cross validation'),\n",
       " Param(parent='CrossValidatorModel_2cecf983a765', name='seed', doc='random seed.')]"
      ]
     },
     "execution_count": 82,
     "metadata": {},
     "output_type": "execute_result"
    }
   ],
   "source": [
    "cvModel.params"
   ]
  },
  {
   "cell_type": "code",
   "execution_count": 85,
   "metadata": {},
   "outputs": [],
   "source": [
    "bestModel = cvModel.bestModel"
   ]
  },
  {
   "cell_type": "code",
   "execution_count": 89,
   "metadata": {},
   "outputs": [
    {
     "data": {
      "text/plain": [
       "0.6361414993785542"
      ]
     },
     "execution_count": 89,
     "metadata": {},
     "output_type": "execute_result"
    }
   ],
   "source": [
    "evaluator.evaluate(bestModel.transform(df1))"
   ]
  },
  {
   "cell_type": "code",
   "execution_count": 80,
   "metadata": {},
   "outputs": [
    {
     "data": {
      "text/plain": [
       "0.6361390963067461"
      ]
     },
     "execution_count": 80,
     "metadata": {},
     "output_type": "execute_result"
    }
   ],
   "source": [
    "evaluator.evaluate(cvModel.transform(df1))"
   ]
  },
  {
   "cell_type": "code",
   "execution_count": null,
   "metadata": {},
   "outputs": [],
   "source": [
    "spark.stop()"
   ]
  }
 ],
 "metadata": {
  "kernelspec": {
   "display_name": "venvspark",
   "language": "python",
   "name": "venvspark"
  },
  "language_info": {
   "codemirror_mode": {
    "name": "ipython",
    "version": 3
   },
   "file_extension": ".py",
   "mimetype": "text/x-python",
   "name": "python",
   "nbconvert_exporter": "python",
   "pygments_lexer": "ipython3",
   "version": "3.6.8"
  }
 },
 "nbformat": 4,
 "nbformat_minor": 2
}
