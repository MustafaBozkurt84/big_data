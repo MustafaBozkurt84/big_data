{
 "cells": [
  {
   "cell_type": "code",
   "execution_count": 1,
   "metadata": {},
   "outputs": [],
   "source": [
    "import findspark"
   ]
  },
  {
   "cell_type": "code",
   "execution_count": 2,
   "metadata": {},
   "outputs": [],
   "source": [
    "# /opt/manual/spark: this is SPARK_HOME path\n",
    "findspark.init(\"/opt/manual/spark\")"
   ]
  },
  {
   "cell_type": "code",
   "execution_count": 3,
   "metadata": {},
   "outputs": [],
   "source": [
    "from pyspark.sql import SparkSession, functions as F"
   ]
  },
  {
   "cell_type": "code",
   "execution_count": 4,
   "metadata": {},
   "outputs": [
    {
     "name": "stdout",
     "output_type": "stream",
     "text": [
      "-rw-rw-r--. 1 train train   932808 Jul 22 08:42 postgresql-42.2.14.jar\r\n"
     ]
    }
   ],
   "source": [
    "! ls -l $SPARK_HOME/jars | grep postgresql"
   ]
  },
  {
   "cell_type": "code",
   "execution_count": 5,
   "metadata": {},
   "outputs": [],
   "source": [
    "# If you want to connect a rdbms, related driver should be in the classpath"
   ]
  },
  {
   "cell_type": "code",
   "execution_count": 5,
   "metadata": {},
   "outputs": [],
   "source": [
    "spark = SparkSession.builder \\\n",
    ".appName(\"JDBC and SQL\") \\\n",
    ".master(\"yarn\") \\\n",
    ".enableHiveSupport() \\\n",
    ".getOrCreate()"
   ]
  },
  {
   "cell_type": "markdown",
   "metadata": {},
   "source": [
    "# Read From Postgresql"
   ]
  },
  {
   "cell_type": "code",
   "execution_count": 6,
   "metadata": {},
   "outputs": [],
   "source": [
    "jdbcUrl = \"jdbc:postgresql://localhost/traindb?user=train&password=Ankara06\""
   ]
  },
  {
   "cell_type": "code",
   "execution_count": 7,
   "metadata": {},
   "outputs": [],
   "source": [
    "df = (spark.read\n",
    ".format(\"jdbc\")\n",
    ".option(\"url\", jdbcUrl)\n",
    ".option(\"driver\", 'org.postgresql.Driver')\n",
    ".option(\"query\",\"select * from books\")\n",
    ".load())"
   ]
  },
  {
   "cell_type": "code",
   "execution_count": 8,
   "metadata": {},
   "outputs": [
    {
     "data": {
      "text/html": [
       "<div>\n",
       "<style scoped>\n",
       "    .dataframe tbody tr th:only-of-type {\n",
       "        vertical-align: middle;\n",
       "    }\n",
       "\n",
       "    .dataframe tbody tr th {\n",
       "        vertical-align: top;\n",
       "    }\n",
       "\n",
       "    .dataframe thead th {\n",
       "        text-align: right;\n",
       "    }\n",
       "</style>\n",
       "<table border=\"1\" class=\"dataframe\">\n",
       "  <thead>\n",
       "    <tr style=\"text-align: right;\">\n",
       "      <th></th>\n",
       "      <th>id</th>\n",
       "      <th>book_name</th>\n",
       "      <th>isbn</th>\n",
       "      <th>book_id</th>\n",
       "      <th>price</th>\n",
       "      <th>price_currency</th>\n",
       "      <th>rating_count</th>\n",
       "      <th>author_id</th>\n",
       "      <th>publisher_id</th>\n",
       "    </tr>\n",
       "  </thead>\n",
       "  <tbody>\n",
       "    <tr>\n",
       "      <th>0</th>\n",
       "      <td>13</td>\n",
       "      <td>Madam Bovary (Ciltli)</td>\n",
       "      <td>6050948752</td>\n",
       "      <td>489127179</td>\n",
       "      <td>25.115735</td>\n",
       "      <td>TRY</td>\n",
       "      <td>5</td>\n",
       "      <td>4098249</td>\n",
       "      <td>46868</td>\n",
       "    </tr>\n",
       "    <tr>\n",
       "      <th>1</th>\n",
       "      <td>22</td>\n",
       "      <td>Mai ve Siyah (Eleştirel Basım)</td>\n",
       "      <td>9750523533</td>\n",
       "      <td>492625951</td>\n",
       "      <td>25.340000</td>\n",
       "      <td>TRY</td>\n",
       "      <td>17</td>\n",
       "      <td>3066057</td>\n",
       "      <td>63217</td>\n",
       "    </tr>\n",
       "    <tr>\n",
       "      <th>2</th>\n",
       "      <td>27</td>\n",
       "      <td>Nutuk</td>\n",
       "      <td>9759914288</td>\n",
       "      <td>9927355</td>\n",
       "      <td>11.481470</td>\n",
       "      <td>TRY</td>\n",
       "      <td>23</td>\n",
       "      <td>9705003</td>\n",
       "      <td>46868</td>\n",
       "    </tr>\n",
       "    <tr>\n",
       "      <th>3</th>\n",
       "      <td>34</td>\n",
       "      <td>Devlet</td>\n",
       "      <td>9754734263</td>\n",
       "      <td>395307782</td>\n",
       "      <td>27.999400</td>\n",
       "      <td>TRY</td>\n",
       "      <td>0</td>\n",
       "      <td>8978000</td>\n",
       "      <td>20709</td>\n",
       "    </tr>\n",
       "  </tbody>\n",
       "</table>\n",
       "</div>"
      ],
      "text/plain": [
       "   id                       book_name        isbn    book_id      price  \\\n",
       "0  13           Madam Bovary (Ciltli)  6050948752  489127179  25.115735   \n",
       "1  22  Mai ve Siyah (Eleştirel Basım)  9750523533  492625951  25.340000   \n",
       "2  27                           Nutuk  9759914288    9927355  11.481470   \n",
       "3  34                          Devlet  9754734263  395307782  27.999400   \n",
       "\n",
       "  price_currency  rating_count  author_id  publisher_id  \n",
       "0            TRY             5    4098249         46868  \n",
       "1            TRY            17    3066057         63217  \n",
       "2            TRY            23    9705003         46868  \n",
       "3            TRY             0    8978000         20709  "
      ]
     },
     "execution_count": 8,
     "metadata": {},
     "output_type": "execute_result"
    }
   ],
   "source": [
    "df.limit(5).toPandas()"
   ]
  },
  {
   "cell_type": "markdown",
   "metadata": {},
   "source": [
    "# Write to Postgresql"
   ]
  },
  {
   "cell_type": "code",
   "execution_count": 9,
   "metadata": {},
   "outputs": [],
   "source": [
    "df.write.jdbc(url=jdbcUrl,\n",
    "              table=\"books_spark\", \n",
    "              mode=\"overwrite\", \n",
    "              properties={\"driver\": 'org.postgresql.Driver'})"
   ]
  },
  {
   "cell_type": "markdown",
   "metadata": {},
   "source": [
    "## Check write result"
   ]
  },
  {
   "cell_type": "code",
   "execution_count": 12,
   "metadata": {},
   "outputs": [
    {
     "data": {
      "text/html": [
       "<div>\n",
       "<style scoped>\n",
       "    .dataframe tbody tr th:only-of-type {\n",
       "        vertical-align: middle;\n",
       "    }\n",
       "\n",
       "    .dataframe tbody tr th {\n",
       "        vertical-align: top;\n",
       "    }\n",
       "\n",
       "    .dataframe thead th {\n",
       "        text-align: right;\n",
       "    }\n",
       "</style>\n",
       "<table border=\"1\" class=\"dataframe\">\n",
       "  <thead>\n",
       "    <tr style=\"text-align: right;\">\n",
       "      <th></th>\n",
       "      <th>id</th>\n",
       "      <th>book_name</th>\n",
       "      <th>isbn</th>\n",
       "      <th>book_id</th>\n",
       "      <th>price</th>\n",
       "      <th>price_currency</th>\n",
       "      <th>rating_count</th>\n",
       "      <th>author_id</th>\n",
       "      <th>publisher_id</th>\n",
       "    </tr>\n",
       "  </thead>\n",
       "  <tbody>\n",
       "    <tr>\n",
       "      <th>0</th>\n",
       "      <td>13</td>\n",
       "      <td>Madam Bovary (Ciltli)</td>\n",
       "      <td>6050948752</td>\n",
       "      <td>489127179</td>\n",
       "      <td>25.115735</td>\n",
       "      <td>TRY</td>\n",
       "      <td>5</td>\n",
       "      <td>4098249</td>\n",
       "      <td>46868</td>\n",
       "    </tr>\n",
       "    <tr>\n",
       "      <th>1</th>\n",
       "      <td>22</td>\n",
       "      <td>Mai ve Siyah (Eleştirel Basım)</td>\n",
       "      <td>9750523533</td>\n",
       "      <td>492625951</td>\n",
       "      <td>25.340000</td>\n",
       "      <td>TRY</td>\n",
       "      <td>17</td>\n",
       "      <td>3066057</td>\n",
       "      <td>63217</td>\n",
       "    </tr>\n",
       "    <tr>\n",
       "      <th>2</th>\n",
       "      <td>27</td>\n",
       "      <td>Nutuk</td>\n",
       "      <td>9759914288</td>\n",
       "      <td>9927355</td>\n",
       "      <td>11.481470</td>\n",
       "      <td>TRY</td>\n",
       "      <td>23</td>\n",
       "      <td>9705003</td>\n",
       "      <td>46868</td>\n",
       "    </tr>\n",
       "    <tr>\n",
       "      <th>3</th>\n",
       "      <td>34</td>\n",
       "      <td>Devlet</td>\n",
       "      <td>9754734263</td>\n",
       "      <td>395307782</td>\n",
       "      <td>27.999400</td>\n",
       "      <td>TRY</td>\n",
       "      <td>0</td>\n",
       "      <td>8978000</td>\n",
       "      <td>20709</td>\n",
       "    </tr>\n",
       "  </tbody>\n",
       "</table>\n",
       "</div>"
      ],
      "text/plain": [
       "   id                       book_name        isbn    book_id      price  \\\n",
       "0  13           Madam Bovary (Ciltli)  6050948752  489127179  25.115735   \n",
       "1  22  Mai ve Siyah (Eleştirel Basım)  9750523533  492625951  25.340000   \n",
       "2  27                           Nutuk  9759914288    9927355  11.481470   \n",
       "3  34                          Devlet  9754734263  395307782  27.999400   \n",
       "\n",
       "  price_currency  rating_count  author_id  publisher_id  \n",
       "0            TRY             5    4098249         46868  \n",
       "1            TRY            17    3066057         63217  \n",
       "2            TRY            23    9705003         46868  \n",
       "3            TRY             0    8978000         20709  "
      ]
     },
     "execution_count": 12,
     "metadata": {},
     "output_type": "execute_result"
    }
   ],
   "source": [
    "(spark.read\n",
    ".format(\"jdbc\")\n",
    ".option(\"url\", jdbcUrl)\n",
    ".option(\"driver\", 'org.postgresql.Driver')\n",
    ".option(\"query\",\"select * from books_spark\")\n",
    ".load()).limit(5).toPandas()"
   ]
  },
  {
   "cell_type": "code",
   "execution_count": 13,
   "metadata": {},
   "outputs": [],
   "source": [
    "spark.stop()"
   ]
  },
  {
   "cell_type": "code",
   "execution_count": null,
   "metadata": {},
   "outputs": [],
   "source": []
  }
 ],
 "metadata": {
  "kernelspec": {
   "display_name": "venvspark",
   "language": "python",
   "name": "venvspark"
  },
  "language_info": {
   "codemirror_mode": {
    "name": "ipython",
    "version": 3
   },
   "file_extension": ".py",
   "mimetype": "text/x-python",
   "name": "python",
   "nbconvert_exporter": "python",
   "pygments_lexer": "ipython3",
   "version": "3.6.8"
  }
 },
 "nbformat": 4,
 "nbformat_minor": 4
}
