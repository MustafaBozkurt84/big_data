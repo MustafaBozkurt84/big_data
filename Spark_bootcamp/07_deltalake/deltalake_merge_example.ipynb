{
 "cells": [
  {
   "cell_type": "code",
   "execution_count": 2,
   "metadata": {},
   "outputs": [],
   "source": [
    "import pandas as pd"
   ]
  },
  {
   "cell_type": "code",
   "execution_count": 3,
   "metadata": {},
   "outputs": [],
   "source": [
    "import findspark\n",
    "findspark.init(\"/opt/manual/spark\")"
   ]
  },
  {
   "cell_type": "code",
   "execution_count": 4,
   "metadata": {},
   "outputs": [],
   "source": [
    "from pyspark.sql import SparkSession, functions as F"
   ]
  },
  {
   "cell_type": "code",
   "execution_count": 5,
   "metadata": {},
   "outputs": [],
   "source": [
    "# If you are running Spark 2.4, you have to use Delta Lake 0.6.0.\n",
    "spark = (SparkSession.builder\n",
    "         .appName(\"Delta Lake Example\")\n",
    "         .master(\"yarn\")\n",
    "         .config(\"spark.jars.packages\", \"io.delta:delta-core_2.12:0.7.0\")\n",
    "         .getOrCreate())"
   ]
  },
  {
   "cell_type": "code",
   "execution_count": 6,
   "metadata": {},
   "outputs": [],
   "source": [
    "from delta.tables import *"
   ]
  },
  {
   "cell_type": "code",
   "execution_count": 7,
   "metadata": {},
   "outputs": [],
   "source": [
    "# hdfs dfs -mkdir /user/train/loans_delta\n",
    "deltaPath = \"hdfs://localhost:9000/user/train/loans_delta\""
   ]
  },
  {
   "cell_type": "markdown",
   "metadata": {},
   "source": [
    "## Create a spark dataframe"
   ]
  },
  {
   "cell_type": "code",
   "execution_count": 8,
   "metadata": {},
   "outputs": [],
   "source": [
    "customers = spark.createDataFrame([(1416, \"Tuncay Avcı\", \"9. Kısım\"), \n",
    "                                   (1417, \"İsmail İçtüzer\", \"9. Kısım\"),\n",
    "                                   (1506, \"Mustafa Aslan\", \"11. Kısım\"),\n",
    "                                   (1527, \"Buket Durmuş\", \"11. Kısım\"),\n",
    "                                   (1525, \"Saadet Yılmaz\", \"11. Kısım\")],\n",
    "                                   [\"Id\",\"Name\",\"Branch\"])"
   ]
  },
  {
   "cell_type": "code",
   "execution_count": 10,
   "metadata": {},
   "outputs": [
    {
     "data": {
      "text/html": [
       "<div>\n",
       "<style scoped>\n",
       "    .dataframe tbody tr th:only-of-type {\n",
       "        vertical-align: middle;\n",
       "    }\n",
       "\n",
       "    .dataframe tbody tr th {\n",
       "        vertical-align: top;\n",
       "    }\n",
       "\n",
       "    .dataframe thead th {\n",
       "        text-align: right;\n",
       "    }\n",
       "</style>\n",
       "<table border=\"1\" class=\"dataframe\">\n",
       "  <thead>\n",
       "    <tr style=\"text-align: right;\">\n",
       "      <th></th>\n",
       "      <th>Id</th>\n",
       "      <th>Name</th>\n",
       "      <th>Branch</th>\n",
       "    </tr>\n",
       "  </thead>\n",
       "  <tbody>\n",
       "    <tr>\n",
       "      <th>0</th>\n",
       "      <td>1416</td>\n",
       "      <td>Tuncay Avcı</td>\n",
       "      <td>9. Kısım</td>\n",
       "    </tr>\n",
       "    <tr>\n",
       "      <th>1</th>\n",
       "      <td>1417</td>\n",
       "      <td>İsmail İçtüzer</td>\n",
       "      <td>9. Kısım</td>\n",
       "    </tr>\n",
       "    <tr>\n",
       "      <th>2</th>\n",
       "      <td>1506</td>\n",
       "      <td>Mustafa Aslan</td>\n",
       "      <td>11. Kısım</td>\n",
       "    </tr>\n",
       "    <tr>\n",
       "      <th>3</th>\n",
       "      <td>1527</td>\n",
       "      <td>Buket Durmuş</td>\n",
       "      <td>11. Kısım</td>\n",
       "    </tr>\n",
       "    <tr>\n",
       "      <th>4</th>\n",
       "      <td>1525</td>\n",
       "      <td>Saadet Yılmaz</td>\n",
       "      <td>11. Kısım</td>\n",
       "    </tr>\n",
       "  </tbody>\n",
       "</table>\n",
       "</div>"
      ],
      "text/plain": [
       "     Id            Name     Branch\n",
       "0  1416     Tuncay Avcı   9. Kısım\n",
       "1  1417  İsmail İçtüzer   9. Kısım\n",
       "2  1506   Mustafa Aslan  11. Kısım\n",
       "3  1527    Buket Durmuş  11. Kısım\n",
       "4  1525   Saadet Yılmaz  11. Kısım"
      ]
     },
     "execution_count": 10,
     "metadata": {},
     "output_type": "execute_result"
    }
   ],
   "source": [
    "customers.limit(5).toPandas()"
   ]
  },
  {
   "cell_type": "markdown",
   "metadata": {},
   "source": [
    "## Write to deltalake"
   ]
  },
  {
   "cell_type": "code",
   "execution_count": 11,
   "metadata": {},
   "outputs": [],
   "source": [
    "customers.write \\\n",
    ".mode(\"overwrite\") \\\n",
    ".format(\"delta\") \\\n",
    ".save(deltaPath)"
   ]
  },
  {
   "cell_type": "markdown",
   "metadata": {},
   "source": [
    "## New Customers"
   ]
  },
  {
   "cell_type": "code",
   "execution_count": 13,
   "metadata": {},
   "outputs": [],
   "source": [
    "customers_new = spark.createDataFrame([(1416, \"Tuncay Avcı\", \"11. Kısım\"), \n",
    "                                   (1417, \"İsmail İçtüzer\", \"11. Kısım\"),\n",
    "                                   (1508, \"Mustafa Bankur\", \"11. Kısım\"),\n",
    "                                   (1522, \"Meliha Kaya\", \"11. Kısım\"),\n",
    "                                   (1525, \"Saadet Yılmaz\", \"17. Kısım\")],\n",
    "                                   [\"Id\",\"Name\",\"Branch\"])"
   ]
  },
  {
   "cell_type": "code",
   "execution_count": 14,
   "metadata": {},
   "outputs": [
    {
     "name": "stdout",
     "output_type": "stream",
     "text": [
      "+----+--------------+---------+\n",
      "|  Id|          Name|   Branch|\n",
      "+----+--------------+---------+\n",
      "|1416|   Tuncay Avcı|11. Kısım|\n",
      "|1417|İsmail İçtüzer|11. Kısım|\n",
      "|1508|Mustafa Bankur|11. Kısım|\n",
      "|1522|   Meliha Kaya|11. Kısım|\n",
      "|1525| Saadet Yılmaz|17. Kısım|\n",
      "+----+--------------+---------+\n",
      "\n"
     ]
    }
   ],
   "source": [
    "customers_new.show()"
   ]
  },
  {
   "cell_type": "markdown",
   "metadata": {},
   "source": [
    "## Read From Deltalake as DeltaTable"
   ]
  },
  {
   "cell_type": "code",
   "execution_count": 15,
   "metadata": {},
   "outputs": [],
   "source": [
    "customers_delta = DeltaTable.forPath(spark, deltaPath)"
   ]
  },
  {
   "cell_type": "code",
   "execution_count": 16,
   "metadata": {},
   "outputs": [
    {
     "data": {
      "text/plain": [
       "delta.tables.DeltaTable"
      ]
     },
     "execution_count": 16,
     "metadata": {},
     "output_type": "execute_result"
    }
   ],
   "source": [
    "type(customers_delta)"
   ]
  },
  {
   "cell_type": "code",
   "execution_count": 18,
   "metadata": {},
   "outputs": [
    {
     "name": "stdout",
     "output_type": "stream",
     "text": [
      "+----+--------------+---------+\n",
      "|  Id|          Name|   Branch|\n",
      "+----+--------------+---------+\n",
      "|1506| Mustafa Aslan|11. Kısım|\n",
      "|1527|  Buket Durmuş|11. Kısım|\n",
      "|1525| Saadet Yılmaz|11. Kısım|\n",
      "|1416|   Tuncay Avcı| 9. Kısım|\n",
      "|1417|İsmail İçtüzer| 9. Kısım|\n",
      "+----+--------------+---------+\n",
      "\n"
     ]
    }
   ],
   "source": [
    "customers_delta.toDF().show()"
   ]
  },
  {
   "cell_type": "markdown",
   "metadata": {},
   "source": [
    "## Upsert new customers into delta table"
   ]
  },
  {
   "cell_type": "code",
   "execution_count": 19,
   "metadata": {},
   "outputs": [],
   "source": [
    "customers_delta.alias(\"t\") \\\n",
    ".merge(customers_new.alias(\"s\"), \"t.Id = s.Id\") \\\n",
    ".whenMatchedUpdateAll() \\\n",
    ".whenNotMatchedInsertAll() \\\n",
    ".execute()"
   ]
  },
  {
   "cell_type": "code",
   "execution_count": 20,
   "metadata": {},
   "outputs": [],
   "source": [
    "customers_new_delta = spark.read.format(\"delta\").load(deltaPath)"
   ]
  },
  {
   "cell_type": "code",
   "execution_count": 21,
   "metadata": {},
   "outputs": [
    {
     "name": "stdout",
     "output_type": "stream",
     "text": [
      "+----+--------------+---------+\n",
      "|  Id|          Name|   Branch|\n",
      "+----+--------------+---------+\n",
      "|1416|   Tuncay Avcı|11. Kısım|\n",
      "|1417|İsmail İçtüzer|11. Kısım|\n",
      "|1506| Mustafa Aslan|11. Kısım|\n",
      "|1508|Mustafa Bankur|11. Kısım|\n",
      "|1522|   Meliha Kaya|11. Kısım|\n",
      "|1525| Saadet Yılmaz|17. Kısım|\n",
      "|1527|  Buket Durmuş|11. Kısım|\n",
      "+----+--------------+---------+\n",
      "\n"
     ]
    }
   ],
   "source": [
    "customers_new_delta \\\n",
    ".orderBy(\"Id\") \\\n",
    ".show()"
   ]
  },
  {
   "cell_type": "code",
   "execution_count": null,
   "metadata": {},
   "outputs": [],
   "source": []
  }
 ],
 "metadata": {
  "kernelspec": {
   "display_name": "venvspark",
   "language": "python",
   "name": "venvspark"
  },
  "language_info": {
   "codemirror_mode": {
    "name": "ipython",
    "version": 3
   },
   "file_extension": ".py",
   "mimetype": "text/x-python",
   "name": "python",
   "nbconvert_exporter": "python",
   "pygments_lexer": "ipython3",
   "version": "3.6.8"
  }
 },
 "nbformat": 4,
 "nbformat_minor": 4
}
