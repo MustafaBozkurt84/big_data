{
 "cells": [
  {
   "cell_type": "code",
   "execution_count": 1,
   "metadata": {},
   "outputs": [],
   "source": [
    "import findspark"
   ]
  },
  {
   "cell_type": "code",
   "execution_count": 2,
   "metadata": {},
   "outputs": [],
   "source": [
    "# /opt/manual/spark: this is SPARK_HOME path\n",
    "findspark.init(\"/opt/manual/spark\")"
   ]
  },
  {
   "cell_type": "code",
   "execution_count": 3,
   "metadata": {},
   "outputs": [],
   "source": [
    "from pyspark.sql import SparkSession, functions as F"
   ]
  },
  {
   "cell_type": "code",
   "execution_count": 4,
   "metadata": {},
   "outputs": [],
   "source": [
    "spark = SparkSession.builder \\\n",
    ".appName(\"Rename, Add, Drop\") \\\n",
    ".master(\"local[2]\") \\\n",
    ".getOrCreate()"
   ]
  },
  {
   "cell_type": "code",
   "execution_count": 5,
   "metadata": {},
   "outputs": [],
   "source": [
    "# Data source: https://data.sfgov.org/Public-Safety/Fire-Incidents/wr8u-xric/data"
   ]
  },
  {
   "cell_type": "code",
   "execution_count": 6,
   "metadata": {},
   "outputs": [],
   "source": [
    "# ! wget -P ~/datasets \\\n",
    "# https://github.com/erkansirin78/datasets/raw/master/Fire_Incidents.csv.gz"
   ]
  },
  {
   "cell_type": "code",
   "execution_count": 7,
   "metadata": {},
   "outputs": [
    {
     "name": "stdout",
     "output_type": "stream",
     "text": [
      "-rw-rw-r--. 1 train train  41002480 Oct  6 12:18 Fire_Incidents.csv.gz\r\n"
     ]
    }
   ],
   "source": [
    "! ls -l ~/datasets | grep Fire"
   ]
  },
  {
   "cell_type": "code",
   "execution_count": 8,
   "metadata": {},
   "outputs": [],
   "source": [
    "df = spark.read.option(\"header\", True) \\\n",
    ".option(\"inferSchema\", True) \\\n",
    ".option(\"header\", True) \\\n",
    ".option(\"compression\",\"gzip\") \\\n",
    ".csv(\"file:///home/train/datasets/Fire_Incidents.csv.gz\")"
   ]
  },
  {
   "cell_type": "code",
   "execution_count": 9,
   "metadata": {},
   "outputs": [],
   "source": [
    "ts_cols = ['Incident Date','Alarm DtTm','Arrival DtTm','Close DtTm']"
   ]
  },
  {
   "cell_type": "code",
   "execution_count": 10,
   "metadata": {},
   "outputs": [],
   "source": [
    "# Create new dataframe which includes only date time columns\n",
    "df2 = df.select(ts_cols)"
   ]
  },
  {
   "cell_type": "code",
   "execution_count": 11,
   "metadata": {},
   "outputs": [
    {
     "data": {
      "text/plain": [
       "[('Incident Date', 'string'),\n",
       " ('Alarm DtTm', 'string'),\n",
       " ('Arrival DtTm', 'string'),\n",
       " ('Close DtTm', 'string')]"
      ]
     },
     "execution_count": 11,
     "metadata": {},
     "output_type": "execute_result"
    }
   ],
   "source": [
    "df2.dtypes"
   ]
  },
  {
   "cell_type": "code",
   "execution_count": 12,
   "metadata": {},
   "outputs": [],
   "source": [
    "# First we need date and timestamp columns"
   ]
  },
  {
   "cell_type": "code",
   "execution_count": 12,
   "metadata": {},
   "outputs": [
    {
     "data": {
      "text/html": [
       "<div>\n",
       "<style scoped>\n",
       "    .dataframe tbody tr th:only-of-type {\n",
       "        vertical-align: middle;\n",
       "    }\n",
       "\n",
       "    .dataframe tbody tr th {\n",
       "        vertical-align: top;\n",
       "    }\n",
       "\n",
       "    .dataframe thead th {\n",
       "        text-align: right;\n",
       "    }\n",
       "</style>\n",
       "<table border=\"1\" class=\"dataframe\">\n",
       "  <thead>\n",
       "    <tr style=\"text-align: right;\">\n",
       "      <th></th>\n",
       "      <th>Incident Date</th>\n",
       "      <th>Alarm DtTm</th>\n",
       "      <th>Arrival DtTm</th>\n",
       "      <th>Close DtTm</th>\n",
       "    </tr>\n",
       "  </thead>\n",
       "  <tbody>\n",
       "    <tr>\n",
       "      <th>0</th>\n",
       "      <td>2018-06-05</td>\n",
       "      <td>2018-06-05 18:38:01</td>\n",
       "      <td>06/05/2018 06:41:59 PM</td>\n",
       "      <td>06/05/2018 06:42:12 PM</td>\n",
       "    </tr>\n",
       "    <tr>\n",
       "      <th>1</th>\n",
       "      <td>2019-08-29</td>\n",
       "      <td>2019-08-29 20:09:25</td>\n",
       "      <td>08/29/2019 08:11:54 PM</td>\n",
       "      <td>08/29/2019 08:12:24 PM</td>\n",
       "    </tr>\n",
       "    <tr>\n",
       "      <th>2</th>\n",
       "      <td>2018-06-14</td>\n",
       "      <td>2018-06-14 20:37:56</td>\n",
       "      <td>06/14/2018 08:40:37 PM</td>\n",
       "      <td>06/14/2018 08:40:52 PM</td>\n",
       "    </tr>\n",
       "  </tbody>\n",
       "</table>\n",
       "</div>"
      ],
      "text/plain": [
       "  Incident Date          Alarm DtTm            Arrival DtTm  \\\n",
       "0    2018-06-05 2018-06-05 18:38:01  06/05/2018 06:41:59 PM   \n",
       "1    2019-08-29 2019-08-29 20:09:25  08/29/2019 08:11:54 PM   \n",
       "2    2018-06-14 2018-06-14 20:37:56  06/14/2018 08:40:37 PM   \n",
       "\n",
       "               Close DtTm  \n",
       "0  06/05/2018 06:42:12 PM  \n",
       "1  08/29/2019 08:12:24 PM  \n",
       "2  06/14/2018 08:40:52 PM  "
      ]
     },
     "execution_count": 12,
     "metadata": {},
     "output_type": "execute_result"
    }
   ],
   "source": [
    "df3 = df2.withColumn(\"Incident Date\", \n",
    "                     F.to_date(F.col(\"Incident Date\"), 'MM/dd/yyyy')) \\\n",
    ".withColumn(\"Alarm DtTm\", \n",
    "                     F.to_timestamp(F.col(\"Alarm DtTm\"), 'MM/dd/yyyy hh:mm:ss a'))\n",
    "df3.limit(3).toPandas()"
   ]
  },
  {
   "cell_type": "code",
   "execution_count": 13,
   "metadata": {},
   "outputs": [
    {
     "name": "stdout",
     "output_type": "stream",
     "text": [
      "root\n",
      " |-- Incident Date: date (nullable = true)\n",
      " |-- Alarm DtTm: timestamp (nullable = true)\n",
      " |-- Arrival DtTm: string (nullable = true)\n",
      " |-- Close DtTm: string (nullable = true)\n",
      "\n"
     ]
    }
   ],
   "source": [
    "df3.printSchema()"
   ]
  },
  {
   "cell_type": "markdown",
   "metadata": {},
   "source": [
    "## Get year"
   ]
  },
  {
   "cell_type": "code",
   "execution_count": 14,
   "metadata": {},
   "outputs": [
    {
     "data": {
      "text/html": [
       "<div>\n",
       "<style scoped>\n",
       "    .dataframe tbody tr th:only-of-type {\n",
       "        vertical-align: middle;\n",
       "    }\n",
       "\n",
       "    .dataframe tbody tr th {\n",
       "        vertical-align: top;\n",
       "    }\n",
       "\n",
       "    .dataframe thead th {\n",
       "        text-align: right;\n",
       "    }\n",
       "</style>\n",
       "<table border=\"1\" class=\"dataframe\">\n",
       "  <thead>\n",
       "    <tr style=\"text-align: right;\">\n",
       "      <th></th>\n",
       "      <th>Incident Date</th>\n",
       "      <th>Alarm DtTm</th>\n",
       "      <th>Arrival DtTm</th>\n",
       "      <th>Close DtTm</th>\n",
       "      <th>Alarm_DtTm_Year</th>\n",
       "    </tr>\n",
       "  </thead>\n",
       "  <tbody>\n",
       "    <tr>\n",
       "      <th>0</th>\n",
       "      <td>2018-06-05</td>\n",
       "      <td>2018-06-05 18:38:01</td>\n",
       "      <td>06/05/2018 06:41:59 PM</td>\n",
       "      <td>06/05/2018 06:42:12 PM</td>\n",
       "      <td>2018</td>\n",
       "    </tr>\n",
       "    <tr>\n",
       "      <th>1</th>\n",
       "      <td>2019-08-29</td>\n",
       "      <td>2019-08-29 20:09:25</td>\n",
       "      <td>08/29/2019 08:11:54 PM</td>\n",
       "      <td>08/29/2019 08:12:24 PM</td>\n",
       "      <td>2019</td>\n",
       "    </tr>\n",
       "    <tr>\n",
       "      <th>2</th>\n",
       "      <td>2018-06-14</td>\n",
       "      <td>2018-06-14 20:37:56</td>\n",
       "      <td>06/14/2018 08:40:37 PM</td>\n",
       "      <td>06/14/2018 08:40:52 PM</td>\n",
       "      <td>2018</td>\n",
       "    </tr>\n",
       "  </tbody>\n",
       "</table>\n",
       "</div>"
      ],
      "text/plain": [
       "  Incident Date          Alarm DtTm            Arrival DtTm  \\\n",
       "0    2018-06-05 2018-06-05 18:38:01  06/05/2018 06:41:59 PM   \n",
       "1    2019-08-29 2019-08-29 20:09:25  08/29/2019 08:11:54 PM   \n",
       "2    2018-06-14 2018-06-14 20:37:56  06/14/2018 08:40:37 PM   \n",
       "\n",
       "               Close DtTm  Alarm_DtTm_Year  \n",
       "0  06/05/2018 06:42:12 PM             2018  \n",
       "1  08/29/2019 08:12:24 PM             2019  \n",
       "2  06/14/2018 08:40:52 PM             2018  "
      ]
     },
     "execution_count": 14,
     "metadata": {},
     "output_type": "execute_result"
    }
   ],
   "source": [
    "df4 = df3.withColumn(\"Alarm_DtTm_Year\", \n",
    "                     F.year(F.col(\"Alarm DtTm\")))\n",
    "df4.limit(3).toPandas()"
   ]
  },
  {
   "cell_type": "code",
   "execution_count": 16,
   "metadata": {},
   "outputs": [
    {
     "name": "stdout",
     "output_type": "stream",
     "text": [
      "+---------------+\n",
      "|Alarm_DtTm_Year|\n",
      "+---------------+\n",
      "|           2018|\n",
      "|           2019|\n",
      "|           2018|\n",
      "+---------------+\n",
      "only showing top 3 rows\n",
      "\n"
     ]
    }
   ],
   "source": [
    "df3.select(F.year(\"Alarm DtTm\").alias(\"Alarm_DtTm_Year\")).show(3)"
   ]
  },
  {
   "cell_type": "markdown",
   "metadata": {},
   "source": [
    "## Get month"
   ]
  },
  {
   "cell_type": "code",
   "execution_count": 17,
   "metadata": {},
   "outputs": [
    {
     "data": {
      "text/html": [
       "<div>\n",
       "<style scoped>\n",
       "    .dataframe tbody tr th:only-of-type {\n",
       "        vertical-align: middle;\n",
       "    }\n",
       "\n",
       "    .dataframe tbody tr th {\n",
       "        vertical-align: top;\n",
       "    }\n",
       "\n",
       "    .dataframe thead th {\n",
       "        text-align: right;\n",
       "    }\n",
       "</style>\n",
       "<table border=\"1\" class=\"dataframe\">\n",
       "  <thead>\n",
       "    <tr style=\"text-align: right;\">\n",
       "      <th></th>\n",
       "      <th>Incident Date</th>\n",
       "      <th>Alarm DtTm</th>\n",
       "      <th>Arrival DtTm</th>\n",
       "      <th>Close DtTm</th>\n",
       "      <th>Alarm_DtTm_Month</th>\n",
       "    </tr>\n",
       "  </thead>\n",
       "  <tbody>\n",
       "    <tr>\n",
       "      <th>0</th>\n",
       "      <td>2018-06-05</td>\n",
       "      <td>2018-06-05 18:38:01</td>\n",
       "      <td>06/05/2018 06:41:59 PM</td>\n",
       "      <td>06/05/2018 06:42:12 PM</td>\n",
       "      <td>6</td>\n",
       "    </tr>\n",
       "    <tr>\n",
       "      <th>1</th>\n",
       "      <td>2019-08-29</td>\n",
       "      <td>2019-08-29 20:09:25</td>\n",
       "      <td>08/29/2019 08:11:54 PM</td>\n",
       "      <td>08/29/2019 08:12:24 PM</td>\n",
       "      <td>8</td>\n",
       "    </tr>\n",
       "    <tr>\n",
       "      <th>2</th>\n",
       "      <td>2018-06-14</td>\n",
       "      <td>2018-06-14 20:37:56</td>\n",
       "      <td>06/14/2018 08:40:37 PM</td>\n",
       "      <td>06/14/2018 08:40:52 PM</td>\n",
       "      <td>6</td>\n",
       "    </tr>\n",
       "  </tbody>\n",
       "</table>\n",
       "</div>"
      ],
      "text/plain": [
       "  Incident Date          Alarm DtTm            Arrival DtTm  \\\n",
       "0    2018-06-05 2018-06-05 18:38:01  06/05/2018 06:41:59 PM   \n",
       "1    2019-08-29 2019-08-29 20:09:25  08/29/2019 08:11:54 PM   \n",
       "2    2018-06-14 2018-06-14 20:37:56  06/14/2018 08:40:37 PM   \n",
       "\n",
       "               Close DtTm  Alarm_DtTm_Month  \n",
       "0  06/05/2018 06:42:12 PM                 6  \n",
       "1  08/29/2019 08:12:24 PM                 8  \n",
       "2  06/14/2018 08:40:52 PM                 6  "
      ]
     },
     "execution_count": 17,
     "metadata": {},
     "output_type": "execute_result"
    }
   ],
   "source": [
    "df4 = df3.withColumn(\"Alarm_DtTm_Month\", \n",
    "                     F.month(F.col(\"Alarm DtTm\")))\n",
    "df4.limit(3).toPandas()"
   ]
  },
  {
   "cell_type": "code",
   "execution_count": 18,
   "metadata": {},
   "outputs": [
    {
     "name": "stdout",
     "output_type": "stream",
     "text": [
      "+-----------------+\n",
      "|month(Alarm DtTm)|\n",
      "+-----------------+\n",
      "|                6|\n",
      "|                8|\n",
      "|                6|\n",
      "+-----------------+\n",
      "only showing top 3 rows\n",
      "\n"
     ]
    }
   ],
   "source": [
    "df3.select(F.month(\"Alarm DtTm\")).show(3)"
   ]
  },
  {
   "cell_type": "markdown",
   "metadata": {},
   "source": [
    "## Get week of year"
   ]
  },
  {
   "cell_type": "code",
   "execution_count": 19,
   "metadata": {},
   "outputs": [
    {
     "data": {
      "text/html": [
       "<div>\n",
       "<style scoped>\n",
       "    .dataframe tbody tr th:only-of-type {\n",
       "        vertical-align: middle;\n",
       "    }\n",
       "\n",
       "    .dataframe tbody tr th {\n",
       "        vertical-align: top;\n",
       "    }\n",
       "\n",
       "    .dataframe thead th {\n",
       "        text-align: right;\n",
       "    }\n",
       "</style>\n",
       "<table border=\"1\" class=\"dataframe\">\n",
       "  <thead>\n",
       "    <tr style=\"text-align: right;\">\n",
       "      <th></th>\n",
       "      <th>Incident Date</th>\n",
       "      <th>Alarm DtTm</th>\n",
       "      <th>Arrival DtTm</th>\n",
       "      <th>Close DtTm</th>\n",
       "      <th>Alarm_DtTm_Week</th>\n",
       "    </tr>\n",
       "  </thead>\n",
       "  <tbody>\n",
       "    <tr>\n",
       "      <th>0</th>\n",
       "      <td>2018-06-05</td>\n",
       "      <td>2018-06-05 18:38:01</td>\n",
       "      <td>06/05/2018 06:41:59 PM</td>\n",
       "      <td>06/05/2018 06:42:12 PM</td>\n",
       "      <td>23</td>\n",
       "    </tr>\n",
       "    <tr>\n",
       "      <th>1</th>\n",
       "      <td>2019-08-29</td>\n",
       "      <td>2019-08-29 20:09:25</td>\n",
       "      <td>08/29/2019 08:11:54 PM</td>\n",
       "      <td>08/29/2019 08:12:24 PM</td>\n",
       "      <td>35</td>\n",
       "    </tr>\n",
       "    <tr>\n",
       "      <th>2</th>\n",
       "      <td>2018-06-14</td>\n",
       "      <td>2018-06-14 20:37:56</td>\n",
       "      <td>06/14/2018 08:40:37 PM</td>\n",
       "      <td>06/14/2018 08:40:52 PM</td>\n",
       "      <td>24</td>\n",
       "    </tr>\n",
       "  </tbody>\n",
       "</table>\n",
       "</div>"
      ],
      "text/plain": [
       "  Incident Date          Alarm DtTm            Arrival DtTm  \\\n",
       "0    2018-06-05 2018-06-05 18:38:01  06/05/2018 06:41:59 PM   \n",
       "1    2019-08-29 2019-08-29 20:09:25  08/29/2019 08:11:54 PM   \n",
       "2    2018-06-14 2018-06-14 20:37:56  06/14/2018 08:40:37 PM   \n",
       "\n",
       "               Close DtTm  Alarm_DtTm_Week  \n",
       "0  06/05/2018 06:42:12 PM               23  \n",
       "1  08/29/2019 08:12:24 PM               35  \n",
       "2  06/14/2018 08:40:52 PM               24  "
      ]
     },
     "execution_count": 19,
     "metadata": {},
     "output_type": "execute_result"
    }
   ],
   "source": [
    "df4 = df3.withColumn(\"Alarm_DtTm_Week\", \n",
    "                     F.weekofyear(F.col(\"Alarm DtTm\")))\n",
    "df4.limit(3).toPandas()"
   ]
  },
  {
   "cell_type": "code",
   "execution_count": 20,
   "metadata": {},
   "outputs": [
    {
     "name": "stdout",
     "output_type": "stream",
     "text": [
      "+----------------------+\n",
      "|weekofyear(Alarm DtTm)|\n",
      "+----------------------+\n",
      "|                    23|\n",
      "|                    35|\n",
      "|                    24|\n",
      "+----------------------+\n",
      "only showing top 3 rows\n",
      "\n"
     ]
    }
   ],
   "source": [
    "df3.select(F.weekofyear(\"Alarm DtTm\")).show(3)"
   ]
  },
  {
   "cell_type": "markdown",
   "metadata": {},
   "source": [
    "## Get day of month"
   ]
  },
  {
   "cell_type": "code",
   "execution_count": 20,
   "metadata": {},
   "outputs": [
    {
     "data": {
      "text/html": [
       "<div>\n",
       "<style scoped>\n",
       "    .dataframe tbody tr th:only-of-type {\n",
       "        vertical-align: middle;\n",
       "    }\n",
       "\n",
       "    .dataframe tbody tr th {\n",
       "        vertical-align: top;\n",
       "    }\n",
       "\n",
       "    .dataframe thead th {\n",
       "        text-align: right;\n",
       "    }\n",
       "</style>\n",
       "<table border=\"1\" class=\"dataframe\">\n",
       "  <thead>\n",
       "    <tr style=\"text-align: right;\">\n",
       "      <th></th>\n",
       "      <th>Incident Date</th>\n",
       "      <th>Alarm DtTm</th>\n",
       "      <th>Arrival DtTm</th>\n",
       "      <th>Close DtTm</th>\n",
       "      <th>Alarm_DtTm_DayofMonth</th>\n",
       "    </tr>\n",
       "  </thead>\n",
       "  <tbody>\n",
       "    <tr>\n",
       "      <th>0</th>\n",
       "      <td>2018-06-05</td>\n",
       "      <td>2018-06-05 18:38:01</td>\n",
       "      <td>06/05/2018 06:41:59 PM</td>\n",
       "      <td>06/05/2018 06:42:12 PM</td>\n",
       "      <td>5</td>\n",
       "    </tr>\n",
       "    <tr>\n",
       "      <th>1</th>\n",
       "      <td>2019-08-29</td>\n",
       "      <td>2019-08-29 20:09:25</td>\n",
       "      <td>08/29/2019 08:11:54 PM</td>\n",
       "      <td>08/29/2019 08:12:24 PM</td>\n",
       "      <td>29</td>\n",
       "    </tr>\n",
       "    <tr>\n",
       "      <th>2</th>\n",
       "      <td>2018-06-14</td>\n",
       "      <td>2018-06-14 20:37:56</td>\n",
       "      <td>06/14/2018 08:40:37 PM</td>\n",
       "      <td>06/14/2018 08:40:52 PM</td>\n",
       "      <td>14</td>\n",
       "    </tr>\n",
       "  </tbody>\n",
       "</table>\n",
       "</div>"
      ],
      "text/plain": [
       "  Incident Date          Alarm DtTm            Arrival DtTm  \\\n",
       "0    2018-06-05 2018-06-05 18:38:01  06/05/2018 06:41:59 PM   \n",
       "1    2019-08-29 2019-08-29 20:09:25  08/29/2019 08:11:54 PM   \n",
       "2    2018-06-14 2018-06-14 20:37:56  06/14/2018 08:40:37 PM   \n",
       "\n",
       "               Close DtTm  Alarm_DtTm_DayofMonth  \n",
       "0  06/05/2018 06:42:12 PM                      5  \n",
       "1  08/29/2019 08:12:24 PM                     29  \n",
       "2  06/14/2018 08:40:52 PM                     14  "
      ]
     },
     "execution_count": 20,
     "metadata": {},
     "output_type": "execute_result"
    }
   ],
   "source": [
    "df4 = df3.withColumn(\"Alarm_DtTm_DayofMonth\", \n",
    "                     F.dayofmonth(F.col(\"Alarm DtTm\")))\n",
    "df4.limit(3).toPandas()"
   ]
  },
  {
   "cell_type": "markdown",
   "metadata": {},
   "source": [
    "## Get day of week"
   ]
  },
  {
   "cell_type": "code",
   "execution_count": 21,
   "metadata": {},
   "outputs": [
    {
     "data": {
      "text/html": [
       "<div>\n",
       "<style scoped>\n",
       "    .dataframe tbody tr th:only-of-type {\n",
       "        vertical-align: middle;\n",
       "    }\n",
       "\n",
       "    .dataframe tbody tr th {\n",
       "        vertical-align: top;\n",
       "    }\n",
       "\n",
       "    .dataframe thead th {\n",
       "        text-align: right;\n",
       "    }\n",
       "</style>\n",
       "<table border=\"1\" class=\"dataframe\">\n",
       "  <thead>\n",
       "    <tr style=\"text-align: right;\">\n",
       "      <th></th>\n",
       "      <th>Incident Date</th>\n",
       "      <th>Alarm DtTm</th>\n",
       "      <th>Arrival DtTm</th>\n",
       "      <th>Close DtTm</th>\n",
       "      <th>Alarm_DtTm_DayofWeek</th>\n",
       "    </tr>\n",
       "  </thead>\n",
       "  <tbody>\n",
       "    <tr>\n",
       "      <th>0</th>\n",
       "      <td>2018-06-05</td>\n",
       "      <td>2018-06-05 18:38:01</td>\n",
       "      <td>06/05/2018 06:41:59 PM</td>\n",
       "      <td>06/05/2018 06:42:12 PM</td>\n",
       "      <td>3</td>\n",
       "    </tr>\n",
       "    <tr>\n",
       "      <th>1</th>\n",
       "      <td>2019-08-29</td>\n",
       "      <td>2019-08-29 20:09:25</td>\n",
       "      <td>08/29/2019 08:11:54 PM</td>\n",
       "      <td>08/29/2019 08:12:24 PM</td>\n",
       "      <td>5</td>\n",
       "    </tr>\n",
       "    <tr>\n",
       "      <th>2</th>\n",
       "      <td>2018-06-14</td>\n",
       "      <td>2018-06-14 20:37:56</td>\n",
       "      <td>06/14/2018 08:40:37 PM</td>\n",
       "      <td>06/14/2018 08:40:52 PM</td>\n",
       "      <td>5</td>\n",
       "    </tr>\n",
       "  </tbody>\n",
       "</table>\n",
       "</div>"
      ],
      "text/plain": [
       "  Incident Date          Alarm DtTm            Arrival DtTm  \\\n",
       "0    2018-06-05 2018-06-05 18:38:01  06/05/2018 06:41:59 PM   \n",
       "1    2019-08-29 2019-08-29 20:09:25  08/29/2019 08:11:54 PM   \n",
       "2    2018-06-14 2018-06-14 20:37:56  06/14/2018 08:40:37 PM   \n",
       "\n",
       "               Close DtTm  Alarm_DtTm_DayofWeek  \n",
       "0  06/05/2018 06:42:12 PM                     3  \n",
       "1  08/29/2019 08:12:24 PM                     5  \n",
       "2  06/14/2018 08:40:52 PM                     5  "
      ]
     },
     "execution_count": 21,
     "metadata": {},
     "output_type": "execute_result"
    }
   ],
   "source": [
    "df4 = df3.withColumn(\"Alarm_DtTm_DayofWeek\", \n",
    "                     F.dayofweek(F.col(\"Alarm DtTm\")))\n",
    "df4.limit(3).toPandas()"
   ]
  },
  {
   "cell_type": "markdown",
   "metadata": {},
   "source": [
    "# Get day name"
   ]
  },
  {
   "cell_type": "code",
   "execution_count": 22,
   "metadata": {},
   "outputs": [
    {
     "data": {
      "text/html": [
       "<div>\n",
       "<style scoped>\n",
       "    .dataframe tbody tr th:only-of-type {\n",
       "        vertical-align: middle;\n",
       "    }\n",
       "\n",
       "    .dataframe tbody tr th {\n",
       "        vertical-align: top;\n",
       "    }\n",
       "\n",
       "    .dataframe thead th {\n",
       "        text-align: right;\n",
       "    }\n",
       "</style>\n",
       "<table border=\"1\" class=\"dataframe\">\n",
       "  <thead>\n",
       "    <tr style=\"text-align: right;\">\n",
       "      <th></th>\n",
       "      <th>Incident Date</th>\n",
       "      <th>Alarm DtTm</th>\n",
       "      <th>Arrival DtTm</th>\n",
       "      <th>Close DtTm</th>\n",
       "      <th>Alarm_DtTm_DayName</th>\n",
       "    </tr>\n",
       "  </thead>\n",
       "  <tbody>\n",
       "    <tr>\n",
       "      <th>0</th>\n",
       "      <td>2018-06-05</td>\n",
       "      <td>2018-06-05 18:38:01</td>\n",
       "      <td>06/05/2018 06:41:59 PM</td>\n",
       "      <td>06/05/2018 06:42:12 PM</td>\n",
       "      <td>Tue</td>\n",
       "    </tr>\n",
       "    <tr>\n",
       "      <th>1</th>\n",
       "      <td>2019-08-29</td>\n",
       "      <td>2019-08-29 20:09:25</td>\n",
       "      <td>08/29/2019 08:11:54 PM</td>\n",
       "      <td>08/29/2019 08:12:24 PM</td>\n",
       "      <td>Thu</td>\n",
       "    </tr>\n",
       "    <tr>\n",
       "      <th>2</th>\n",
       "      <td>2018-06-14</td>\n",
       "      <td>2018-06-14 20:37:56</td>\n",
       "      <td>06/14/2018 08:40:37 PM</td>\n",
       "      <td>06/14/2018 08:40:52 PM</td>\n",
       "      <td>Thu</td>\n",
       "    </tr>\n",
       "  </tbody>\n",
       "</table>\n",
       "</div>"
      ],
      "text/plain": [
       "  Incident Date          Alarm DtTm            Arrival DtTm  \\\n",
       "0    2018-06-05 2018-06-05 18:38:01  06/05/2018 06:41:59 PM   \n",
       "1    2019-08-29 2019-08-29 20:09:25  08/29/2019 08:11:54 PM   \n",
       "2    2018-06-14 2018-06-14 20:37:56  06/14/2018 08:40:37 PM   \n",
       "\n",
       "               Close DtTm Alarm_DtTm_DayName  \n",
       "0  06/05/2018 06:42:12 PM                Tue  \n",
       "1  08/29/2019 08:12:24 PM                Thu  \n",
       "2  06/14/2018 08:40:52 PM                Thu  "
      ]
     },
     "execution_count": 22,
     "metadata": {},
     "output_type": "execute_result"
    }
   ],
   "source": [
    "df4 = df3.withColumn(\"Alarm_DtTm_DayName\", \n",
    "                     F.date_format(F.col(\"Alarm DtTm\"), 'E'))\n",
    "df4.limit(3).toPandas()"
   ]
  },
  {
   "cell_type": "markdown",
   "metadata": {},
   "source": [
    "# Get day names other than English"
   ]
  },
  {
   "cell_type": "code",
   "execution_count": 23,
   "metadata": {},
   "outputs": [],
   "source": [
    "from pyspark.sql.types import StringType"
   ]
  },
  {
   "cell_type": "code",
   "execution_count": 24,
   "metadata": {},
   "outputs": [],
   "source": [
    "# write a function that converts day number to day name\n",
    "def switch_tr_day(day_index):\n",
    "    my_dict = {\n",
    "        1: 'Pazartesi',\n",
    "        2: 'Salı',\n",
    "        3: 'Çarşamba',\n",
    "        4: 'Perşembe',\n",
    "        5: 'Cuma',\n",
    "        6: 'Cumartesi',\n",
    "        7: 'Pazar'\n",
    "    }\n",
    "    \n",
    "    return my_dict.get(day_index)"
   ]
  },
  {
   "cell_type": "code",
   "execution_count": 26,
   "metadata": {},
   "outputs": [
    {
     "data": {
      "text/plain": [
       "'Çarşamba'"
      ]
     },
     "execution_count": 26,
     "metadata": {},
     "output_type": "execute_result"
    }
   ],
   "source": [
    "switch_tr_day(3)"
   ]
  },
  {
   "cell_type": "code",
   "execution_count": 27,
   "metadata": {},
   "outputs": [],
   "source": [
    "switch_day_func = F.udf(lambda z: switch_tr_day(z), StringType())"
   ]
  },
  {
   "cell_type": "code",
   "execution_count": 28,
   "metadata": {},
   "outputs": [
    {
     "data": {
      "text/plain": [
       "<function __main__.<lambda>(z)>"
      ]
     },
     "execution_count": 28,
     "metadata": {},
     "output_type": "execute_result"
    }
   ],
   "source": [
    "# Register your function\n",
    "\n",
    "\n",
    "spark.udf.register(\"switch_day_func\", switch_day_func)"
   ]
  },
  {
   "cell_type": "code",
   "execution_count": 29,
   "metadata": {},
   "outputs": [
    {
     "data": {
      "text/html": [
       "<div>\n",
       "<style scoped>\n",
       "    .dataframe tbody tr th:only-of-type {\n",
       "        vertical-align: middle;\n",
       "    }\n",
       "\n",
       "    .dataframe tbody tr th {\n",
       "        vertical-align: top;\n",
       "    }\n",
       "\n",
       "    .dataframe thead th {\n",
       "        text-align: right;\n",
       "    }\n",
       "</style>\n",
       "<table border=\"1\" class=\"dataframe\">\n",
       "  <thead>\n",
       "    <tr style=\"text-align: right;\">\n",
       "      <th></th>\n",
       "      <th>&lt;lambda&gt;(Alarm_DtTm_DayofWeek)</th>\n",
       "    </tr>\n",
       "  </thead>\n",
       "  <tbody>\n",
       "    <tr>\n",
       "      <th>0</th>\n",
       "      <td>Çarşamba</td>\n",
       "    </tr>\n",
       "    <tr>\n",
       "      <th>1</th>\n",
       "      <td>Cuma</td>\n",
       "    </tr>\n",
       "    <tr>\n",
       "      <th>2</th>\n",
       "      <td>Cuma</td>\n",
       "    </tr>\n",
       "    <tr>\n",
       "      <th>3</th>\n",
       "      <td>Cumartesi</td>\n",
       "    </tr>\n",
       "    <tr>\n",
       "      <th>4</th>\n",
       "      <td>Cuma</td>\n",
       "    </tr>\n",
       "  </tbody>\n",
       "</table>\n",
       "</div>"
      ],
      "text/plain": [
       "  <lambda>(Alarm_DtTm_DayofWeek)\n",
       "0                       Çarşamba\n",
       "1                           Cuma\n",
       "2                           Cuma\n",
       "3                      Cumartesi\n",
       "4                           Cuma"
      ]
     },
     "execution_count": 29,
     "metadata": {},
     "output_type": "execute_result"
    }
   ],
   "source": [
    "# Use your registered function\n",
    "\n",
    "df5 = df4 \\\n",
    ".withColumn(\"Alarm_DtTm_DayofWeek\", F.dayofweek(F.col(\"Alarm DtTm\")))\n",
    "\n",
    "\n",
    "df5.select(switch_day_func('Alarm_DtTm_DayofWeek')).limit(5).toPandas()"
   ]
  },
  {
   "cell_type": "code",
   "execution_count": null,
   "metadata": {},
   "outputs": [],
   "source": []
  }
 ],
 "metadata": {
  "kernelspec": {
   "display_name": "venvspark",
   "language": "python",
   "name": "venvspark"
  },
  "language_info": {
   "codemirror_mode": {
    "name": "ipython",
    "version": 3
   },
   "file_extension": ".py",
   "mimetype": "text/x-python",
   "name": "python",
   "nbconvert_exporter": "python",
   "pygments_lexer": "ipython3",
   "version": "3.6.8"
  }
 },
 "nbformat": 4,
 "nbformat_minor": 4
}
