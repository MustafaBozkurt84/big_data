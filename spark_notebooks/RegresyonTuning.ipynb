{
 "cells": [
  {
   "cell_type": "code",
   "execution_count": 1,
   "metadata": {},
   "outputs": [],
   "source": [
    "import findspark\n",
    "findspark.init()"
   ]
  },
  {
   "cell_type": "code",
   "execution_count": 2,
   "metadata": {},
   "outputs": [],
   "source": [
    "from pyspark.sql import SparkSession\n",
    "spark = SparkSession.builder \\\n",
    ".appName(\"RegresyonTuning\") \\\n",
    ".master(\"local[4]\") \\\n",
    ".config(\"spark.driver.memory\",\"2g\") \\\n",
    ".config(\"spark.executor.memory\",\"4g\") \\\n",
    ".getOrCreate()"
   ]
  },
  {
   "cell_type": "markdown",
   "metadata": {},
   "source": [
    "# veri okuma"
   ]
  },
  {
   "cell_type": "code",
   "execution_count": 3,
   "metadata": {},
   "outputs": [],
   "source": [
    "# Kaynak: https://www.kaggle.com/kumarajarshi/life-expectancy-who"
   ]
  },
  {
   "cell_type": "code",
   "execution_count": 4,
   "metadata": {},
   "outputs": [],
   "source": [
    "df = spark.read.format(\"csv\") \\\n",
    ".option(\"header\", True) \\\n",
    ".option(\"inferSchema\", True) \\\n",
    ".option(\"sep\",\",\") \\\n",
    ".load(\"D:\\\\Datasets\\LifeExpectancyData.csv\")"
   ]
  },
  {
   "cell_type": "code",
   "execution_count": 5,
   "metadata": {},
   "outputs": [
    {
     "data": {
      "text/html": [
       "<div>\n",
       "<style scoped>\n",
       "    .dataframe tbody tr th:only-of-type {\n",
       "        vertical-align: middle;\n",
       "    }\n",
       "\n",
       "    .dataframe tbody tr th {\n",
       "        vertical-align: top;\n",
       "    }\n",
       "\n",
       "    .dataframe thead th {\n",
       "        text-align: right;\n",
       "    }\n",
       "</style>\n",
       "<table border=\"1\" class=\"dataframe\">\n",
       "  <thead>\n",
       "    <tr style=\"text-align: right;\">\n",
       "      <th></th>\n",
       "      <th>Country</th>\n",
       "      <th>Year</th>\n",
       "      <th>Status</th>\n",
       "      <th>Life expectancy</th>\n",
       "      <th>Adult Mortality</th>\n",
       "      <th>infant deaths</th>\n",
       "      <th>Alcohol</th>\n",
       "      <th>percentage expenditure</th>\n",
       "      <th>Hepatitis B</th>\n",
       "      <th>Measles</th>\n",
       "      <th>...</th>\n",
       "      <th>Polio</th>\n",
       "      <th>Total expenditure</th>\n",
       "      <th>Diphtheria</th>\n",
       "      <th>HIV/AIDS</th>\n",
       "      <th>GDP</th>\n",
       "      <th>Population</th>\n",
       "      <th>thinness  1-19 years</th>\n",
       "      <th>thinness 5-9 years</th>\n",
       "      <th>Income composition of resources</th>\n",
       "      <th>Schooling</th>\n",
       "    </tr>\n",
       "  </thead>\n",
       "  <tbody>\n",
       "    <tr>\n",
       "      <th>0</th>\n",
       "      <td>Afghanistan</td>\n",
       "      <td>2015</td>\n",
       "      <td>Developing</td>\n",
       "      <td>65.0</td>\n",
       "      <td>263.0</td>\n",
       "      <td>62</td>\n",
       "      <td>0.01</td>\n",
       "      <td>71.279624</td>\n",
       "      <td>65.0</td>\n",
       "      <td>1154</td>\n",
       "      <td>...</td>\n",
       "      <td>6.0</td>\n",
       "      <td>8.16</td>\n",
       "      <td>65.0</td>\n",
       "      <td>0.1</td>\n",
       "      <td>584.259210</td>\n",
       "      <td>33736494.0</td>\n",
       "      <td>17.2</td>\n",
       "      <td>17.3</td>\n",
       "      <td>0.479</td>\n",
       "      <td>10.1</td>\n",
       "    </tr>\n",
       "    <tr>\n",
       "      <th>1</th>\n",
       "      <td>Afghanistan</td>\n",
       "      <td>2014</td>\n",
       "      <td>Developing</td>\n",
       "      <td>59.9</td>\n",
       "      <td>271.0</td>\n",
       "      <td>64</td>\n",
       "      <td>0.01</td>\n",
       "      <td>73.523582</td>\n",
       "      <td>62.0</td>\n",
       "      <td>492</td>\n",
       "      <td>...</td>\n",
       "      <td>58.0</td>\n",
       "      <td>8.18</td>\n",
       "      <td>62.0</td>\n",
       "      <td>0.1</td>\n",
       "      <td>612.696514</td>\n",
       "      <td>327582.0</td>\n",
       "      <td>17.5</td>\n",
       "      <td>17.5</td>\n",
       "      <td>0.476</td>\n",
       "      <td>10.0</td>\n",
       "    </tr>\n",
       "    <tr>\n",
       "      <th>2</th>\n",
       "      <td>Afghanistan</td>\n",
       "      <td>2013</td>\n",
       "      <td>Developing</td>\n",
       "      <td>59.9</td>\n",
       "      <td>268.0</td>\n",
       "      <td>66</td>\n",
       "      <td>0.01</td>\n",
       "      <td>73.219243</td>\n",
       "      <td>64.0</td>\n",
       "      <td>430</td>\n",
       "      <td>...</td>\n",
       "      <td>62.0</td>\n",
       "      <td>8.13</td>\n",
       "      <td>64.0</td>\n",
       "      <td>0.1</td>\n",
       "      <td>631.744976</td>\n",
       "      <td>31731688.0</td>\n",
       "      <td>17.7</td>\n",
       "      <td>17.7</td>\n",
       "      <td>0.470</td>\n",
       "      <td>9.9</td>\n",
       "    </tr>\n",
       "    <tr>\n",
       "      <th>3</th>\n",
       "      <td>Afghanistan</td>\n",
       "      <td>2012</td>\n",
       "      <td>Developing</td>\n",
       "      <td>59.5</td>\n",
       "      <td>272.0</td>\n",
       "      <td>69</td>\n",
       "      <td>0.01</td>\n",
       "      <td>78.184215</td>\n",
       "      <td>67.0</td>\n",
       "      <td>2787</td>\n",
       "      <td>...</td>\n",
       "      <td>67.0</td>\n",
       "      <td>8.52</td>\n",
       "      <td>67.0</td>\n",
       "      <td>0.1</td>\n",
       "      <td>669.959000</td>\n",
       "      <td>3696958.0</td>\n",
       "      <td>17.9</td>\n",
       "      <td>18.0</td>\n",
       "      <td>0.463</td>\n",
       "      <td>9.8</td>\n",
       "    </tr>\n",
       "    <tr>\n",
       "      <th>4</th>\n",
       "      <td>Afghanistan</td>\n",
       "      <td>2011</td>\n",
       "      <td>Developing</td>\n",
       "      <td>59.2</td>\n",
       "      <td>275.0</td>\n",
       "      <td>71</td>\n",
       "      <td>0.01</td>\n",
       "      <td>7.097109</td>\n",
       "      <td>68.0</td>\n",
       "      <td>3013</td>\n",
       "      <td>...</td>\n",
       "      <td>68.0</td>\n",
       "      <td>7.87</td>\n",
       "      <td>68.0</td>\n",
       "      <td>0.1</td>\n",
       "      <td>63.537231</td>\n",
       "      <td>2978599.0</td>\n",
       "      <td>18.2</td>\n",
       "      <td>18.2</td>\n",
       "      <td>0.454</td>\n",
       "      <td>9.5</td>\n",
       "    </tr>\n",
       "  </tbody>\n",
       "</table>\n",
       "<p>5 rows × 22 columns</p>\n",
       "</div>"
      ],
      "text/plain": [
       "       Country  Year      Status  Life expectancy   Adult Mortality  \\\n",
       "0  Afghanistan  2015  Developing              65.0            263.0   \n",
       "1  Afghanistan  2014  Developing              59.9            271.0   \n",
       "2  Afghanistan  2013  Developing              59.9            268.0   \n",
       "3  Afghanistan  2012  Developing              59.5            272.0   \n",
       "4  Afghanistan  2011  Developing              59.2            275.0   \n",
       "\n",
       "   infant deaths  Alcohol  percentage expenditure  Hepatitis B  Measles   \\\n",
       "0             62     0.01               71.279624         65.0      1154   \n",
       "1             64     0.01               73.523582         62.0       492   \n",
       "2             66     0.01               73.219243         64.0       430   \n",
       "3             69     0.01               78.184215         67.0      2787   \n",
       "4             71     0.01                7.097109         68.0      3013   \n",
       "\n",
       "     ...      Polio  Total expenditure  Diphtheria    HIV/AIDS         GDP  \\\n",
       "0    ...        6.0               8.16         65.0        0.1  584.259210   \n",
       "1    ...       58.0               8.18         62.0        0.1  612.696514   \n",
       "2    ...       62.0               8.13         64.0        0.1  631.744976   \n",
       "3    ...       67.0               8.52         67.0        0.1  669.959000   \n",
       "4    ...       68.0               7.87         68.0        0.1   63.537231   \n",
       "\n",
       "   Population   thinness  1-19 years   thinness 5-9 years  \\\n",
       "0  33736494.0                   17.2                 17.3   \n",
       "1    327582.0                   17.5                 17.5   \n",
       "2  31731688.0                   17.7                 17.7   \n",
       "3   3696958.0                   17.9                 18.0   \n",
       "4   2978599.0                   18.2                 18.2   \n",
       "\n",
       "   Income composition of resources  Schooling  \n",
       "0                            0.479       10.1  \n",
       "1                            0.476       10.0  \n",
       "2                            0.470        9.9  \n",
       "3                            0.463        9.8  \n",
       "4                            0.454        9.5  \n",
       "\n",
       "[5 rows x 22 columns]"
      ]
     },
     "execution_count": 5,
     "metadata": {},
     "output_type": "execute_result"
    }
   ],
   "source": [
    "df.toPandas().head()"
   ]
  },
  {
   "cell_type": "code",
   "execution_count": 6,
   "metadata": {},
   "outputs": [
    {
     "name": "stdout",
     "output_type": "stream",
     "text": [
      "root\n",
      " |-- Country: string (nullable = true)\n",
      " |-- Year: integer (nullable = true)\n",
      " |-- Status: string (nullable = true)\n",
      " |-- Life expectancy : double (nullable = true)\n",
      " |-- Adult Mortality: integer (nullable = true)\n",
      " |-- infant deaths: integer (nullable = true)\n",
      " |-- Alcohol: double (nullable = true)\n",
      " |-- percentage expenditure: double (nullable = true)\n",
      " |-- Hepatitis B: integer (nullable = true)\n",
      " |-- Measles : integer (nullable = true)\n",
      " |--  BMI : double (nullable = true)\n",
      " |-- under-five deaths : integer (nullable = true)\n",
      " |-- Polio: integer (nullable = true)\n",
      " |-- Total expenditure: double (nullable = true)\n",
      " |-- Diphtheria : integer (nullable = true)\n",
      " |--  HIV/AIDS: double (nullable = true)\n",
      " |-- GDP: double (nullable = true)\n",
      " |-- Population: double (nullable = true)\n",
      " |--  thinness  1-19 years: double (nullable = true)\n",
      " |--  thinness 5-9 years: double (nullable = true)\n",
      " |-- Income composition of resources: double (nullable = true)\n",
      " |-- Schooling: double (nullable = true)\n",
      "\n"
     ]
    }
   ],
   "source": [
    "df.printSchema()"
   ]
  },
  {
   "cell_type": "markdown",
   "metadata": {},
   "source": [
    "# Nitelik isimlerini değiştir. Sıralamayı bozmadan."
   ]
  },
  {
   "cell_type": "code",
   "execution_count": 7,
   "metadata": {},
   "outputs": [],
   "source": [
    "new_cols = [\"Country\", \"Year\", \"Status\", \"label\", \"AdultMortality\",\n",
    "      \"InfantDeaths\", \"Alcohol\", \"PercentageExpenditure\", \"HepatitisB\", \"Measles\", \"BMI\", \"UnderFiveDeaths\",\n",
    "      \"Polio\", \"TotalExpenditure\", \"Diphtheria\", \"HIV_AIDS\", \"GDP\", \"Population\", \"Thinness119\", \"Thinness59\",\n",
    "      \"IncomeCompositionOfResources\", \"Schooling\"]"
   ]
  },
  {
   "cell_type": "code",
   "execution_count": 8,
   "metadata": {},
   "outputs": [],
   "source": [
    "df2 = df.toDF(*new_cols)"
   ]
  },
  {
   "cell_type": "code",
   "execution_count": 9,
   "metadata": {},
   "outputs": [
    {
     "data": {
      "text/html": [
       "<div>\n",
       "<style scoped>\n",
       "    .dataframe tbody tr th:only-of-type {\n",
       "        vertical-align: middle;\n",
       "    }\n",
       "\n",
       "    .dataframe tbody tr th {\n",
       "        vertical-align: top;\n",
       "    }\n",
       "\n",
       "    .dataframe thead th {\n",
       "        text-align: right;\n",
       "    }\n",
       "</style>\n",
       "<table border=\"1\" class=\"dataframe\">\n",
       "  <thead>\n",
       "    <tr style=\"text-align: right;\">\n",
       "      <th></th>\n",
       "      <th>Country</th>\n",
       "      <th>Year</th>\n",
       "      <th>Status</th>\n",
       "      <th>label</th>\n",
       "      <th>AdultMortality</th>\n",
       "      <th>InfantDeaths</th>\n",
       "      <th>Alcohol</th>\n",
       "      <th>PercentageExpenditure</th>\n",
       "      <th>HepatitisB</th>\n",
       "      <th>Measles</th>\n",
       "      <th>...</th>\n",
       "      <th>Polio</th>\n",
       "      <th>TotalExpenditure</th>\n",
       "      <th>Diphtheria</th>\n",
       "      <th>HIV_AIDS</th>\n",
       "      <th>GDP</th>\n",
       "      <th>Population</th>\n",
       "      <th>Thinness119</th>\n",
       "      <th>Thinness59</th>\n",
       "      <th>IncomeCompositionOfResources</th>\n",
       "      <th>Schooling</th>\n",
       "    </tr>\n",
       "  </thead>\n",
       "  <tbody>\n",
       "    <tr>\n",
       "      <th>0</th>\n",
       "      <td>Afghanistan</td>\n",
       "      <td>2015</td>\n",
       "      <td>Developing</td>\n",
       "      <td>65.0</td>\n",
       "      <td>263.0</td>\n",
       "      <td>62</td>\n",
       "      <td>0.01</td>\n",
       "      <td>71.279624</td>\n",
       "      <td>65.0</td>\n",
       "      <td>1154</td>\n",
       "      <td>...</td>\n",
       "      <td>6.0</td>\n",
       "      <td>8.16</td>\n",
       "      <td>65.0</td>\n",
       "      <td>0.1</td>\n",
       "      <td>584.259210</td>\n",
       "      <td>33736494.0</td>\n",
       "      <td>17.2</td>\n",
       "      <td>17.3</td>\n",
       "      <td>0.479</td>\n",
       "      <td>10.1</td>\n",
       "    </tr>\n",
       "    <tr>\n",
       "      <th>1</th>\n",
       "      <td>Afghanistan</td>\n",
       "      <td>2014</td>\n",
       "      <td>Developing</td>\n",
       "      <td>59.9</td>\n",
       "      <td>271.0</td>\n",
       "      <td>64</td>\n",
       "      <td>0.01</td>\n",
       "      <td>73.523582</td>\n",
       "      <td>62.0</td>\n",
       "      <td>492</td>\n",
       "      <td>...</td>\n",
       "      <td>58.0</td>\n",
       "      <td>8.18</td>\n",
       "      <td>62.0</td>\n",
       "      <td>0.1</td>\n",
       "      <td>612.696514</td>\n",
       "      <td>327582.0</td>\n",
       "      <td>17.5</td>\n",
       "      <td>17.5</td>\n",
       "      <td>0.476</td>\n",
       "      <td>10.0</td>\n",
       "    </tr>\n",
       "    <tr>\n",
       "      <th>2</th>\n",
       "      <td>Afghanistan</td>\n",
       "      <td>2013</td>\n",
       "      <td>Developing</td>\n",
       "      <td>59.9</td>\n",
       "      <td>268.0</td>\n",
       "      <td>66</td>\n",
       "      <td>0.01</td>\n",
       "      <td>73.219243</td>\n",
       "      <td>64.0</td>\n",
       "      <td>430</td>\n",
       "      <td>...</td>\n",
       "      <td>62.0</td>\n",
       "      <td>8.13</td>\n",
       "      <td>64.0</td>\n",
       "      <td>0.1</td>\n",
       "      <td>631.744976</td>\n",
       "      <td>31731688.0</td>\n",
       "      <td>17.7</td>\n",
       "      <td>17.7</td>\n",
       "      <td>0.470</td>\n",
       "      <td>9.9</td>\n",
       "    </tr>\n",
       "    <tr>\n",
       "      <th>3</th>\n",
       "      <td>Afghanistan</td>\n",
       "      <td>2012</td>\n",
       "      <td>Developing</td>\n",
       "      <td>59.5</td>\n",
       "      <td>272.0</td>\n",
       "      <td>69</td>\n",
       "      <td>0.01</td>\n",
       "      <td>78.184215</td>\n",
       "      <td>67.0</td>\n",
       "      <td>2787</td>\n",
       "      <td>...</td>\n",
       "      <td>67.0</td>\n",
       "      <td>8.52</td>\n",
       "      <td>67.0</td>\n",
       "      <td>0.1</td>\n",
       "      <td>669.959000</td>\n",
       "      <td>3696958.0</td>\n",
       "      <td>17.9</td>\n",
       "      <td>18.0</td>\n",
       "      <td>0.463</td>\n",
       "      <td>9.8</td>\n",
       "    </tr>\n",
       "    <tr>\n",
       "      <th>4</th>\n",
       "      <td>Afghanistan</td>\n",
       "      <td>2011</td>\n",
       "      <td>Developing</td>\n",
       "      <td>59.2</td>\n",
       "      <td>275.0</td>\n",
       "      <td>71</td>\n",
       "      <td>0.01</td>\n",
       "      <td>7.097109</td>\n",
       "      <td>68.0</td>\n",
       "      <td>3013</td>\n",
       "      <td>...</td>\n",
       "      <td>68.0</td>\n",
       "      <td>7.87</td>\n",
       "      <td>68.0</td>\n",
       "      <td>0.1</td>\n",
       "      <td>63.537231</td>\n",
       "      <td>2978599.0</td>\n",
       "      <td>18.2</td>\n",
       "      <td>18.2</td>\n",
       "      <td>0.454</td>\n",
       "      <td>9.5</td>\n",
       "    </tr>\n",
       "  </tbody>\n",
       "</table>\n",
       "<p>5 rows × 22 columns</p>\n",
       "</div>"
      ],
      "text/plain": [
       "       Country  Year      Status  label  AdultMortality  InfantDeaths  \\\n",
       "0  Afghanistan  2015  Developing   65.0           263.0            62   \n",
       "1  Afghanistan  2014  Developing   59.9           271.0            64   \n",
       "2  Afghanistan  2013  Developing   59.9           268.0            66   \n",
       "3  Afghanistan  2012  Developing   59.5           272.0            69   \n",
       "4  Afghanistan  2011  Developing   59.2           275.0            71   \n",
       "\n",
       "   Alcohol  PercentageExpenditure  HepatitisB  Measles    ...      Polio  \\\n",
       "0     0.01              71.279624        65.0     1154    ...        6.0   \n",
       "1     0.01              73.523582        62.0      492    ...       58.0   \n",
       "2     0.01              73.219243        64.0      430    ...       62.0   \n",
       "3     0.01              78.184215        67.0     2787    ...       67.0   \n",
       "4     0.01               7.097109        68.0     3013    ...       68.0   \n",
       "\n",
       "   TotalExpenditure  Diphtheria  HIV_AIDS         GDP  Population  \\\n",
       "0              8.16        65.0       0.1  584.259210  33736494.0   \n",
       "1              8.18        62.0       0.1  612.696514    327582.0   \n",
       "2              8.13        64.0       0.1  631.744976  31731688.0   \n",
       "3              8.52        67.0       0.1  669.959000   3696958.0   \n",
       "4              7.87        68.0       0.1   63.537231   2978599.0   \n",
       "\n",
       "   Thinness119  Thinness59  IncomeCompositionOfResources  Schooling  \n",
       "0         17.2        17.3                         0.479       10.1  \n",
       "1         17.5        17.5                         0.476       10.0  \n",
       "2         17.7        17.7                         0.470        9.9  \n",
       "3         17.9        18.0                         0.463        9.8  \n",
       "4         18.2        18.2                         0.454        9.5  \n",
       "\n",
       "[5 rows x 22 columns]"
      ]
     },
     "execution_count": 9,
     "metadata": {},
     "output_type": "execute_result"
    }
   ],
   "source": [
    "df2.toPandas().head()"
   ]
  },
  {
   "cell_type": "code",
   "execution_count": 10,
   "metadata": {},
   "outputs": [],
   "source": [
    "categorical_cols = [\"Country\",\"Status\"]\n",
    "'''\n",
    "numerical_cols = [ \"Year\", \"AdultMortality\",\n",
    "      \"InfantDeaths\", \"Alcohol\", \"PercentageExpenditure\", \"HepatitisB\", \"Measles\", \"BMI\", \"UnderFiveDeaths\",\n",
    "      \"Polio\", \"TotalExpenditure\", \"Diphtheria\", \"HIV_AIDS\", \"GDP\", \"Population\", \"Thinness119\", \"Thinness59\",\n",
    "      \"IncomeCompositionOfResources\", \"Schooling\"]\n",
    "'''\n",
    "numerical_cols = [ \"Year\", \"AdultMortality\",\n",
    "      \"InfantDeaths\", \"Alcohol\",  \"BMI\", \"UnderFiveDeaths\",\n",
    "      \"TotalExpenditure\", \"Diphtheria\", \"HIV_AIDS\", \"GDP\",  \n",
    "      \"IncomeCompositionOfResources\", \"Schooling\"]\n",
    "label = [\"label\"]"
   ]
  },
  {
   "cell_type": "markdown",
   "metadata": {},
   "source": [
    "# Veri Temizliği"
   ]
  },
  {
   "cell_type": "code",
   "execution_count": 11,
   "metadata": {},
   "outputs": [
    {
     "data": {
      "text/html": [
       "<div>\n",
       "<style scoped>\n",
       "    .dataframe tbody tr th:only-of-type {\n",
       "        vertical-align: middle;\n",
       "    }\n",
       "\n",
       "    .dataframe tbody tr th {\n",
       "        vertical-align: top;\n",
       "    }\n",
       "\n",
       "    .dataframe thead th {\n",
       "        text-align: right;\n",
       "    }\n",
       "</style>\n",
       "<table border=\"1\" class=\"dataframe\">\n",
       "  <thead>\n",
       "    <tr style=\"text-align: right;\">\n",
       "      <th></th>\n",
       "      <th>summary</th>\n",
       "      <th>Country</th>\n",
       "      <th>Year</th>\n",
       "      <th>Status</th>\n",
       "      <th>label</th>\n",
       "      <th>AdultMortality</th>\n",
       "      <th>InfantDeaths</th>\n",
       "      <th>Alcohol</th>\n",
       "      <th>PercentageExpenditure</th>\n",
       "      <th>HepatitisB</th>\n",
       "      <th>...</th>\n",
       "      <th>Polio</th>\n",
       "      <th>TotalExpenditure</th>\n",
       "      <th>Diphtheria</th>\n",
       "      <th>HIV_AIDS</th>\n",
       "      <th>GDP</th>\n",
       "      <th>Population</th>\n",
       "      <th>Thinness119</th>\n",
       "      <th>Thinness59</th>\n",
       "      <th>IncomeCompositionOfResources</th>\n",
       "      <th>Schooling</th>\n",
       "    </tr>\n",
       "  </thead>\n",
       "  <tbody>\n",
       "    <tr>\n",
       "      <th>0</th>\n",
       "      <td>count</td>\n",
       "      <td>2938</td>\n",
       "      <td>2938</td>\n",
       "      <td>2938</td>\n",
       "      <td>2928</td>\n",
       "      <td>2928</td>\n",
       "      <td>2938</td>\n",
       "      <td>2744</td>\n",
       "      <td>2938</td>\n",
       "      <td>2385</td>\n",
       "      <td>...</td>\n",
       "      <td>2919</td>\n",
       "      <td>2712</td>\n",
       "      <td>2919</td>\n",
       "      <td>2938</td>\n",
       "      <td>2490</td>\n",
       "      <td>2286</td>\n",
       "      <td>2904</td>\n",
       "      <td>2904</td>\n",
       "      <td>2771</td>\n",
       "      <td>2775</td>\n",
       "    </tr>\n",
       "    <tr>\n",
       "      <th>1</th>\n",
       "      <td>mean</td>\n",
       "      <td>None</td>\n",
       "      <td>2007.5187202178352</td>\n",
       "      <td>None</td>\n",
       "      <td>69.22493169398912</td>\n",
       "      <td>164.79644808743168</td>\n",
       "      <td>30.303948264125257</td>\n",
       "      <td>4.6028607871720375</td>\n",
       "      <td>738.2512954533823</td>\n",
       "      <td>80.94046121593291</td>\n",
       "      <td>...</td>\n",
       "      <td>82.55018842069202</td>\n",
       "      <td>5.9381895280235915</td>\n",
       "      <td>82.32408359027065</td>\n",
       "      <td>1.7421034717494939</td>\n",
       "      <td>7483.158469138481</td>\n",
       "      <td>1.2753375120052498E7</td>\n",
       "      <td>4.8397038567493205</td>\n",
       "      <td>4.870316804407711</td>\n",
       "      <td>0.6275510645976166</td>\n",
       "      <td>11.992792792792786</td>\n",
       "    </tr>\n",
       "    <tr>\n",
       "      <th>2</th>\n",
       "      <td>stddev</td>\n",
       "      <td>None</td>\n",
       "      <td>4.613840940258099</td>\n",
       "      <td>None</td>\n",
       "      <td>9.523867487824305</td>\n",
       "      <td>124.2920790034219</td>\n",
       "      <td>117.92650131339906</td>\n",
       "      <td>4.052412658755658</td>\n",
       "      <td>1987.914858016194</td>\n",
       "      <td>25.070015593018063</td>\n",
       "      <td>...</td>\n",
       "      <td>23.428045949468476</td>\n",
       "      <td>2.498319672155633</td>\n",
       "      <td>23.7169120685726</td>\n",
       "      <td>5.077784531086547</td>\n",
       "      <td>14270.169341515959</td>\n",
       "      <td>6.101209650842794E7</td>\n",
       "      <td>4.420194947144322</td>\n",
       "      <td>4.508882086983007</td>\n",
       "      <td>0.2109035551515931</td>\n",
       "      <td>3.3589197211023554</td>\n",
       "    </tr>\n",
       "    <tr>\n",
       "      <th>3</th>\n",
       "      <td>min</td>\n",
       "      <td>Afghanistan</td>\n",
       "      <td>2000</td>\n",
       "      <td>Developed</td>\n",
       "      <td>36.3</td>\n",
       "      <td>1</td>\n",
       "      <td>0</td>\n",
       "      <td>0.01</td>\n",
       "      <td>0.0</td>\n",
       "      <td>1</td>\n",
       "      <td>...</td>\n",
       "      <td>3</td>\n",
       "      <td>0.37</td>\n",
       "      <td>2</td>\n",
       "      <td>0.1</td>\n",
       "      <td>1.68135</td>\n",
       "      <td>34.0</td>\n",
       "      <td>0.1</td>\n",
       "      <td>0.1</td>\n",
       "      <td>0.0</td>\n",
       "      <td>0.0</td>\n",
       "    </tr>\n",
       "    <tr>\n",
       "      <th>4</th>\n",
       "      <td>max</td>\n",
       "      <td>Zimbabwe</td>\n",
       "      <td>2015</td>\n",
       "      <td>Developing</td>\n",
       "      <td>89.0</td>\n",
       "      <td>723</td>\n",
       "      <td>1800</td>\n",
       "      <td>17.87</td>\n",
       "      <td>19479.91161</td>\n",
       "      <td>99</td>\n",
       "      <td>...</td>\n",
       "      <td>99</td>\n",
       "      <td>17.6</td>\n",
       "      <td>99</td>\n",
       "      <td>50.6</td>\n",
       "      <td>119172.7418</td>\n",
       "      <td>1.293859294E9</td>\n",
       "      <td>27.7</td>\n",
       "      <td>28.6</td>\n",
       "      <td>0.948</td>\n",
       "      <td>20.7</td>\n",
       "    </tr>\n",
       "  </tbody>\n",
       "</table>\n",
       "<p>5 rows × 23 columns</p>\n",
       "</div>"
      ],
      "text/plain": [
       "  summary      Country                Year      Status              label  \\\n",
       "0   count         2938                2938        2938               2928   \n",
       "1    mean         None  2007.5187202178352        None  69.22493169398912   \n",
       "2  stddev         None   4.613840940258099        None  9.523867487824305   \n",
       "3     min  Afghanistan                2000   Developed               36.3   \n",
       "4     max     Zimbabwe                2015  Developing               89.0   \n",
       "\n",
       "       AdultMortality        InfantDeaths             Alcohol  \\\n",
       "0                2928                2938                2744   \n",
       "1  164.79644808743168  30.303948264125257  4.6028607871720375   \n",
       "2   124.2920790034219  117.92650131339906   4.052412658755658   \n",
       "3                   1                   0                0.01   \n",
       "4                 723                1800               17.87   \n",
       "\n",
       "  PercentageExpenditure          HepatitisB         ...          \\\n",
       "0                  2938                2385         ...           \n",
       "1     738.2512954533823   80.94046121593291         ...           \n",
       "2     1987.914858016194  25.070015593018063         ...           \n",
       "3                   0.0                   1         ...           \n",
       "4           19479.91161                  99         ...           \n",
       "\n",
       "                Polio    TotalExpenditure         Diphtheria  \\\n",
       "0                2919                2712               2919   \n",
       "1   82.55018842069202  5.9381895280235915  82.32408359027065   \n",
       "2  23.428045949468476   2.498319672155633   23.7169120685726   \n",
       "3                   3                0.37                  2   \n",
       "4                  99                17.6                 99   \n",
       "\n",
       "             HIV_AIDS                 GDP            Population  \\\n",
       "0                2938                2490                  2286   \n",
       "1  1.7421034717494939   7483.158469138481  1.2753375120052498E7   \n",
       "2   5.077784531086547  14270.169341515959   6.101209650842794E7   \n",
       "3                 0.1             1.68135                  34.0   \n",
       "4                50.6         119172.7418         1.293859294E9   \n",
       "\n",
       "          Thinness119         Thinness59 IncomeCompositionOfResources  \\\n",
       "0                2904               2904                         2771   \n",
       "1  4.8397038567493205  4.870316804407711           0.6275510645976166   \n",
       "2   4.420194947144322  4.508882086983007           0.2109035551515931   \n",
       "3                 0.1                0.1                          0.0   \n",
       "4                27.7               28.6                        0.948   \n",
       "\n",
       "            Schooling  \n",
       "0                2775  \n",
       "1  11.992792792792786  \n",
       "2  3.3589197211023554  \n",
       "3                 0.0  \n",
       "4                20.7  \n",
       "\n",
       "[5 rows x 23 columns]"
      ]
     },
     "execution_count": 11,
     "metadata": {},
     "output_type": "execute_result"
    }
   ],
   "source": [
    "df2.describe().toPandas().head()"
   ]
  },
  {
   "cell_type": "code",
   "execution_count": 12,
   "metadata": {},
   "outputs": [],
   "source": [
    "df3 = df2.na.drop()"
   ]
  },
  {
   "cell_type": "code",
   "execution_count": 13,
   "metadata": {},
   "outputs": [
    {
     "data": {
      "text/html": [
       "<div>\n",
       "<style scoped>\n",
       "    .dataframe tbody tr th:only-of-type {\n",
       "        vertical-align: middle;\n",
       "    }\n",
       "\n",
       "    .dataframe tbody tr th {\n",
       "        vertical-align: top;\n",
       "    }\n",
       "\n",
       "    .dataframe thead th {\n",
       "        text-align: right;\n",
       "    }\n",
       "</style>\n",
       "<table border=\"1\" class=\"dataframe\">\n",
       "  <thead>\n",
       "    <tr style=\"text-align: right;\">\n",
       "      <th></th>\n",
       "      <th>summary</th>\n",
       "      <th>Country</th>\n",
       "      <th>Year</th>\n",
       "      <th>Status</th>\n",
       "      <th>label</th>\n",
       "      <th>AdultMortality</th>\n",
       "      <th>InfantDeaths</th>\n",
       "      <th>Alcohol</th>\n",
       "      <th>PercentageExpenditure</th>\n",
       "      <th>HepatitisB</th>\n",
       "      <th>...</th>\n",
       "      <th>Polio</th>\n",
       "      <th>TotalExpenditure</th>\n",
       "      <th>Diphtheria</th>\n",
       "      <th>HIV_AIDS</th>\n",
       "      <th>GDP</th>\n",
       "      <th>Population</th>\n",
       "      <th>Thinness119</th>\n",
       "      <th>Thinness59</th>\n",
       "      <th>IncomeCompositionOfResources</th>\n",
       "      <th>Schooling</th>\n",
       "    </tr>\n",
       "  </thead>\n",
       "  <tbody>\n",
       "    <tr>\n",
       "      <th>0</th>\n",
       "      <td>count</td>\n",
       "      <td>1649</td>\n",
       "      <td>1649</td>\n",
       "      <td>1649</td>\n",
       "      <td>1649</td>\n",
       "      <td>1649</td>\n",
       "      <td>1649</td>\n",
       "      <td>1649</td>\n",
       "      <td>1649</td>\n",
       "      <td>1649</td>\n",
       "      <td>...</td>\n",
       "      <td>1649</td>\n",
       "      <td>1649</td>\n",
       "      <td>1649</td>\n",
       "      <td>1649</td>\n",
       "      <td>1649</td>\n",
       "      <td>1649</td>\n",
       "      <td>1649</td>\n",
       "      <td>1649</td>\n",
       "      <td>1649</td>\n",
       "      <td>1649</td>\n",
       "    </tr>\n",
       "    <tr>\n",
       "      <th>1</th>\n",
       "      <td>mean</td>\n",
       "      <td>None</td>\n",
       "      <td>2007.8405093996362</td>\n",
       "      <td>None</td>\n",
       "      <td>69.30230442692543</td>\n",
       "      <td>168.2152819890843</td>\n",
       "      <td>32.55306246209824</td>\n",
       "      <td>4.533195876288676</td>\n",
       "      <td>698.973558049698</td>\n",
       "      <td>79.21770770163735</td>\n",
       "      <td>...</td>\n",
       "      <td>83.56458459672528</td>\n",
       "      <td>5.955924802910845</td>\n",
       "      <td>84.155245603396</td>\n",
       "      <td>1.9838690115221154</td>\n",
       "      <td>5566.031886817592</td>\n",
       "      <td>1.4653625889484541E7</td>\n",
       "      <td>4.850636749545183</td>\n",
       "      <td>4.907762280169795</td>\n",
       "      <td>0.6315512431776829</td>\n",
       "      <td>12.119890842935117</td>\n",
       "    </tr>\n",
       "    <tr>\n",
       "      <th>2</th>\n",
       "      <td>stddev</td>\n",
       "      <td>None</td>\n",
       "      <td>4.087710534059055</td>\n",
       "      <td>None</td>\n",
       "      <td>8.796834135238601</td>\n",
       "      <td>125.31041693156172</td>\n",
       "      <td>120.84719049638885</td>\n",
       "      <td>4.029188999208425</td>\n",
       "      <td>1759.2293363477393</td>\n",
       "      <td>25.60466388103202</td>\n",
       "      <td>...</td>\n",
       "      <td>22.450557485191844</td>\n",
       "      <td>2.2993854200363937</td>\n",
       "      <td>21.57919284379662</td>\n",
       "      <td>6.032359689186714</td>\n",
       "      <td>11475.900117274561</td>\n",
       "      <td>7.04603934030564E7</td>\n",
       "      <td>4.599228369708468</td>\n",
       "      <td>4.653756745508691</td>\n",
       "      <td>0.18308872643487184</td>\n",
       "      <td>2.795387538952672</td>\n",
       "    </tr>\n",
       "    <tr>\n",
       "      <th>3</th>\n",
       "      <td>min</td>\n",
       "      <td>Afghanistan</td>\n",
       "      <td>2000</td>\n",
       "      <td>Developed</td>\n",
       "      <td>44.0</td>\n",
       "      <td>1</td>\n",
       "      <td>0</td>\n",
       "      <td>0.01</td>\n",
       "      <td>0.0</td>\n",
       "      <td>2</td>\n",
       "      <td>...</td>\n",
       "      <td>3</td>\n",
       "      <td>0.74</td>\n",
       "      <td>2</td>\n",
       "      <td>0.1</td>\n",
       "      <td>1.68135</td>\n",
       "      <td>34.0</td>\n",
       "      <td>0.1</td>\n",
       "      <td>0.1</td>\n",
       "      <td>0.0</td>\n",
       "      <td>4.2</td>\n",
       "    </tr>\n",
       "    <tr>\n",
       "      <th>4</th>\n",
       "      <td>max</td>\n",
       "      <td>Zimbabwe</td>\n",
       "      <td>2015</td>\n",
       "      <td>Developing</td>\n",
       "      <td>89.0</td>\n",
       "      <td>723</td>\n",
       "      <td>1600</td>\n",
       "      <td>17.87</td>\n",
       "      <td>18961.3486</td>\n",
       "      <td>99</td>\n",
       "      <td>...</td>\n",
       "      <td>99</td>\n",
       "      <td>14.39</td>\n",
       "      <td>99</td>\n",
       "      <td>50.6</td>\n",
       "      <td>119172.7418</td>\n",
       "      <td>1.293859294E9</td>\n",
       "      <td>27.2</td>\n",
       "      <td>28.2</td>\n",
       "      <td>0.936</td>\n",
       "      <td>20.7</td>\n",
       "    </tr>\n",
       "  </tbody>\n",
       "</table>\n",
       "<p>5 rows × 23 columns</p>\n",
       "</div>"
      ],
      "text/plain": [
       "  summary      Country                Year      Status              label  \\\n",
       "0   count         1649                1649        1649               1649   \n",
       "1    mean         None  2007.8405093996362        None  69.30230442692543   \n",
       "2  stddev         None   4.087710534059055        None  8.796834135238601   \n",
       "3     min  Afghanistan                2000   Developed               44.0   \n",
       "4     max     Zimbabwe                2015  Developing               89.0   \n",
       "\n",
       "       AdultMortality        InfantDeaths            Alcohol  \\\n",
       "0                1649                1649               1649   \n",
       "1   168.2152819890843   32.55306246209824  4.533195876288676   \n",
       "2  125.31041693156172  120.84719049638885  4.029188999208425   \n",
       "3                   1                   0               0.01   \n",
       "4                 723                1600              17.87   \n",
       "\n",
       "  PercentageExpenditure         HepatitisB         ...          \\\n",
       "0                  1649               1649         ...           \n",
       "1      698.973558049698  79.21770770163735         ...           \n",
       "2    1759.2293363477393  25.60466388103202         ...           \n",
       "3                   0.0                  2         ...           \n",
       "4            18961.3486                 99         ...           \n",
       "\n",
       "                Polio    TotalExpenditure         Diphtheria  \\\n",
       "0                1649                1649               1649   \n",
       "1   83.56458459672528   5.955924802910845    84.155245603396   \n",
       "2  22.450557485191844  2.2993854200363937  21.57919284379662   \n",
       "3                   3                0.74                  2   \n",
       "4                  99               14.39                 99   \n",
       "\n",
       "             HIV_AIDS                 GDP            Population  \\\n",
       "0                1649                1649                  1649   \n",
       "1  1.9838690115221154   5566.031886817592  1.4653625889484541E7   \n",
       "2   6.032359689186714  11475.900117274561    7.04603934030564E7   \n",
       "3                 0.1             1.68135                  34.0   \n",
       "4                50.6         119172.7418         1.293859294E9   \n",
       "\n",
       "         Thinness119         Thinness59 IncomeCompositionOfResources  \\\n",
       "0               1649               1649                         1649   \n",
       "1  4.850636749545183  4.907762280169795           0.6315512431776829   \n",
       "2  4.599228369708468  4.653756745508691          0.18308872643487184   \n",
       "3                0.1                0.1                          0.0   \n",
       "4               27.2               28.2                        0.936   \n",
       "\n",
       "            Schooling  \n",
       "0                1649  \n",
       "1  12.119890842935117  \n",
       "2   2.795387538952672  \n",
       "3                 4.2  \n",
       "4                20.7  \n",
       "\n",
       "[5 rows x 23 columns]"
      ]
     },
     "execution_count": 13,
     "metadata": {},
     "output_type": "execute_result"
    }
   ],
   "source": [
    "df3.describe().toPandas().head()"
   ]
  },
  {
   "cell_type": "markdown",
   "metadata": {},
   "source": [
    "# Veri Ön Hazırlığı"
   ]
  },
  {
   "cell_type": "code",
   "execution_count": 14,
   "metadata": {},
   "outputs": [],
   "source": [
    "from pyspark.ml.feature import StringIndexer, OneHotEncoderEstimator, VectorAssembler\n",
    "from pyspark.ml import Pipeline, PipelineModel\n",
    "from pyspark.ml.regression import LinearRegression, LinearRegressionModel"
   ]
  },
  {
   "cell_type": "markdown",
   "metadata": {},
   "source": [
    "# StringIndexer"
   ]
  },
  {
   "cell_type": "code",
   "execution_count": 15,
   "metadata": {},
   "outputs": [],
   "source": [
    "status_string_indexer = StringIndexer().setInputCol(\"Status\").setOutputCol(\"StatusIndexed\")"
   ]
  },
  {
   "cell_type": "markdown",
   "metadata": {},
   "source": [
    "# OneHotEncoder"
   ]
  },
  {
   "cell_type": "code",
   "execution_count": 16,
   "metadata": {},
   "outputs": [],
   "source": [
    "encoder = OneHotEncoderEstimator().setInputCols([\"StatusIndexed\"]).setOutputCols([\"StatusEncoded\"])"
   ]
  },
  {
   "cell_type": "markdown",
   "metadata": {},
   "source": [
    "# VectorAssembler"
   ]
  },
  {
   "cell_type": "code",
   "execution_count": 17,
   "metadata": {},
   "outputs": [],
   "source": [
    "vector_assembler = VectorAssembler().setInputCols(numerical_cols + encoder.getOutputCols()) \\\n",
    ".setOutputCol(\"features\")"
   ]
  },
  {
   "cell_type": "markdown",
   "metadata": {},
   "source": [
    "# Lineer Model"
   ]
  },
  {
   "cell_type": "code",
   "execution_count": 18,
   "metadata": {},
   "outputs": [],
   "source": [
    "linear_regression_object = LinearRegression().setFeaturesCol(\"features\").setLabelCol(\"label\")"
   ]
  },
  {
   "cell_type": "markdown",
   "metadata": {},
   "source": [
    "# Pipeline"
   ]
  },
  {
   "cell_type": "code",
   "execution_count": 19,
   "metadata": {},
   "outputs": [],
   "source": [
    "pipeline_object = Pipeline().setStages([status_string_indexer, encoder, vector_assembler, linear_regression_object])"
   ]
  },
  {
   "cell_type": "markdown",
   "metadata": {},
   "source": [
    "# veri setini ayırma"
   ]
  },
  {
   "cell_type": "code",
   "execution_count": 20,
   "metadata": {},
   "outputs": [],
   "source": [
    "train_df, test_df = df3.randomSplit([0.8, 0.2], seed=142)"
   ]
  },
  {
   "cell_type": "code",
   "execution_count": 21,
   "metadata": {},
   "outputs": [
    {
     "data": {
      "text/plain": [
       "DataFrame[Country: string, Year: int, Status: string, label: double, AdultMortality: int, InfantDeaths: int, Alcohol: double, PercentageExpenditure: double, HepatitisB: int, Measles: int, BMI: double, UnderFiveDeaths: int, Polio: int, TotalExpenditure: double, Diphtheria: int, HIV_AIDS: double, GDP: double, Population: double, Thinness119: double, Thinness59: double, IncomeCompositionOfResources: double, Schooling: double]"
      ]
     },
     "execution_count": 21,
     "metadata": {},
     "output_type": "execute_result"
    }
   ],
   "source": [
    "train_df.cache()\n",
    "test_df.cache()"
   ]
  },
  {
   "cell_type": "markdown",
   "metadata": {},
   "source": [
    "# MODEL TUNING"
   ]
  },
  {
   "cell_type": "code",
   "execution_count": 22,
   "metadata": {},
   "outputs": [],
   "source": [
    "from pyspark.ml.evaluation import RegressionEvaluator\n",
    "from pyspark.ml.tuning import CrossValidator, ParamGridBuilder"
   ]
  },
  {
   "cell_type": "markdown",
   "metadata": {},
   "source": [
    "# paramGrid"
   ]
  },
  {
   "cell_type": "code",
   "execution_count": 24,
   "metadata": {},
   "outputs": [],
   "source": [
    "param_grid = ParamGridBuilder() \\\n",
    ".addGrid(linear_regression_object.aggregationDepth, [2,5]) \\\n",
    ".addGrid(linear_regression_object.elasticNetParam, [0.0,0.02]) \\\n",
    ".addGrid(linear_regression_object.epsilon, [1.35, 1.55]) \\\n",
    ".addGrid(linear_regression_object.maxIter, [10, 20]) \\\n",
    ".addGrid(linear_regression_object.regParam, [0.00, 0.01, 0.05]) \\\n",
    ".addGrid(linear_regression_object.solver, [\"auto\", \"normal\", \"l-bfgs\"]) \\\n",
    ".addGrid(linear_regression_object.tol, [1.0E-6, 1.0E-4]) \\\n",
    ".build()"
   ]
  },
  {
   "cell_type": "markdown",
   "metadata": {},
   "source": [
    "# Cross-Validation"
   ]
  },
  {
   "cell_type": "code",
   "execution_count": 26,
   "metadata": {},
   "outputs": [],
   "source": [
    "cv = CrossValidator() \\\n",
    ".setEstimator(pipeline_object) \\\n",
    ".setEvaluator(RegressionEvaluator()) \\\n",
    ".setEstimatorParamMaps(param_grid) \\\n",
    ".setNumFolds(5) \\\n",
    ".setParallelism(2)"
   ]
  },
  {
   "cell_type": "code",
   "execution_count": 27,
   "metadata": {},
   "outputs": [],
   "source": [
    "cv_model = cv.fit(train_df)"
   ]
  },
  {
   "cell_type": "code",
   "execution_count": 28,
   "metadata": {},
   "outputs": [
    {
     "data": {
      "text/html": [
       "<div>\n",
       "<style scoped>\n",
       "    .dataframe tbody tr th:only-of-type {\n",
       "        vertical-align: middle;\n",
       "    }\n",
       "\n",
       "    .dataframe tbody tr th {\n",
       "        vertical-align: top;\n",
       "    }\n",
       "\n",
       "    .dataframe thead th {\n",
       "        text-align: right;\n",
       "    }\n",
       "</style>\n",
       "<table border=\"1\" class=\"dataframe\">\n",
       "  <thead>\n",
       "    <tr style=\"text-align: right;\">\n",
       "      <th></th>\n",
       "      <th>label</th>\n",
       "      <th>prediction</th>\n",
       "    </tr>\n",
       "  </thead>\n",
       "  <tbody>\n",
       "    <tr>\n",
       "      <th>0</th>\n",
       "      <td>56.2</td>\n",
       "      <td>63.595831</td>\n",
       "    </tr>\n",
       "    <tr>\n",
       "      <th>1</th>\n",
       "      <td>57.3</td>\n",
       "      <td>60.953196</td>\n",
       "    </tr>\n",
       "    <tr>\n",
       "      <th>2</th>\n",
       "      <td>58.1</td>\n",
       "      <td>61.949129</td>\n",
       "    </tr>\n",
       "    <tr>\n",
       "      <th>3</th>\n",
       "      <td>58.6</td>\n",
       "      <td>62.238897</td>\n",
       "    </tr>\n",
       "    <tr>\n",
       "      <th>4</th>\n",
       "      <td>72.6</td>\n",
       "      <td>72.930192</td>\n",
       "    </tr>\n",
       "  </tbody>\n",
       "</table>\n",
       "</div>"
      ],
      "text/plain": [
       "   label  prediction\n",
       "0   56.2   63.595831\n",
       "1   57.3   60.953196\n",
       "2   58.1   61.949129\n",
       "3   58.6   62.238897\n",
       "4   72.6   72.930192"
      ]
     },
     "execution_count": 28,
     "metadata": {},
     "output_type": "execute_result"
    }
   ],
   "source": [
    "cv_model.transform(test_df).select(\"label\",\"prediction\").toPandas().head()"
   ]
  },
  {
   "cell_type": "markdown",
   "metadata": {},
   "source": [
    "# En İyi Model"
   ]
  },
  {
   "cell_type": "code",
   "execution_count": 29,
   "metadata": {},
   "outputs": [],
   "source": [
    "best_model = cv_model.bestModel"
   ]
  },
  {
   "cell_type": "code",
   "execution_count": 30,
   "metadata": {},
   "outputs": [
    {
     "data": {
      "text/plain": [
       "pyspark.ml.pipeline.PipelineModel"
      ]
     },
     "execution_count": 30,
     "metadata": {},
     "output_type": "execute_result"
    }
   ],
   "source": [
    "type(best_model)"
   ]
  },
  {
   "cell_type": "code",
   "execution_count": 31,
   "metadata": {},
   "outputs": [],
   "source": [
    "lr_model = best_model.stages[-1]"
   ]
  },
  {
   "cell_type": "code",
   "execution_count": 32,
   "metadata": {},
   "outputs": [
    {
     "data": {
      "text/plain": [
       "DenseVector([-0.1306, -0.0167, 0.0884, -0.0933, 0.0335, -0.0673, 0.1014, 0.0144, -0.4472, 0.0001, 9.6162, 0.9347, -0.7855])"
      ]
     },
     "execution_count": 32,
     "metadata": {},
     "output_type": "execute_result"
    }
   ],
   "source": [
    "lr_model.coefficients"
   ]
  },
  {
   "cell_type": "code",
   "execution_count": 33,
   "metadata": {},
   "outputs": [
    {
     "data": {
      "text/plain": [
       "315.44452546889534"
      ]
     },
     "execution_count": 33,
     "metadata": {},
     "output_type": "execute_result"
    }
   ],
   "source": [
    "lr_model.intercept"
   ]
  },
  {
   "cell_type": "code",
   "execution_count": 34,
   "metadata": {},
   "outputs": [
    {
     "data": {
      "text/plain": [
       "0.8393963848802052"
      ]
     },
     "execution_count": 34,
     "metadata": {},
     "output_type": "execute_result"
    }
   ],
   "source": [
    "lr_model.summary.r2"
   ]
  },
  {
   "cell_type": "code",
   "execution_count": 36,
   "metadata": {},
   "outputs": [
    {
     "data": {
      "text/plain": [
       "['aggregationDepth: suggested depth for treeAggregate (>= 2) (default: 2, current: 2)',\n",
       " 'elasticNetParam: the ElasticNet mixing parameter, in range [0, 1]. For alpha = 0, the penalty is an L2 penalty. For alpha = 1, it is an L1 penalty (default: 0.0, current: 0.0)',\n",
       " 'epsilon: The shape parameter to control the amount of robustness. Must be > 1.0. (default: 1.35, current: 1.35)',\n",
       " 'featuresCol: features column name (default: features, current: features)',\n",
       " 'fitIntercept: whether to fit an intercept term (default: True)',\n",
       " 'labelCol: label column name (default: label, current: label)',\n",
       " 'loss: The loss function to be optimized. Supported options: squaredError, huber. (Default squaredError) (default: squaredError)',\n",
       " 'maxIter: maximum number of iterations (>= 0) (default: 100, current: 10)',\n",
       " 'predictionCol: prediction column name (default: prediction)',\n",
       " 'regParam: regularization parameter (>= 0) (default: 0.0, current: 0.0)',\n",
       " 'solver: The solver algorithm for optimization. Supported options: auto, normal, l-bfgs. (Default auto) (default: auto, current: auto)',\n",
       " 'standardization: whether to standardize the training features before fitting the model (default: True)',\n",
       " 'tol: the convergence tolerance for iterative algorithms (>= 0) (default: 1e-06, current: 1e-06)',\n",
       " 'weightCol: weight column name. If this is not set or empty, we treat all instance weights as 1.0 (undefined)']"
      ]
     },
     "execution_count": 36,
     "metadata": {},
     "output_type": "execute_result"
    }
   ],
   "source": [
    "lr_model.explainParams().split(\"\\n\")"
   ]
  },
  {
   "cell_type": "code",
   "execution_count": null,
   "metadata": {},
   "outputs": [],
   "source": []
  }
 ],
 "metadata": {
  "kernelspec": {
   "display_name": "Python 3",
   "language": "python",
   "name": "python3"
  },
  "language_info": {
   "codemirror_mode": {
    "name": "ipython",
    "version": 3
   },
   "file_extension": ".py",
   "mimetype": "text/x-python",
   "name": "python",
   "nbconvert_exporter": "python",
   "pygments_lexer": "ipython3",
   "version": "3.7.4"
  }
 },
 "nbformat": 4,
 "nbformat_minor": 4
}
