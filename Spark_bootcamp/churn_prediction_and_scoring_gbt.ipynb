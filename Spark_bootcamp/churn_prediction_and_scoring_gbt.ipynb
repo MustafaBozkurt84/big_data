{
 "cells": [
  {
   "cell_type": "code",
   "execution_count": 1,
   "metadata": {},
   "outputs": [],
   "source": [
    "import findspark"
   ]
  },
  {
   "cell_type": "code",
   "execution_count": 2,
   "metadata": {},
   "outputs": [],
   "source": [
    "findspark.init(\"/opt/manual/spark\")"
   ]
  },
  {
   "cell_type": "code",
   "execution_count": 3,
   "metadata": {},
   "outputs": [],
   "source": [
    "from pyspark.sql import SparkSession, functions as F\n",
    "import pandas as pd"
   ]
  },
  {
   "cell_type": "code",
   "execution_count": 4,
   "metadata": {},
   "outputs": [],
   "source": [
    "spark = SparkSession.builder \\\n",
    ".appName(\"Churn Scoring with GBT\") \\\n",
    ".master(\"yarn\") \\\n",
    ".getOrCreate()"
   ]
  },
  {
   "cell_type": "code",
   "execution_count": 5,
   "metadata": {},
   "outputs": [
    {
     "data": {
      "text/plain": [
       "'3.0.0'"
      ]
     },
     "execution_count": 5,
     "metadata": {},
     "output_type": "execute_result"
    }
   ],
   "source": [
    "spark.version"
   ]
  },
  {
   "cell_type": "code",
   "execution_count": 6,
   "metadata": {},
   "outputs": [
    {
     "name": "stdout",
     "output_type": "stream",
     "text": [
      "Found 3 items\r\n",
      "-rw-r--r--   1 train supergroup    5213392 2020-11-19 21:02 /user/train/datasets/churn-telecom/cell2cellholdout.csv\r\n",
      "-rw-r--r--   1 train supergroup   13416201 2020-11-19 21:02 /user/train/datasets/churn-telecom/cell2celltrain.csv\r\n",
      "drwxr-xr-x   - train supergroup          0 2020-11-19 21:02 /user/train/datasets/churn-telecom/cell2celltrain_clean_parquet\r\n"
     ]
    }
   ],
   "source": [
    "! hdfs dfs -ls /user/train/datasets/churn-telecom"
   ]
  },
  {
   "cell_type": "markdown",
   "metadata": {},
   "source": [
    "## Read train data"
   ]
  },
  {
   "cell_type": "code",
   "execution_count": 7,
   "metadata": {},
   "outputs": [],
   "source": [
    "df1 = spark.read.format(\"parquet\") \\\n",
    ".load(\"hdfs://localhost:9000/user/train/datasets/churn-telecom/cell2celltrain_clean_parquet\")"
   ]
  },
  {
   "cell_type": "markdown",
   "metadata": {},
   "source": [
    "## Explore train data"
   ]
  },
  {
   "cell_type": "code",
   "execution_count": 8,
   "metadata": {
    "scrolled": true
   },
   "outputs": [
    {
     "data": {
      "text/html": [
       "<div>\n",
       "<style scoped>\n",
       "    .dataframe tbody tr th:only-of-type {\n",
       "        vertical-align: middle;\n",
       "    }\n",
       "\n",
       "    .dataframe tbody tr th {\n",
       "        vertical-align: top;\n",
       "    }\n",
       "\n",
       "    .dataframe thead th {\n",
       "        text-align: right;\n",
       "    }\n",
       "</style>\n",
       "<table border=\"1\" class=\"dataframe\">\n",
       "  <thead>\n",
       "    <tr style=\"text-align: right;\">\n",
       "      <th></th>\n",
       "      <th>OptOutMailings</th>\n",
       "      <th>NonUSTravel</th>\n",
       "      <th>OwnsComputer</th>\n",
       "      <th>HasCreditCard</th>\n",
       "      <th>RetentionCalls</th>\n",
       "      <th>RetentionOffersAccepted</th>\n",
       "      <th>NewCellphoneUser</th>\n",
       "      <th>NotNewCellphoneUser</th>\n",
       "      <th>ReferralsMadeBySubscriber</th>\n",
       "      <th>IncomeGroup</th>\n",
       "      <th>OwnsMotorcycle</th>\n",
       "      <th>AdjustmentsToCreditRating</th>\n",
       "      <th>HandsetPrice</th>\n",
       "      <th>MadeCallToRetentionTeam</th>\n",
       "      <th>CreditRating</th>\n",
       "      <th>PrizmCode</th>\n",
       "      <th>Occupation</th>\n",
       "      <th>MaritalStatus</th>\n",
       "    </tr>\n",
       "  </thead>\n",
       "  <tbody>\n",
       "    <tr>\n",
       "      <th>0</th>\n",
       "      <td>No</td>\n",
       "      <td>No</td>\n",
       "      <td>Yes</td>\n",
       "      <td>Yes</td>\n",
       "      <td>1.0</td>\n",
       "      <td>0.0</td>\n",
       "      <td>No</td>\n",
       "      <td>No</td>\n",
       "      <td>0.0</td>\n",
       "      <td>4.0</td>\n",
       "      <td>No</td>\n",
       "      <td>0.0</td>\n",
       "      <td>30.0</td>\n",
       "      <td>Yes</td>\n",
       "      <td>1-Highest</td>\n",
       "      <td>Suburban</td>\n",
       "      <td>Professional</td>\n",
       "      <td>No</td>\n",
       "    </tr>\n",
       "    <tr>\n",
       "      <th>1</th>\n",
       "      <td>No</td>\n",
       "      <td>No</td>\n",
       "      <td>Yes</td>\n",
       "      <td>Yes</td>\n",
       "      <td>0.0</td>\n",
       "      <td>0.0</td>\n",
       "      <td>Yes</td>\n",
       "      <td>No</td>\n",
       "      <td>0.0</td>\n",
       "      <td>5.0</td>\n",
       "      <td>No</td>\n",
       "      <td>0.0</td>\n",
       "      <td>30.0</td>\n",
       "      <td>No</td>\n",
       "      <td>4-Medium</td>\n",
       "      <td>Suburban</td>\n",
       "      <td>Professional</td>\n",
       "      <td>Yes</td>\n",
       "    </tr>\n",
       "    <tr>\n",
       "      <th>2</th>\n",
       "      <td>No</td>\n",
       "      <td>No</td>\n",
       "      <td>No</td>\n",
       "      <td>Yes</td>\n",
       "      <td>0.0</td>\n",
       "      <td>0.0</td>\n",
       "      <td>Yes</td>\n",
       "      <td>No</td>\n",
       "      <td>0.0</td>\n",
       "      <td>6.0</td>\n",
       "      <td>No</td>\n",
       "      <td>0.0</td>\n",
       "      <td>130.0</td>\n",
       "      <td>No</td>\n",
       "      <td>3-Good</td>\n",
       "      <td>Town</td>\n",
       "      <td>Crafts</td>\n",
       "      <td>Yes</td>\n",
       "    </tr>\n",
       "    <tr>\n",
       "      <th>3</th>\n",
       "      <td>No</td>\n",
       "      <td>No</td>\n",
       "      <td>No</td>\n",
       "      <td>Yes</td>\n",
       "      <td>0.0</td>\n",
       "      <td>0.0</td>\n",
       "      <td>Yes</td>\n",
       "      <td>No</td>\n",
       "      <td>0.0</td>\n",
       "      <td>6.0</td>\n",
       "      <td>No</td>\n",
       "      <td>0.0</td>\n",
       "      <td>10.0</td>\n",
       "      <td>No</td>\n",
       "      <td>4-Medium</td>\n",
       "      <td>Other</td>\n",
       "      <td>Other</td>\n",
       "      <td>No</td>\n",
       "    </tr>\n",
       "    <tr>\n",
       "      <th>4</th>\n",
       "      <td>No</td>\n",
       "      <td>No</td>\n",
       "      <td>Yes</td>\n",
       "      <td>Yes</td>\n",
       "      <td>0.0</td>\n",
       "      <td>0.0</td>\n",
       "      <td>No</td>\n",
       "      <td>Yes</td>\n",
       "      <td>0.0</td>\n",
       "      <td>9.0</td>\n",
       "      <td>No</td>\n",
       "      <td>1.0</td>\n",
       "      <td>10.0</td>\n",
       "      <td>No</td>\n",
       "      <td>1-Highest</td>\n",
       "      <td>Other</td>\n",
       "      <td>Professional</td>\n",
       "      <td>Yes</td>\n",
       "    </tr>\n",
       "    <tr>\n",
       "      <th>5</th>\n",
       "      <td>No</td>\n",
       "      <td>Yes</td>\n",
       "      <td>No</td>\n",
       "      <td>Yes</td>\n",
       "      <td>0.0</td>\n",
       "      <td>0.0</td>\n",
       "      <td>Yes</td>\n",
       "      <td>No</td>\n",
       "      <td>0.0</td>\n",
       "      <td>1.0</td>\n",
       "      <td>No</td>\n",
       "      <td>1.0</td>\n",
       "      <td>30.0</td>\n",
       "      <td>No</td>\n",
       "      <td>3-Good</td>\n",
       "      <td>Other</td>\n",
       "      <td>Other</td>\n",
       "      <td>Yes</td>\n",
       "    </tr>\n",
       "    <tr>\n",
       "      <th>6</th>\n",
       "      <td>No</td>\n",
       "      <td>Yes</td>\n",
       "      <td>No</td>\n",
       "      <td>Yes</td>\n",
       "      <td>0.0</td>\n",
       "      <td>0.0</td>\n",
       "      <td>No</td>\n",
       "      <td>Yes</td>\n",
       "      <td>0.0</td>\n",
       "      <td>9.0</td>\n",
       "      <td>No</td>\n",
       "      <td>1.0</td>\n",
       "      <td>30.0</td>\n",
       "      <td>No</td>\n",
       "      <td>1-Highest</td>\n",
       "      <td>Other</td>\n",
       "      <td>Self</td>\n",
       "      <td>Yes</td>\n",
       "    </tr>\n",
       "    <tr>\n",
       "      <th>7</th>\n",
       "      <td>No</td>\n",
       "      <td>No</td>\n",
       "      <td>No</td>\n",
       "      <td>Yes</td>\n",
       "      <td>0.0</td>\n",
       "      <td>0.0</td>\n",
       "      <td>Yes</td>\n",
       "      <td>No</td>\n",
       "      <td>0.0</td>\n",
       "      <td>6.0</td>\n",
       "      <td>No</td>\n",
       "      <td>0.0</td>\n",
       "      <td>30.0</td>\n",
       "      <td>No</td>\n",
       "      <td>1-Highest</td>\n",
       "      <td>Other</td>\n",
       "      <td>Professional</td>\n",
       "      <td>No</td>\n",
       "    </tr>\n",
       "    <tr>\n",
       "      <th>8</th>\n",
       "      <td>No</td>\n",
       "      <td>No</td>\n",
       "      <td>No</td>\n",
       "      <td>Yes</td>\n",
       "      <td>0.0</td>\n",
       "      <td>0.0</td>\n",
       "      <td>Yes</td>\n",
       "      <td>No</td>\n",
       "      <td>0.0</td>\n",
       "      <td>9.0</td>\n",
       "      <td>No</td>\n",
       "      <td>0.0</td>\n",
       "      <td>80.0</td>\n",
       "      <td>No</td>\n",
       "      <td>1-Highest</td>\n",
       "      <td>Other</td>\n",
       "      <td>Other</td>\n",
       "      <td>Yes</td>\n",
       "    </tr>\n",
       "    <tr>\n",
       "      <th>9</th>\n",
       "      <td>No</td>\n",
       "      <td>No</td>\n",
       "      <td>Yes</td>\n",
       "      <td>Yes</td>\n",
       "      <td>0.0</td>\n",
       "      <td>0.0</td>\n",
       "      <td>Yes</td>\n",
       "      <td>No</td>\n",
       "      <td>0.0</td>\n",
       "      <td>5.0</td>\n",
       "      <td>No</td>\n",
       "      <td>1.0</td>\n",
       "      <td>30.0</td>\n",
       "      <td>No</td>\n",
       "      <td>3-Good</td>\n",
       "      <td>Other</td>\n",
       "      <td>Professional</td>\n",
       "      <td>No</td>\n",
       "    </tr>\n",
       "    <tr>\n",
       "      <th>10</th>\n",
       "      <td>No</td>\n",
       "      <td>No</td>\n",
       "      <td>No</td>\n",
       "      <td>No</td>\n",
       "      <td>0.0</td>\n",
       "      <td>0.0</td>\n",
       "      <td>Yes</td>\n",
       "      <td>No</td>\n",
       "      <td>0.0</td>\n",
       "      <td>7.0</td>\n",
       "      <td>No</td>\n",
       "      <td>0.0</td>\n",
       "      <td>30.0</td>\n",
       "      <td>No</td>\n",
       "      <td>1-Highest</td>\n",
       "      <td>Other</td>\n",
       "      <td>Other</td>\n",
       "      <td>Unknown</td>\n",
       "    </tr>\n",
       "    <tr>\n",
       "      <th>11</th>\n",
       "      <td>No</td>\n",
       "      <td>No</td>\n",
       "      <td>Yes</td>\n",
       "      <td>Yes</td>\n",
       "      <td>0.0</td>\n",
       "      <td>0.0</td>\n",
       "      <td>Yes</td>\n",
       "      <td>No</td>\n",
       "      <td>0.0</td>\n",
       "      <td>3.0</td>\n",
       "      <td>No</td>\n",
       "      <td>1.0</td>\n",
       "      <td>80.0</td>\n",
       "      <td>No</td>\n",
       "      <td>4-Medium</td>\n",
       "      <td>Suburban</td>\n",
       "      <td>Other</td>\n",
       "      <td>No</td>\n",
       "    </tr>\n",
       "    <tr>\n",
       "      <th>12</th>\n",
       "      <td>No</td>\n",
       "      <td>No</td>\n",
       "      <td>No</td>\n",
       "      <td>Yes</td>\n",
       "      <td>0.0</td>\n",
       "      <td>0.0</td>\n",
       "      <td>No</td>\n",
       "      <td>Yes</td>\n",
       "      <td>0.0</td>\n",
       "      <td>1.0</td>\n",
       "      <td>No</td>\n",
       "      <td>1.0</td>\n",
       "      <td>30.0</td>\n",
       "      <td>No</td>\n",
       "      <td>3-Good</td>\n",
       "      <td>Suburban</td>\n",
       "      <td>Other</td>\n",
       "      <td>Unknown</td>\n",
       "    </tr>\n",
       "    <tr>\n",
       "      <th>13</th>\n",
       "      <td>No</td>\n",
       "      <td>No</td>\n",
       "      <td>No</td>\n",
       "      <td>Yes</td>\n",
       "      <td>0.0</td>\n",
       "      <td>0.0</td>\n",
       "      <td>No</td>\n",
       "      <td>Yes</td>\n",
       "      <td>0.0</td>\n",
       "      <td>3.0</td>\n",
       "      <td>No</td>\n",
       "      <td>0.0</td>\n",
       "      <td>30.0</td>\n",
       "      <td>No</td>\n",
       "      <td>3-Good</td>\n",
       "      <td>Town</td>\n",
       "      <td>Other</td>\n",
       "      <td>Unknown</td>\n",
       "    </tr>\n",
       "    <tr>\n",
       "      <th>14</th>\n",
       "      <td>No</td>\n",
       "      <td>No</td>\n",
       "      <td>Yes</td>\n",
       "      <td>No</td>\n",
       "      <td>0.0</td>\n",
       "      <td>0.0</td>\n",
       "      <td>Yes</td>\n",
       "      <td>No</td>\n",
       "      <td>0.0</td>\n",
       "      <td>1.0</td>\n",
       "      <td>No</td>\n",
       "      <td>0.0</td>\n",
       "      <td>10.0</td>\n",
       "      <td>No</td>\n",
       "      <td>3-Good</td>\n",
       "      <td>Other</td>\n",
       "      <td>Other</td>\n",
       "      <td>No</td>\n",
       "    </tr>\n",
       "    <tr>\n",
       "      <th>15</th>\n",
       "      <td>No</td>\n",
       "      <td>No</td>\n",
       "      <td>No</td>\n",
       "      <td>Yes</td>\n",
       "      <td>1.0</td>\n",
       "      <td>0.0</td>\n",
       "      <td>No</td>\n",
       "      <td>No</td>\n",
       "      <td>0.0</td>\n",
       "      <td>6.0</td>\n",
       "      <td>No</td>\n",
       "      <td>0.0</td>\n",
       "      <td>150.0</td>\n",
       "      <td>Yes</td>\n",
       "      <td>1-Highest</td>\n",
       "      <td>Other</td>\n",
       "      <td>Professional</td>\n",
       "      <td>Unknown</td>\n",
       "    </tr>\n",
       "    <tr>\n",
       "      <th>16</th>\n",
       "      <td>No</td>\n",
       "      <td>No</td>\n",
       "      <td>No</td>\n",
       "      <td>Yes</td>\n",
       "      <td>0.0</td>\n",
       "      <td>0.0</td>\n",
       "      <td>Yes</td>\n",
       "      <td>No</td>\n",
       "      <td>0.0</td>\n",
       "      <td>9.0</td>\n",
       "      <td>No</td>\n",
       "      <td>0.0</td>\n",
       "      <td>30.0</td>\n",
       "      <td>No</td>\n",
       "      <td>1-Highest</td>\n",
       "      <td>Other</td>\n",
       "      <td>Other</td>\n",
       "      <td>Unknown</td>\n",
       "    </tr>\n",
       "    <tr>\n",
       "      <th>17</th>\n",
       "      <td>No</td>\n",
       "      <td>No</td>\n",
       "      <td>No</td>\n",
       "      <td>No</td>\n",
       "      <td>0.0</td>\n",
       "      <td>0.0</td>\n",
       "      <td>Yes</td>\n",
       "      <td>No</td>\n",
       "      <td>0.0</td>\n",
       "      <td>0.0</td>\n",
       "      <td>No</td>\n",
       "      <td>0.0</td>\n",
       "      <td>30.0</td>\n",
       "      <td>No</td>\n",
       "      <td>3-Good</td>\n",
       "      <td>Other</td>\n",
       "      <td>Other</td>\n",
       "      <td>Unknown</td>\n",
       "    </tr>\n",
       "    <tr>\n",
       "      <th>18</th>\n",
       "      <td>No</td>\n",
       "      <td>No</td>\n",
       "      <td>No</td>\n",
       "      <td>No</td>\n",
       "      <td>0.0</td>\n",
       "      <td>0.0</td>\n",
       "      <td>No</td>\n",
       "      <td>Yes</td>\n",
       "      <td>0.0</td>\n",
       "      <td>9.0</td>\n",
       "      <td>No</td>\n",
       "      <td>0.0</td>\n",
       "      <td>30.0</td>\n",
       "      <td>No</td>\n",
       "      <td>1-Highest</td>\n",
       "      <td>Other</td>\n",
       "      <td>Other</td>\n",
       "      <td>No</td>\n",
       "    </tr>\n",
       "    <tr>\n",
       "      <th>19</th>\n",
       "      <td>No</td>\n",
       "      <td>No</td>\n",
       "      <td>Yes</td>\n",
       "      <td>Yes</td>\n",
       "      <td>0.0</td>\n",
       "      <td>0.0</td>\n",
       "      <td>Yes</td>\n",
       "      <td>No</td>\n",
       "      <td>0.0</td>\n",
       "      <td>3.0</td>\n",
       "      <td>No</td>\n",
       "      <td>0.0</td>\n",
       "      <td>30.0</td>\n",
       "      <td>No</td>\n",
       "      <td>4-Medium</td>\n",
       "      <td>Rural</td>\n",
       "      <td>Other</td>\n",
       "      <td>Unknown</td>\n",
       "    </tr>\n",
       "    <tr>\n",
       "      <th>20</th>\n",
       "      <td>No</td>\n",
       "      <td>No</td>\n",
       "      <td>No</td>\n",
       "      <td>Yes</td>\n",
       "      <td>0.0</td>\n",
       "      <td>0.0</td>\n",
       "      <td>No</td>\n",
       "      <td>Yes</td>\n",
       "      <td>0.0</td>\n",
       "      <td>5.0</td>\n",
       "      <td>No</td>\n",
       "      <td>0.0</td>\n",
       "      <td>30.0</td>\n",
       "      <td>No</td>\n",
       "      <td>1-Highest</td>\n",
       "      <td>Suburban</td>\n",
       "      <td>Professional</td>\n",
       "      <td>Yes</td>\n",
       "    </tr>\n",
       "    <tr>\n",
       "      <th>21</th>\n",
       "      <td>No</td>\n",
       "      <td>Yes</td>\n",
       "      <td>No</td>\n",
       "      <td>Yes</td>\n",
       "      <td>0.0</td>\n",
       "      <td>0.0</td>\n",
       "      <td>Yes</td>\n",
       "      <td>No</td>\n",
       "      <td>0.0</td>\n",
       "      <td>7.0</td>\n",
       "      <td>No</td>\n",
       "      <td>1.0</td>\n",
       "      <td>30.0</td>\n",
       "      <td>No</td>\n",
       "      <td>1-Highest</td>\n",
       "      <td>Town</td>\n",
       "      <td>Professional</td>\n",
       "      <td>Yes</td>\n",
       "    </tr>\n",
       "    <tr>\n",
       "      <th>22</th>\n",
       "      <td>No</td>\n",
       "      <td>No</td>\n",
       "      <td>No</td>\n",
       "      <td>Yes</td>\n",
       "      <td>0.0</td>\n",
       "      <td>0.0</td>\n",
       "      <td>No</td>\n",
       "      <td>Yes</td>\n",
       "      <td>0.0</td>\n",
       "      <td>9.0</td>\n",
       "      <td>Yes</td>\n",
       "      <td>0.0</td>\n",
       "      <td>30.0</td>\n",
       "      <td>No</td>\n",
       "      <td>1-Highest</td>\n",
       "      <td>Suburban</td>\n",
       "      <td>Other</td>\n",
       "      <td>Yes</td>\n",
       "    </tr>\n",
       "    <tr>\n",
       "      <th>23</th>\n",
       "      <td>No</td>\n",
       "      <td>No</td>\n",
       "      <td>No</td>\n",
       "      <td>Yes</td>\n",
       "      <td>0.0</td>\n",
       "      <td>0.0</td>\n",
       "      <td>No</td>\n",
       "      <td>Yes</td>\n",
       "      <td>0.0</td>\n",
       "      <td>7.0</td>\n",
       "      <td>No</td>\n",
       "      <td>3.0</td>\n",
       "      <td>10.0</td>\n",
       "      <td>No</td>\n",
       "      <td>1-Highest</td>\n",
       "      <td>Town</td>\n",
       "      <td>Other</td>\n",
       "      <td>Unknown</td>\n",
       "    </tr>\n",
       "    <tr>\n",
       "      <th>24</th>\n",
       "      <td>No</td>\n",
       "      <td>No</td>\n",
       "      <td>Yes</td>\n",
       "      <td>Yes</td>\n",
       "      <td>0.0</td>\n",
       "      <td>0.0</td>\n",
       "      <td>Yes</td>\n",
       "      <td>No</td>\n",
       "      <td>0.0</td>\n",
       "      <td>9.0</td>\n",
       "      <td>No</td>\n",
       "      <td>0.0</td>\n",
       "      <td>150.0</td>\n",
       "      <td>No</td>\n",
       "      <td>1-Highest</td>\n",
       "      <td>Town</td>\n",
       "      <td>Other</td>\n",
       "      <td>Yes</td>\n",
       "    </tr>\n",
       "    <tr>\n",
       "      <th>25</th>\n",
       "      <td>No</td>\n",
       "      <td>No</td>\n",
       "      <td>No</td>\n",
       "      <td>Yes</td>\n",
       "      <td>0.0</td>\n",
       "      <td>0.0</td>\n",
       "      <td>Yes</td>\n",
       "      <td>No</td>\n",
       "      <td>0.0</td>\n",
       "      <td>9.0</td>\n",
       "      <td>No</td>\n",
       "      <td>1.0</td>\n",
       "      <td>30.0</td>\n",
       "      <td>No</td>\n",
       "      <td>1-Highest</td>\n",
       "      <td>Suburban</td>\n",
       "      <td>Professional</td>\n",
       "      <td>Yes</td>\n",
       "    </tr>\n",
       "    <tr>\n",
       "      <th>26</th>\n",
       "      <td>No</td>\n",
       "      <td>No</td>\n",
       "      <td>No</td>\n",
       "      <td>Yes</td>\n",
       "      <td>0.0</td>\n",
       "      <td>0.0</td>\n",
       "      <td>No</td>\n",
       "      <td>No</td>\n",
       "      <td>0.0</td>\n",
       "      <td>8.0</td>\n",
       "      <td>No</td>\n",
       "      <td>0.0</td>\n",
       "      <td>30.0</td>\n",
       "      <td>No</td>\n",
       "      <td>1-Highest</td>\n",
       "      <td>Suburban</td>\n",
       "      <td>Other</td>\n",
       "      <td>Yes</td>\n",
       "    </tr>\n",
       "    <tr>\n",
       "      <th>27</th>\n",
       "      <td>No</td>\n",
       "      <td>No</td>\n",
       "      <td>Yes</td>\n",
       "      <td>Yes</td>\n",
       "      <td>0.0</td>\n",
       "      <td>0.0</td>\n",
       "      <td>No</td>\n",
       "      <td>Yes</td>\n",
       "      <td>0.0</td>\n",
       "      <td>9.0</td>\n",
       "      <td>No</td>\n",
       "      <td>1.0</td>\n",
       "      <td>80.0</td>\n",
       "      <td>No</td>\n",
       "      <td>1-Highest</td>\n",
       "      <td>Suburban</td>\n",
       "      <td>Other</td>\n",
       "      <td>Yes</td>\n",
       "    </tr>\n",
       "    <tr>\n",
       "      <th>28</th>\n",
       "      <td>No</td>\n",
       "      <td>Yes</td>\n",
       "      <td>Yes</td>\n",
       "      <td>Yes</td>\n",
       "      <td>0.0</td>\n",
       "      <td>0.0</td>\n",
       "      <td>Yes</td>\n",
       "      <td>No</td>\n",
       "      <td>0.0</td>\n",
       "      <td>6.0</td>\n",
       "      <td>No</td>\n",
       "      <td>0.0</td>\n",
       "      <td>130.0</td>\n",
       "      <td>No</td>\n",
       "      <td>1-Highest</td>\n",
       "      <td>Suburban</td>\n",
       "      <td>Professional</td>\n",
       "      <td>Yes</td>\n",
       "    </tr>\n",
       "    <tr>\n",
       "      <th>29</th>\n",
       "      <td>No</td>\n",
       "      <td>No</td>\n",
       "      <td>No</td>\n",
       "      <td>Yes</td>\n",
       "      <td>0.0</td>\n",
       "      <td>0.0</td>\n",
       "      <td>No</td>\n",
       "      <td>Yes</td>\n",
       "      <td>0.0</td>\n",
       "      <td>9.0</td>\n",
       "      <td>No</td>\n",
       "      <td>1.0</td>\n",
       "      <td>30.0</td>\n",
       "      <td>No</td>\n",
       "      <td>3-Good</td>\n",
       "      <td>Suburban</td>\n",
       "      <td>Professional</td>\n",
       "      <td>No</td>\n",
       "    </tr>\n",
       "    <tr>\n",
       "      <th>30</th>\n",
       "      <td>No</td>\n",
       "      <td>No</td>\n",
       "      <td>No</td>\n",
       "      <td>Yes</td>\n",
       "      <td>0.0</td>\n",
       "      <td>0.0</td>\n",
       "      <td>No</td>\n",
       "      <td>Yes</td>\n",
       "      <td>0.0</td>\n",
       "      <td>5.0</td>\n",
       "      <td>No</td>\n",
       "      <td>0.0</td>\n",
       "      <td>10.0</td>\n",
       "      <td>No</td>\n",
       "      <td>1-Highest</td>\n",
       "      <td>Town</td>\n",
       "      <td>Crafts</td>\n",
       "      <td>Yes</td>\n",
       "    </tr>\n",
       "    <tr>\n",
       "      <th>31</th>\n",
       "      <td>No</td>\n",
       "      <td>No</td>\n",
       "      <td>No</td>\n",
       "      <td>Yes</td>\n",
       "      <td>0.0</td>\n",
       "      <td>0.0</td>\n",
       "      <td>Yes</td>\n",
       "      <td>No</td>\n",
       "      <td>0.0</td>\n",
       "      <td>7.0</td>\n",
       "      <td>Yes</td>\n",
       "      <td>0.0</td>\n",
       "      <td>30.0</td>\n",
       "      <td>No</td>\n",
       "      <td>3-Good</td>\n",
       "      <td>Suburban</td>\n",
       "      <td>Other</td>\n",
       "      <td>Yes</td>\n",
       "    </tr>\n",
       "    <tr>\n",
       "      <th>32</th>\n",
       "      <td>No</td>\n",
       "      <td>Yes</td>\n",
       "      <td>Yes</td>\n",
       "      <td>Yes</td>\n",
       "      <td>0.0</td>\n",
       "      <td>0.0</td>\n",
       "      <td>No</td>\n",
       "      <td>Yes</td>\n",
       "      <td>0.0</td>\n",
       "      <td>3.0</td>\n",
       "      <td>No</td>\n",
       "      <td>1.0</td>\n",
       "      <td>30.0</td>\n",
       "      <td>No</td>\n",
       "      <td>1-Highest</td>\n",
       "      <td>Suburban</td>\n",
       "      <td>Retired</td>\n",
       "      <td>Yes</td>\n",
       "    </tr>\n",
       "    <tr>\n",
       "      <th>33</th>\n",
       "      <td>No</td>\n",
       "      <td>No</td>\n",
       "      <td>No</td>\n",
       "      <td>Yes</td>\n",
       "      <td>0.0</td>\n",
       "      <td>0.0</td>\n",
       "      <td>Yes</td>\n",
       "      <td>No</td>\n",
       "      <td>0.0</td>\n",
       "      <td>9.0</td>\n",
       "      <td>No</td>\n",
       "      <td>1.0</td>\n",
       "      <td>30.0</td>\n",
       "      <td>No</td>\n",
       "      <td>1-Highest</td>\n",
       "      <td>Suburban</td>\n",
       "      <td>Other</td>\n",
       "      <td>Yes</td>\n",
       "    </tr>\n",
       "    <tr>\n",
       "      <th>34</th>\n",
       "      <td>No</td>\n",
       "      <td>No</td>\n",
       "      <td>No</td>\n",
       "      <td>No</td>\n",
       "      <td>0.0</td>\n",
       "      <td>0.0</td>\n",
       "      <td>No</td>\n",
       "      <td>Yes</td>\n",
       "      <td>0.0</td>\n",
       "      <td>0.0</td>\n",
       "      <td>No</td>\n",
       "      <td>0.0</td>\n",
       "      <td>10.0</td>\n",
       "      <td>No</td>\n",
       "      <td>3-Good</td>\n",
       "      <td>Town</td>\n",
       "      <td>Other</td>\n",
       "      <td>Unknown</td>\n",
       "    </tr>\n",
       "    <tr>\n",
       "      <th>35</th>\n",
       "      <td>No</td>\n",
       "      <td>No</td>\n",
       "      <td>No</td>\n",
       "      <td>Yes</td>\n",
       "      <td>0.0</td>\n",
       "      <td>0.0</td>\n",
       "      <td>Yes</td>\n",
       "      <td>No</td>\n",
       "      <td>0.0</td>\n",
       "      <td>6.0</td>\n",
       "      <td>No</td>\n",
       "      <td>1.0</td>\n",
       "      <td>10.0</td>\n",
       "      <td>No</td>\n",
       "      <td>1-Highest</td>\n",
       "      <td>Rural</td>\n",
       "      <td>Self</td>\n",
       "      <td>No</td>\n",
       "    </tr>\n",
       "    <tr>\n",
       "      <th>36</th>\n",
       "      <td>No</td>\n",
       "      <td>No</td>\n",
       "      <td>No</td>\n",
       "      <td>No</td>\n",
       "      <td>0.0</td>\n",
       "      <td>0.0</td>\n",
       "      <td>Yes</td>\n",
       "      <td>No</td>\n",
       "      <td>0.0</td>\n",
       "      <td>7.0</td>\n",
       "      <td>No</td>\n",
       "      <td>0.0</td>\n",
       "      <td>130.0</td>\n",
       "      <td>No</td>\n",
       "      <td>1-Highest</td>\n",
       "      <td>Town</td>\n",
       "      <td>Other</td>\n",
       "      <td>No</td>\n",
       "    </tr>\n",
       "    <tr>\n",
       "      <th>37</th>\n",
       "      <td>No</td>\n",
       "      <td>No</td>\n",
       "      <td>Yes</td>\n",
       "      <td>Yes</td>\n",
       "      <td>0.0</td>\n",
       "      <td>0.0</td>\n",
       "      <td>No</td>\n",
       "      <td>Yes</td>\n",
       "      <td>0.0</td>\n",
       "      <td>7.0</td>\n",
       "      <td>No</td>\n",
       "      <td>0.0</td>\n",
       "      <td>30.0</td>\n",
       "      <td>No</td>\n",
       "      <td>1-Highest</td>\n",
       "      <td>Suburban</td>\n",
       "      <td>Professional</td>\n",
       "      <td>Yes</td>\n",
       "    </tr>\n",
       "    <tr>\n",
       "      <th>38</th>\n",
       "      <td>No</td>\n",
       "      <td>No</td>\n",
       "      <td>No</td>\n",
       "      <td>Yes</td>\n",
       "      <td>0.0</td>\n",
       "      <td>0.0</td>\n",
       "      <td>No</td>\n",
       "      <td>No</td>\n",
       "      <td>0.0</td>\n",
       "      <td>7.0</td>\n",
       "      <td>No</td>\n",
       "      <td>0.0</td>\n",
       "      <td>130.0</td>\n",
       "      <td>No</td>\n",
       "      <td>1-Highest</td>\n",
       "      <td>Other</td>\n",
       "      <td>Other</td>\n",
       "      <td>Yes</td>\n",
       "    </tr>\n",
       "    <tr>\n",
       "      <th>39</th>\n",
       "      <td>No</td>\n",
       "      <td>No</td>\n",
       "      <td>Yes</td>\n",
       "      <td>Yes</td>\n",
       "      <td>0.0</td>\n",
       "      <td>0.0</td>\n",
       "      <td>Yes</td>\n",
       "      <td>No</td>\n",
       "      <td>0.0</td>\n",
       "      <td>6.0</td>\n",
       "      <td>No</td>\n",
       "      <td>0.0</td>\n",
       "      <td>10.0</td>\n",
       "      <td>No</td>\n",
       "      <td>3-Good</td>\n",
       "      <td>Suburban</td>\n",
       "      <td>Other</td>\n",
       "      <td>No</td>\n",
       "    </tr>\n",
       "    <tr>\n",
       "      <th>40</th>\n",
       "      <td>No</td>\n",
       "      <td>No</td>\n",
       "      <td>No</td>\n",
       "      <td>Yes</td>\n",
       "      <td>0.0</td>\n",
       "      <td>0.0</td>\n",
       "      <td>Yes</td>\n",
       "      <td>No</td>\n",
       "      <td>0.0</td>\n",
       "      <td>6.0</td>\n",
       "      <td>No</td>\n",
       "      <td>2.0</td>\n",
       "      <td>30.0</td>\n",
       "      <td>No</td>\n",
       "      <td>3-Good</td>\n",
       "      <td>Suburban</td>\n",
       "      <td>Self</td>\n",
       "      <td>Yes</td>\n",
       "    </tr>\n",
       "    <tr>\n",
       "      <th>41</th>\n",
       "      <td>No</td>\n",
       "      <td>No</td>\n",
       "      <td>Yes</td>\n",
       "      <td>Yes</td>\n",
       "      <td>0.0</td>\n",
       "      <td>0.0</td>\n",
       "      <td>Yes</td>\n",
       "      <td>No</td>\n",
       "      <td>0.0</td>\n",
       "      <td>6.0</td>\n",
       "      <td>No</td>\n",
       "      <td>2.0</td>\n",
       "      <td>300.0</td>\n",
       "      <td>No</td>\n",
       "      <td>3-Good</td>\n",
       "      <td>Town</td>\n",
       "      <td>Other</td>\n",
       "      <td>No</td>\n",
       "    </tr>\n",
       "    <tr>\n",
       "      <th>42</th>\n",
       "      <td>No</td>\n",
       "      <td>No</td>\n",
       "      <td>No</td>\n",
       "      <td>Yes</td>\n",
       "      <td>0.0</td>\n",
       "      <td>0.0</td>\n",
       "      <td>No</td>\n",
       "      <td>Yes</td>\n",
       "      <td>0.0</td>\n",
       "      <td>3.0</td>\n",
       "      <td>No</td>\n",
       "      <td>1.0</td>\n",
       "      <td>80.0</td>\n",
       "      <td>No</td>\n",
       "      <td>4-Medium</td>\n",
       "      <td>Other</td>\n",
       "      <td>Other</td>\n",
       "      <td>No</td>\n",
       "    </tr>\n",
       "    <tr>\n",
       "      <th>43</th>\n",
       "      <td>No</td>\n",
       "      <td>No</td>\n",
       "      <td>No</td>\n",
       "      <td>Yes</td>\n",
       "      <td>0.0</td>\n",
       "      <td>0.0</td>\n",
       "      <td>No</td>\n",
       "      <td>No</td>\n",
       "      <td>0.0</td>\n",
       "      <td>4.0</td>\n",
       "      <td>No</td>\n",
       "      <td>0.0</td>\n",
       "      <td>130.0</td>\n",
       "      <td>No</td>\n",
       "      <td>4-Medium</td>\n",
       "      <td>Town</td>\n",
       "      <td>Other</td>\n",
       "      <td>No</td>\n",
       "    </tr>\n",
       "    <tr>\n",
       "      <th>44</th>\n",
       "      <td>No</td>\n",
       "      <td>No</td>\n",
       "      <td>No</td>\n",
       "      <td>No</td>\n",
       "      <td>0.0</td>\n",
       "      <td>0.0</td>\n",
       "      <td>No</td>\n",
       "      <td>Yes</td>\n",
       "      <td>0.0</td>\n",
       "      <td>0.0</td>\n",
       "      <td>No</td>\n",
       "      <td>2.0</td>\n",
       "      <td>10.0</td>\n",
       "      <td>No</td>\n",
       "      <td>4-Medium</td>\n",
       "      <td>Suburban</td>\n",
       "      <td>Other</td>\n",
       "      <td>Unknown</td>\n",
       "    </tr>\n",
       "    <tr>\n",
       "      <th>45</th>\n",
       "      <td>No</td>\n",
       "      <td>No</td>\n",
       "      <td>No</td>\n",
       "      <td>No</td>\n",
       "      <td>0.0</td>\n",
       "      <td>0.0</td>\n",
       "      <td>Yes</td>\n",
       "      <td>No</td>\n",
       "      <td>0.0</td>\n",
       "      <td>7.0</td>\n",
       "      <td>No</td>\n",
       "      <td>1.0</td>\n",
       "      <td>150.0</td>\n",
       "      <td>No</td>\n",
       "      <td>4-Medium</td>\n",
       "      <td>Town</td>\n",
       "      <td>Other</td>\n",
       "      <td>Unknown</td>\n",
       "    </tr>\n",
       "  </tbody>\n",
       "</table>\n",
       "</div>"
      ],
      "text/plain": [
       "   OptOutMailings NonUSTravel OwnsComputer HasCreditCard  RetentionCalls  \\\n",
       "0              No          No          Yes           Yes             1.0   \n",
       "1              No          No          Yes           Yes             0.0   \n",
       "2              No          No           No           Yes             0.0   \n",
       "3              No          No           No           Yes             0.0   \n",
       "4              No          No          Yes           Yes             0.0   \n",
       "5              No         Yes           No           Yes             0.0   \n",
       "6              No         Yes           No           Yes             0.0   \n",
       "7              No          No           No           Yes             0.0   \n",
       "8              No          No           No           Yes             0.0   \n",
       "9              No          No          Yes           Yes             0.0   \n",
       "10             No          No           No            No             0.0   \n",
       "11             No          No          Yes           Yes             0.0   \n",
       "12             No          No           No           Yes             0.0   \n",
       "13             No          No           No           Yes             0.0   \n",
       "14             No          No          Yes            No             0.0   \n",
       "15             No          No           No           Yes             1.0   \n",
       "16             No          No           No           Yes             0.0   \n",
       "17             No          No           No            No             0.0   \n",
       "18             No          No           No            No             0.0   \n",
       "19             No          No          Yes           Yes             0.0   \n",
       "20             No          No           No           Yes             0.0   \n",
       "21             No         Yes           No           Yes             0.0   \n",
       "22             No          No           No           Yes             0.0   \n",
       "23             No          No           No           Yes             0.0   \n",
       "24             No          No          Yes           Yes             0.0   \n",
       "25             No          No           No           Yes             0.0   \n",
       "26             No          No           No           Yes             0.0   \n",
       "27             No          No          Yes           Yes             0.0   \n",
       "28             No         Yes          Yes           Yes             0.0   \n",
       "29             No          No           No           Yes             0.0   \n",
       "30             No          No           No           Yes             0.0   \n",
       "31             No          No           No           Yes             0.0   \n",
       "32             No         Yes          Yes           Yes             0.0   \n",
       "33             No          No           No           Yes             0.0   \n",
       "34             No          No           No            No             0.0   \n",
       "35             No          No           No           Yes             0.0   \n",
       "36             No          No           No            No             0.0   \n",
       "37             No          No          Yes           Yes             0.0   \n",
       "38             No          No           No           Yes             0.0   \n",
       "39             No          No          Yes           Yes             0.0   \n",
       "40             No          No           No           Yes             0.0   \n",
       "41             No          No          Yes           Yes             0.0   \n",
       "42             No          No           No           Yes             0.0   \n",
       "43             No          No           No           Yes             0.0   \n",
       "44             No          No           No            No             0.0   \n",
       "45             No          No           No            No             0.0   \n",
       "\n",
       "    RetentionOffersAccepted NewCellphoneUser NotNewCellphoneUser  \\\n",
       "0                       0.0               No                  No   \n",
       "1                       0.0              Yes                  No   \n",
       "2                       0.0              Yes                  No   \n",
       "3                       0.0              Yes                  No   \n",
       "4                       0.0               No                 Yes   \n",
       "5                       0.0              Yes                  No   \n",
       "6                       0.0               No                 Yes   \n",
       "7                       0.0              Yes                  No   \n",
       "8                       0.0              Yes                  No   \n",
       "9                       0.0              Yes                  No   \n",
       "10                      0.0              Yes                  No   \n",
       "11                      0.0              Yes                  No   \n",
       "12                      0.0               No                 Yes   \n",
       "13                      0.0               No                 Yes   \n",
       "14                      0.0              Yes                  No   \n",
       "15                      0.0               No                  No   \n",
       "16                      0.0              Yes                  No   \n",
       "17                      0.0              Yes                  No   \n",
       "18                      0.0               No                 Yes   \n",
       "19                      0.0              Yes                  No   \n",
       "20                      0.0               No                 Yes   \n",
       "21                      0.0              Yes                  No   \n",
       "22                      0.0               No                 Yes   \n",
       "23                      0.0               No                 Yes   \n",
       "24                      0.0              Yes                  No   \n",
       "25                      0.0              Yes                  No   \n",
       "26                      0.0               No                  No   \n",
       "27                      0.0               No                 Yes   \n",
       "28                      0.0              Yes                  No   \n",
       "29                      0.0               No                 Yes   \n",
       "30                      0.0               No                 Yes   \n",
       "31                      0.0              Yes                  No   \n",
       "32                      0.0               No                 Yes   \n",
       "33                      0.0              Yes                  No   \n",
       "34                      0.0               No                 Yes   \n",
       "35                      0.0              Yes                  No   \n",
       "36                      0.0              Yes                  No   \n",
       "37                      0.0               No                 Yes   \n",
       "38                      0.0               No                  No   \n",
       "39                      0.0              Yes                  No   \n",
       "40                      0.0              Yes                  No   \n",
       "41                      0.0              Yes                  No   \n",
       "42                      0.0               No                 Yes   \n",
       "43                      0.0               No                  No   \n",
       "44                      0.0               No                 Yes   \n",
       "45                      0.0              Yes                  No   \n",
       "\n",
       "    ReferralsMadeBySubscriber  IncomeGroup OwnsMotorcycle  \\\n",
       "0                         0.0          4.0             No   \n",
       "1                         0.0          5.0             No   \n",
       "2                         0.0          6.0             No   \n",
       "3                         0.0          6.0             No   \n",
       "4                         0.0          9.0             No   \n",
       "5                         0.0          1.0             No   \n",
       "6                         0.0          9.0             No   \n",
       "7                         0.0          6.0             No   \n",
       "8                         0.0          9.0             No   \n",
       "9                         0.0          5.0             No   \n",
       "10                        0.0          7.0             No   \n",
       "11                        0.0          3.0             No   \n",
       "12                        0.0          1.0             No   \n",
       "13                        0.0          3.0             No   \n",
       "14                        0.0          1.0             No   \n",
       "15                        0.0          6.0             No   \n",
       "16                        0.0          9.0             No   \n",
       "17                        0.0          0.0             No   \n",
       "18                        0.0          9.0             No   \n",
       "19                        0.0          3.0             No   \n",
       "20                        0.0          5.0             No   \n",
       "21                        0.0          7.0             No   \n",
       "22                        0.0          9.0            Yes   \n",
       "23                        0.0          7.0             No   \n",
       "24                        0.0          9.0             No   \n",
       "25                        0.0          9.0             No   \n",
       "26                        0.0          8.0             No   \n",
       "27                        0.0          9.0             No   \n",
       "28                        0.0          6.0             No   \n",
       "29                        0.0          9.0             No   \n",
       "30                        0.0          5.0             No   \n",
       "31                        0.0          7.0            Yes   \n",
       "32                        0.0          3.0             No   \n",
       "33                        0.0          9.0             No   \n",
       "34                        0.0          0.0             No   \n",
       "35                        0.0          6.0             No   \n",
       "36                        0.0          7.0             No   \n",
       "37                        0.0          7.0             No   \n",
       "38                        0.0          7.0             No   \n",
       "39                        0.0          6.0             No   \n",
       "40                        0.0          6.0             No   \n",
       "41                        0.0          6.0             No   \n",
       "42                        0.0          3.0             No   \n",
       "43                        0.0          4.0             No   \n",
       "44                        0.0          0.0             No   \n",
       "45                        0.0          7.0             No   \n",
       "\n",
       "    AdjustmentsToCreditRating  HandsetPrice MadeCallToRetentionTeam  \\\n",
       "0                         0.0          30.0                     Yes   \n",
       "1                         0.0          30.0                      No   \n",
       "2                         0.0         130.0                      No   \n",
       "3                         0.0          10.0                      No   \n",
       "4                         1.0          10.0                      No   \n",
       "5                         1.0          30.0                      No   \n",
       "6                         1.0          30.0                      No   \n",
       "7                         0.0          30.0                      No   \n",
       "8                         0.0          80.0                      No   \n",
       "9                         1.0          30.0                      No   \n",
       "10                        0.0          30.0                      No   \n",
       "11                        1.0          80.0                      No   \n",
       "12                        1.0          30.0                      No   \n",
       "13                        0.0          30.0                      No   \n",
       "14                        0.0          10.0                      No   \n",
       "15                        0.0         150.0                     Yes   \n",
       "16                        0.0          30.0                      No   \n",
       "17                        0.0          30.0                      No   \n",
       "18                        0.0          30.0                      No   \n",
       "19                        0.0          30.0                      No   \n",
       "20                        0.0          30.0                      No   \n",
       "21                        1.0          30.0                      No   \n",
       "22                        0.0          30.0                      No   \n",
       "23                        3.0          10.0                      No   \n",
       "24                        0.0         150.0                      No   \n",
       "25                        1.0          30.0                      No   \n",
       "26                        0.0          30.0                      No   \n",
       "27                        1.0          80.0                      No   \n",
       "28                        0.0         130.0                      No   \n",
       "29                        1.0          30.0                      No   \n",
       "30                        0.0          10.0                      No   \n",
       "31                        0.0          30.0                      No   \n",
       "32                        1.0          30.0                      No   \n",
       "33                        1.0          30.0                      No   \n",
       "34                        0.0          10.0                      No   \n",
       "35                        1.0          10.0                      No   \n",
       "36                        0.0         130.0                      No   \n",
       "37                        0.0          30.0                      No   \n",
       "38                        0.0         130.0                      No   \n",
       "39                        0.0          10.0                      No   \n",
       "40                        2.0          30.0                      No   \n",
       "41                        2.0         300.0                      No   \n",
       "42                        1.0          80.0                      No   \n",
       "43                        0.0         130.0                      No   \n",
       "44                        2.0          10.0                      No   \n",
       "45                        1.0         150.0                      No   \n",
       "\n",
       "   CreditRating PrizmCode    Occupation MaritalStatus  \n",
       "0     1-Highest  Suburban  Professional            No  \n",
       "1      4-Medium  Suburban  Professional           Yes  \n",
       "2        3-Good      Town        Crafts           Yes  \n",
       "3      4-Medium     Other         Other            No  \n",
       "4     1-Highest     Other  Professional           Yes  \n",
       "5        3-Good     Other         Other           Yes  \n",
       "6     1-Highest     Other          Self           Yes  \n",
       "7     1-Highest     Other  Professional            No  \n",
       "8     1-Highest     Other         Other           Yes  \n",
       "9        3-Good     Other  Professional            No  \n",
       "10    1-Highest     Other         Other       Unknown  \n",
       "11     4-Medium  Suburban         Other            No  \n",
       "12       3-Good  Suburban         Other       Unknown  \n",
       "13       3-Good      Town         Other       Unknown  \n",
       "14       3-Good     Other         Other            No  \n",
       "15    1-Highest     Other  Professional       Unknown  \n",
       "16    1-Highest     Other         Other       Unknown  \n",
       "17       3-Good     Other         Other       Unknown  \n",
       "18    1-Highest     Other         Other            No  \n",
       "19     4-Medium     Rural         Other       Unknown  \n",
       "20    1-Highest  Suburban  Professional           Yes  \n",
       "21    1-Highest      Town  Professional           Yes  \n",
       "22    1-Highest  Suburban         Other           Yes  \n",
       "23    1-Highest      Town         Other       Unknown  \n",
       "24    1-Highest      Town         Other           Yes  \n",
       "25    1-Highest  Suburban  Professional           Yes  \n",
       "26    1-Highest  Suburban         Other           Yes  \n",
       "27    1-Highest  Suburban         Other           Yes  \n",
       "28    1-Highest  Suburban  Professional           Yes  \n",
       "29       3-Good  Suburban  Professional            No  \n",
       "30    1-Highest      Town        Crafts           Yes  \n",
       "31       3-Good  Suburban         Other           Yes  \n",
       "32    1-Highest  Suburban       Retired           Yes  \n",
       "33    1-Highest  Suburban         Other           Yes  \n",
       "34       3-Good      Town         Other       Unknown  \n",
       "35    1-Highest     Rural          Self            No  \n",
       "36    1-Highest      Town         Other            No  \n",
       "37    1-Highest  Suburban  Professional           Yes  \n",
       "38    1-Highest     Other         Other           Yes  \n",
       "39       3-Good  Suburban         Other            No  \n",
       "40       3-Good  Suburban          Self           Yes  \n",
       "41       3-Good      Town         Other            No  \n",
       "42     4-Medium     Other         Other            No  \n",
       "43     4-Medium      Town         Other            No  \n",
       "44     4-Medium  Suburban         Other       Unknown  \n",
       "45     4-Medium      Town         Other       Unknown  "
      ]
     },
     "execution_count": 8,
     "metadata": {},
     "output_type": "execute_result"
    }
   ],
   "source": [
    "# Since there are many columns we'd better explore part by part \n",
    "df1.select(df1.columns[40:]) \\\n",
    ".limit(46).toPandas()"
   ]
  },
  {
   "cell_type": "code",
   "execution_count": 9,
   "metadata": {},
   "outputs": [],
   "source": [
    "# Schema change analysis\n",
    "\n",
    "# MonthlyRevenue, MonthlyMinutes, TotalRecurringCharge, OverageMinutes, PercChangeMinutes, PercChangeRevenues\n",
    "# Handsets, HandsetModels, CurrentEquipmentDays, AgeHH1, AgeHH2  to integer\n",
    "\n",
    "# DirectorAssistedCalls, HandsetPrice to float"
   ]
  },
  {
   "cell_type": "code",
   "execution_count": 10,
   "metadata": {},
   "outputs": [
    {
     "data": {
      "text/plain": [
       "58"
      ]
     },
     "execution_count": 10,
     "metadata": {},
     "output_type": "execute_result"
    }
   ],
   "source": [
    "len(df1.columns)"
   ]
  },
  {
   "cell_type": "code",
   "execution_count": 11,
   "metadata": {
    "scrolled": true
   },
   "outputs": [
    {
     "name": "stdout",
     "output_type": "stream",
     "text": [
      "root\n",
      " |-- CustomerID: integer (nullable = true)\n",
      " |-- Churn: string (nullable = true)\n",
      " |-- MonthlyRevenue: double (nullable = true)\n",
      " |-- MonthlyMinutes: double (nullable = true)\n",
      " |-- TotalRecurringCharge: double (nullable = true)\n",
      " |-- DirectorAssistedCalls: double (nullable = true)\n",
      " |-- OverageMinutes: double (nullable = true)\n",
      " |-- RoamingCalls: double (nullable = true)\n",
      " |-- PercChangeMinutes: double (nullable = true)\n",
      " |-- PercChangeRevenues: double (nullable = true)\n",
      " |-- DroppedCalls: double (nullable = true)\n",
      " |-- BlockedCalls: double (nullable = true)\n",
      " |-- UnansweredCalls: double (nullable = true)\n",
      " |-- CustomerCareCalls: double (nullable = true)\n",
      " |-- ThreewayCalls: double (nullable = true)\n",
      " |-- ReceivedCalls: double (nullable = true)\n",
      " |-- OutboundCalls: double (nullable = true)\n",
      " |-- InboundCalls: double (nullable = true)\n",
      " |-- PeakCallsInOut: double (nullable = true)\n",
      " |-- OffPeakCallsInOut: double (nullable = true)\n",
      " |-- DroppedBlockedCalls: double (nullable = true)\n",
      " |-- CallForwardingCalls: double (nullable = true)\n",
      " |-- CallWaitingCalls: double (nullable = true)\n",
      " |-- MonthsInService: float (nullable = true)\n",
      " |-- UniqueSubs: float (nullable = true)\n",
      " |-- ActiveSubs: float (nullable = true)\n",
      " |-- ServiceArea: string (nullable = true)\n",
      " |-- Handsets: float (nullable = true)\n",
      " |-- HandsetModels: float (nullable = true)\n",
      " |-- CurrentEquipmentDays: float (nullable = true)\n",
      " |-- AgeHH1: double (nullable = true)\n",
      " |-- AgeHH2: double (nullable = true)\n",
      " |-- ChildrenInHH: string (nullable = true)\n",
      " |-- HandsetRefurbished: string (nullable = true)\n",
      " |-- HandsetWebCapable: string (nullable = true)\n",
      " |-- TruckOwner: string (nullable = true)\n",
      " |-- RVOwner: string (nullable = true)\n",
      " |-- Homeownership: string (nullable = true)\n",
      " |-- BuysViaMailOrder: string (nullable = true)\n",
      " |-- RespondsToMailOffers: string (nullable = true)\n",
      " |-- OptOutMailings: string (nullable = true)\n",
      " |-- NonUSTravel: string (nullable = true)\n",
      " |-- OwnsComputer: string (nullable = true)\n",
      " |-- HasCreditCard: string (nullable = true)\n",
      " |-- RetentionCalls: float (nullable = true)\n",
      " |-- RetentionOffersAccepted: float (nullable = true)\n",
      " |-- NewCellphoneUser: string (nullable = true)\n",
      " |-- NotNewCellphoneUser: string (nullable = true)\n",
      " |-- ReferralsMadeBySubscriber: float (nullable = true)\n",
      " |-- IncomeGroup: float (nullable = true)\n",
      " |-- OwnsMotorcycle: string (nullable = true)\n",
      " |-- AdjustmentsToCreditRating: float (nullable = true)\n",
      " |-- HandsetPrice: double (nullable = true)\n",
      " |-- MadeCallToRetentionTeam: string (nullable = true)\n",
      " |-- CreditRating: string (nullable = true)\n",
      " |-- PrizmCode: string (nullable = true)\n",
      " |-- Occupation: string (nullable = true)\n",
      " |-- MaritalStatus: string (nullable = true)\n",
      "\n"
     ]
    }
   ],
   "source": [
    "df1.printSchema()"
   ]
  },
  {
   "cell_type": "code",
   "execution_count": 12,
   "metadata": {},
   "outputs": [],
   "source": [
    "# Null check\n",
    "for(col_name, col_type) in zip(df1.columns, df1.dtypes):\n",
    "    null_count = df1.filter( (F.col(col_name).isNull()) | (F.col(col_name) == \"\")).count()\n",
    "    if(  null_count > 0 ):\n",
    "        print(\"{} {} type has {} null values\".format(col_name, col_type[1], null_count))"
   ]
  },
  {
   "cell_type": "markdown",
   "metadata": {},
   "source": [
    "# Distribution of Output/Target variable"
   ]
  },
  {
   "cell_type": "code",
   "execution_count": 13,
   "metadata": {},
   "outputs": [
    {
     "name": "stdout",
     "output_type": "stream",
     "text": [
      "+-----+-----+\n",
      "|Churn|count|\n",
      "+-----+-----+\n",
      "|   No|36335|\n",
      "|  Yes|14711|\n",
      "+-----+-----+\n",
      "\n"
     ]
    }
   ],
   "source": [
    "df1.select(\"Churn\").groupBy(\"Churn\").count().show()"
   ]
  },
  {
   "cell_type": "code",
   "execution_count": 14,
   "metadata": {},
   "outputs": [
    {
     "data": {
      "text/plain": [
       "<AxesSubplot:>"
      ]
     },
     "execution_count": 14,
     "metadata": {},
     "output_type": "execute_result"
    },
    {
     "data": {
      "image/png": "[encoded data removed]",
      "text/plain": [
       "<Figure size 432x288 with 1 Axes>"
      ]
     },
     "metadata": {
      "needs_background": "light"
     },
     "output_type": "display_data"
    }
   ],
   "source": [
    "df1.select(\"Churn\").groupBy(\"Churn\").count().toPandas().plot(kind='bar')"
   ]
  },
  {
   "cell_type": "markdown",
   "metadata": {},
   "source": [
    "# Data Preperation for the Model"
   ]
  },
  {
   "cell_type": "code",
   "execution_count": 15,
   "metadata": {},
   "outputs": [],
   "source": [
    "categoric_cols = []\n",
    "numeric_cols = []\n",
    "discarted_cols = []\n",
    "label_col = []"
   ]
  },
  {
   "cell_type": "code",
   "execution_count": 16,
   "metadata": {},
   "outputs": [],
   "source": [
    "# column seperation\n",
    "for col_name in df1.dtypes:\n",
    "    if (col_name[0] not in []):\n",
    "        if (col_name[1] == 'string'):\n",
    "            categoric_cols.append(col_name[0])\n",
    "        else: numeric_cols.append(col_name[0])"
   ]
  },
  {
   "cell_type": "code",
   "execution_count": 17,
   "metadata": {
    "scrolled": false
   },
   "outputs": [
    {
     "name": "stdout",
     "output_type": "stream",
     "text": [
      "+-----+----------+\n",
      "|Churn|TotalCount|\n",
      "+-----+----------+\n",
      "|   No|     36335|\n",
      "|  Yes|     14711|\n",
      "+-----+----------+\n",
      "\n",
      "+-----------+----------+\n",
      "|ServiceArea|TotalCount|\n",
      "+-----------+----------+\n",
      "|  NYCBRO917|      1684|\n",
      "|  HOUHOU281|      1510|\n",
      "|  DALDAL214|      1498|\n",
      "|  NYCMAN917|      1182|\n",
      "|  APCFCH703|       783|\n",
      "|  DALFTW817|       782|\n",
      "|  SANSAN210|       724|\n",
      "|  APCSIL301|       670|\n",
      "|  SANAUS512|       612|\n",
      "|  SFROAK510|       605|\n",
      "|  SFRSFR415|       565|\n",
      "|  NYCQUE917|       533|\n",
      "|  ATLANE678|       524|\n",
      "|  PHXPHX602|       512|\n",
      "|  SFRSCL408|       508|\n",
      "|  ATLATL678|       507|\n",
      "|  STLSTL314|       497|\n",
      "|  OHICOL614|       486|\n",
      "|  MINMIN612|       481|\n",
      "|  NEVLVS702|       479|\n",
      "+-----------+----------+\n",
      "only showing top 20 rows\n",
      "\n",
      "+------------+----------+\n",
      "|ChildrenInHH|TotalCount|\n",
      "+------------+----------+\n",
      "|          No|     38678|\n",
      "|         Yes|     12368|\n",
      "+------------+----------+\n",
      "\n",
      "+------------------+----------+\n",
      "|HandsetRefurbished|TotalCount|\n",
      "+------------------+----------+\n",
      "|                No|     43955|\n",
      "|               Yes|      7091|\n",
      "+------------------+----------+\n",
      "\n",
      "+-----------------+----------+\n",
      "|HandsetWebCapable|TotalCount|\n",
      "+-----------------+----------+\n",
      "|              Yes|     46046|\n",
      "|               No|      5000|\n",
      "+-----------------+----------+\n",
      "\n",
      "+----------+----------+\n",
      "|TruckOwner|TotalCount|\n",
      "+----------+----------+\n",
      "|        No|     41523|\n",
      "|       Yes|      9523|\n",
      "+----------+----------+\n",
      "\n",
      "+-------+----------+\n",
      "|RVOwner|TotalCount|\n",
      "+-------+----------+\n",
      "|     No|     46893|\n",
      "|    Yes|      4153|\n",
      "+-------+----------+\n",
      "\n",
      "+-------------+----------+\n",
      "|Homeownership|TotalCount|\n",
      "+-------------+----------+\n",
      "|        Known|     33987|\n",
      "|      Unknown|     17059|\n",
      "+-------------+----------+\n",
      "\n",
      "+----------------+----------+\n",
      "|BuysViaMailOrder|TotalCount|\n",
      "+----------------+----------+\n",
      "|              No|     32595|\n",
      "|             Yes|     18451|\n",
      "+----------------+----------+\n",
      "\n",
      "+--------------------+----------+\n",
      "|RespondsToMailOffers|TotalCount|\n",
      "+--------------------+----------+\n",
      "|                  No|     31820|\n",
      "|                 Yes|     19226|\n",
      "+--------------------+----------+\n",
      "\n",
      "+--------------+----------+\n",
      "|OptOutMailings|TotalCount|\n",
      "+--------------+----------+\n",
      "|            No|     50294|\n",
      "|           Yes|       752|\n",
      "+--------------+----------+\n",
      "\n",
      "+-----------+----------+\n",
      "|NonUSTravel|TotalCount|\n",
      "+-----------+----------+\n",
      "|         No|     48167|\n",
      "|        Yes|      2879|\n",
      "+-----------+----------+\n",
      "\n",
      "+------------+----------+\n",
      "|OwnsComputer|TotalCount|\n",
      "+------------+----------+\n",
      "|          No|     41582|\n",
      "|         Yes|      9464|\n",
      "+------------+----------+\n",
      "\n",
      "+-------------+----------+\n",
      "|HasCreditCard|TotalCount|\n",
      "+-------------+----------+\n",
      "|          Yes|     34503|\n",
      "|           No|     16543|\n",
      "+-------------+----------+\n",
      "\n",
      "+----------------+----------+\n",
      "|NewCellphoneUser|TotalCount|\n",
      "+----------------+----------+\n",
      "|              No|     41222|\n",
      "|             Yes|      9824|\n",
      "+----------------+----------+\n",
      "\n",
      "+-------------------+----------+\n",
      "|NotNewCellphoneUser|TotalCount|\n",
      "+-------------------+----------+\n",
      "|                 No|     44011|\n",
      "|                Yes|      7035|\n",
      "+-------------------+----------+\n",
      "\n",
      "+--------------+----------+\n",
      "|OwnsMotorcycle|TotalCount|\n",
      "+--------------+----------+\n",
      "|            No|     50367|\n",
      "|           Yes|       679|\n",
      "+--------------+----------+\n",
      "\n",
      "+-----------------------+----------+\n",
      "|MadeCallToRetentionTeam|TotalCount|\n",
      "+-----------------------+----------+\n",
      "|                     No|     49301|\n",
      "|                    Yes|      1745|\n",
      "+-----------------------+----------+\n",
      "\n",
      "+------------+----------+\n",
      "|CreditRating|TotalCount|\n",
      "+------------+----------+\n",
      "|      2-High|     18992|\n",
      "|   1-Highest|      8522|\n",
      "|      3-Good|      8410|\n",
      "|       5-Low|      6499|\n",
      "|    4-Medium|      5357|\n",
      "|    7-Lowest|      2114|\n",
      "|   6-VeryLow|      1152|\n",
      "+------------+----------+\n",
      "\n",
      "+---------+----------+\n",
      "|PrizmCode|TotalCount|\n",
      "+---------+----------+\n",
      "|    Other|     24654|\n",
      "| Suburban|     16378|\n",
      "|     Town|      7589|\n",
      "|    Rural|      2425|\n",
      "+---------+----------+\n",
      "\n",
      "+------------+----------+\n",
      "|  Occupation|TotalCount|\n",
      "+------------+----------+\n",
      "|       Other|     37636|\n",
      "|Professional|      8755|\n",
      "|      Crafts|      1519|\n",
      "|    Clerical|       986|\n",
      "|        Self|       879|\n",
      "|     Retired|       733|\n",
      "|     Student|       381|\n",
      "|   Homemaker|       157|\n",
      "+------------+----------+\n",
      "\n",
      "+-------------+----------+\n",
      "|MaritalStatus|TotalCount|\n",
      "+-------------+----------+\n",
      "|      Unknown|     19699|\n",
      "|          Yes|     18651|\n",
      "|           No|     12696|\n",
      "+-------------+----------+\n",
      "\n"
     ]
    }
   ],
   "source": [
    "for col_name in categoric_cols:\n",
    "    df1.groupBy(col_name).agg(F.count(\"*\").alias(\"TotalCount\")).orderBy(F.desc(\"TotalCount\")).show()"
   ]
  },
  {
   "cell_type": "code",
   "execution_count": 18,
   "metadata": {},
   "outputs": [],
   "source": [
    "# column seperation after analysis\n",
    "categoric_cols = []\n",
    "numeric_cols = []\n",
    "# Why we discard these? Because they have high cardinality. In other words they have too many distinct categories\n",
    "# Adding them to model will not do good if not too bad.\n",
    "discarted_cols = ['CustomerID', 'ServiceArea']\n",
    "label_col = ['Churn']"
   ]
  },
  {
   "cell_type": "code",
   "execution_count": 19,
   "metadata": {},
   "outputs": [],
   "source": [
    "for col_name in df1.dtypes:\n",
    "    if (col_name[0] not in discarted_cols+label_col):\n",
    "        if (col_name[1] == 'string'):\n",
    "            categoric_cols.append(col_name[0])\n",
    "        else: numeric_cols.append(col_name[0])"
   ]
  },
  {
   "cell_type": "code",
   "execution_count": 20,
   "metadata": {},
   "outputs": [
    {
     "name": "stdout",
     "output_type": "stream",
     "text": [
      "['ChildrenInHH', 'HandsetRefurbished', 'HandsetWebCapable', 'TruckOwner', 'RVOwner', 'Homeownership', 'BuysViaMailOrder', 'RespondsToMailOffers', 'OptOutMailings', 'NonUSTravel', 'OwnsComputer', 'HasCreditCard', 'NewCellphoneUser', 'NotNewCellphoneUser', 'OwnsMotorcycle', 'MadeCallToRetentionTeam', 'CreditRating', 'PrizmCode', 'Occupation', 'MaritalStatus']\n",
      "20\n"
     ]
    }
   ],
   "source": [
    "print(categoric_cols)\n",
    "print(len(categoric_cols))"
   ]
  },
  {
   "cell_type": "code",
   "execution_count": 21,
   "metadata": {},
   "outputs": [
    {
     "name": "stdout",
     "output_type": "stream",
     "text": [
      "['MonthlyRevenue', 'MonthlyMinutes', 'TotalRecurringCharge', 'DirectorAssistedCalls', 'OverageMinutes', 'RoamingCalls', 'PercChangeMinutes', 'PercChangeRevenues', 'DroppedCalls', 'BlockedCalls', 'UnansweredCalls', 'CustomerCareCalls', 'ThreewayCalls', 'ReceivedCalls', 'OutboundCalls', 'InboundCalls', 'PeakCallsInOut', 'OffPeakCallsInOut', 'DroppedBlockedCalls', 'CallForwardingCalls', 'CallWaitingCalls', 'MonthsInService', 'UniqueSubs', 'ActiveSubs', 'Handsets', 'HandsetModels', 'CurrentEquipmentDays', 'AgeHH1', 'AgeHH2', 'RetentionCalls', 'RetentionOffersAccepted', 'ReferralsMadeBySubscriber', 'IncomeGroup', 'AdjustmentsToCreditRating', 'HandsetPrice']\n",
      "35\n"
     ]
    }
   ],
   "source": [
    "print(numeric_cols)\n",
    "print(len(numeric_cols))"
   ]
  },
  {
   "cell_type": "code",
   "execution_count": 22,
   "metadata": {},
   "outputs": [
    {
     "name": "stdout",
     "output_type": "stream",
     "text": [
      "['CustomerID', 'ServiceArea', 'Churn']\n",
      "3\n"
     ]
    }
   ],
   "source": [
    "print(discarted_cols+label_col)\n",
    "print(len(discarted_cols+label_col))"
   ]
  },
  {
   "cell_type": "markdown",
   "metadata": {},
   "source": [
    "## verification of columns"
   ]
  },
  {
   "cell_type": "code",
   "execution_count": 23,
   "metadata": {},
   "outputs": [
    {
     "name": "stdout",
     "output_type": "stream",
     "text": [
      "Columns verified\n"
     ]
    }
   ],
   "source": [
    "if len(df1.columns) == (len(categoric_cols)+len(numeric_cols)+len(discarted_cols+label_col)):\n",
    "    print(\"Columns verified\")\n",
    "else: print(\"Columns are not verified\")"
   ]
  },
  {
   "cell_type": "markdown",
   "metadata": {},
   "source": [
    "## Select columns for onehotencoder"
   ]
  },
  {
   "cell_type": "code",
   "execution_count": 24,
   "metadata": {},
   "outputs": [
    {
     "name": "stdout",
     "output_type": "stream",
     "text": [
      "ChildrenInHH has 2 distinct category.\n",
      "HandsetRefurbished has 2 distinct category.\n",
      "HandsetWebCapable has 2 distinct category.\n",
      "TruckOwner has 2 distinct category.\n",
      "RVOwner has 2 distinct category.\n",
      "Homeownership has 2 distinct category.\n",
      "BuysViaMailOrder has 2 distinct category.\n",
      "RespondsToMailOffers has 2 distinct category.\n",
      "OptOutMailings has 2 distinct category.\n",
      "NonUSTravel has 2 distinct category.\n",
      "OwnsComputer has 2 distinct category.\n",
      "HasCreditCard has 2 distinct category.\n",
      "NewCellphoneUser has 2 distinct category.\n",
      "NotNewCellphoneUser has 2 distinct category.\n",
      "OwnsMotorcycle has 2 distinct category.\n",
      "MadeCallToRetentionTeam has 2 distinct category.\n",
      "CreditRating has 7 distinct category.\n",
      "PrizmCode has 4 distinct category.\n",
      "Occupation has 8 distinct category.\n",
      "MaritalStatus has 3 distinct category.\n"
     ]
    }
   ],
   "source": [
    "# Here we count the distinct categories in categoric columns. If there is more than two,\n",
    "# we will add those to to_be_onehotencoded_cols list If there is just 2 we don't need to use onehotencoder\n",
    "# So if distinct category gt 2 we have to add it to_be_onehotencoded_cols list\n",
    "to_be_onehotencoded_cols = []\n",
    "\n",
    "for col_name in categoric_cols:\n",
    "    count = df1.select(col_name).distinct().count()\n",
    "    if count > 2:\n",
    "        to_be_onehotencoded_cols.append(col_name)\n",
    "    print(\"{} has {} distinct category.\".format(col_name, count))\n",
    "    "
   ]
  },
  {
   "cell_type": "code",
   "execution_count": 25,
   "metadata": {},
   "outputs": [
    {
     "name": "stdout",
     "output_type": "stream",
     "text": [
      "['CreditRating', 'PrizmCode', 'Occupation', 'MaritalStatus']\n"
     ]
    }
   ],
   "source": [
    "print(to_be_onehotencoded_cols)"
   ]
  },
  {
   "cell_type": "markdown",
   "metadata": {},
   "source": [
    "# StringIndexer"
   ]
  },
  {
   "cell_type": "code",
   "execution_count": 26,
   "metadata": {},
   "outputs": [],
   "source": [
    "from pyspark.ml.feature import StringIndexer"
   ]
  },
  {
   "cell_type": "code",
   "execution_count": 27,
   "metadata": {},
   "outputs": [],
   "source": [
    "# Will hold stringIndexer objects and column names\n",
    "my_dict = {}\n",
    "\n",
    "# Will collect StringIndexer ojects\n",
    "string_indexer_objs = []\n",
    "\n",
    "# Will collect StringIndexer output colnames\n",
    "string_indexer_output_names = []\n",
    "\n",
    "# Will collect OneHotEncoder output colnames\n",
    "ohe_col_input_names = []\n",
    "ohe_col_output_names = []\n",
    "\n",
    "for col_name in categoric_cols:\n",
    "    my_dict[col_name+\"_indexobj\"] = StringIndexer() \\\n",
    "    .setHandleInvalid('skip') \\\n",
    "    .setInputCol(col_name) \\\n",
    "    .setOutputCol(col_name+\"_indexed\")\n",
    "    \n",
    "    string_indexer_objs.append(my_dict.get(col_name+\"_indexobj\"))\n",
    "    string_indexer_output_names.append(col_name+\"_indexed\")\n",
    "    if col_name in to_be_onehotencoded_cols:\n",
    "        ohe_col_input_names.append(col_name+\"_indexed\")\n",
    "        ohe_col_output_names.append(col_name+\"_ohe\")"
   ]
  },
  {
   "cell_type": "code",
   "execution_count": 28,
   "metadata": {},
   "outputs": [
    {
     "name": "stdout",
     "output_type": "stream",
     "text": [
      "[StringIndexer_cd02c9806667, StringIndexer_a6c5f4480df0, StringIndexer_eaef1eea8302, StringIndexer_4e3d83f1385e, StringIndexer_55810815d4d8, StringIndexer_90597ad44e13, StringIndexer_de85ad562064, StringIndexer_8df9c79443b6, StringIndexer_e53dc68b3664, StringIndexer_00c68e3ed71b, StringIndexer_a358e1e17a5e, StringIndexer_5488580c5426, StringIndexer_828d1ee076e4, StringIndexer_0a1a8bc157ea, StringIndexer_1f5f14a15805, StringIndexer_450c5a1c9eb3, StringIndexer_c21ff4140c05, StringIndexer_adc26b421891, StringIndexer_6c5a930dc787, StringIndexer_dfc6d2602441]\n",
      "20\n"
     ]
    }
   ],
   "source": [
    "print(string_indexer_objs)\n",
    "print(len(string_indexer_objs))"
   ]
  },
  {
   "cell_type": "code",
   "execution_count": 29,
   "metadata": {},
   "outputs": [
    {
     "name": "stdout",
     "output_type": "stream",
     "text": [
      "['ChildrenInHH_indexed', 'HandsetRefurbished_indexed', 'HandsetWebCapable_indexed', 'TruckOwner_indexed', 'RVOwner_indexed', 'Homeownership_indexed', 'BuysViaMailOrder_indexed', 'RespondsToMailOffers_indexed', 'OptOutMailings_indexed', 'NonUSTravel_indexed', 'OwnsComputer_indexed', 'HasCreditCard_indexed', 'NewCellphoneUser_indexed', 'NotNewCellphoneUser_indexed', 'OwnsMotorcycle_indexed', 'MadeCallToRetentionTeam_indexed', 'CreditRating_indexed', 'PrizmCode_indexed', 'Occupation_indexed', 'MaritalStatus_indexed']\n",
      "20\n"
     ]
    }
   ],
   "source": [
    "print(string_indexer_output_names)\n",
    "print(len(string_indexer_output_names))"
   ]
  },
  {
   "cell_type": "code",
   "execution_count": 30,
   "metadata": {},
   "outputs": [
    {
     "name": "stdout",
     "output_type": "stream",
     "text": [
      "['CreditRating_indexed', 'PrizmCode_indexed', 'Occupation_indexed', 'MaritalStatus_indexed']\n",
      "4\n"
     ]
    }
   ],
   "source": [
    "print(ohe_col_input_names)\n",
    "print(len(ohe_col_input_names))"
   ]
  },
  {
   "cell_type": "code",
   "execution_count": 31,
   "metadata": {},
   "outputs": [
    {
     "name": "stdout",
     "output_type": "stream",
     "text": [
      "['CreditRating_ohe', 'PrizmCode_ohe', 'Occupation_ohe', 'MaritalStatus_ohe']\n",
      "4\n"
     ]
    }
   ],
   "source": [
    "print(ohe_col_output_names)\n",
    "print(len(ohe_col_output_names))"
   ]
  },
  {
   "cell_type": "markdown",
   "metadata": {},
   "source": [
    "# OnehotEncoder"
   ]
  },
  {
   "cell_type": "code",
   "execution_count": 32,
   "metadata": {},
   "outputs": [],
   "source": [
    "from pyspark.ml.feature import OneHotEncoder"
   ]
  },
  {
   "cell_type": "code",
   "execution_count": 33,
   "metadata": {},
   "outputs": [],
   "source": [
    "encoder = OneHotEncoder() \\\n",
    ".setInputCols(ohe_col_input_names) \\\n",
    ".setOutputCols(ohe_col_output_names)"
   ]
  },
  {
   "cell_type": "markdown",
   "metadata": {},
   "source": [
    "# VectorAssembler"
   ]
  },
  {
   "cell_type": "code",
   "execution_count": 34,
   "metadata": {},
   "outputs": [],
   "source": [
    "from pyspark.ml.feature import VectorAssembler"
   ]
  },
  {
   "cell_type": "code",
   "execution_count": 35,
   "metadata": {},
   "outputs": [
    {
     "data": {
      "text/plain": [
       "['MadeCallToRetentionTeam_indexed',\n",
       " 'OwnsMotorcycle_indexed',\n",
       " 'OptOutMailings_indexed',\n",
       " 'HandsetRefurbished_indexed',\n",
       " 'HandsetWebCapable_indexed',\n",
       " 'HasCreditCard_indexed',\n",
       " 'NewCellphoneUser_indexed',\n",
       " 'RVOwner_indexed',\n",
       " 'RespondsToMailOffers_indexed',\n",
       " 'NonUSTravel_indexed',\n",
       " 'Homeownership_indexed',\n",
       " 'TruckOwner_indexed',\n",
       " 'BuysViaMailOrder_indexed',\n",
       " 'ChildrenInHH_indexed',\n",
       " 'NotNewCellphoneUser_indexed',\n",
       " 'OwnsComputer_indexed']"
      ]
     },
     "execution_count": 35,
     "metadata": {},
     "output_type": "execute_result"
    }
   ],
   "source": [
    "# We have to exclude onehotencoded categoric cols from stringIndexer cols\n",
    "string_indexer_col_names_ohe_exluded = list(set(string_indexer_output_names).difference(set(ohe_col_input_names)))\n",
    "string_indexer_col_names_ohe_exluded"
   ]
  },
  {
   "cell_type": "markdown",
   "metadata": {},
   "source": [
    "## column verification"
   ]
  },
  {
   "cell_type": "code",
   "execution_count": 36,
   "metadata": {},
   "outputs": [
    {
     "name": "stdout",
     "output_type": "stream",
     "text": [
      "Columns verified\n"
     ]
    }
   ],
   "source": [
    "if len(categoric_cols) == (len(string_indexer_col_names_ohe_exluded)+len(ohe_col_output_names)):\n",
    "    print(\"Columns verified\")\n",
    "else: print(\"Columns are not verified\")"
   ]
  },
  {
   "cell_type": "code",
   "execution_count": 37,
   "metadata": {},
   "outputs": [],
   "source": [
    "assembler = VectorAssembler().setHandleInvalid(\"skip\") \\\n",
    ".setInputCols(numeric_cols+string_indexer_col_names_ohe_exluded+ohe_col_output_names) \\\n",
    ".setOutputCol('unscaled_features')"
   ]
  },
  {
   "cell_type": "markdown",
   "metadata": {},
   "source": [
    "# LabelIndexer"
   ]
  },
  {
   "cell_type": "code",
   "execution_count": 38,
   "metadata": {},
   "outputs": [],
   "source": [
    "label_indexer = StringIndexer().setHandleInvalid(\"skip\") \\\n",
    ".setInputCol(label_col[0]) \\\n",
    ".setOutputCol(\"label\")"
   ]
  },
  {
   "cell_type": "markdown",
   "metadata": {},
   "source": [
    "# Feature Scaling"
   ]
  },
  {
   "cell_type": "code",
   "execution_count": 39,
   "metadata": {},
   "outputs": [],
   "source": [
    "from pyspark.ml.feature import StandardScaler"
   ]
  },
  {
   "cell_type": "code",
   "execution_count": 40,
   "metadata": {},
   "outputs": [],
   "source": [
    "scaler = StandardScaler().setInputCol(\"unscaled_features\").setOutputCol(\"scaled_features\")"
   ]
  },
  {
   "cell_type": "markdown",
   "metadata": {},
   "source": [
    "# PCA"
   ]
  },
  {
   "cell_type": "code",
   "execution_count": 41,
   "metadata": {},
   "outputs": [],
   "source": [
    "from pyspark.ml.feature import PCA"
   ]
  },
  {
   "cell_type": "code",
   "execution_count": 42,
   "metadata": {},
   "outputs": [],
   "source": [
    "pca = PCA().setInputCol(\"scaled_features\").setK(10).setOutputCol(\"features\")"
   ]
  },
  {
   "cell_type": "markdown",
   "metadata": {},
   "source": [
    "# Estimator: GBTClassifier"
   ]
  },
  {
   "cell_type": "code",
   "execution_count": 43,
   "metadata": {},
   "outputs": [],
   "source": [
    "from pyspark.ml.classification import GBTClassifier"
   ]
  },
  {
   "cell_type": "code",
   "execution_count": 44,
   "metadata": {},
   "outputs": [],
   "source": [
    "estimator = GBTClassifier() \\\n",
    ".setFeaturesCol(\"features\") \\\n",
    ".setLabelCol(\"label\")"
   ]
  },
  {
   "cell_type": "markdown",
   "metadata": {},
   "source": [
    "# Pipeline"
   ]
  },
  {
   "cell_type": "code",
   "execution_count": 45,
   "metadata": {},
   "outputs": [],
   "source": [
    "from pyspark.ml import Pipeline"
   ]
  },
  {
   "cell_type": "code",
   "execution_count": 46,
   "metadata": {},
   "outputs": [],
   "source": [
    "pipeline_obj = Pipeline().setStages(string_indexer_objs+[encoder, assembler, label_indexer, scaler, pca, estimator])"
   ]
  },
  {
   "cell_type": "markdown",
   "metadata": {},
   "source": [
    "# Split data"
   ]
  },
  {
   "cell_type": "code",
   "execution_count": 47,
   "metadata": {},
   "outputs": [],
   "source": [
    "train_df, test_df = df1.randomSplit([0.2,0.8], seed=142)"
   ]
  },
  {
   "cell_type": "markdown",
   "metadata": {},
   "source": [
    "# Train Model"
   ]
  },
  {
   "cell_type": "code",
   "execution_count": 48,
   "metadata": {},
   "outputs": [],
   "source": [
    "pipeline_model = pipeline_obj.fit(train_df)"
   ]
  },
  {
   "cell_type": "markdown",
   "metadata": {},
   "source": [
    "# Save the model"
   ]
  },
  {
   "cell_type": "code",
   "execution_count": 49,
   "metadata": {},
   "outputs": [],
   "source": [
    "pipeline_model.stages[-1].write().overwrite().save(\"saved_models/gbt_churn_pca10\")"
   ]
  },
  {
   "cell_type": "markdown",
   "metadata": {},
   "source": [
    "# Prediction"
   ]
  },
  {
   "cell_type": "code",
   "execution_count": 50,
   "metadata": {},
   "outputs": [],
   "source": [
    "transformed_df = pipeline_model.transform(test_df)"
   ]
  },
  {
   "cell_type": "code",
   "execution_count": 51,
   "metadata": {},
   "outputs": [
    {
     "name": "stdout",
     "output_type": "stream",
     "text": [
      "+-----+----------+----------------------------------------+------------------------------------------+\n",
      "|label|prediction|probability                             |rawPrediction                             |\n",
      "+-----+----------+----------------------------------------+------------------------------------------+\n",
      "|1.0  |0.0       |[0.7354210171037193,0.2645789828962807] |[0.5111516643987901,-0.5111516643987901]  |\n",
      "|0.0  |0.0       |[0.5797780236368126,0.42022197636318737]|[0.16093111280240402,-0.16093111280240402]|\n",
      "|0.0  |0.0       |[0.836053733001211,0.163946266998789]   |[0.8145770755284985,-0.8145770755284985]  |\n",
      "|1.0  |0.0       |[0.729659534617695,0.27034046538230505] |[0.4964479434445511,-0.4964479434445511]  |\n",
      "|0.0  |0.0       |[0.7886719786654143,0.21132802133458573]|[0.6584694807259652,-0.6584694807259652]  |\n",
      "|0.0  |0.0       |[0.6752405883460537,0.3247594116539463] |[0.36599220909377883,-0.36599220909377883]|\n",
      "|0.0  |0.0       |[0.85208774210855,0.14791225789145002]  |[0.8755351296746535,-0.8755351296746535]  |\n",
      "|0.0  |0.0       |[0.6700728218230643,0.32992717817693573]|[0.35425721892459167,-0.35425721892459167]|\n",
      "|0.0  |0.0       |[0.8624752433478715,0.1375247566521285] |[0.9180012479249,-0.9180012479249]        |\n",
      "|0.0  |0.0       |[0.6344046155730866,0.3655953844269134] |[0.27557986547012353,-0.27557986547012353]|\n",
      "|0.0  |0.0       |[0.8834148217959974,0.1165851782040026] |[1.0125863639572281,-1.0125863639572281]  |\n",
      "|0.0  |0.0       |[0.7692035392286787,0.23079646077132132]|[0.6019097074909965,-0.6019097074909965]  |\n",
      "|0.0  |0.0       |[0.8147590821300662,0.1852409178699338] |[0.7406176140807765,-0.7406176140807765]  |\n",
      "|1.0  |1.0       |[0.40882780687600945,0.5911721931239906]|[-0.18440663829155185,0.18440663829155185]|\n",
      "|0.0  |0.0       |[0.6744844876952338,0.32551551230476616]|[0.3642692798960121,-0.3642692798960121]  |\n",
      "|1.0  |0.0       |[0.7196972487016244,0.28030275129837556]|[0.47148018099715966,-0.47148018099715966]|\n",
      "|0.0  |0.0       |[0.6001786837218469,0.3998213162781531] |[0.20310483954235983,-0.20310483954235983]|\n",
      "|0.0  |0.0       |[0.8447287063523703,0.1552712936476297] |[0.8469208248384988,-0.8469208248384988]  |\n",
      "|0.0  |0.0       |[0.8628027315815866,0.1371972684184134] |[0.9193831374265498,-0.9193831374265498]  |\n",
      "|0.0  |0.0       |[0.7668756654020118,0.2331243345979882] |[0.5953763735110211,-0.5953763735110211]  |\n",
      "+-----+----------+----------------------------------------+------------------------------------------+\n",
      "only showing top 20 rows\n",
      "\n"
     ]
    }
   ],
   "source": [
    "transformed_df.select('label','prediction','probability','rawPrediction').show(truncate=False)"
   ]
  },
  {
   "cell_type": "markdown",
   "metadata": {},
   "source": [
    "# Evaluate the model"
   ]
  },
  {
   "cell_type": "code",
   "execution_count": 52,
   "metadata": {},
   "outputs": [],
   "source": [
    "from pyspark.ml.evaluation import BinaryClassificationEvaluator"
   ]
  },
  {
   "cell_type": "code",
   "execution_count": 53,
   "metadata": {},
   "outputs": [],
   "source": [
    "evaluator = BinaryClassificationEvaluator()"
   ]
  },
  {
   "cell_type": "code",
   "execution_count": 54,
   "metadata": {},
   "outputs": [
    {
     "data": {
      "text/plain": [
       "0.5772010468209313"
      ]
     },
     "execution_count": 54,
     "metadata": {},
     "output_type": "execute_result"
    }
   ],
   "source": [
    "evaluator.evaluate(transformed_df)"
   ]
  },
  {
   "cell_type": "code",
   "execution_count": 55,
   "metadata": {},
   "outputs": [
    {
     "data": {
      "text/plain": [
       "'areaUnderROC'"
      ]
     },
     "execution_count": 55,
     "metadata": {},
     "output_type": "execute_result"
    }
   ],
   "source": [
    "evaluator.getMetricName()"
   ]
  },
  {
   "cell_type": "code",
   "execution_count": 56,
   "metadata": {},
   "outputs": [
    {
     "name": "stdout",
     "output_type": "stream",
     "text": [
      "+-----+----------+----------------------------------------+--------------------------------------------+\n",
      "|label|prediction|probability                             |rawPrediction                               |\n",
      "+-----+----------+----------------------------------------+--------------------------------------------+\n",
      "|1.0  |1.0       |[0.40882780687600945,0.5911721931239906]|[-0.18440663829155185,0.18440663829155185]  |\n",
      "|0.0  |1.0       |[0.1866628040546184,0.8133371959453816] |[-0.735920988219294,0.735920988219294]      |\n",
      "|1.0  |1.0       |[0.39841476873024223,0.6015852312697578]|[-0.20603731405936443,0.20603731405936443]  |\n",
      "|1.0  |1.0       |[0.43953976683714724,0.5604602331628528]|[-0.12151504805273225,0.12151504805273225]  |\n",
      "|0.0  |1.0       |[0.27152188361162455,0.7284781163883755]|[-0.4934574235812527,0.4934574235812527]    |\n",
      "|1.0  |1.0       |[0.4788561446573576,0.5211438553426424] |[-0.04231294477198372,0.04231294477198372]  |\n",
      "|0.0  |1.0       |[0.32847872831594294,0.6715212716840571]|[-0.35753680574003294,0.35753680574003294]  |\n",
      "|0.0  |1.0       |[0.41313155418837694,0.5868684458116231]|[-0.17551730328507903,0.17551730328507903]  |\n",
      "|0.0  |1.0       |[0.43602833497757565,0.5639716650224244]|[-0.1286483905980133,0.1286483905980133]    |\n",
      "|0.0  |1.0       |[0.453792377646466,0.5462076223535339]  |[-0.09267969435230322,0.09267969435230322]  |\n",
      "|1.0  |1.0       |[0.423213866656364,0.5767861333436359]  |[-0.15479694940342864,0.15479694940342864]  |\n",
      "|1.0  |1.0       |[0.4753048762703447,0.5246951237296553] |[-0.049430467142450925,0.049430467142450925]|\n",
      "|0.0  |1.0       |[0.4739310791371299,0.5260689208628702] |[-0.05218516197593154,0.05218516197593154]  |\n",
      "|0.0  |1.0       |[0.445288601058715,0.5547113989412851]  |[-0.10986268146601548,0.10986268146601548]  |\n",
      "|0.0  |1.0       |[0.4815578150891723,0.5184421849108277] |[-0.036901110018175705,0.036901110018175705]|\n",
      "|1.0  |1.0       |[0.445288601058715,0.5547113989412851]  |[-0.10986268146601548,0.10986268146601548]  |\n",
      "|0.0  |1.0       |[0.46600523864363186,0.5339947613563681]|[-0.06809457646550876,0.06809457646550876]  |\n",
      "|0.0  |1.0       |[0.42153484420718684,0.5784651557928131]|[-0.158237935822325,0.158237935822325]      |\n",
      "|1.0  |1.0       |[0.4102056318229697,0.5897943681770303] |[-0.18155768631787897,0.18155768631787897]  |\n",
      "|0.0  |1.0       |[0.4658900690272637,0.5341099309727363] |[-0.06832598904849592,0.06832598904849592]  |\n",
      "+-----+----------+----------------------------------------+--------------------------------------------+\n",
      "only showing top 20 rows\n",
      "\n"
     ]
    }
   ],
   "source": [
    "transformed_df.select('label','prediction','probability','rawPrediction') \\\n",
    ".filter(\"prediction == 1.0\") \\\n",
    ".show(truncate=False)"
   ]
  },
  {
   "cell_type": "code",
   "execution_count": 57,
   "metadata": {},
   "outputs": [
    {
     "name": "stdout",
     "output_type": "stream",
     "text": [
      "+-----+----------+--------------------+--------------------+--------------------+\n",
      "|label|prediction|         probability|       rawPrediction|               score|\n",
      "+-----+----------+--------------------+--------------------+--------------------+\n",
      "|  1.0|       0.0|[0.73542101710371...|[0.51115166439879...|[0.73542101710371...|\n",
      "|  0.0|       0.0|[0.57977802363681...|[0.16093111280240...|[0.57977802363681...|\n",
      "|  0.0|       0.0|[0.83605373300121...|[0.81457707552849...|[0.83605373300121...|\n",
      "|  1.0|       0.0|[0.72965953461769...|[0.49644794344455...|[0.72965953461769...|\n",
      "|  0.0|       0.0|[0.78867197866541...|[0.65846948072596...|[0.78867197866541...|\n",
      "|  0.0|       0.0|[0.67524058834605...|[0.36599220909377...|[0.67524058834605...|\n",
      "|  0.0|       0.0|[0.85208774210855...|[0.87553512967465...|[0.85208774210855...|\n",
      "|  0.0|       0.0|[0.67007282182306...|[0.35425721892459...|[0.67007282182306...|\n",
      "|  0.0|       0.0|[0.86247524334787...|[0.9180012479249,...|[0.86247524334787...|\n",
      "|  0.0|       0.0|[0.63440461557308...|[0.27557986547012...|[0.63440461557308...|\n",
      "|  0.0|       0.0|[0.88341482179599...|[1.01258636395722...|[0.88341482179599...|\n",
      "|  0.0|       0.0|[0.76920353922867...|[0.60190970749099...|[0.76920353922867...|\n",
      "|  0.0|       0.0|[0.81475908213006...|[0.74061761408077...|[0.81475908213006...|\n",
      "|  1.0|       1.0|[0.40882780687600...|[-0.1844066382915...|[0.40882780687600...|\n",
      "|  0.0|       0.0|[0.67448448769523...|[0.36426927989601...|[0.67448448769523...|\n",
      "|  1.0|       0.0|[0.71969724870162...|[0.47148018099715...|[0.71969724870162...|\n",
      "|  0.0|       0.0|[0.60017868372184...|[0.20310483954235...|[0.60017868372184...|\n",
      "|  0.0|       0.0|[0.84472870635237...|[0.84692082483849...|[0.84472870635237...|\n",
      "|  0.0|       0.0|[0.86280273158158...|[0.91938313742654...|[0.86280273158158...|\n",
      "|  0.0|       0.0|[0.76687566540201...|[0.59537637351102...|[0.76687566540201...|\n",
      "+-----+----------+--------------------+--------------------+--------------------+\n",
      "only showing top 20 rows\n",
      "\n"
     ]
    }
   ],
   "source": [
    "transformed_df.select('label','prediction','probability','rawPrediction') \\\n",
    ".withColumn(\"score\", F.col('probability').cast('string')).show()"
   ]
  },
  {
   "cell_type": "code",
   "execution_count": 58,
   "metadata": {},
   "outputs": [
    {
     "name": "stdout",
     "output_type": "stream",
     "text": [
      "root\n",
      " |-- label: double (nullable = false)\n",
      " |-- prediction: double (nullable = false)\n",
      " |-- probability: vector (nullable = true)\n",
      " |-- rawPrediction: vector (nullable = true)\n",
      "\n"
     ]
    }
   ],
   "source": [
    "transformed_df.select('label','prediction','probability','rawPrediction').printSchema()"
   ]
  },
  {
   "cell_type": "markdown",
   "metadata": {},
   "source": [
    "# Get churn score from probability"
   ]
  },
  {
   "cell_type": "code",
   "execution_count": 59,
   "metadata": {},
   "outputs": [],
   "source": [
    "import pyspark.sql.functions as F\n",
    "import pyspark.sql.types as T\n",
    "\n",
    "to_array = F.udf(lambda v: v.toArray().tolist(), T.ArrayType(T.FloatType()))\n",
    "score_df = transformed_df.select('CustomerID','label','prediction','probability','rawPrediction') \\\n",
    ".withColumn('score', to_array('probability')[1] * 1000)"
   ]
  },
  {
   "cell_type": "code",
   "execution_count": 60,
   "metadata": {},
   "outputs": [
    {
     "name": "stdout",
     "output_type": "stream",
     "text": [
      "+----------+-----+----------+--------------------+--------------------+---------+\n",
      "|CustomerID|label|prediction|         probability|       rawPrediction|    score|\n",
      "+----------+-----+----------+--------------------+--------------------+---------+\n",
      "|   3000082|  1.0|       1.0|[0.40882780687600...|[-0.1844066382915...|591.17224|\n",
      "|   3000362|  0.0|       1.0|[0.18666280405461...|[-0.7359209882192...| 813.3372|\n",
      "|   3000494|  1.0|       1.0|[0.39841476873024...|[-0.2060373140593...| 601.5852|\n",
      "|   3000810|  1.0|       1.0|[0.43953976683714...|[-0.1215150480527...| 560.4602|\n",
      "|   3001154|  0.0|       1.0|[0.27152188361162...|[-0.4934574235812...|728.47815|\n",
      "|   3001190|  1.0|       1.0|[0.47885614465735...|[-0.0423129447719...|521.14386|\n",
      "|   3001842|  0.0|       1.0|[0.32847872831594...|[-0.3575368057400...|671.52124|\n",
      "|   3002090|  0.0|       1.0|[0.41313155418837...|[-0.1755173032850...|586.86847|\n",
      "|   3002646|  0.0|       1.0|[0.43602833497757...|[-0.1286483905980...| 563.9716|\n",
      "|   3002758|  0.0|       1.0|[0.45379237764646...|[-0.0926796943523...| 546.2076|\n",
      "|   3002762|  1.0|       1.0|[0.42321386665636...|[-0.1547969494034...|576.78613|\n",
      "|   3002778|  1.0|       1.0|[0.47530487627034...|[-0.0494304671424...|524.69507|\n",
      "|   3002934|  0.0|       1.0|[0.47393107913712...|[-0.0521851619759...| 526.0689|\n",
      "|   3002942|  0.0|       1.0|[0.44528860105871...|[-0.1098626814660...| 554.7114|\n",
      "|   3003146|  0.0|       1.0|[0.48155781508917...|[-0.0369011100181...| 518.4422|\n",
      "|   3003178|  1.0|       1.0|[0.44528860105871...|[-0.1098626814660...| 554.7114|\n",
      "|   3003506|  0.0|       1.0|[0.46600523864363...|[-0.0680945764655...|533.99475|\n",
      "|   3003534|  0.0|       1.0|[0.42153484420718...|[-0.1582379358223...|578.46515|\n",
      "|   3003630|  1.0|       1.0|[0.41020563182296...|[-0.1815576863178...| 589.7944|\n",
      "|   3003718|  0.0|       1.0|[0.46589006902726...|[-0.0683259890484...| 534.1099|\n",
      "+----------+-----+----------+--------------------+--------------------+---------+\n",
      "only showing top 20 rows\n",
      "\n"
     ]
    }
   ],
   "source": [
    "score_df.filter(\"prediction == 1.0\").show()"
   ]
  },
  {
   "cell_type": "markdown",
   "metadata": {},
   "source": [
    "# Top 20 Costumers most likely to churn"
   ]
  },
  {
   "cell_type": "code",
   "execution_count": 61,
   "metadata": {},
   "outputs": [
    {
     "name": "stdout",
     "output_type": "stream",
     "text": [
      "+----------+-----+----------+--------------------+--------------------+---------+\n",
      "|CustomerID|label|prediction|         probability|       rawPrediction|    score|\n",
      "+----------+-----+----------+--------------------+--------------------+---------+\n",
      "|   3284922|  1.0|       1.0|[0.07331832631130...|[-1.2683997584903...| 926.6817|\n",
      "|   3361766|  0.0|       1.0|[0.08290816723920...|[-1.2017370177804...|917.09186|\n",
      "|   3186718|  1.0|       1.0|[0.08474747009359...|[-1.1897620608771...| 915.2525|\n",
      "|   3145254|  0.0|       1.0|[0.08742896958144...|[-1.1727196182494...|  912.571|\n",
      "|   3347394|  1.0|       1.0|[0.09145864632148...|[-1.1479767440421...| 908.5414|\n",
      "|   3296138|  0.0|       1.0|[0.09620713783166...|[-1.1200483233068...|903.79285|\n",
      "|   3388282|  0.0|       1.0|[0.10821934721347...|[-1.0545300186142...| 891.7807|\n",
      "|   3380278|  1.0|       1.0|[0.11186790688350...|[-1.0359008565063...| 888.1321|\n",
      "|   3027182|  0.0|       1.0|[0.11381306098807...|[-1.0261853169657...|886.18695|\n",
      "|   3337086|  0.0|       1.0|[0.11436943618090...|[-1.0234330078950...|885.63055|\n",
      "|   3210762|  0.0|       1.0|[0.11569854951316...|[-1.0169049571720...|884.30145|\n",
      "|   3278374|  1.0|       1.0|[0.11708063554063...|[-1.0101854931936...| 882.9194|\n",
      "|   3280122|  0.0|       1.0|[0.11907503655148...|[-1.0006092983190...| 880.9249|\n",
      "|   3321330|  0.0|       1.0|[0.12081855900627...|[-0.9923506930193...|879.18146|\n",
      "|   3306822|  1.0|       1.0|[0.12466472447375...|[-0.9744895277291...|875.33527|\n",
      "|   3203178|  1.0|       1.0|[0.12657002943155...|[-0.9658161039759...|873.42993|\n",
      "|   3212670|  1.0|       1.0|[0.12866885866660...|[-0.9563899864538...| 871.3312|\n",
      "|   3211342|  1.0|       1.0|[0.13024566464405...|[-0.9493942017113...|869.75433|\n",
      "|   3384282|  0.0|       1.0|[0.13095112638986...|[-0.9462875961483...| 869.0489|\n",
      "|   3302014|  0.0|       1.0|[0.13168878190587...|[-0.9430543853093...| 868.3112|\n",
      "+----------+-----+----------+--------------------+--------------------+---------+\n",
      "only showing top 20 rows\n",
      "\n"
     ]
    }
   ],
   "source": [
    "score_df.orderBy(F.desc(\"score\")).show()"
   ]
  },
  {
   "cell_type": "code",
   "execution_count": 62,
   "metadata": {},
   "outputs": [
    {
     "name": "stdout",
     "output_type": "stream",
     "text": [
      "root\n",
      " |-- CustomerID: integer (nullable = true)\n",
      " |-- label: double (nullable = false)\n",
      " |-- prediction: double (nullable = false)\n",
      " |-- probability: vector (nullable = true)\n",
      " |-- rawPrediction: vector (nullable = true)\n",
      " |-- score: float (nullable = true)\n",
      "\n"
     ]
    }
   ],
   "source": [
    "score_df.printSchema()"
   ]
  },
  {
   "cell_type": "markdown",
   "metadata": {},
   "source": [
    "# Hyperparameter Tuning"
   ]
  },
  {
   "cell_type": "code",
   "execution_count": 76,
   "metadata": {},
   "outputs": [],
   "source": [
    "from pyspark.ml.tuning import CrossValidatorModel, ParamGridBuilder, CrossValidator"
   ]
  },
  {
   "cell_type": "code",
   "execution_count": 77,
   "metadata": {},
   "outputs": [],
   "source": [
    "paramGrid = ParamGridBuilder() \\\n",
    ".addGrid(pca.k, [15, 25]) \\\n",
    ".addGrid(estimator.maxDepth, [5, 10]) \\\n",
    ".addGrid(estimator.maxBins, [32, 50]) \\\n",
    ".build()"
   ]
  },
  {
   "cell_type": "code",
   "execution_count": 78,
   "metadata": {},
   "outputs": [],
   "source": [
    "crossval = CrossValidator(estimator=pipeline_obj,\n",
    "                          estimatorParamMaps=paramGrid,\n",
    "                          evaluator=BinaryClassificationEvaluator(),\n",
    "                          numFolds=5) "
   ]
  },
  {
   "cell_type": "code",
   "execution_count": 79,
   "metadata": {},
   "outputs": [],
   "source": [
    "cvModel = crossval.fit(df1)"
   ]
  },
  {
   "cell_type": "code",
   "execution_count": 81,
   "metadata": {},
   "outputs": [
    {
     "data": {
      "text/plain": [
       "pyspark.ml.tuning.CrossValidatorModel"
      ]
     },
     "execution_count": 81,
     "metadata": {},
     "output_type": "execute_result"
    }
   ],
   "source": [
    "type(cvModel)"
   ]
  },
  {
   "cell_type": "code",
   "execution_count": 82,
   "metadata": {},
   "outputs": [
    {
     "data": {
      "text/plain": [
       "[Param(parent='CrossValidatorModel_2cecf983a765', name='estimator', doc='estimator to be cross-validated'),\n",
       " Param(parent='CrossValidatorModel_2cecf983a765', name='estimatorParamMaps', doc='estimator param maps'),\n",
       " Param(parent='CrossValidatorModel_2cecf983a765', name='evaluator', doc='evaluator used to select hyper-parameters that maximize the validator metric'),\n",
       " Param(parent='CrossValidatorModel_2cecf983a765', name='numFolds', doc='number of folds for cross validation'),\n",
       " Param(parent='CrossValidatorModel_2cecf983a765', name='seed', doc='random seed.')]"
      ]
     },
     "execution_count": 82,
     "metadata": {},
     "output_type": "execute_result"
    }
   ],
   "source": [
    "cvModel.params"
   ]
  },
  {
   "cell_type": "code",
   "execution_count": 85,
   "metadata": {},
   "outputs": [],
   "source": [
    "bestModel = cvModel.bestModel"
   ]
  },
  {
   "cell_type": "code",
   "execution_count": 89,
   "metadata": {},
   "outputs": [
    {
     "data": {
      "text/plain": [
       "0.6361414993785542"
      ]
     },
     "execution_count": 89,
     "metadata": {},
     "output_type": "execute_result"
    }
   ],
   "source": [
    "evaluator.evaluate(bestModel.transform(df1))"
   ]
  },
  {
   "cell_type": "code",
   "execution_count": 80,
   "metadata": {},
   "outputs": [
    {
     "data": {
      "text/plain": [
       "0.6361390963067461"
      ]
     },
     "execution_count": 80,
     "metadata": {},
     "output_type": "execute_result"
    }
   ],
   "source": [
    "evaluator.evaluate(cvModel.transform(df1))"
   ]
  },
  {
   "cell_type": "code",
   "execution_count": null,
   "metadata": {},
   "outputs": [],
   "source": [
    "spark.stop()"
   ]
  }
 ],
 "metadata": {
  "kernelspec": {
   "display_name": "venvspark",
   "language": "python",
   "name": "venvspark"
  },
  "language_info": {
   "codemirror_mode": {
    "name": "ipython",
    "version": 3
   },
   "file_extension": ".py",
   "mimetype": "text/x-python",
   "name": "python",
   "nbconvert_exporter": "python",
   "pygments_lexer": "ipython3",
   "version": "3.6.8"
  }
 },
 "nbformat": 4,
 "nbformat_minor": 2
}
