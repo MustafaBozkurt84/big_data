{
 "cells": [
  {
   "cell_type": "code",
   "execution_count": 2,
   "metadata": {},
   "outputs": [],
   "source": [
    "\n",
    "import findspark\n",
    "findspark.init()\n",
    "from pyspark.sql import SparkSession\n",
    "spark = SparkSession.builder \\\n",
    ".master(\"local[4]\") \\\n",
    ".appName(\"StringOps\") \\\n",
    ".config(\"spark.executor.memory\",\"4g\") \\\n",
    ".config(\"spark.driver.memory\",\"2g\") \\\n",
    ".getOrCreate()"
   ]
  },
  {
   "cell_type": "code",
   "execution_count": 3,
   "metadata": {},
   "outputs": [],
   "source": [
    "\n",
    "df = spark.read \\\n",
    ".option(\"header\",\"True\") \\\n",
    ".option(\"inferSchema\",\"True\") \\\n",
    ".option(\"sep\",\",\") \\\n",
    ".csv(\"simple_dirty_data.csv\")"
   ]
  },
  {
   "cell_type": "code",
   "execution_count": 4,
   "metadata": {},
   "outputs": [
    {
     "name": "stdout",
     "output_type": "stream",
     "text": [
      "+------+---------+---+--------+-----------+-----------+-----------+--------------------+\n",
      "|sirano|     isim|yas|cinsiyet|     meslek|      sehir|aylik_gelir|            mal_mulk|\n",
      "+------+---------+---+--------+-----------+-----------+-----------+--------------------+\n",
      "|     1|    Cemal| 35|       E|       Isci|     Ankara|     3500.0|               araba|\n",
      "|     2|   ceyda | 42|       K|      Memur|    Kayseri|     4200.0|            araba|ev|\n",
      "|     3|    Timur| 30|    null|   Müzüsyen|Istanbul   |     9000.0|     araba|ev|yazlık|\n",
      "|     4|   Burcu | 29|       K|Pazarlamacı|     Ankara|     4200.0|               araba|\n",
      "|     5|  Yasemin| 23|       K|Pazarlamaci|      Bursa|     4800.0|               araba|\n",
      "|     6|      Ali| 33|       E|      Memur|     Ankara|     4250.0|                  ev|\n",
      "|     7|    Dilek| 29|       K|Pazarlamaci|   Istanbul|     7300.0|        araba|yazlık|\n",
      "|     8|    Murat| 31|       E|   Müzüsyen|   Istanbul|    12000.0|araba|ev|dükkan|y...|\n",
      "|     9|    Ahmet| 33|       E|     Doktor|     Ankara|   180000.0|     araba|ev|yazlık|\n",
      "|    10| Muhittin| 46|       E|     Berber|   Istanbul|    12000.0|     araba|ev|dükkan|\n",
      "|    11| Hicaziye| 47|       K| Tuhafiyeci|       null|        4.8|              dükkan|\n",
      "|    12|    Harun| 43|       E|    Tornacı|    Ankara |     4200.0|               araba|\n",
      "|    13|    hakkı| 33|       E|      memur|     Çorum |     3750.0|                  ev|\n",
      "|    14|  Gülizar| 37|       K|     Doktor|      İzmir|    14250.0|               araba|\n",
      "|    15|   Şehmuz| 41|       E|   Müzisyen|     Ankara|     8700.0|               araba|\n",
      "+------+---------+---+--------+-----------+-----------+-----------+--------------------+\n",
      "\n"
     ]
    }
   ],
   "source": [
    "df.show()"
   ]
  },
  {
   "cell_type": "code",
   "execution_count": 12,
   "metadata": {},
   "outputs": [],
   "source": [
    "from pyspark.sql.functions import *"
   ]
  },
  {
   "cell_type": "markdown",
   "metadata": {},
   "source": [
    "1 Concat"
   ]
  },
  {
   "cell_type": "code",
   "execution_count": 6,
   "metadata": {},
   "outputs": [
    {
     "name": "stdout",
     "output_type": "stream",
     "text": [
      "+-----------+-----------+------------------------+\n",
      "|meslek     |sehir      |meslek_sehir            |\n",
      "+-----------+-----------+------------------------+\n",
      "|Isci       |Ankara     |Isci - Ankara           |\n",
      "|Memur      |Kayseri    |Memur - Kayseri         |\n",
      "|Müzüsyen   |Istanbul   |Müzüsyen - Istanbul     |\n",
      "|Pazarlamacı|    Ankara |Pazarlamacı -     Ankara|\n",
      "|Pazarlamaci|Bursa      |Pazarlamaci - Bursa     |\n",
      "|Memur      |Ankara     |Memur - Ankara          |\n",
      "|Pazarlamaci|Istanbul   |Pazarlamaci - Istanbul  |\n",
      "|Müzüsyen   |Istanbul   |Müzüsyen - Istanbul     |\n",
      "|Doktor     |Ankara     |Doktor - Ankara         |\n",
      "|Berber     | Istanbul  |Berber -  Istanbul      |\n",
      "|Tuhafiyeci |null       |null                    |\n",
      "|Tornacı    | Ankara    |Tornacı -  Ankara       |\n",
      "|memur      |Çorum      |memur - Çorum           |\n",
      "|Doktor     |İzmir      |Doktor - İzmir          |\n",
      "|Müzisyen   | Ankara    |Müzisyen -  Ankara      |\n",
      "+-----------+-----------+------------------------+\n",
      "\n"
     ]
    }
   ],
   "source": [
    "df.select(\"meslek\",\"sehir\") \\\n",
    ".withColumn(\"meslek_sehir\", concat(col(\"meslek\"),lit(\" - \"),col(\"sehir\"))) \\\n",
    ".show(truncate=False)"
   ]
  },
  {
   "cell_type": "markdown",
   "metadata": {},
   "source": [
    "2. Number Format"
   ]
  },
  {
   "cell_type": "code",
   "execution_count": 7,
   "metadata": {},
   "outputs": [
    {
     "name": "stdout",
     "output_type": "stream",
     "text": [
      "+-----------+------------------+\n",
      "|aylik_gelir|aylik_gelir_format|\n",
      "+-----------+------------------+\n",
      "|     3500.0|          3,500.00|\n",
      "|     4200.0|          4,200.00|\n",
      "|     9000.0|          9,000.00|\n",
      "|     4200.0|          4,200.00|\n",
      "|     4800.0|          4,800.00|\n",
      "|     4250.0|          4,250.00|\n",
      "|     7300.0|          7,300.00|\n",
      "|    12000.0|         12,000.00|\n",
      "|   180000.0|        180,000.00|\n",
      "|    12000.0|         12,000.00|\n",
      "|        4.8|              4.80|\n",
      "|     4200.0|          4,200.00|\n",
      "|     3750.0|          3,750.00|\n",
      "|    14250.0|         14,250.00|\n",
      "|     8700.0|          8,700.00|\n",
      "+-----------+------------------+\n",
      "\n"
     ]
    }
   ],
   "source": [
    "df.select(\"aylik_gelir\") \\\n",
    ".withColumn(\"aylik_gelir_format\", format_number(col(\"aylik_gelir\"),2)).show()"
   ]
  },
  {
   "cell_type": "markdown",
   "metadata": {},
   "source": [
    "3.lower, initcap,length"
   ]
  },
  {
   "cell_type": "code",
   "execution_count": 18,
   "metadata": {},
   "outputs": [
    {
     "name": "stdout",
     "output_type": "stream",
     "text": [
      "+------+--------+---+--------+-----------+-----------+-----------+----------------------+------------+------------+------------+\n",
      "|sirano|isim    |yas|cinsiyet|meslek     |sehir      |aylik_gelir|mal_mulk              |meslek_lower|isim_initcap|sehir_length|\n",
      "+------+--------+---+--------+-----------+-----------+-----------+----------------------+------------+------------+------------+\n",
      "|1     |Cemal   |35 |E       |Isci       |Ankara     |3500.0     |araba                 |isci        |Cemal       |6           |\n",
      "|2     |ceyda   |42 |K       |Memur      |Kayseri    |4200.0     |araba|ev              |memur       |Ceyda       |7           |\n",
      "|3     |Timur   |30 |null    |Müzüsyen   |Istanbul   |9000.0     |araba|ev|yazlık       |müzüsyen    |Timur       |11          |\n",
      "|4     |Burcu   |29 |K       |Pazarlamacı|    Ankara |4200.0     |araba                 |pazarlamacı |Burcu       |10          |\n",
      "|5     |Yasemin |23 |K       |Pazarlamaci|Bursa      |4800.0     |araba                 |pazarlamaci |Yasemin     |5           |\n",
      "|6     | Ali    |33 |E       |Memur      |Ankara     |4250.0     |ev                    |memur       | Ali        |6           |\n",
      "|7     |Dilek   |29 |K       |Pazarlamaci|Istanbul   |7300.0     |araba|yazlık          |pazarlamaci |Dilek       |8           |\n",
      "|8     |Murat   |31 |E       |Müzüsyen   |Istanbul   |12000.0    |araba|ev|dükkan|yazlık|müzüsyen    |Murat       |8           |\n",
      "|9     |Ahmet   |33 |E       |Doktor     |Ankara     |180000.0   |araba|ev|yazlık       |doktor      |Ahmet       |6           |\n",
      "|10    |Muhittin|46 |E       |Berber     | Istanbul  |12000.0    |araba|ev|dükkan       |berber      |Muhittin    |9           |\n",
      "+------+--------+---+--------+-----------+-----------+-----------+----------------------+------------+------------+------------+\n",
      "only showing top 10 rows\n",
      "\n"
     ]
    }
   ],
   "source": [
    "df.withColumn(\"meslek_lower\",lower(col(\"meslek\"))) \\\n",
    ".withColumn(\"isim_initcap\",initcap(col(\"isim\"))) \\\n",
    ".withColumn(\"sehir_length\", length(col(\"sehir\"))).show(10,truncate=False)"
   ]
  },
  {
   "cell_type": "markdown",
   "metadata": {},
   "source": [
    "trim"
   ]
  },
  {
   "cell_type": "code",
   "execution_count": 20,
   "metadata": {},
   "outputs": [
    {
     "name": "stdout",
     "output_type": "stream",
     "text": [
      "+------+-------+---+--------+-----------+-----------+-----------+---------------+-----------+-----------+----------+\n",
      "|sirano|isim   |yas|cinsiyet|meslek     |sehir      |aylik_gelir|mal_mulk       |sehir_rtrim|sehir_ltrim|sehir_trim|\n",
      "+------+-------+---+--------+-----------+-----------+-----------+---------------+-----------+-----------+----------+\n",
      "|1     |Cemal  |35 |E       |Isci       |Ankara     |3500.0     |araba          |Ankara     |Ankara     |Ankara    |\n",
      "|2     |ceyda  |42 |K       |Memur      |Kayseri    |4200.0     |araba|ev       |Kayseri    |Kayseri    |Kayseri   |\n",
      "|3     |Timur  |30 |null    |Müzüsyen   |Istanbul   |9000.0     |araba|ev|yazlık|Istanbul   |Istanbul   |Istanbul  |\n",
      "|4     |Burcu  |29 |K       |Pazarlamacı|    Ankara |4200.0     |araba          |    Ankara |Ankara     |Ankara    |\n",
      "|5     |Yasemin|23 |K       |Pazarlamaci|Bursa      |4800.0     |araba          |Bursa      |Bursa      |Bursa     |\n",
      "+------+-------+---+--------+-----------+-----------+-----------+---------------+-----------+-----------+----------+\n",
      "only showing top 5 rows\n",
      "\n"
     ]
    }
   ],
   "source": [
    "df_trim = df \\\n",
    ".withColumn(\"sehir_rtrim\", rtrim(col(\"sehir\"))) \\\n",
    ".withColumn(\"sehir_ltrim\", ltrim(col(\"sehir\"))) \\\n",
    ".withColumn(\"sehir_trim\", trim(col(\"sehir\")))\n",
    "\n",
    "df_trim.show(n=5, truncate=False)"
   ]
  },
  {
   "cell_type": "markdown",
   "metadata": {},
   "source": [
    "replace, split "
   ]
  },
  {
   "cell_type": "code",
   "execution_count": 28,
   "metadata": {},
   "outputs": [
    {
     "name": "stdout",
     "output_type": "stream",
     "text": [
      "+------+--------+---+--------+-----------+-----------+-----------+----------------------+-----------+---------------------------+\n",
      "|sirano|isim    |yas|cinsiyet|meslek     |sehir      |aylik_gelir|mal_mulk              |sehir_ist  |mal_mulk_split             |\n",
      "+------+--------+---+--------+-----------+-----------+-----------+----------------------+-----------+---------------------------+\n",
      "|1     |Cemal   |35 |E       |Isci       |Ankara     |3500.0     |araba                 |Ankara     |[araba]                    |\n",
      "|2     |ceyda   |42 |K       |Memur      |Kayseri    |4200.0     |araba|ev              |GAYYseri   |[araba, ev]                |\n",
      "|3     |Timur   |30 |null    |Müzüsyen   |Istanbul   |9000.0     |araba|ev|yazlık       |Istanbul   |[araba, ev, yazlık]        |\n",
      "|4     |Burcu   |29 |K       |Pazarlamacı|    Ankara |4200.0     |araba                 |    Ankara |[araba]                    |\n",
      "|5     |Yasemin |23 |K       |Pazarlamaci|Bursa      |4800.0     |araba                 |Bursa      |[araba]                    |\n",
      "|6     | Ali    |33 |E       |Memur      |Ankara     |4250.0     |ev                    |Ankara     |[ev]                       |\n",
      "|7     |Dilek   |29 |K       |Pazarlamaci|Istanbul   |7300.0     |araba|yazlık          |Istanbul   |[araba, yazlık]            |\n",
      "|8     |Murat   |31 |E       |Müzüsyen   |Istanbul   |12000.0    |araba|ev|dükkan|yazlık|Istanbul   |[araba, ev, dükkan, yazlık]|\n",
      "|9     |Ahmet   |33 |E       |Doktor     |Ankara     |180000.0   |araba|ev|yazlık       |Ankara     |[araba, ev, yazlık]        |\n",
      "|10    |Muhittin|46 |E       |Berber     | Istanbul  |12000.0    |araba|ev|dükkan       | Istanbul  |[araba, ev, dükkan]        |\n",
      "+------+--------+---+--------+-----------+-----------+-----------+----------------------+-----------+---------------------------+\n",
      "only showing top 10 rows\n",
      "\n"
     ]
    }
   ],
   "source": [
    "df \\\n",
    ".withColumn(\"sehir_ist\",regexp_replace(col(\"sehir\"),\"Kay\",\"GAYY\")) \\\n",
    ".withColumn(\"mal_mulk_split\",split(col(\"mal_mulk\"),\"\\\\|\")).show(10,truncate= False)"
   ]
  },
  {
   "cell_type": "code",
   "execution_count": 30,
   "metadata": {},
   "outputs": [
    {
     "name": "stdout",
     "output_type": "stream",
     "text": [
      "+------+---------+---+--------+-----------+-----------+-----------+--------------------+\n",
      "|sirano|     isim|yas|cinsiyet|     meslek|      sehir|aylik_gelir|            mal_mulk|\n",
      "+------+---------+---+--------+-----------+-----------+-----------+--------------------+\n",
      "|     1|    Cemal| 35|       E|       Isci|     Ankara|     3500.0|               araba|\n",
      "|     2|   ceyda | 42|       K|      Memur|    Kayseri|     4200.0|            araba|ev|\n",
      "|     3|    Timur| 30|    null|   Müzüsyen|Istanbul   |     9000.0|     araba|ev|yazlık|\n",
      "|     4|   Burcu | 29|       K|Pazarlamacı|     Ankara|     4200.0|               araba|\n",
      "|     5|  Yasemin| 23|       K|Pazarlamaci|      Bursa|     4800.0|               araba|\n",
      "|     6|      Ali| 33|       E|      Memur|     Ankara|     4250.0|                  ev|\n",
      "|     7|    Dilek| 29|       K|Pazarlamaci|   Istanbul|     7300.0|        araba|yazlık|\n",
      "|     8|    Murat| 31|       E|   Müzüsyen|   Istanbul|    12000.0|araba|ev|dükkan|y...|\n",
      "|     9|    Ahmet| 33|       E|     Doktor|     Ankara|   180000.0|     araba|ev|yazlık|\n",
      "|    10| Muhittin| 46|       E|     Berber|   Istanbul|    12000.0|     araba|ev|dükkan|\n",
      "|    11| Hicaziye| 47|       K| Tuhafiyeci|       null|        4.8|              dükkan|\n",
      "|    12|    Harun| 43|       E|    Tornacı|    Ankara |     4200.0|               araba|\n",
      "|    13|    hakkı| 33|       E|      memur|     Çorum |     3750.0|                  ev|\n",
      "|    14|  Gülizar| 37|       K|     Doktor|      İzmir|    14250.0|               araba|\n",
      "|    15|   Şehmuz| 41|       E|   Müzisyen|     Ankara|     8700.0|               araba|\n",
      "+------+---------+---+--------+-----------+-----------+-----------+--------------------+\n",
      "\n"
     ]
    }
   ],
   "source": [
    "df.show()"
   ]
  },
  {
   "cell_type": "code",
   "execution_count": 31,
   "metadata": {},
   "outputs": [],
   "source": [
    "from pyspark.sql import functions as F"
   ]
  },
  {
   "cell_type": "code",
   "execution_count": 54,
   "metadata": {},
   "outputs": [],
   "source": [
    "df2= df \\\n",
    ".withColumn(\"isim\",  F.trim(F.initcap(df.isim)))\\\n",
    ".withColumn(\"cinsiyet\", F.when(df.cinsiyet.isNull(),\"U\").otherwise(df.cinsiyet)) \\\n",
    ".withColumn(\"sehir\", F.when(df.sehir.isNull(),\"BİLİNMİYOR\").otherwise(F.trim(F.upper(df.sehir)))) \\\n"
   ]
  },
  {
   "cell_type": "markdown",
   "metadata": {},
   "source": [
    "temizlenmis DataFrame i diske yazma"
   ]
  },
  {
   "cell_type": "code",
   "execution_count": 55,
   "metadata": {},
   "outputs": [
    {
     "name": "stdout",
     "output_type": "stream",
     "text": [
      "+------+--------+---+--------+-----------+----------+-----------+--------------------+\n",
      "|sirano|    isim|yas|cinsiyet|     meslek|     sehir|aylik_gelir|            mal_mulk|\n",
      "+------+--------+---+--------+-----------+----------+-----------+--------------------+\n",
      "|     1|   Cemal| 35|       E|       Isci|    ANKARA|     3500.0|               araba|\n",
      "|     2|   Ceyda| 42|       K|      Memur|   KAYSERI|     4200.0|            araba|ev|\n",
      "|     3|   Timur| 30|       U|   Müzüsyen|  ISTANBUL|     9000.0|     araba|ev|yazlık|\n",
      "|     4|   Burcu| 29|       K|Pazarlamacı|    ANKARA|     4200.0|               araba|\n",
      "|     5| Yasemin| 23|       K|Pazarlamaci|     BURSA|     4800.0|               araba|\n",
      "|     6|     Ali| 33|       E|      Memur|    ANKARA|     4250.0|                  ev|\n",
      "|     7|   Dilek| 29|       K|Pazarlamaci|  ISTANBUL|     7300.0|        araba|yazlık|\n",
      "|     8|   Murat| 31|       E|   Müzüsyen|  ISTANBUL|    12000.0|araba|ev|dükkan|y...|\n",
      "|     9|   Ahmet| 33|       E|     Doktor|    ANKARA|   180000.0|     araba|ev|yazlık|\n",
      "|    10|Muhittin| 46|       E|     Berber|  ISTANBUL|    12000.0|     araba|ev|dükkan|\n",
      "|    11|Hicaziye| 47|       K| Tuhafiyeci|BİLİNMİYOR|        4.8|              dükkan|\n",
      "|    12|   Harun| 43|       E|    Tornacı|    ANKARA|     4200.0|               araba|\n",
      "|    13|   Hakkı| 33|       E|      memur|     ÇORUM|     3750.0|                  ev|\n",
      "|    14| Gülizar| 37|       K|     Doktor|     İZMİR|    14250.0|               araba|\n",
      "|    15|  Şehmuz| 41|       E|   Müzisyen|    ANKARA|     8700.0|               araba|\n",
      "+------+--------+---+--------+-----------+----------+-----------+--------------------+\n",
      "\n"
     ]
    }
   ],
   "source": [
    "df2.show(15)"
   ]
  },
  {
   "cell_type": "code",
   "execution_count": 56,
   "metadata": {},
   "outputs": [],
   "source": [
    "df2 \\\n",
    ".coalesce(1) \\\n",
    ".write \\\n",
    ".mode(\"overwrite\") \\\n",
    ".option(\"sep\",\",\")  \\\n",
    ".option(\"header\",\"True\") \\\n",
    ".csv(\"simple_dirth_data_clean\")"
   ]
  },
  {
   "cell_type": "code",
   "execution_count": 57,
   "metadata": {},
   "outputs": [
    {
     "name": "stdout",
     "output_type": "stream",
     "text": [
      "root\n",
      " |-- sirano: integer (nullable = true)\n",
      " |-- isim: string (nullable = true)\n",
      " |-- yas: integer (nullable = true)\n",
      " |-- cinsiyet: string (nullable = true)\n",
      " |-- meslek: string (nullable = true)\n",
      " |-- sehir: string (nullable = true)\n",
      " |-- aylik_gelir: double (nullable = true)\n",
      " |-- mal_mulk: string (nullable = true)\n",
      "\n"
     ]
    }
   ],
   "source": [
    "df2.printSchema()"
   ]
  },
  {
   "cell_type": "markdown",
   "metadata": {},
   "source": [
    "elle sema olusturma"
   ]
  },
  {
   "cell_type": "code",
   "execution_count": 58,
   "metadata": {},
   "outputs": [
    {
     "name": "stdout",
     "output_type": "stream",
     "text": [
      "root\n",
      " |-- sirano: integer (nullable = true)\n",
      " |-- isim: string (nullable = true)\n",
      " |-- yas: integer (nullable = true)\n",
      " |-- cinsiyet: string (nullable = true)\n",
      " |-- meslek: string (nullable = true)\n",
      " |-- sehir: string (nullable = true)\n",
      " |-- aylik_gelir: double (nullable = true)\n",
      " |-- mal_mulk: string (nullable = true)\n",
      "\n"
     ]
    }
   ],
   "source": [
    "df.printSchema()"
   ]
  },
  {
   "cell_type": "code",
   "execution_count": 79,
   "metadata": {},
   "outputs": [],
   "source": [
    "df = spark.read \\\n",
    ".option(\"header\",\"True\") \\\n",
    ".option(\"inferSchema\",\"True\") \\\n",
    ".option(\"sep\",\";\") \\\n",
    ".csv(\"OnlineRetail.csv\") \\\n"
   ]
  },
  {
   "cell_type": "code",
   "execution_count": 80,
   "metadata": {},
   "outputs": [],
   "source": [
    "df=df\\\n",
    ".withColumn(\"UnitPrice\",regexp_replace(col(\"UnitPrice\"),\",\",\".\") )"
   ]
  },
  {
   "cell_type": "code",
   "execution_count": 65,
   "metadata": {},
   "outputs": [
    {
     "name": "stdout",
     "output_type": "stream",
     "text": [
      "root\n",
      " |-- InvoiceNo: string (nullable = true)\n",
      " |-- StockCode: string (nullable = true)\n",
      " |-- Description: string (nullable = true)\n",
      " |-- Quantity: integer (nullable = true)\n",
      " |-- InvoiceDate: string (nullable = true)\n",
      " |-- UnitPrice: string (nullable = true)\n",
      " |-- CustomerID: integer (nullable = true)\n",
      " |-- Country: string (nullable = true)\n",
      "\n"
     ]
    }
   ],
   "source": [
    "df.printSchema()"
   ]
  },
  {
   "cell_type": "code",
   "execution_count": 81,
   "metadata": {},
   "outputs": [],
   "source": [
    "df \\\n",
    ".coalesce(1) \\\n",
    ".write \\\n",
    ".mode(\"overwrite\") \\\n",
    ".option(\"sep\",\",\")  \\\n",
    ".option(\"header\",\"True\") \\\n",
    ".csv(\"OnlineRetail\")"
   ]
  },
  {
   "cell_type": "code",
   "execution_count": 59,
   "metadata": {},
   "outputs": [],
   "source": [
    "from pyspark.sql.types import StructType, StructField,StringType,IntegerType,FloatType"
   ]
  },
  {
   "cell_type": "code",
   "execution_count": 72,
   "metadata": {},
   "outputs": [],
   "source": [
    "manual_schema = StructType(\n",
    "[    \n",
    "    StructField(\"InvoiceNo\", StringType(), True),\n",
    "     StructField(\"StockCode\", StringType(), True),\n",
    "    StructField(\"Description\", StringType(), True),\n",
    "    StructField(\"Quantity\", IntegerType(), True),\n",
    "    StructField(\"InvoiceDate\", StringType(), True),\n",
    "    StructField(\"UnitPrice\", FloatType(), True),\n",
    "    StructField(\"CustomerID\", IntegerType(), True),\n",
    "    StructField(\"Country\", StringType(), True)\n",
    "       \n",
    "     \n",
    "]\n",
    ")"
   ]
  },
  {
   "cell_type": "code",
   "execution_count": 87,
   "metadata": {},
   "outputs": [],
   "source": [
    "df2 = spark.read \\\n",
    ".option(\"header\",\"True\") \\\n",
    ".schema(manual_schema) \\\n",
    ".option(\"sep\",\",\") \\\n",
    ".csv(\"C:\\\\Users\\\\mwolf\\\\3D Objects\\\\python veri bilimi\\\\SPARK\\\\OnlineRetail\\\\part-00000-aa02ac45-07a9-4214-a560-bc0575b4ec0b-c000.csv\")"
   ]
  },
  {
   "cell_type": "code",
   "execution_count": 88,
   "metadata": {},
   "outputs": [
    {
     "data": {
      "text/plain": [
       "'C:\\\\Users\\\\mwolf\\\\3D Objects\\\\python veri bilimi\\\\SPARK'"
      ]
     },
     "execution_count": 88,
     "metadata": {},
     "output_type": "execute_result"
    }
   ],
   "source": [
    "pwd"
   ]
  },
  {
   "cell_type": "code",
   "execution_count": 89,
   "metadata": {},
   "outputs": [
    {
     "name": "stdout",
     "output_type": "stream",
     "text": [
      "+---------+---------+--------------------+--------+---------------+---------+----------+--------------+\n",
      "|InvoiceNo|StockCode|         Description|Quantity|    InvoiceDate|UnitPrice|CustomerID|       Country|\n",
      "+---------+---------+--------------------+--------+---------------+---------+----------+--------------+\n",
      "|   536365|   85123A|WHITE HANGING HEA...|       6|1.12.2010 08:26|     2.55|     17850|United Kingdom|\n",
      "|   536365|    71053| WHITE METAL LANTERN|       6|1.12.2010 08:26|     3.39|     17850|United Kingdom|\n",
      "|   536365|   84406B|CREAM CUPID HEART...|       8|1.12.2010 08:26|     2.75|     17850|United Kingdom|\n",
      "|   536365|   84029G|KNITTED UNION FLA...|       6|1.12.2010 08:26|     3.39|     17850|United Kingdom|\n",
      "|   536365|   84029E|RED WOOLLY HOTTIE...|       6|1.12.2010 08:26|     3.39|     17850|United Kingdom|\n",
      "+---------+---------+--------------------+--------+---------------+---------+----------+--------------+\n",
      "only showing top 5 rows\n",
      "\n"
     ]
    }
   ],
   "source": [
    "df2.show(5)"
   ]
  },
  {
   "cell_type": "code",
   "execution_count": 90,
   "metadata": {},
   "outputs": [
    {
     "name": "stdout",
     "output_type": "stream",
     "text": [
      "root\n",
      " |-- InvoiceNo: string (nullable = true)\n",
      " |-- StockCode: string (nullable = true)\n",
      " |-- Description: string (nullable = true)\n",
      " |-- Quantity: integer (nullable = true)\n",
      " |-- InvoiceDate: string (nullable = true)\n",
      " |-- UnitPrice: float (nullable = true)\n",
      " |-- CustomerID: integer (nullable = true)\n",
      " |-- Country: string (nullable = true)\n",
      "\n"
     ]
    }
   ],
   "source": [
    "df2.printSchema()"
   ]
  },
  {
   "cell_type": "code",
   "execution_count": null,
   "metadata": {},
   "outputs": [],
   "source": []
  }
 ],
 "metadata": {
  "kernelspec": {
   "display_name": "Python 3",
   "language": "python",
   "name": "python3"
  },
  "language_info": {
   "codemirror_mode": {
    "name": "ipython",
    "version": 3
   },
   "file_extension": ".py",
   "mimetype": "text/x-python",
   "name": "python",
   "nbconvert_exporter": "python",
   "pygments_lexer": "ipython3",
   "version": "3.7.4"
  }
 },
 "nbformat": 4,
 "nbformat_minor": 4
}
